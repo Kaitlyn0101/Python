{
 "cells": [
  {
   "cell_type": "markdown",
   "id": "86482de3",
   "metadata": {},
   "source": [
    "### <p style=\"text-align: right;\"> &#9989;Kaitlyn Watson\n",
    "\n",
    "CODE PORTFOLIO\n"
   ]
  },
  {
   "cell_type": "markdown",
   "id": "5a9d9ba1",
   "metadata": {},
   "source": [
    "__INTEGRITY STATEMENT__\n",
    "\n",
    "I, Kaitlyn Watson, commit to furthering my education at Michigan State University with full integrity. It is important to me to practice academic honesty in my coursework in order to fully benefit from the learning material and reflect good work ethic to those around me. I am motivated by my future career goals to conduct myself with integrity in everything that I do. Furthermore, I am fully aware of the ethical standards that MSU has established in regards to integrity and I intend to follow them to the best of my ability."
   ]
  },
  {
   "cell_type": "markdown",
   "id": "f6c5f756",
   "metadata": {},
   "source": [
    "__BASICS__"
   ]
  },
  {
   "cell_type": "code",
   "execution_count": 27,
   "id": "aa147a14",
   "metadata": {},
   "outputs": [
    {
     "name": "stdout",
     "output_type": "stream",
     "text": [
      "2\n",
      "<class 'int'>\n",
      "8.0\n",
      "12.0\n",
      "4\n"
     ]
    }
   ],
   "source": [
    "a=2          #example of an integer       \n",
    "b=\"Hello\"    #example of a string\n",
    "c=6.0        #example of a floating point\n",
    "\n",
    "#prints the variable\n",
    "print(a)\n",
    "\n",
    "#tells you the type of value\n",
    "print(type(a))\n",
    "\n",
    "#turns variable a into a string\n",
    "str(a) \n",
    "\n",
    "#concatenate two variables together\n",
    "d=a+c  \n",
    "print(d) \n",
    "\n",
    "#Multiply Two Variables\n",
    "e=a*c\n",
    "print(e)\n",
    "\n",
    "#Square a variable\n",
    "f=a**2\n",
    "print(f)"
   ]
  },
  {
   "cell_type": "markdown",
   "id": "c4d907e0",
   "metadata": {},
   "source": [
    "__LISTS__"
   ]
  },
  {
   "cell_type": "code",
   "execution_count": 28,
   "id": "134e8b25",
   "metadata": {},
   "outputs": [
    {
     "name": "stdout",
     "output_type": "stream",
     "text": [
      "2\n"
     ]
    },
    {
     "ename": "TypeError",
     "evalue": "object of type 'type' has no len()",
     "output_type": "error",
     "traceback": [
      "\u001b[0;31m---------------------------------------------------------------------------\u001b[0m",
      "\u001b[0;31mTypeError\u001b[0m                                 Traceback (most recent call last)",
      "\u001b[0;32m/var/folders/0v/z2w_93qn6px0c9k8bl2bm49r0000gn/T/ipykernel_17198/816885361.py\u001b[0m in \u001b[0;36m<module>\u001b[0;34m\u001b[0m\n\u001b[1;32m      6\u001b[0m \u001b[0;34m\u001b[0m\u001b[0m\n\u001b[1;32m      7\u001b[0m \u001b[0;31m#find the length of the list\u001b[0m\u001b[0;34m\u001b[0m\u001b[0;34m\u001b[0m\u001b[0m\n\u001b[0;32m----> 8\u001b[0;31m \u001b[0mprint\u001b[0m\u001b[0;34m(\u001b[0m\u001b[0mlen\u001b[0m\u001b[0;34m(\u001b[0m\u001b[0mlist\u001b[0m\u001b[0;34m)\u001b[0m\u001b[0;34m)\u001b[0m\u001b[0;34m\u001b[0m\u001b[0;34m\u001b[0m\u001b[0m\n\u001b[0m\u001b[1;32m      9\u001b[0m \u001b[0;34m\u001b[0m\u001b[0m\n\u001b[1;32m     10\u001b[0m \u001b[0;31m#modify a list\u001b[0m\u001b[0;34m\u001b[0m\u001b[0;34m\u001b[0m\u001b[0m\n",
      "\u001b[0;31mTypeError\u001b[0m: object of type 'type' has no len()"
     ]
    }
   ],
   "source": [
    "#Create a list using brackets\n",
    "my_list=[1,2,3,4] \n",
    "\n",
    "#Call a value in the list via index \n",
    "print(my_list[1])\n",
    "\n",
    "#find the length of the list\n",
    "print(len(list))\n",
    "\n",
    "#modify a list\n",
    "my_list[3]=\"hello\"\n",
    "print(my_list)\n",
    "\n",
    "#append to a list\n",
    "my_list.append(6.0)\n",
    "print(my_list)"
   ]
  },
  {
   "cell_type": "markdown",
   "id": "b7caded4",
   "metadata": {},
   "source": [
    " __FOR LOOPS__"
   ]
  },
  {
   "cell_type": "code",
   "execution_count": null,
   "id": "10b481ce",
   "metadata": {},
   "outputs": [],
   "source": [
    "#use when you know when you want a loop to stop running\n",
    "\n",
    "#Loop By Value\n",
    "\n",
    "for i in my_list:\n",
    "    print(my_list)\n",
    "    \n",
    "#Loop by index\n",
    "\n",
    "for i in range(len(my_list)):\n",
    "    print(my_list)"
   ]
  },
  {
   "cell_type": "markdown",
   "id": "09dfc7b0",
   "metadata": {},
   "source": [
    "__WHILE LOOPS__"
   ]
  },
  {
   "cell_type": "code",
   "execution_count": null,
   "id": "621e2891",
   "metadata": {},
   "outputs": [],
   "source": [
    "#use when you want a code to stop once a condition is met\n",
    "x=2\n",
    "while x< 4096:\n",
    "    print(x)\n",
    "    x *= 2"
   ]
  },
  {
   "cell_type": "markdown",
   "id": "de1f1a4e",
   "metadata": {},
   "source": [
    "__COMBINING LIST AND LOOPS__"
   ]
  },
  {
   "cell_type": "code",
   "execution_count": null,
   "id": "7a7e4b82",
   "metadata": {},
   "outputs": [],
   "source": [
    "#create a list of values to put into the for loop\n",
    "x = [2,4,6,8]\n",
    "\n",
    "#create an empty list\n",
    "xsquared=[]\n",
    "\n",
    "#create your for loop\n",
    "for i in x:\n",
    "    sq=(i**2) \n",
    "    xsquared.append(sq)   #append the new values to the empty list\n",
    "\n",
    "    \n",
    "print(xsquared) #print new list"
   ]
  },
  {
   "cell_type": "markdown",
   "id": "485fea80",
   "metadata": {},
   "source": [
    "__IF & IF-ElSE STATEMENTS__"
   ]
  },
  {
   "cell_type": "code",
   "execution_count": null,
   "id": "a1211e2c",
   "metadata": {},
   "outputs": [],
   "source": [
    "#create a list of values\n",
    "x=[1,2,3,4,5,6,7,8,9,10]\n",
    "\n",
    "#create a loop\n",
    "for i in x:\n",
    "    print(i)\n",
    "    if i <= 2:                               #use an if statement when you have an inequality\n",
    "        print(\"1 and 2 are small numbers\")\n",
    "    elif i == 3 or i == 4 or i == 5:         #use and/or statements in elif statements\n",
    "        print(\"These are middle numbers\")\n",
    "    elif i >5:\n",
    "        print(\"These are large numbers\")    #use an elif statement to end the loop"
   ]
  },
  {
   "cell_type": "markdown",
   "id": "d5c435cb",
   "metadata": {},
   "source": [
    "__CREATING A FUNCTION__"
   ]
  },
  {
   "cell_type": "code",
   "execution_count": null,
   "id": "b497ec4d",
   "metadata": {},
   "outputs": [],
   "source": [
    "#create a function using def \n",
    "\n",
    "def compute_average (x,y,z):      # def, function name, variables you would like to include\n",
    "    avg=(x+y+z)/3                 #argument you want the function to carry out\n",
    "    return avg                    #always return the argument at the end\n",
    "\n",
    "#Testing function\n",
    "\n",
    "x=1\n",
    "y=3\n",
    "z=5\n",
    "random_average=compute_average(x,y,z)   #set a new variable and use the function \n",
    "print(random_average)                   #print the new variable \n",
    "\n"
   ]
  },
  {
   "cell_type": "markdown",
   "id": "1501c48f",
   "metadata": {},
   "source": [
    "__SETTING DEFAULTS IN FUNCTIONS__"
   ]
  },
  {
   "cell_type": "code",
   "execution_count": null,
   "id": "e573743e",
   "metadata": {},
   "outputs": [],
   "source": [
    "# create a function\n",
    "\n",
    "def birthday_wish(name=\"you!\"):       #set default using = \n",
    "    print( \"Happy Birthday to\", name)   #print statement \n",
    "   \n",
    "    \n",
    "birthday_wish('Kaitlyn')   #change name to no longer be default\n",
    "birthday_wish()            #calling function when it is using the default"
   ]
  },
  {
   "cell_type": "markdown",
   "id": "18848194",
   "metadata": {},
   "source": [
    "__IMPORTING MODULES__"
   ]
  },
  {
   "cell_type": "code",
   "execution_count": null,
   "id": "e1f269b0",
   "metadata": {},
   "outputs": [],
   "source": [
    "#matplotlib allows you to create plots in python\n",
    "import matplotlib.pyplot as plt\n",
    "\n",
    "\n",
    "#math allows for easier computations\n",
    "import math\n",
    "\n",
    "#examples of math module\n",
    "math.pi #3.1415...\n",
    "math.sin()\n",
    "math.cos()\n",
    "\n",
    "#numpy allows us to create arrays\n",
    "import numpy as np\n",
    "\n",
    "#for fitting models\n",
    "from scipy.optimize import curve_fit\n",
    "\n",
    "#for data\n",
    "import pandas as pd\n"
   ]
  },
  {
   "cell_type": "markdown",
   "id": "e24bd905",
   "metadata": {},
   "source": [
    "__CREATING PLOTS__"
   ]
  },
  {
   "cell_type": "code",
   "execution_count": null,
   "id": "23b5dcec",
   "metadata": {},
   "outputs": [],
   "source": [
    "#import matplotlib\n",
    "\n",
    "import matplotlib.pyplot as plt\n",
    "\n",
    "#create 2 lists for x and y coordinates\n",
    "x1 = [2,4,6,8,10,12,14,16,18]\n",
    "y1 = [10,8.25,7.5,7,6.75,7,7.5,8.25,10]\n",
    "\n",
    "# a second pair of x and y coordinates will produce a second line on the plot\n",
    "x2 = [5, 15]\n",
    "y2 = [15, 15]\n",
    "\n",
    "\n",
    "plt.plot(x1, y1, 'b--',linewidth=3)   #The b represents blue, the -- represents a dash line, linewidth is thickness\n",
    "plt.plot(x2,y2, 'rD')  #for the second line r represents red and D represents diamonds\n",
    "plt.axis([0,20, 6,16])  #creates new axis \n",
    "plt.xlabel('width')   #created label for x axis\n",
    "plt.ylabel('height')  #create a label for y axis\n",
    "plt.title('smiley face')  #create a title for plot\n",
    "plt.legend(['x1', 'y1'])  #create a legend \n",
    "plt.xticks(rotation=90) #rotating the tick marks\n",
    "plt.figure(figsize=(10,10)) #makes the figure become a certain size\n",
    "\n",
    "\n",
    "\n",
    "#plotting a column from a data frame\n",
    "x=pop1011['State']\n",
    "\n",
    "\n",
    "\n",
    "\n"
   ]
  },
  {
   "cell_type": "markdown",
   "id": "2d7989a0",
   "metadata": {},
   "source": [
    "__ARRAYS__"
   ]
  },
  {
   "cell_type": "code",
   "execution_count": null,
   "id": "3279113b",
   "metadata": {},
   "outputs": [],
   "source": [
    "#import numpy module\n",
    "import numpy as np\n",
    "\n",
    "\n",
    "#use arange to create an array with min, max, and step NOTE: min and max are not included\n",
    "Kaitlyn_arange = np.arange(0,10,1) \n",
    "print(Kaitlyn_arange)\n",
    "\n",
    "\n",
    "#use linspace to create an array with min, max, and number of elements included\n",
    "Kaitlyn_linspace = np.linspace(0,9,10) \n",
    "print(Kaitlyn_linspace)\n",
    "\n",
    "\n",
    "\n",
    "#convert a list to a array\n",
    "list1=[\"K\", 4, 7.0]\n",
    "new_array=np.array(list1) #use np.array\n",
    "print(new_array)  #arrays must be the same type\n",
    "\n",
    "\n",
    "#mathmatical functions with arrays\n",
    "ary_1=np.arange(0,10,1)\n",
    "ary_1\n",
    "(ary_1*3)-7  #muliply the array by 3 and subtract 7\n",
    "\n",
    "\n",
    "\n",
    "#other numpy functions\n",
    "mean=np.mean(ary_1)       #calculate the mean\n",
    "median=np.median(ary_1)   #calculate the median\n",
    "standard_dev=np.std(ary_1) #calculate the standard dev\n",
    "print(mean,median, standard_dev)  \n",
    "\n",
    "#finding min and max\n",
    "a = np.array([2,30,111,41,9,16,17,2,1,-6,33])\n",
    "print('The biggest value of a is:',a.max())\n",
    "print('The smallest value of a is:',a.min())\n",
    "\n",
    "#finding the position of the min and max\n",
    "print('The biggest value of a is in position:',a.argmax())\n",
    "print('The smallest value of a is in position:',a.argmin())\n",
    "\n",
    "#sort an array\n",
    "a.sort()\n",
    "\n",
    "#sorting an array by indices\n",
    "sorting_indices = a.argsort()\n",
    "sorted_a = a[sorting_indices]\n",
    "\n",
    "#creating an array from a column of a data frame\n",
    "pop10=np.array(pop1011[\"2010\"]) \n",
    "\n",
    "\n"
   ]
  },
  {
   "cell_type": "markdown",
   "id": "0d784c93",
   "metadata": {},
   "source": [
    "__1D ARRAYS__"
   ]
  },
  {
   "cell_type": "code",
   "execution_count": null,
   "id": "b62bf92e",
   "metadata": {},
   "outputs": [],
   "source": [
    "# example \n",
    "import numpy as np\n",
    "a = np.zeros([8,10],dtype='int') #first value is rows, second value is column\n",
    "print(\"new array:\\n\", a)\n",
    "\n",
    "#properties of an array\n",
    "print(\"the shape of this array is:\", a.shape) \n",
    "print(\"there are:\", a.ndim, \"dimensions\")  \n",
    "print(\"there are\", a.size, \"total elements\")   \n",
    "\n",
    "for i in range(a.ndim):\n",
    "    print(\"the size of dimension\", i, \"is\", a.shape[i])\n"
   ]
  },
  {
   "cell_type": "markdown",
   "id": "05c26b2f",
   "metadata": {},
   "source": [
    "    \n",
    "__extracting from arrays__\n",
    "1. a[start,end]                items start through end-1\n",
    "2. a[start:]                   items start through the end of the array\n",
    "3. a[:end]                     items from the beginning of the array through end-1\n",
    "4. a[:]                        a copy of the whole array\n",
    "5. a[start,end,step]           every \"step\" item from start to end-1\n",
    "6. a[::step]                   every \"step\" item over the whole array, starting with the first element."
   ]
  },
  {
   "cell_type": "markdown",
   "id": "a6230183",
   "metadata": {},
   "source": [
    "__2D ARRAY__"
   ]
  },
  {
   "cell_type": "code",
   "execution_count": null,
   "id": "63f02369",
   "metadata": {},
   "outputs": [],
   "source": [
    "# example\n",
    "b = np.array([[1,2,3],[4,5,6],[7,8,9]])\n",
    "b\n",
    "\n",
    "#extracting information from the array\n",
    "b[0,:]     # get the first row\n",
    "b[:,2]     # get the third column\n",
    "b[1,::2]   # get every other element of the first row, starting at element 0\n",
    "b[:2,:2]   # get a square array containing the first two elements along each dimension\n",
    "b[-2:,-2:] # get a square array containing the last two elements along each dimension\n",
    "b[::2,::2] # get a square array of every other element along each dimension\n",
    "b[-1::-1,-1::-1]  # original-size array, but reversed along both dimensions"
   ]
  },
  {
   "cell_type": "markdown",
   "id": "39a7b904",
   "metadata": {},
   "source": [
    "__MASKING__"
   ]
  },
  {
   "cell_type": "code",
   "execution_count": 29,
   "id": "0ce4d711",
   "metadata": {},
   "outputs": [
    {
     "name": "stdout",
     "output_type": "stream",
     "text": [
      "[False False  True False  True]\n",
      "Colleen is tall\n",
      "Eduardo is tall\n",
      "[0. 0. 0. 0. 0. 0. 0. 0. 0. 0. 0. 0. 0. 0. 0. 0. 0. 0. 0. 0. 0. 0. 0. 0.\n",
      " 0. 0. 0. 0.]\n",
      "28\n",
      "11.0\n"
     ]
    }
   ],
   "source": [
    "# different ways to create a mask\n",
    "array = np.array([\n",
    "       [ 2.,  0.,  0.,  0.,  0.,  0.,  1.,  1.,  1.],\n",
    "       [ 1.,  1.,  1.,  1.,  1.,  0.,  1.,  1.,  1.],\n",
    "       [ 1.,  1.,  1.,  1.,  1.,  0.,  0.,  0.,  1.],\n",
    "       [ 1.,  1.,  1.,  1.,  1.,  1.,  1.,  0.,  1.],\n",
    "       [ 1.,  1.,  1.,  1.,  1.,  0.,  0.,  0.,  1.],\n",
    "       [ 0.,  0.,  0.,  0.,  0.,  0.,  1.,  1.,  1.],\n",
    "       [ 0.,  1.,  1.,  1.,  1.,  1.,  1.,  1.,  1.],\n",
    "       [ 0.,  1.,  1.,  1.,  1.,  1.,  1.,  1.,  1.],\n",
    "       [ 0.,  0.,  0.,  0.,  0.,  0.,  0.,  3.,  1.],\n",
    "       [ 1.,  1.,  1.,  1.,  6.,  1.,  1.,  1.,  1.]])\n",
    "\n",
    "\n",
    "my_mask = array == 1    # select elements equal to 1\n",
    "my_mask = array < 3   # select elements less then 3\n",
    "my_mask = array > 0     # select elements greater than 0\n",
    "my_mask = array <= 2   # select elements less than or equal to 10\n",
    "my_mask = array != 2    # select elements not equal to 2\n",
    "\n",
    "\n",
    "#using a mask example 1\n",
    "people = np.array(['Ahmad', 'Barbara', 'Colleen', 'Dameon', 'Eduardo'])\n",
    "\n",
    "# define a list of heights\n",
    "heights = np.array([6.0, 5.1, 6.4, 5.5, 6.2])\n",
    "\n",
    "# create a mask using the heights array\n",
    "tall_people_mask = heights > 6\n",
    "print(tall_people_mask)\n",
    "\n",
    "# apply it to the people array\n",
    "tall_people = people[tall_people_mask]\n",
    "for person in tall_people:\n",
    "    print(person,\"is tall\")\n",
    "\n",
    "#Defining a mask in the same line\n",
    "new_array = array[array == 7]\n",
    "\n",
    "# using a mask example 2\n",
    "new_array = np.array([\n",
    "       [ 2.,  0.,  0.,  0.,  0.,  0.,  1.,  1.,  1.],\n",
    "       [ 1.,  1.,  1.,  1.,  1.,  0.,  1.,  1.,  1.],\n",
    "       [ 1.,  1.,  1.,  1.,  1.,  0.,  0.,  0.,  1.],\n",
    "       [ 1.,  1.,  1.,  1.,  1.,  1.,  1.,  0.,  1.],\n",
    "       [ 1.,  1.,  1.,  1.,  1.,  0.,  0.,  0.,  1.],\n",
    "       [ 0.,  0.,  0.,  0.,  0.,  0.,  1.,  1.,  1.],\n",
    "       [ 0.,  1.,  1.,  1.,  1.,  1.,  1.,  1.,  1.],\n",
    "       [ 0.,  1.,  1.,  1.,  1.,  1.,  1.,  1.,  1.],\n",
    "       [ 0.,  0.,  0.,  0.,  0.,  0.,  0.,  3.,  1.],\n",
    "       [ 1.,  1.,  1.,  1.,  6.,  1.,  1.,  1.,  1.]])\n",
    "\n",
    "# Put your code below\n",
    "\n",
    "# use a mask to make an array of only zeros, then print it\n",
    "zero_array = new_array[new_array == 0]\n",
    "print(zero_array)\n",
    "# use a mask to select all of the ones in new_array and count them\n",
    "ones_array = new_array[new_array == 1]\n",
    "print(len(zero_array))\n",
    "# use a mask to determine the sum of all of the elements, not counting the ones\n",
    "K_array = new_array[new_array != 1]\n",
    "print(sum(K_array))\n",
    "\n"
   ]
  },
  {
   "cell_type": "markdown",
   "id": "3c41dece",
   "metadata": {},
   "source": [
    "__Writing Pseudocode__"
   ]
  },
  {
   "cell_type": "markdown",
   "id": "14fd1343",
   "metadata": {},
   "source": [
    "COMPONENTS\n",
    "1.Inputs (given values)\n",
    "2.How to get there?\n",
    "3.Outputs (what do I need)"
   ]
  },
  {
   "cell_type": "markdown",
   "id": "137e0482",
   "metadata": {},
   "source": [
    "__USING .loc and .iloc__"
   ]
  },
  {
   "cell_type": "markdown",
   "id": "90296cbe",
   "metadata": {},
   "source": [
    "__Index Row c with loc:__\n",
    "\n",
    "\n",
    "print(Example_DataFrame.loc['C'])  \n",
    "\n",
    "__Index Row C with .iloc:__\n",
    "\n",
    "\n",
    "print(Example_DataFrame.iloc[2])   \n",
    "\n",
    "__use df[] to locate the column and .loc to find row: output a single value:__\n",
    "\n",
    "\n",
    "print(Example_DataFrame['Col_3'].loc['C'])\n",
    "\n",
    "__use .iloc to find row3 and column c:__\n",
    "\n",
    "\n",
    "print(Example_DataFrame.iloc[2,2])\n",
    "\n",
    "__prints out entire data frame:__\n",
    "\n",
    "\n",
    "print(Example_DataFrame.iloc[:,:])\n",
    "\n",
    "__index the first and second row:__ \n",
    "\n",
    "\n",
    "print(DF_NoIndex.loc[0:1])   #using .loc\n",
    "\n",
    "\n",
    "print(DF_NoIndex.iloc[0:2,:])  #using .iloc\n"
   ]
  },
  {
   "cell_type": "markdown",
   "id": "fee74f77",
   "metadata": {},
   "source": [
    "__PANDAS__"
   ]
  },
  {
   "cell_type": "code",
   "execution_count": 7,
   "id": "99c73fd6",
   "metadata": {},
   "outputs": [
    {
     "ename": "SyntaxError",
     "evalue": "invalid syntax (2201031997.py, line 20)",
     "output_type": "error",
     "traceback": [
      "\u001b[0;36m  File \u001b[0;32m\"/var/folders/0v/z2w_93qn6px0c9k8bl2bm49r0000gn/T/ipykernel_6300/2201031997.py\"\u001b[0;36m, line \u001b[0;32m20\u001b[0m\n\u001b[0;31m    Year2018=happiness_index[\"year\"]==2018\u001b[0m\n\u001b[0m    ^\u001b[0m\n\u001b[0;31mSyntaxError\u001b[0m\u001b[0;31m:\u001b[0m invalid syntax\n"
     ]
    }
   ],
   "source": [
    "#reading in data\n",
    "US_Pop2012=pd.read_csv(\"us_pop_by_state_2012_2013_encoding_utf-16be.csv\", usecols=range(1,4),sep=\",\", thousands=',',encoding= 'utf-16BE')\n",
    "\n",
    "#shows column names\n",
    "heart_disease_data.keys()\n",
    "\n",
    "#picking a single item from a column  dataset using the unique function\n",
    "gpin_data_cleaned['item'].unique()\n",
    "bananas=gpin_data_cleaned[gpin_data_cleaned['item']=='Bananas']\n",
    "\n",
    "#Useful tools\n",
    "US_Pop2012.head()                       #view first few lines of data\n",
    "US_Pop2012.describe()                   #find out max,min, count, etc\n",
    "happiness_index_18.hist(\"Life Ladder\")  #creates a histogram\n",
    "\n",
    "#choosing what columns to keep in a df\n",
    "happiness_index=happiness[[\"Country name\",\"year\", \"Life Ladder\", \"Log GDP per capita\",\"Social support\",\"Healthy life expectancy at birth\", \"Freedom to make life choices\", \"Generosity\",\"Perceptions of corruption\",\"Positive affect\",\"Negative affect\",\"Confidence in national government\",\"Democratic Quality\",\"Delivery Quality\"]\n",
    "\n",
    "#use masking to only choose certain data\n",
    "Year2018=happiness_index[\"year\"]==2018\n",
    "Data18=happiness_index[Year2018]\n",
    "Data18.head()\n",
    "                          \n",
    "\n",
    "#drop NA values\n",
    "happiness_index_18=Data18.dropna(axis = 0, how ='any', thresh = None, subset = None, inplace=False)\n",
    "\n",
    "#convert a column to an array\n",
    "Life_Ladder= happiness_index_18['Life Ladder'].to_numpy()\n",
    "\n",
    "#sorting data by column and reseting the index\n",
    "sort_happiness_index18=happiness_index_18.sort_values(by=['Life Ladder'], ascending=False)\n",
    "sorted_happiness_index18=sort_happiness_index18.reset_index(drop=True)\n",
    "\n",
    "\n"
   ]
  },
  {
   "cell_type": "markdown",
   "id": "cc61bbd8",
   "metadata": {},
   "source": [
    "__Fitting Functions__"
   ]
  },
  {
   "cell_type": "markdown",
   "id": "8995bc21",
   "metadata": {},
   "source": [
    "![curve_fit example](https://github.com/msu-cmse-courses/cmse201-F21-data/blob/main/scipy_curve_fit_example.png?raw=true)"
   ]
  },
  {
   "cell_type": "code",
   "execution_count": 6,
   "id": "970a75a2",
   "metadata": {},
   "outputs": [
    {
     "data": {
      "text/plain": [
       "<matplotlib.legend.Legend at 0x7f8da43b9be0>"
      ]
     },
     "execution_count": 6,
     "metadata": {},
     "output_type": "execute_result"
    },
    {
     "data": {
      "image/png": "[encoded data removed]",
      "text/plain": [
       "<Figure size 432x288 with 1 Axes>"
      ]
     },
     "metadata": {
      "needs_background": "light"
     },
     "output_type": "display_data"
    }
   ],
   "source": [
    "from scipy.optimize import curve_fit\n",
    "import numpy as np\n",
    "#create an array of values\n",
    "\n",
    "x= np.linspace(0,1,21)\n",
    "\n",
    "y = 2*x\n",
    "\n",
    "#create a linear function    \n",
    "    \n",
    "def line_function(x, A, B):   #where A and B are parameters\n",
    "    return (A*x)+B\n",
    "\n",
    "\n",
    "#PURE DATA \n",
    "\n",
    "#use curve fit function\n",
    "popt, pcov = curve_fit(line_function, x, y)\n",
    "\n",
    "\n",
    "#Find the expected values\n",
    "A_expected = popt[0]  \n",
    "B_expected = popt[1]\n",
    "\n",
    "#create a fitted line using predicted function\n",
    "y_expected1 = line_function(x, A_expected, B_expected)\n",
    "\n",
    "\n",
    "#plot the data and the fit function\n",
    "plt.scatter(x, y, label = \"data\")\n",
    "plt.plot(x, y_expected1, color = \"orange\", label = \"fit\")\n",
    "plt.xlabel(\"x\")\n",
    "plt.ylabel(\"y\")\n",
    "plt.title(\"Pure Data\")\n",
    "plt.legend()"
   ]
  },
  {
   "cell_type": "markdown",
   "id": "66fb7b03",
   "metadata": {},
   "source": [
    "__Ordinary Differential Equations__"
   ]
  },
  {
   "cell_type": "markdown",
   "id": "660865d4",
   "metadata": {},
   "source": [
    "__What are they?__\n",
    "\n",
    "1. Take info in regard to the inital values and change the order so we can solve for information we did not previously know about. \n",
    "\n",
    "__Derivatives__\n",
    "\n",
    "1. Large (+): Large postive rate of Change\n",
    "2. Large (-): large negative rate of Change\n",
    "\n",
    "__What is an Update Equation?__\n",
    "\n",
    "Produces new/current vals as the experiment changes overtime. \n",
    "\n",
    "__Steps of Creating an ODE__\n",
    "\n",
    "1. Create a derivs function:\n",
    "    a. put in inputs (parameters)\n",
    "    b. unpack curr_vals (number of curr_vals is the number of derivative equations you should have)\n",
    "    c. write out derivative equations (ORDER MATTERS!!!)\n",
    "    d. return the derivative equations in the correct order\n",
    "2. Print all initial values (for any variables in curr_vals)\n",
    "3. Establish est. parameters  \n",
    "3. Create a time array\n",
    "4. use solve_ivp\n"
   ]
  },
  {
   "cell_type": "code",
   "execution_count": 46,
   "id": "e976c13d",
   "metadata": {
    "scrolled": true
   },
   "outputs": [
    {
     "data": {
      "text/plain": [
       "[<matplotlib.lines.Line2D at 0x7fa424d65970>]"
      ]
     },
     "execution_count": 46,
     "metadata": {},
     "output_type": "execute_result"
    },
    {
     "data": {
      "image/png": "[encoded data removed]",
      "text/plain": [
       "<Figure size 432x288 with 1 Axes>"
      ]
     },
     "metadata": {
      "needs_background": "light"
     },
     "output_type": "display_data"
    },
    {
     "data": {
      "image/png": "[encoded data removed]",
      "text/plain": [
       "<Figure size 432x288 with 1 Axes>"
      ]
     },
     "metadata": {
      "needs_background": "light"
     },
     "output_type": "display_data"
    }
   ],
   "source": [
    "import numpy as np\n",
    "import matplotlib.pyplot as plt\n",
    "%matplotlib inline \n",
    "from scipy.integrate import solve_ivp\n",
    "\n",
    "def derivs(t, curr_vals, k, m, l_unst):    #L0=L_unstretched\n",
    "    l, v = curr_vals   \n",
    "    dvdt = -(k/m)*(l-l_unst)\n",
    "    dldt= v\n",
    "    return dldt,dvdt\n",
    "\n",
    "k=0.5\n",
    "m=1.0\n",
    "l_unst=0.5\n",
    "\n",
    "l0=2\n",
    "v0=0\n",
    "time=np.arange(0, 30.1, 0.1)\n",
    "\n",
    "soln=solve_ivp(derivs, (min(time), max(time)), (l0,v0), t_eval=time, args=(k,m,l_unst))\n",
    "\n",
    "l = soln.y[0,:]\n",
    "v=soln.y[1,:]\n",
    "\n",
    "plt.figure()\n",
    "plt.plot(soln.t, l)\n",
    "\n",
    "plt.figure()\n",
    "plt.plot(time,v)\n",
    "\n"
   ]
  },
  {
   "cell_type": "markdown",
   "id": "ae05d92c",
   "metadata": {},
   "source": [
    "__Compartamental Modeling__\n",
    "\n",
    "__What is it?__\n",
    "\n",
    "Describe flow of materiaal between compartments.\n",
    "\n",
    "- **SIR modeling of disease spread**: the compartments were \"susceptible\", \"infected\" and \"recovered\"\n",
    "- **Predator-prey**: the predators and prey were each in their own compartment\n",
    "- **Daley-Kendall rumor model**: the compartments were \"ignorant\", \"spreader\" and \"stifler\"\n",
    "\n",
    "where again, a term is positive if the arrow is going in (a \"source\") and negative if the arrow is going out (a \"sink\").\n"
   ]
  },
  {
   "cell_type": "markdown",
   "id": "d1353007",
   "metadata": {},
   "source": [
    "\n"
   ]
  },
  {
   "cell_type": "code",
   "execution_count": 32,
   "id": "e1c12014",
   "metadata": {},
   "outputs": [
    {
     "data": {
      "image/png": "[encoded data removed]",
      "text/plain": [
       "<PIL.PngImagePlugin.PngImageFile image mode=RGBA size=973x273 at 0x7FA42333DDF0>"
      ]
     },
     "execution_count": 32,
     "metadata": {},
     "output_type": "execute_result"
    }
   ],
   "source": [
    "\n",
    "from PIL import Image\n",
    "\n",
    "img= Image.open(\"MODEL.jpeg\")\n",
    "img"
   ]
  },
  {
   "cell_type": "markdown",
   "id": "66295bce",
   "metadata": {},
   "source": [
    "\n",
    "\n",
    "\n",
    "$\\frac{dS}{dt} = b - aSZ - dS,$\n",
    "\n",
    "$\\frac{dZ}{dt} = aSZ + gR - kSZ,$\n",
    "\n",
    "$\\frac{dR}{dt} = dS + kSZ - gR.$\n"
   ]
  },
  {
   "cell_type": "code",
   "execution_count": 17,
   "id": "b7199cca",
   "metadata": {},
   "outputs": [],
   "source": [
    "b = 0       # birth rate\n",
    "d = 0.0001  # natural death percent (per day)\n",
    "a = 0.0095  # transmission/attacked percent  (per day)\n",
    "g = 0.0001  # resurrect percent (per day)\n",
    "k = 0.0001\n",
    "\n",
    "\n",
    "def derivatives_szr(t,curr_vals, b, d, a, g, k,):\n",
    "        S,Z,R=curr_vals\n",
    "        # the model equations (see Munz et al. 2009)\n",
    "        dSdt = b - a*S*Z - d*S\n",
    "        dZdt = a*S*Z + g*R - k*S*Z\n",
    "        dRdt = d*S + k*S*Z - g*R\n",
    "        return [dSdt, dZdt, dRdt]"
   ]
  },
  {
   "cell_type": "code",
   "execution_count": 18,
   "id": "98e9b5e3",
   "metadata": {},
   "outputs": [
    {
     "data": {
      "text/plain": [
       "<matplotlib.legend.Legend at 0x7fa4236933a0>"
      ]
     },
     "execution_count": 18,
     "metadata": {},
     "output_type": "execute_result"
    },
    {
     "data": {
      "image/png": "[encoded data removed]",
      "text/plain": [
       "<Figure size 432x432 with 3 Axes>"
      ]
     },
     "metadata": {
      "needs_background": "light"
     },
     "output_type": "display_data"
    }
   ],
   "source": [
    "# Run model for three different sets of conditions\n",
    "#\n",
    "# 1. no initial dead population, no new births\n",
    "#\n",
    "# initial conditions\n",
    "S0 = 500.               # initial population\n",
    "Z0 = 0                  # initial zombie population\n",
    "R0 = 0                  # initial death population\n",
    "y0 = [S0, Z0, R0]       # initial condition vector\n",
    "t  = np.linspace(0, 10., 1000)   # time grid\n",
    "\n",
    "# solve the DEs\n",
    "soln = solve_ivp(derivatives_szr, (0,10),y0, t_eval = t, args=(b, d, a, g, k))\n",
    "S = soln.y[0, :]\n",
    "Z = soln.y[1, :]\n",
    "R = soln.y[2, :]\n",
    "\n",
    "plt.figure(figsize=(6,6))\n",
    "# plot results\n",
    "plt.subplot(311)\n",
    "plt.plot(t, S, label='Living')\n",
    "plt.plot(t, Z, label='Zombies')\n",
    "plt.xlabel('Days from outbreak')\n",
    "plt.ylabel('Population')\n",
    "plt.title('Zombie Apocalypse - No Init. Dead Pop.; No New Births.')\n",
    "plt.legend(loc=0)\n",
    "\n",
    "#\n",
    "# 2. 1% initial dead population, no new births\n",
    "#\n",
    "#\n",
    "# update initial conditions\n",
    "R0 = 0.01*S0   # 1% of initial pop is dead\n",
    "y0 = [S0, Z0, R0]\n",
    "\n",
    "# solve the DEs\n",
    "soln = solve_ivp(derivatives_szr, (0,10),y0, t_eval = t, args=(b, d, a, g, k))\n",
    "S = soln.y[0, :]\n",
    "Z = soln.y[1, :]\n",
    "R = soln.y[2, :]\n",
    "\n",
    "plt.subplot(312)\n",
    "plt.plot(t, S, label='Living')\n",
    "plt.plot(t, Z, label='Zombies')\n",
    "plt.xlabel('Days from outbreak')\n",
    "plt.ylabel('Population')\n",
    "plt.title('Zombie Apocalypse - 1% Init. Pop. is Dead; No New Births.')\n",
    "plt.legend(loc=0)\n",
    "\n",
    "#\n",
    "# 3. 1% initial dead population, 10 new births daily\n",
    "#\n",
    "# \n",
    "b  = 10        # 10 new births daily\n",
    "\n",
    "# solve the DEs\n",
    "soln = solve_ivp(derivatives_szr, (0,10),y0, t_eval = t, args=(b, d, a, g, k))\n",
    "S = soln.y[0, :]\n",
    "Z = soln.y[1, :]\n",
    "R = soln.y[2, :]\n",
    "\n",
    "plt.subplot(313)\n",
    "plt.plot(t, S, label='Living')\n",
    "plt.plot(t, Z, label='Zombies')\n",
    "plt.xlabel('Days from outbreak')\n",
    "plt.ylabel('Population')\n",
    "plt.title('Zombie Apocalypse - 1% Init. Pop. is Dead; 10 Daily Births')\n",
    "plt.legend(loc=0)\n"
   ]
  },
  {
   "cell_type": "markdown",
   "id": "d251bdb9",
   "metadata": {},
   "source": [
    "__Update Equations (By Hand)__"
   ]
  },
  {
   "cell_type": "code",
   "execution_count": 41,
   "id": "de4c257b",
   "metadata": {},
   "outputs": [
    {
     "data": {
      "text/plain": [
       "array([1.00000000e+09, 1.45833333e+09, 2.09888600e+09, 2.96477389e+09,\n",
       "       4.08091566e+09, 5.42746213e+09, 6.91380382e+09, 8.37901059e+09,\n",
       "       9.64319012e+09, 1.05901554e+10, 1.12122584e+10])"
      ]
     },
     "execution_count": 41,
     "metadata": {},
     "output_type": "execute_result"
    }
   ],
   "source": [
    "\n",
    "import numpy as np\n",
    "\n",
    "def derivs(P,k,C):\n",
    "    return k*P*(1-(P/C))\n",
    "\n",
    "start_t=0\n",
    "stop_t=500\n",
    "dt=50\n",
    "P0=1.0e9\n",
    "k=0.01\n",
    "C=1.2e10\n",
    "\n",
    "years=np.arange(0,550,50)\n",
    "for year in range(len(years)):\n",
    "    final=derivs(1.0e9,0.01,1.2e10)\n",
    "\n",
    "t=np.array(range(start_t, stop_t+dt, dt))\n",
    "pop=np.array([])\n",
    "pop=np.append(pop,P0)\n",
    "\n",
    "for i in range(len(t)-1):\n",
    "    dpdt=derivs(P0, k, C)\n",
    "    new_pop=pop[i]+dpdt*dt\n",
    "    P0=new_pop\n",
    "    pop=np.append(pop,new_pop)\n",
    "\n",
    "pop"
   ]
  },
  {
   "cell_type": "markdown",
   "id": "bddde8bc",
   "metadata": {},
   "source": [
    "__ABM (Agent Based Modeling)__"
   ]
  },
  {
   "cell_type": "code",
   "execution_count": null,
   "id": "f8683a88",
   "metadata": {},
   "outputs": [
    {
     "data": {
      "image/png": "[encoded data removed]",
      "text/plain": [
       "<Figure size 720x720 with 1 Axes>"
      ]
     },
     "metadata": {},
     "output_type": "display_data"
    }
   ],
   "source": [
    "#import modules\n",
    "\n",
    "import numpy as np\n",
    "import numpy.random as rand\n",
    "%matplotlib inline\n",
    "import matplotlib.pyplot as plt\n",
    "\n",
    "from IPython.display import display, clear_output\n",
    "import time  \n",
    "\n",
    "\n",
    "#step 1: create a function called plot grid\n",
    "def plotgrid(myarray):\n",
    "    \n",
    "    # \n",
    "    x_range = np.linspace(0, myarray.shape[1]-1, myarray.shape[1]) \n",
    "    y_range = np.linspace(0, myarray.shape[0]-1, myarray.shape[0]) # repeat for the y/vertical axis\n",
    "    \n",
    "    # \n",
    "    x_indices, y_indices = np.meshgrid(x_range, y_range)\n",
    "    \n",
    "    # \n",
    "    tree_x = x_indices[myarray == 1];   \n",
    "    tree_y = y_indices[myarray ==1]; \n",
    "    fire_x = x_indices[myarray == 2];   \n",
    "    fire_y = y_indices[myarray==2] \n",
    "    \n",
    "    # \n",
    "    plt.plot(tree_x, myarray.shape[0] - tree_y - 1, 'gs',markersize=10)   \n",
    "    plt.plot(fire_x, myarray.shape[0] - fire_y - 1, 'rs', markersize=10)  # repeat for indices with fire \n",
    "    \n",
    "    # \n",
    "    plt.xlim([-1,myarray.shape[1]])\n",
    "    plt.ylim([-1,myarray.shape[0]]) \n",
    "\n",
    "    # \n",
    "    plt.tick_params(axis='both', which='both',\n",
    "                    bottom=False, top=False, left=False, right=False,\n",
    "                    labelbottom=False, labelleft=False)\n",
    "    \n",
    "#set up the board:\n",
    "\n",
    "def set_board(board_size=50,f_trees_start=0.5):\n",
    "    '''\n",
    "    Creates the initial game board.\n",
    "\n",
    "    Inputs:\n",
    "        board_size: length of one edge of the board\n",
    "        f_trees_start: probability that a given cell is a tree\n",
    "                       (effectively the tree density)\n",
    "\n",
    "    Outputs a 2D numpy array with values set to either 0, 1, or 2\n",
    "        (empty, tree, or fire)\n",
    "    '''\n",
    "    \n",
    "    # all cells initialized to 'empty' (0) by default\n",
    "    game_board = np.zeros((board_size,board_size),dtype='int64')\n",
    "    \n",
    "    # loop over board and roll the dice; if the random number is less\n",
    "    # than f_trees_start, make it a tree.\n",
    "    for i in range(board_size):\n",
    "        for j in range(board_size):\n",
    "            if rand.random() <= f_trees_start:\n",
    "                game_board[i,j] = 1\n",
    "\n",
    "    # set the whole left edge of the board on fire. We're arsonists!\n",
    "    game_board[:,0] = 2\n",
    "    \n",
    "    return game_board\n",
    "\n",
    "#step 3 control how the board moves\n",
    "\n",
    "#define functions needed\n",
    "def onBoard(i, j, image):\n",
    "    ni = image.shape[0] \n",
    "    nj = image.shape[1] \n",
    "    if i <= ni-1 and i >= 0 and j<=nj-1 and j>=0:  \n",
    "                                        \n",
    "        return True\n",
    "    else:\n",
    "        return False\n",
    "\n",
    "def getNeighborValues(i,j,board):\n",
    "    \n",
    "    neighborhood = [(i-1, j), (i, j-1), (i+1, j), (i, j+1)]\n",
    "    \n",
    "    neighbor_values = []\n",
    "    for neighbor in neighborhood:\n",
    "        A=neighbor[0]\n",
    "        B=neighbor[1]\n",
    "        if onBoard(A, B, board):    \n",
    "            neighbor_values.append(board[neighbor])\n",
    "        pass\n",
    "\n",
    "    return neighbor_values\n",
    "\n",
    "#get the board to move where you want it to go\n",
    "\n",
    "def advance_board(game_board):\n",
    "    '''\n",
    "    Advances the game board using the given rules.\n",
    "    Input: the initial game board.\n",
    "    Output: the advanced game board\n",
    "    '''\n",
    "    \n",
    "    # create a new array that's just like the original one, but initially set to all zeros (i.e., totally empty)\n",
    "    new_board = np.zeros_like(game_board)\n",
    "    \n",
    "    # loop over each cell in the board and decide what to do.\n",
    "    # You'll need two loops here, one nested inside the other.\n",
    "    for i in range(game_board.shape[0]):\n",
    "        for j in range(game_board.shape[1]):\n",
    "            \n",
    "            # Now that we're inside the loops we need to apply our rules\n",
    "        \n",
    "            # if the cell was empty last turn, it's still empty.\n",
    "            # if it was on fire last turn, it's now empty.\n",
    "            if game_board[i,j]==0 or game_board[i,j]==2:\n",
    "                new_board[i,j]=0\n",
    "    \n",
    "            # now, if there is a tree in the cell, we have to decide what to do\n",
    "            if game_board[i,j]==1:\n",
    "                new_board[i,j]=1\n",
    "                neighbor_values=getNeighborValues(i,j,game_board)\n",
    "                # initially make the cell a tree in the new board\n",
    "                if 2 in neighbor_values:\n",
    "                    new_board[i,j]=2\n",
    "                    \n",
    "\n",
    "                # If one of the neighboring cells was on fire last turn, \n",
    "                # this cell is now on fire!\n",
    "                # (make sure you account for whether or not you're on the edge!)\n",
    "                \n",
    "\n",
    "    # return the new board\n",
    "    return new_board\n",
    "\n",
    "\n",
    "#5 Calculate Statistics for the board\n",
    "def calc_stats(game_board):\n",
    "    '''\n",
    "    Calculates the fraction of cells on the game board that are \n",
    "    a tree or are empty.\n",
    "    \n",
    "    Input: a game board\n",
    "    \n",
    "    Output: fraction that's empty, fraction that's covered in trees.\n",
    "    '''\n",
    "    \n",
    "    # use numpy to count up the fraction that are empty\n",
    "    frac_empty = (game_board==0).sum()/game_board.size\n",
    "\n",
    "    # do the same for trees\n",
    "    frac_tree = (game_board==1).sum()/game_board.size\n",
    "    \n",
    "    # return it!\n",
    "    return frac_empty, frac_tree\n",
    "\n",
    "\n",
    "#6 Animate the Board\n",
    "\n",
    "\n",
    "#intializing the density and size of the board\n",
    "f_trees_start=0.6\n",
    "\n",
    "board_size = 50\n",
    "\n",
    "#plotting the empty figure\n",
    "fig = plt.figure(figsize=(10,10))\n",
    "\n",
    "# creating the game board using the set board function and our intial values\n",
    "game_board = set_board(board_size=board_size, f_trees_start=f_trees_start)\n",
    "\n",
    "#plotting the game_board on our figure above \n",
    "plotgrid(game_board)\n",
    "\n",
    "#setting the board to be on fire and to run the simulation \n",
    "on_fire = True\n",
    "\n",
    "# create a while loop for the fire to simulate\n",
    "while on_fire == True:\n",
    "\n",
    "    # call the advance_board function above so the game_board will update\n",
    "    game_board = advance_board(game_board)\n",
    "    \n",
    "    # at different time steps clear the output of the fire burning and leave the space blank\n",
    "    plotgrid(game_board)\n",
    "    time.sleep(0.01)  # delays what appears on the output\n",
    "    clear_output(wait=True)\n",
    "    display(fig)\n",
    "    fig.clear()\n",
    "\n",
    "    # recored the statistics of the the number of trees and empty spaces left\n",
    "    frac_empty, frac_trees = calc_stats(game_board)\n",
    "\n",
    "    # stop the code using an if statement when the fraction of empty and trees equals 1.\n",
    "    if frac_empty + frac_trees == 1.0:\n",
    "        on_fire = False\n",
    "\n",
    "# stop the plot\n",
    "plt.close()"
   ]
  },
  {
   "cell_type": "markdown",
   "id": "c4262cff",
   "metadata": {},
   "source": [
    "__Looking at real-world data and putting code all together__"
   ]
  },
  {
   "cell_type": "code",
   "execution_count": 5,
   "id": "1c5d16fc",
   "metadata": {},
   "outputs": [
    {
     "data": {
      "text/plain": [
       "<matplotlib.legend.Legend at 0x7f8da39c2a00>"
      ]
     },
     "execution_count": 5,
     "metadata": {},
     "output_type": "execute_result"
    },
    {
     "data": {
      "image/png": "[encoded data removed]",
      "text/plain": [
       "<Figure size 432x288 with 1 Axes>"
      ]
     },
     "metadata": {
      "needs_background": "light"
     },
     "output_type": "display_data"
    }
   ],
   "source": [
    "#load in a dataset and modify if need be\n",
    "global_temp_recent = np.loadtxt('GLB.Ts.csv',skiprows=1,unpack=True,delimiter=',')\n",
    "global_temp_recent[13] /= 100.0\n",
    "global_temp_recent[13]=global_temp_recent[13]+(14.3+273.28)\n",
    "global_temp_recent[13]=global_temp_recent[13]-273.28\n",
    "\n",
    "co2 = np.loadtxt('co2_mm_mlo.txt',skiprows=72,unpack=True)\n",
    "\n",
    "#create a function\n",
    "def temp_model(S, T0,C, C0):\n",
    "    return T0+(S*(np.log2(C/C0)))\n",
    "\n",
    "#print out initial conditions\n",
    "init_co2=368\n",
    "init_temp =14.3\n",
    "S=3\n",
    "C=9\n",
    "\n",
    "#Create a time range and empty lists\n",
    "time=co2[2]\n",
    "co2_list=co2[4]\n",
    "temp=[]\n",
    "temp.append(init_temp)\n",
    "\n",
    "#create a for loop\n",
    "for i in range(len(time)-1):\n",
    "    updated_temp=temp_model(S, temp[0], co2_list[i], co2_list[0])\n",
    "    temp.append(updated_temp)\n",
    "    \n",
    "#plot results\n",
    "plt.plot(global_temp_recent[0], global_temp_recent[13], color='black')\n",
    "plt.plot(time, temp)\n",
    "plt.title('Global mean estimates based on land and ocean data')\n",
    "plt.legend(['Global','CO2'])"
   ]
  },
  {
   "cell_type": "code",
   "execution_count": null,
   "id": "30d88f66",
   "metadata": {},
   "outputs": [],
   "source": []
  }
 ],
 "metadata": {
  "kernelspec": {
   "display_name": "Python 3 (ipykernel)",
   "language": "python",
   "name": "python3"
  },
  "language_info": {
   "codemirror_mode": {
    "name": "ipython",
    "version": 3
   },
   "file_extension": ".py",
   "mimetype": "text/x-python",
   "name": "python",
   "nbconvert_exporter": "python",
   "pygments_lexer": "ipython3",
   "version": "3.9.7"
  }
 },
 "nbformat": 4,
 "nbformat_minor": 5
}
