{
 "cells": [
  {
   "cell_type": "markdown",
   "metadata": {},
   "source": [
    "# Homework 4: Fitting data using SciPy"
   ]
  },
  {
   "cell_type": "markdown",
   "metadata": {
    "id": "ub1zQwFBzXto"
   },
   "source": [
    "### <p style=\"text-align: right;\"> &#9989; Kaitlyn Watson </p>"
   ]
  },
  {
   "cell_type": "markdown",
   "metadata": {
    "id": "8mvK6SgNp-7m"
   },
   "source": [
    "# __CMSE  201 &ndash; Spring 2022__\n",
    "\n",
    "<img src=\"https://cmse.msu.edu/sites/_cmse/assets/Image/image002.jpg\"\n",
    "     alt=\"CMSE Logo\"\n",
    "     align=\"right\" \n",
    "     height=\"100\" \n",
    "     width=\"100\" />\n",
    "     \n",
    "## Goals\n",
    "\n",
    "### By the end of the homework assignment you will have practiced:\n",
    "\n",
    "1. Fitting curves using SciPy\n",
    "2. Plotting data and the correspoding best-fit results\n",
    "3. Calculating mean squared error when fitting a models to data"
   ]
  },
  {
   "cell_type": "markdown",
   "metadata": {
    "id": "qR5VB6bxzLqF"
   },
   "source": [
    "## Assignment instructions\n",
    "\n",
    "Work through the following assignment, making sure to follow all of the directions and answer all of the questions.\n",
    "\n",
    "**This assignment is due at 11:59pm on Friday, March 18.** \n",
    "\n",
    "It should be uploaded to D2L in the approach \"Homework\" submission folder.  Submission instructions can be found at the end of the notebook as well."
   ]
  },
  {
   "cell_type": "markdown",
   "metadata": {},
   "source": [
    "## Grading\n",
    "\n",
    "- Academic Integrity (1 point)\n",
    "- Question 0 (1 point)\n",
    "- Question 1 (4 points)\n",
    "- Question 2 (3 points)\n",
    "- Question 3 (19 points)\n",
    "- Question 4 (5 points)\n",
    "- Question 5 (9 points)\n",
    "- Question 6 (6 points)\n",
    "- Question 7 (2 points)\n",
    "\n",
    "**Total:** 50 points\n"
   ]
  },
  {
   "cell_type": "markdown",
   "metadata": {},
   "source": [
    "---\n",
    "# Academic integrity statement (1 point)\n",
    "\n",
    "In the markdown cell below, put your personal academic integrity statement (composed during the Day04 In-Class Assignment). By including this statement, you are confirming that the work you submit in the assignment is wholly your own.  "
   ]
  },
  {
   "cell_type": "markdown",
   "metadata": {},
   "source": [
    "<font size=6 color=\"#009600\">&#9998;</font> I, Kaitlyn Watson, commit to furthering my education at Michigan State University with full integrity. It is important to me to practice academic honesty in my coursework in order to fully benefit from the learning material and reflect good work ethic to those around me. I am motivated by my future career goals to conduct myself with integrity in everything that I do. Furthermore, I am fully aware of the ethical standards that MSU has established in regards to integrity and I intend to follow them to the best of my ability."
   ]
  },
  {
   "cell_type": "markdown",
   "metadata": {},
   "source": [
    "___\n"
   ]
  },
  {
   "cell_type": "markdown",
   "metadata": {},
   "source": [
    "### &#9989;&nbsp; Question 0: Importing modules (1 point)\n",
    "\n",
    "In this homework you're going to be using matplotlib, NumPy, and SciPy's `curve_fit` function, make sure you include all of the important and necessary `import` comments here."
   ]
  },
  {
   "cell_type": "code",
   "execution_count": 1,
   "metadata": {
    "jupyter": {
     "outputs_hidden": true
    },
    "tags": []
   },
   "outputs": [],
   "source": [
    "# Put your code here\n",
    "import matplotlib.pyplot as plt\n",
    "import numpy as np\n",
    "from scipy.optimize import curve_fit"
   ]
  },
  {
   "cell_type": "markdown",
   "metadata": {},
   "source": [
    "## 1. Generating Model Data\n",
    "\n",
    "### &#9989;&nbsp; Question 1.1: (2 points)\n",
    "\n",
    "In this homework, we will look at fitting higher order polynomials to data, and compare them to the linear fitting. We start with the simplest linear function $y(x) = 2x$ on the domain $0 \\leq x \\leq 1$.\n",
    "\n",
    "We start by making an array of $x-values$ that spans from 0 to 1 with 21 points between the two values. Then, we define the linear function $y(x) = 2x$. We call the corresponding $y$-data generated from the function $y$ the *pure data.*\n",
    "\n",
    "We will also generate a noisy data set $z$ by adding Gaussian noise with mean zero and standard deviation 0.1 to all of the $y$ values.\n",
    "\n",
    "You are the given some of the codes.\n",
    "```\n",
    "x = ?\n",
    "y = ?\n",
    "np.random.seed(seed = 1)\n",
    "noise = np.random.normal(0, 0.1, x.size)\n",
    "z = y + noise\n",
    "```\n",
    "In the following cell, please **complete** the missing parts that marked as (?) in the given codes.\n",
    "\n",
    "Notice: Here the code `np.random.seed(seed = 1)` fixes the seed that generats subsequent random numbers, so that the following `np.random.normal` picks one specific random sequence. **In this homework, for the sake of grading, you should always add this command each time right before generating random numbers like `noise`.**"
   ]
  },
  {
   "cell_type": "code",
   "execution_count": 2,
   "metadata": {
    "jupyter": {
     "outputs_hidden": true
    }
   },
   "outputs": [],
   "source": [
    "# Put your code here\n",
    "x= np.linspace(0,1,21)\n",
    "y = 2*x\n",
    "\n",
    "np.random.seed(seed = 1)\n",
    "\n",
    "noise = np.random.normal(0, 0.1, x.size)\n",
    "z = y + noise"
   ]
  },
  {
   "cell_type": "markdown",
   "metadata": {},
   "source": [
    "### &#9989;&nbsp; Question 1.2: (2 points)\n",
    "\n",
    "Create a **plot** of these two data sets ($y$ and $z$) by making two sub-plots with separated markers. Remember to add proper axes labels and titles."
   ]
  },
  {
   "cell_type": "code",
   "execution_count": 3,
   "metadata": {
    "jupyter": {
     "outputs_hidden": true
    }
   },
   "outputs": [
    {
     "data": {
      "text/plain": [
       "Text(0.5, 1.0, 'Noisy Data')"
      ]
     },
     "execution_count": 3,
     "metadata": {},
     "output_type": "execute_result"
    },
    {
     "data": {
      "image/png": "[encoded data removed]",
      "text/plain": [
       "<Figure size 720x360 with 2 Axes>"
      ]
     },
     "metadata": {
      "needs_background": "light"
     },
     "output_type": "display_data"
    }
   ],
   "source": [
    "plt.subplots(2,1,figsize=(10,5))   #changing the dimensions of my subplots\n",
    "\n",
    "#create a scatter plot of pure data\n",
    "plt.subplot(1,2,1)\n",
    "plt.scatter(x,y)\n",
    "plt.xlabel('x')\n",
    "plt.ylabel('y')\n",
    "plt.legend(\"pure\")\n",
    "plt.title(\"Pure Data\")\n",
    "\n",
    "\n",
    "#create a scatter plot of noisy data\n",
    "plt.subplot(1,2,2)\n",
    "plt.scatter(x,z, color='g')\n",
    "plt.xlabel('x')\n",
    "plt.ylabel('z')\n",
    "plt.legend(\"pure data\")\n",
    "plt.title(\"Noisy Data\")"
   ]
  },
  {
   "cell_type": "markdown",
   "metadata": {},
   "source": [
    "## 2. Fitting Linear (1st-Order Polynomial) Models to Data\n",
    "\n",
    "### &#9989;&nbsp; Question 2: (3 points)\n",
    "\n",
    "In this question, you should use *scipy.optimize.curve_fit* function for these two data sets. \n",
    "\n",
    "Please fit linear functions to both of pure data and noisy data, and **plot** your predicted functions with the original data sets in sub-plots. Remember to add legends."
   ]
  },
  {
   "cell_type": "code",
   "execution_count": 5,
   "metadata": {
    "jupyter": {
     "outputs_hidden": true
    }
   },
   "outputs": [
    {
     "data": {
      "text/plain": [
       "<matplotlib.legend.Legend at 0x7fb592090a30>"
      ]
     },
     "execution_count": 5,
     "metadata": {},
     "output_type": "execute_result"
    },
    {
     "data": {
      "image/png": "[encoded data removed]",
      "text/plain": [
       "<Figure size 720x360 with 2 Axes>"
      ]
     },
     "metadata": {
      "needs_background": "light"
     },
     "output_type": "display_data"
    }
   ],
   "source": [
    "# Put your code here\n",
    " \n",
    "#create a linear function    \n",
    "    \n",
    "def line_function(x, A, B):\n",
    "    return (A*x)+B\n",
    "\n",
    "\n",
    "#PURE DATA \n",
    "\n",
    "#use curve fit function\n",
    "popt, pcov = curve_fit(line_function, x, y)\n",
    "\n",
    "\n",
    "#Find the expected values\n",
    "A_expected = popt[0]  \n",
    "B_expected = popt[1]\n",
    "\n",
    "#create a fitted line using predicted function\n",
    "y_expected1 = line_function(x, A_expected, B_expected)\n",
    "\n",
    "#NOISY DATA\n",
    "\n",
    "#use curve fit function using z data\n",
    "popt, pcov = curve_fit(line_function, x, z)\n",
    "\n",
    "\n",
    "#Find expected values \n",
    "A_expected2 = popt[0]  \n",
    "B_expected2 = popt[1]\n",
    "\n",
    "\n",
    "#create a fitted line using predicted function\n",
    "z_expected = line_function(x, A_expected2, B_expected2)\n",
    "\n",
    "\n",
    "#Plot Data \n",
    "plt.subplots(2,1,figsize=(10,5))\n",
    "\n",
    "plt.subplot(1,2,1)\n",
    "plt.scatter(x, y, label = \"data\")\n",
    "plt.plot(x, y_expected1, color = \"orange\", label = \"fit\")\n",
    "plt.xlabel(\"x\")\n",
    "plt.ylabel(\"y\")\n",
    "plt.title(\"Pure Data\")\n",
    "plt.legend()\n",
    "\n",
    "plt.subplot(1,2,2)\n",
    "plt.scatter(x, z, label = \"data\")\n",
    "plt.plot(x, z_expected, color = \"green\", label = \"fit\")\n",
    "plt.xlabel(\"x\")\n",
    "plt.ylabel(\"z\")\n",
    "plt.title(\"Noisy Data\")\n",
    "plt.legend()"
   ]
  },
  {
   "cell_type": "markdown",
   "metadata": {},
   "source": [
    "## 3. Exploring Linear Model Fits\n",
    "\n",
    "### &#9989;&nbsp; Question 3.1: (4 points)\n",
    "\n",
    "Please **print out** all the fitted model parameters for the pure data set in Question 2, and **answer** the following questions.\n",
    "- For pure data, what are the expected fitted parameters? Please explain the reason.\n",
    "- Do you get the exact parameters?"
   ]
  },
  {
   "cell_type": "code",
   "execution_count": 27,
   "metadata": {
    "jupyter": {
     "outputs_hidden": true
    }
   },
   "outputs": [
    {
     "name": "stdout",
     "output_type": "stream",
     "text": [
      "The fitted model parameters for A is 2.0000000004751963\n",
      "The fitted model parameters for B is 7.08738688593091e-22\n"
     ]
    }
   ],
   "source": [
    "# Put your code here\n",
    "print(\"The fitted model parameters for A is\", A_expected)\n",
    "print(\"The fitted model parameters for B is\", B_expected)"
   ]
  },
  {
   "cell_type": "markdown",
   "metadata": {},
   "source": [
    "<font size=+3>&#9998;</font> \n",
    "- The exact parameters for the data are 2 and 0.\n",
    "- I got extremely close to the correct parameters. The A expected was 0.0000000004 greater than the exact. The B expected was basically 0."
   ]
  },
  {
   "cell_type": "markdown",
   "metadata": {},
   "source": [
    "### &#9989;&nbsp; Question 3.2: (5 points)\n",
    "\n",
    "Please **print out** all the fitted model parameters for the noisy data set in Question 2, and **answer** the following questions.\n",
    "- For noisy data, what are the expected fitted parameters? Please explain the reason.\n",
    "- Do you get the exact parameters?\n",
    "- Are this result close to the answer in Questions 3.1?"
   ]
  },
  {
   "cell_type": "code",
   "execution_count": 28,
   "metadata": {
    "jupyter": {
     "outputs_hidden": true
    }
   },
   "outputs": [
    {
     "name": "stdout",
     "output_type": "stream",
     "text": [
      "The fitted model parameters for A is 1.9605329433528382\n",
      "The fitted model parameters for B is 0.0017910920359444082\n"
     ]
    }
   ],
   "source": [
    "print(\"The fitted model parameters for A is\", A_expected2)\n",
    "print(\"The fitted model parameters for B is\", B_expected2)"
   ]
  },
  {
   "cell_type": "markdown",
   "metadata": {},
   "source": [
    "<font size=+3>&#9998;</font> \n",
    "- The expected parameters are 1.96 and 0.00179. This is because the standard deviation for the noise is 0.1 and since we are multiplying the x values by 2, the overall data will deviate by 0.4, hence 1.96.\n",
    "- I got very close to the exact parameters. The fitted model parameters were slightly larger than the exact parameters of 1.96 and 0.\n",
    "- If you consider 0.04 to be close, then yes I would say they are relatively close to question 3.1"
   ]
  },
  {
   "cell_type": "markdown",
   "metadata": {},
   "source": [
    "### &#9989;&nbsp; Question 3.3: (5 points)\n",
    "\n",
    "Now, fit linear functions to the noisy data again just like Questions 1 and 2, but this time, we will use different noise options in `np.random.normal` for our noisy data, i.e., Gaussian noise with mean zero and standard deviation 0.01. Please **plot** your predicted functions with the new noisy data, **print out** the fitted model parameters, and **answer** the following questions.\n",
    "- Comparing to the results you got in Question 2, what kind of change to the noisy data can you observe?\n",
    "- Comparing to the results you got in Question 2, what kind of change to the fitted function can you observe?\n",
    "- Comparing to the results you got in Question 3.2, what kind of change to the fitted model parameters can you observe?"
   ]
  },
  {
   "cell_type": "code",
   "execution_count": 29,
   "metadata": {
    "jupyter": {
     "outputs_hidden": true
    }
   },
   "outputs": [
    {
     "name": "stdout",
     "output_type": "stream",
     "text": [
      "The fitted model parameters for A is 1.9960532974722964\n",
      "The fitted model parameters for B is 0.00017910891134897966\n"
     ]
    },
    {
     "data": {
      "image/png": "[encoded data removed]",
      "text/plain": [
       "<Figure size 432x288 with 1 Axes>"
      ]
     },
     "metadata": {
      "needs_background": "light"
     },
     "output_type": "display_data"
    }
   ],
   "source": [
    "#restate x and y values \n",
    "x= np.linspace(0,1,21)\n",
    "y = 2*x\n",
    "\n",
    "np.random.seed(seed = 1)\n",
    "\n",
    "#regenerate normal data using std=0.01\n",
    "noise = np.random.normal(0, 0.01, x.size)\n",
    "z = y + noise\n",
    "\n",
    "#use the curve fit function\n",
    "popt, pcov = curve_fit(line_function, x, z)\n",
    "\n",
    "\n",
    "#Find the expected values\n",
    "A_expected3 = popt[0]  \n",
    "B_expected3 = popt[1]\n",
    "\n",
    "#create the best fit line\n",
    "z_expected2 = line_function(x, A_expected3, B_expected3)\n",
    "\n",
    "\n",
    "#plot the data\n",
    "plt.scatter(x, z, label = \"data\")\n",
    "plt.plot(x, z_expected2, color = \"green\", label = \"fit\")\n",
    "plt.xlabel(\"x\")\n",
    "plt.ylabel(\"z\")\n",
    "plt.title(\"Noisy Data\")\n",
    "plt.legend()\n",
    "\n",
    "print(\"The fitted model parameters for A is\", A_expected3)\n",
    "print(\"The fitted model parameters for B is\", B_expected3)"
   ]
  },
  {
   "cell_type": "markdown",
   "metadata": {},
   "source": [
    "<font size=+3>&#9998;</font> *Put your answers here.*\n",
    "- Compared to question 2, the noisy data is much closer to the pure data. This is due to the standard deviation being smaller.\n",
    "- Overall, the fitted function is also much closer to the pure data fitted function found in Question 2.\n",
    "- The parameters found for A and B using the 0.01 std are much closer to the exact parameters of 2 and 0 from the pure data. They are also much closer than the noisy data with a std of 0.1. Therefore a smaller standard deviation leads to a closer model of the pure data."
   ]
  },
  {
   "cell_type": "markdown",
   "metadata": {},
   "source": [
    "### &#9989;&nbsp; Question 3.4: (5 points)\n",
    "\n",
    "Fit linear functions to the noisy data again and take Gaussian noise with mean 2 and standard deviation 0.1. Please **plot** your predicted functions with the new noisy data, **print out** the fitted model parameters, and **answer** the following questions.\n",
    "- Comparing to the results you got in Question 2, what kind of change to the noisy data can you observe?\n",
    "- Comparing to the results you got in Question 2, what kind of change to the fitted function can you observe?\n",
    "- Comparing to the results you got in Question 3.2, what kind of change to the fitted model parameters can you observe?"
   ]
  },
  {
   "cell_type": "code",
   "execution_count": 30,
   "metadata": {
    "jupyter": {
     "outputs_hidden": true
    }
   },
   "outputs": [
    {
     "name": "stdout",
     "output_type": "stream",
     "text": [
      "The fitted model parameters for A is 1.9605329433528373\n",
      "The fitted model parameters for B is 2.0017910920403077\n"
     ]
    },
    {
     "data": {
      "image/png": "[encoded data removed]",
      "text/plain": [
       "<Figure size 432x288 with 1 Axes>"
      ]
     },
     "metadata": {
      "needs_background": "light"
     },
     "output_type": "display_data"
    }
   ],
   "source": [
    "# Put your code here\n",
    "\n",
    "y = 2*x\n",
    "\n",
    "\n",
    "np.random.seed(seed = 1)\n",
    "#generate new noisy data using a mean of 2\n",
    "noise = np.random.normal(2, 0.1, x.size)\n",
    "z = y + noise\n",
    "\n",
    "#use the curve fit function\n",
    "popt, pcov = curve_fit(line_function, x, z)\n",
    "\n",
    "#Find the expected values \n",
    "A_expected4 = popt[0]  \n",
    "B_expected4 = popt[1]\n",
    "\n",
    "#find the predicted line\n",
    "z_expected3 = line_function(x, A_expected4, B_expected4)\n",
    "\n",
    "\n",
    "#plot the data\n",
    "plt.scatter(x, z, label = \"data\")\n",
    "plt.plot(x, z_expected3, color = \"green\", label = \"fit\")\n",
    "plt.xlabel(\"x\")\n",
    "plt.ylabel(\"z\")\n",
    "plt.title(\"Noisy Data\")\n",
    "plt.legend()\n",
    "\n",
    "print(\"The fitted model parameters for A is\", A_expected4)\n",
    "print(\"The fitted model parameters for B is\", B_expected4)"
   ]
  },
  {
   "cell_type": "markdown",
   "metadata": {},
   "source": [
    "<font size=+3>&#9998;</font> *Put your answers here.*\n",
    "- The noisy data on the x-axis stays the same. However, because the mean has doubled, the z have a range from 2 to 4.\n",
    "- Again, the fitted function now accounts for outputs from 2 to 4 rather then 0 to 2, but looks very similar to the orginal in question 2. \n",
    "- The A Expected value did not change from question 2, but the B expected value became 2 instead of zero. This is double what the B expected value was for question 3.2."
   ]
  },
  {
   "cell_type": "markdown",
   "metadata": {},
   "source": [
    "## 4. Fitting Quartic (4th-Order Polynomial) Functions\n",
    "\n",
    "\n",
    "### &#9989;&nbsp; Question 4.1: (1 points)\n",
    "\n",
    "To improve the fitting, one idea is to add more parameters in the model, so that the model can be more flexible. For example, we can take polynomials with higher orders, say quardratic (2nd order) polynomials, cubic (3rd order) polynomials, quartic (4th order) polynomials, ... rather than linear (1st order) polynomials.\n",
    "\n",
    "Let's try quartic (4th order) polynomials in this question. Here are some examples of quartic polynomials\n",
    "$$\n",
    "y(x) = 2x^4 - 3, \\\\\n",
    "y(x) = 0.5x^4 + 1.75x^3 + 3x^2 - x + 7.\n",
    "$$\n",
    "\n",
    "Please **answer** the following question.\n",
    "- How many (fit) parameters are there in a general quartic (4th order) polynomial?"
   ]
  },
  {
   "cell_type": "markdown",
   "metadata": {},
   "source": [
    "<font size=+3>&#9998;</font> \n",
    "- There are 5 parameters in a general quartic polynomial"
   ]
  },
  {
   "cell_type": "markdown",
   "metadata": {},
   "source": [
    "### &#9989;&nbsp; Question 4.2: (4 points)\n",
    "\n",
    "Please fit quartic polynomials to pure data and the original noisy data (takeing Gaussian noise with mean zero and standard deviation 0.1). Please **plot** your new fitting functions based on the plots in Question 2. That is to say, plot two subplots for pure data and noisy data, and plot the linear fittings and the quartic fittings on them."
   ]
  },
  {
   "cell_type": "code",
   "execution_count": 31,
   "metadata": {
    "jupyter": {
     "outputs_hidden": true
    }
   },
   "outputs": [
    {
     "data": {
      "text/plain": [
       "<matplotlib.legend.Legend at 0x7fb5944fdb80>"
      ]
     },
     "execution_count": 31,
     "metadata": {},
     "output_type": "execute_result"
    },
    {
     "data": {
      "image/png": "[encoded data removed]",
      "text/plain": [
       "<Figure size 720x360 with 2 Axes>"
      ]
     },
     "metadata": {
      "needs_background": "light"
     },
     "output_type": "display_data"
    }
   ],
   "source": [
    "# Put your code here\n",
    "\n",
    "\n",
    "\n",
    "#restate data\n",
    "x= np.linspace(0,1,21)\n",
    "y = 2*x\n",
    "\n",
    "np.random.seed(seed = 1)\n",
    "\n",
    "#generate noisy data\n",
    "noise = np.random.normal(0, 0.1, x.size)\n",
    "z = y + noise\n",
    "\n",
    "#define a quartic function with parameter A,B,C,D,F\n",
    "def quartic_function(x, A, B,C,D,F):\n",
    "    return A*(x)**4 + B*(x)**3 + C*(x)**2 + (D*x) + F\n",
    "\n",
    "\n",
    "#PURE DATA \n",
    "\n",
    "#use curve fit function\n",
    "popt, pcov = curve_fit(quartic_function, x, y)\n",
    "\n",
    "\n",
    "\n",
    "#Find the expected values\n",
    "A_expected5 = popt[0]  \n",
    "B_expected5 = popt[1]\n",
    "C_expected5 = popt[2]  \n",
    "D_expected5 = popt[3]\n",
    "F_expected5 = popt[4]  \n",
    "\n",
    "\n",
    "#Fit a line for y_expected\n",
    "y_expected2 = quartic_function(x, A_expected5, B_expected5, C_expected5, D_expected5, F_expected5)\n",
    "\n",
    "#NOISY DATA \n",
    "\n",
    "popt, pcov = curve_fit(quartic_function, x, z)\n",
    "\n",
    "\n",
    "A_expected6 = popt[0]  \n",
    "B_expected6 = popt[1]\n",
    "C_expected6 = popt[2]  \n",
    "D_expected6 = popt[3]\n",
    "F_expected6 = popt[4]\n",
    "\n",
    "z_expected4 = quartic_function(x, A_expected6, B_expected6, C_expected6, D_expected6, F_expected6)\n",
    "\n",
    "#Plot the data\n",
    "plt.subplots(2,1,figsize=(10,5))\n",
    "\n",
    "plt.subplot(1,2,1)\n",
    "plt.scatter(x, y, label = \"data\")\n",
    "plt.plot(x, y_expected2, color = \"orange\", label = \"fit\")\n",
    "plt.xlabel(\"X\")\n",
    "plt.ylabel(\"Y\")\n",
    "plt.title(\"Pure Data\")\n",
    "plt.legend()\n",
    "\n",
    "plt.subplot(1,2,2)\n",
    "plt.scatter(x, z, label = \"data\")\n",
    "plt.plot(x, z_expected4, color = \"green\", label = \"fit\")\n",
    "plt.xlabel(\"X\")\n",
    "plt.ylabel(\"Z\")\n",
    "plt.title(\"Pure Data\")\n",
    "plt.legend()\n"
   ]
  },
  {
   "cell_type": "markdown",
   "metadata": {},
   "source": [
    "## 5. Exploring Quartic Model Fits\n",
    "\n",
    "### &#9989;&nbsp; Question 5.1: (5 points)\n",
    "\n",
    "Please **print out** new fitted model parameters for the both data sets in Question 4, and **answer** the following questions:\n",
    "- For pure data, what are the expected fitted parameters for the quartic polynomial? Please explain the reason. \n",
    "- Do you get the exact parameters?\n",
    "- For quartic fitting to the noisy data, is that optimized parameter close to the one from the pure data?"
   ]
  },
  {
   "cell_type": "code",
   "execution_count": 32,
   "metadata": {
    "jupyter": {
     "outputs_hidden": true
    }
   },
   "outputs": [
    {
     "name": "stdout",
     "output_type": "stream",
     "text": [
      "The fitted model parameters for pure data are 4.412657791171811e-07 -8.826852431065188e-07 5.645011920948117e-07 1.9999998752290347 5.520098249663786e-09\n",
      "The fitted model parameters for noisy data are 3.443902391986949 -7.664932018987657 5.588026248281877 0.5270919456746522 0.08060228528375303\n"
     ]
    }
   ],
   "source": [
    "print (\"The fitted model parameters for pure data are\", A_expected5, B_expected5, C_expected5, D_expected5, F_expected5)\n",
    "print (\"The fitted model parameters for noisy data are\",A_expected6, B_expected6, C_expected6, D_expected6, F_expected6)"
   ]
  },
  {
   "cell_type": "markdown",
   "metadata": {},
   "source": [
    "<font size=+3>&#9998;</font>\n",
    "- Because our function is just representing 2x, we would expect almost all parameters to be zero for the pure data. D would be the only parameter which the value would not be zero. This is becuase the data fits so close to 2x that the rest of the terms are not needed. Here we would expect the D value to be 2 as the function 2x would be in this place and the rest would be zero. \n",
    "\n",
    "- We got relatively close to these parameters that were expected for a this function for the pure data, not the noisy data.\n",
    "- I would say the optimized parameter for noisy data is not very close to the pure data as the pure data has 1.99 and the noisy data has 0.52. These are not close as all. This is becuase the noisy data is allowed room to be distributed among the other parts of the polynomial. Therefore it resulted in larger values for the first and third terms."
   ]
  },
  {
   "cell_type": "markdown",
   "metadata": {},
   "source": [
    "### &#9989;&nbsp; Question 5.2: (4 points)\n",
    "\n",
    "Let's focus on the noisy data and its linear and quartic fittings you have found in Question 4. Please **plot** both fitted functions on a larger domain $-1 \\leq x \\leq 2$, and **answer** the following question:\n",
    "- On the larger domain $-1 \\leq x \\leq 2$, do you think the quartic fitting is close to a linear function or not?\n",
    "- Based on your fitted parameters and the expression of the quartic polynomial, which terms in the polynomial play a key role in the prediction at $x = 2$?\n",
    "- In predicting values outside the range of data, which model is more sensitive to the noise, linear one or quartic one?"
   ]
  },
  {
   "cell_type": "code",
   "execution_count": 26,
   "metadata": {
    "jupyter": {
     "outputs_hidden": true
    },
    "tags": []
   },
   "outputs": [
    {
     "name": "stdout",
     "output_type": "stream",
     "text": [
      "[ 3.44390239 -7.66493202  5.58802625  0.52709195  0.08060229]\n"
     ]
    },
    {
     "data": {
      "text/plain": [
       "<matplotlib.legend.Legend at 0x7fb592f69c40>"
      ]
     },
     "execution_count": 26,
     "metadata": {},
     "output_type": "execute_result"
    },
    {
     "data": {
      "image/png": "[encoded data removed]",
      "text/plain": [
       "<Figure size 432x288 with 1 Axes>"
      ]
     },
     "metadata": {
      "needs_background": "light"
     },
     "output_type": "display_data"
    }
   ],
   "source": [
    "# Put your code here\n",
    "\n",
    "x= np.linspace(0,1,21)\n",
    "y = 2*x\n",
    "\n",
    "np.random.seed(seed = 1)\n",
    "\n",
    "noise = np.random.normal(0, 0.1, x.size)\n",
    "z = y + noise\n",
    "\n",
    "def quartic_function(x, A, B,C,D,F):\n",
    "    return A*(x)**4 + B*(x)**3 + C*(x)**2 + (D*x) + F\n",
    "\n",
    "popt, pcov = curve_fit(quartic_function, x, z)\n",
    "print(popt)\n",
    "\n",
    "A_expected7 = popt[0]  \n",
    "B_expected7 = popt[1]\n",
    "C_expected7 = popt[2]  \n",
    "D_expected7 = popt[3]\n",
    "F_expected7 = popt[4]\n",
    "\n",
    "interval=np.linspace(-1,2,21)\n",
    "z_expected5 = quartic_function(interval, A_expected7, B_expected7, C_expected7, D_expected7, F_expected7)\n",
    "z_expected10 = line_function(interval, A_expected2, B_expected2)\n",
    "\n",
    "plt.scatter(x, z, label = \"data\")\n",
    "plt.plot(interval, z_expected5, color = \"green\", label = \"quartic\")\n",
    "plt.plot(interval, z_expected10, color = \"yellow\", label = \"linear\")\n",
    "plt.xlabel(\"x\")\n",
    "plt.ylabel(\"z\")\n",
    "plt.title(\"Noisy Data\")\n",
    "plt.legend()\n"
   ]
  },
  {
   "cell_type": "markdown",
   "metadata": {},
   "source": [
    "<font size=+3>&#9998;</font> *Put your answers here.*\n",
    "- I would say the quartic fitting is much closer to a linear function as seen on the plot up until we are outside the range of data. Then, it appears to dramatically increase, which does not model the linear model.\n",
    "- The D Term plays the largest role in predicting x=2. \n",
    "- I would say the quartic function is much more sensitive to noise because it increases faster."
   ]
  },
  {
   "cell_type": "markdown",
   "metadata": {},
   "source": [
    "## 6. (Quantitatively) Evaluating the Model Fits\n",
    "\n",
    "\n",
    "### &#9989;&nbsp; Question 6: (6 points)\n",
    "\n",
    "A simple approach that evaluates the quality of the fitting is to measure the mean squared error (MSE). That is, given the data $\\{ (a_i, b_i) \\} _{i = 1} ^N$, and the fitted model $f$, we shall calculate the  mean squared error\n",
    "$$ MSE := \\frac{1}{N}\\sum_{i=1}^{N} (f(a_i) - b_i) ^2.$$\n",
    "\n",
    "First, please **write** function *MSE*, which has two inputs and one output:\n",
    "- Input 1: the $y$ data $f(a)$ as a *numpy.ndarray*,\n",
    "- Input 2: the model fit $y$-value $b$ as a *numpy.ndarray* (with the same size as Input 1),\n",
    "- Output: the mean squared error $MSE$ as a *float*.\n",
    "\n",
    "Then, **calculate** the MSE with respect to the data and fitted models we have done in Question 4:\n",
    "1. pure data, with linear fit,\n",
    "1. pure data, with quartic fit,\n",
    "1. noisy data, with linear fit,\n",
    "1. noisy data, with quartic fit.\n",
    "\n",
    "Finally, **answer** the following question:\n",
    "- When considering the noisy data, which fit model has less MSE? Please explain the reason."
   ]
  },
  {
   "cell_type": "code",
   "execution_count": 33,
   "metadata": {
    "jupyter": {
     "outputs_hidden": true
    },
    "tags": []
   },
   "outputs": [
    {
     "name": "stdout",
     "output_type": "stream",
     "text": [
      "The MSE for pure data in the linear function is 7.715227542137875e-20\n",
      "The MSE for pure data in the quartic function is 7.18258655440839e-18\n",
      "The MSE for noisy data in the linear function is 0.011801249264574072\n",
      "The MSE for noisy data in the quartic function is 0.0111246790461126\n"
     ]
    }
   ],
   "source": [
    "# Put your code here\n",
    "def mse(k, k_expected):\n",
    "    return (sum((k-k_expected)**2))/len(k)\n",
    "\n",
    "pure_data_linear=mse(y,y_expected1)\n",
    "print(\"The MSE for pure data in the linear function is\", pure_data_linear)\n",
    "\n",
    "pure_data_quartic=mse(y,y_expected2)\n",
    "print(\"The MSE for pure data in the quartic function is\", pure_data_quartic)\n",
    "\n",
    "noisy_data_linear=mse(z,z_expected)\n",
    "print(\"The MSE for noisy data in the linear function is\", noisy_data_linear)\n",
    "\n",
    "noisy_data_quartic=mse(z,z_expected4)\n",
    "print(\"The MSE for noisy data in the quartic function is\", noisy_data_quartic)"
   ]
  },
  {
   "cell_type": "markdown",
   "metadata": {},
   "source": [
    "<font size=+3>&#9998;</font> *Put your answer here.*\n",
    "- They quartic function has less MSE. This is becuase we have given the room for the data to be distributed among parameters. Therefore, the"
   ]
  },
  {
   "cell_type": "markdown",
   "metadata": {},
   "source": [
    "## 7. Reflecting on Model Fitting\n",
    "\n",
    "### &#9989;&nbsp; Question 7: (2 points)\n",
    "\n",
    "The previous questions are based on artificial data, but for real-world data, the we will have the same question about how to choose the fitted model. Please **answer** the following questions:\n",
    "- Is it true the models with more parameters (or with larger function space) is better?\n",
    "- For real-world data, what kind of fitting models shall we choose?"
   ]
  },
  {
   "cell_type": "markdown",
   "metadata": {},
   "source": [
    "<font size=+3>&#9998;</font> *Put your answers here.*\n",
    "- Yes, the more parameters that are in your function will produce a better, more accurrate model. This is becuase you are providing more information for the prediction.\n",
    "- We will have to generalize this statement as it is a case-by-case scenario. In real-world data, we should choose the model that will include the most amount of parameters within a realistic setting that can contribute to the overall accuracy of the model. "
   ]
  },
  {
   "cell_type": "markdown",
   "metadata": {
    "id": "LWhZbMUPzLq-"
   },
   "source": [
    "---\n",
    "\n",
    "### Congratulations, you're done!\n",
    "\n",
    "Submit this assignment by uploading it to the course Desire2Learn web page.  \n",
    "Go to the \"Homework Assignments\" section, find the appropriate submission folder link, and upload it there.\n"
   ]
  },
  {
   "cell_type": "markdown",
   "metadata": {
    "id": "AeXZvgIIzLq-"
   },
   "source": [
    "&#169; Copyright 2022, [Department of Computational Mathematics, Science and Engineering](https://cmse.msu.edu) at Michigan State University."
   ]
  }
 ],
 "metadata": {
  "colab": {
   "name": "HW-03_ItalyMigrationData.ipynb",
   "provenance": []
  },
  "kernelspec": {
   "display_name": "Python 3 (ipykernel)",
   "language": "python",
   "name": "python3"
  },
  "language_info": {
   "codemirror_mode": {
    "name": "ipython",
    "version": 3
   },
   "file_extension": ".py",
   "mimetype": "text/x-python",
   "name": "python",
   "nbconvert_exporter": "python",
   "pygments_lexer": "ipython3",
   "version": "3.9.7"
  }
 },
 "nbformat": 4,
 "nbformat_minor": 4
}
