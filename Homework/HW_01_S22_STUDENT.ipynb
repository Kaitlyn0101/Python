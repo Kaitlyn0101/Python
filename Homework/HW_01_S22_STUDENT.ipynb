{
 "cells": [
  {
   "cell_type": "markdown",
   "id": "45bb8053-48ae-4a43-9420-7531a2088f70",
   "metadata": {},
   "source": [
    "# Homework 1: Introduction to Loops, Lists, and Dictionaries"
   ]
  },
  {
   "cell_type": "markdown",
   "id": "369b25c4-5270-44f7-b4aa-5de43f181457",
   "metadata": {},
   "source": [
    "### <p style=\"text-align: right;\"> &#9989; Kaitlyn Watson"
   ]
  },
  {
   "cell_type": "markdown",
   "id": "9db8f7d4-bb38-4e4d-81eb-b3f4a29e4390",
   "metadata": {},
   "source": [
    "# __CMSE  201 &ndash; Spring 2022__\n",
    "\n",
    "<img src=\"https://cmse.msu.edu/sites/_cmse/assets/Image/image002.jpg\"\n",
    "     alt=\"CMSE Logo\"\n",
    "     align=\"right\" \n",
    "     height=\"100\" \n",
    "     width=\"100\" />\n",
    "\n",
    "\n",
    "## Learning Goals\n",
    "\n",
    "### Content Goals\n",
    "- **Utilize loops to store, access, and manipulate data in a multiple lists**\n",
    "- **Write code to execute simple mathematical operations**\n",
    "- **Utilize lists and dictionaries to store data**\n",
    "\n",
    "\n",
    "### Practice Goals\n",
    "- **Evaluate different ways to solve problems using code**\n",
    "- **Diagnose and debug code provided to you**\n",
    "\n",
    "\n",
    "___"
   ]
  },
  {
   "cell_type": "markdown",
   "id": "e2d25c6b-8ba7-4899-b2aa-e1c9db4ade5c",
   "metadata": {},
   "source": [
    "## Assignment instructions\n",
    "\n",
    "Work through the following assignment, making sure to follow all the directions and answer all the questions.\n",
    "\n",
    "**This assignment is due at 11:59 pm on Friday, January 28th.** It should be uploaded into the \"Homework Assignments\" submission folder for Homework #1.  Submission instructions can be found at the end of the notebook."
   ]
  },
  {
   "cell_type": "markdown",
   "id": "3c95e3e0-bf6e-4735-aa5c-ffdf3b4b69a4",
   "metadata": {},
   "source": [
    "# Version check\n",
    "\n",
    "Before you begin, make sure your Jupyter kernel is Python3. There are significant differences between Python2 and Python3, and we will use Python3 in this course. The kernel type at the upper-right corner should say \"Python3\", and the following code should show a version 3.x.y.\n",
    "\n",
    "If your kernel is Python2, try selecting Python3 from the Kernel menu above under the submenu \"Change kernel\". If that does not work, consult the Slack help channel for assistance."
   ]
  },
  {
   "cell_type": "code",
   "execution_count": 59,
   "id": "df6fc368-2a6f-4a95-83c1-89279fbc61b3",
   "metadata": {},
   "outputs": [
    {
     "name": "stdout",
     "output_type": "stream",
     "text": [
      "3.9.7 (default, Sep 16 2021, 08:50:36) \n",
      "[Clang 10.0.0 ]\n"
     ]
    }
   ],
   "source": [
    "import sys\n",
    "print(sys.version)"
   ]
  },
  {
   "cell_type": "markdown",
   "id": "7ceb3943-d50b-4f97-b15b-cd6a26e49a9c",
   "metadata": {},
   "source": [
    "---\n",
    "## Grading\n",
    "\n",
    "Academic integrity statement (1 Point)\n",
    "\n",
    "0. Going to Office Hours (8 Points) \n",
    "1. Looping by Index (10 Points)\n",
    "2. Looping by Value (10 Points)\n",
    "3. Working with Lists and Dictionaries (9 Points)\n",
    "4. Debugging Dictionary Construction (12 Points)\n",
    "\n",
    "Total points possible: **50**\n",
    "\n",
    "---"
   ]
  },
  {
   "cell_type": "markdown",
   "id": "07697278-efc1-44f9-b281-b7b4aece9bff",
   "metadata": {},
   "source": [
    "## Academic integrity statement (1 Point)\n",
    "\n",
    "In the markdown cell below, paste your personal academic integrity statement. By including this statement, you are confirming that you are submitting this as your own work and not that of someone else.\n"
   ]
  },
  {
   "cell_type": "markdown",
   "id": "add02426-de57-4036-8da8-2add665532c4",
   "metadata": {},
   "source": [
    "<font size=6 color=\"#009600\">&#9998;</font>  I, Kaitlyn Watson, commit to furthering my education at Michigan State University with full integrity. It is important to me to practice academic honesty in my coursework in order to fully benefit from the learning material and reflect good work ethic to those around me. I am motivated by my future career goals to conduct myself with integrity in everything that I do. Furthermore, I am fully aware of the ethical standards that MSU has established in regards to integrity and I intend to follow them to the best of my ability."
   ]
  },
  {
   "cell_type": "markdown",
   "id": "295e310b-e5f2-4c21-9e3b-afe0ec9813f9",
   "metadata": {},
   "source": [
    "## 0. Going to Office Hours (8 Points)\n",
    "\n",
    "### Why are we doing this?\n",
    "We want to make sure that everyone knows how to access the resources\n",
    "available to you. One of the best resources you have at your disposal is office hours.\n",
    "\n",
    "### What will you do?\n",
    "(At minimum) Go to one office hour session ​(it doesn’t matter which one you go to). Come with one question that you would like to talk about. It can be big or small. Ask your question. All of the instructors for CMSE 201 (section leads, TAs, and LAs) will be adding to a running list of folks that we see during office hours; as long as your name appears on the list, you’ll get credit for this part of homework 1.\n",
    "\n",
    "**NOTE:** The day when the homework is due (Friday, January 28th) will be the busiest time for folks to go to office hours. You are **STRONGLY** encouraged to go to office hours before Friday to get credit for this part of this assignment. (You should still feel free to go to office hours on Friday for help, though!)\n",
    "\n",
    "You can find the office hours calendar on the [course website](https://cmse.msu.edu/cmse201)."
   ]
  },
  {
   "cell_type": "markdown",
   "id": "9f65912c-dd0a-4393-b3c1-28b2b935e536",
   "metadata": {},
   "source": [
    "---\n",
    "## 1. Looping by Index (10 Points)\n",
    "\n",
    "It’s important to understand how to use the indices to access elements of a list and how to use loop variables in `for` loops. For the following exercises, we’ll be focusing on **\"looping by index.\"**\n",
    "\n",
    "**Note:** Each of these problems provides you with a bit of starter code. You *must* use the provided starter code to answer the questions.\n",
    "\n",
    "Below are two lists (`letters` and `indices`), which you will use to answer the subsequent questions."
   ]
  },
  {
   "cell_type": "code",
   "execution_count": 60,
   "id": "7b130de6-a546-4edb-8397-a339644149f8",
   "metadata": {},
   "outputs": [],
   "source": [
    "letters = [\"A\",\"B\",\"C\",\"D\",\"E\"]\n",
    "indices = [1,0,3]"
   ]
  },
  {
   "cell_type": "markdown",
   "id": "c5c48d5b-d36e-44c4-85b8-d31af424ceb1",
   "metadata": {},
   "source": [
    "### &#9989;&nbsp; 1.1 Task (1 Point)\n",
    "\n",
    "Use the following starter code to print out all of the values in the `letters list."
   ]
  },
  {
   "cell_type": "code",
   "execution_count": 61,
   "id": "dfbf3968-f7fd-4baf-bb06-9514dff7c89a",
   "metadata": {},
   "outputs": [
    {
     "name": "stdout",
     "output_type": "stream",
     "text": [
      "A\n",
      "B\n",
      "C\n",
      "D\n",
      "E\n"
     ]
    }
   ],
   "source": [
    "for j in range(len(letters)):\n",
    "    \n",
    "    print(letters[j])  #print all the values in the range of list: letters"
   ]
  },
  {
   "cell_type": "markdown",
   "id": "45377bba-4f15-4271-a203-540c572ce98d",
   "metadata": {},
   "source": [
    "### &#9989;&nbsp; 1.2 Task (1 Point)\n",
    "\n",
    "Use the following starter code to print out all of the values in the `indices` list."
   ]
  },
  {
   "cell_type": "code",
   "execution_count": 62,
   "id": "80de8feb-7103-43e0-a2a5-c0873a3e1aaf",
   "metadata": {},
   "outputs": [
    {
     "name": "stdout",
     "output_type": "stream",
     "text": [
      "1\n",
      "0\n",
      "3\n"
     ]
    }
   ],
   "source": [
    "for a in range(len(indices)):\n",
    "    \n",
    "    print(indices[a])   #print all the values in the range of list: indices"
   ]
  },
  {
   "cell_type": "markdown",
   "id": "73609f84-75c9-4112-8535-356fd1c09f66",
   "metadata": {},
   "source": [
    "### &#9989;&nbsp; 1.3 Task (2 Points)\n",
    "\n",
    "Use the following starter code to print out all of the values in the `indices` list **AND** the **first three values in the** `letters` **list**. I.e., your final result should look like:\n",
    "\n",
    "```\n",
    "1 A\n",
    "0 B\n",
    "3 C\n",
    "```"
   ]
  },
  {
   "cell_type": "code",
   "execution_count": 6,
   "id": "ea9f3396-651e-4a10-a1d3-a4ecf92dfd93",
   "metadata": {},
   "outputs": [
    {
     "name": "stdout",
     "output_type": "stream",
     "text": [
      "1 A\n",
      "0 B\n",
      "3 C\n"
     ]
    }
   ],
   "source": [
    "for b in range(len(indices)):\n",
    "    \n",
    "    print(indices[b], letters[b])   #print the values from both indices, and letters list that are only included in the lenth of the indices list. "
   ]
  },
  {
   "cell_type": "markdown",
   "id": "d61ee966-0a5c-4785-888b-04d6f2d582b3",
   "metadata": {},
   "source": [
    "### &#9989;&nbsp; 1.4 Task (3 Points)\n",
    "\n",
    "Use the following starter code, as well as both the `indices` and `letters` list, to print out the word `BAD`. I.e., your final result should be:\n",
    "```\n",
    "B\n",
    "A\n",
    "D\n",
    "```"
   ]
  },
  {
   "cell_type": "code",
   "execution_count": 16,
   "id": "3163eb73-3ec1-4fb6-ba0d-21f0c2591aef",
   "metadata": {},
   "outputs": [
    {
     "name": "stdout",
     "output_type": "stream",
     "text": [
      "B\n",
      "A\n",
      "D\n"
     ]
    }
   ],
   "source": [
    "for c in range(len(indices)):\n",
    "    print(letters[indices[c]])   #print the letters from the corresponding indices list"
   ]
  },
  {
   "cell_type": "markdown",
   "id": "b50669de-156b-40e2-9505-4f183416e3bd",
   "metadata": {},
   "source": [
    "### &#9989;&nbsp; 1.5 Task (3 Points)\n",
    "\n",
    "Finally, make a new `indices` list and use the following starter code (and the `letters` list) to print out `ACE`. I.e., your final result should be:\n",
    "```\n",
    "A\n",
    "C\n",
    "E\n",
    "```"
   ]
  },
  {
   "cell_type": "code",
   "execution_count": 50,
   "id": "9802d8c9-0989-4b69-9ca9-e134f06a6fee",
   "metadata": {},
   "outputs": [
    {
     "name": "stdout",
     "output_type": "stream",
     "text": [
      "A\n",
      "C\n",
      "E\n"
     ]
    }
   ],
   "source": [
    "indices2 = [0,2,4] #Make a new indices list\n",
    "for d in range(len(indices2)):      #use for loop to print letters from the corresponding indices list\n",
    "     print(letters[indices2[d]])\n",
    "    "
   ]
  },
  {
   "cell_type": "markdown",
   "id": "1c3b5f4a-5f8a-4736-a5d2-c7e33d4bca53",
   "metadata": {},
   "source": [
    "## 2. Looping by Value (10 Points)\n",
    "\n",
    "In all of the questions above in the previous problem, we had you **\"loop by index.\"** However, we can also **\"loop by value,\"** as the example below demonstrates. "
   ]
  },
  {
   "cell_type": "code",
   "execution_count": 18,
   "id": "de49a48a-4a8e-4604-a0a4-bce226189a2d",
   "metadata": {},
   "outputs": [
    {
     "name": "stdout",
     "output_type": "stream",
     "text": [
      "A\n",
      "B\n",
      "C\n",
      "D\n",
      "E\n"
     ]
    }
   ],
   "source": [
    "for letter in letters:\n",
    "    print(letter)   "
   ]
  },
  {
   "cell_type": "markdown",
   "id": "4fb3f5f5-fa0b-48ec-85d6-91e64b8b7260",
   "metadata": {},
   "source": [
    "#### &#9989;&nbsp; 2.1 Task (2 Points)\n",
    "\n",
    "**In the cell below, try to solve each of the problems above using \"loop by value.\" You don’t have to demonstrate success (or failure) for each problem; just tinker with it and see if you can solve them.**"
   ]
  },
  {
   "cell_type": "code",
   "execution_count": 54,
   "id": "c241e69a-f8a6-4279-9b74-cc32ac522515",
   "metadata": {},
   "outputs": [
    {
     "name": "stdout",
     "output_type": "stream",
     "text": [
      "A\n",
      "B\n",
      "C\n",
      "D\n",
      "E\n",
      "1\n",
      "0\n",
      "3\n",
      "B\n",
      "A\n",
      "D\n"
     ]
    }
   ],
   "source": [
    "#Try to solve the problems above using loop by value. \n",
    "#This cell won't be graded for correctness; it's basically just scratch work\n",
    "\n",
    "\n",
    "\n",
    "for letter in letters:\n",
    "    print(letter)\n",
    "    \n",
    "for indice in indices:\n",
    "    print(indice)     \n",
    "\n",
    "for c in indices:\n",
    "    print(letters[c])\n"
   ]
  },
  {
   "cell_type": "markdown",
   "id": "22bbc3a0-a5b6-4278-aae5-8b6c77e7587e",
   "metadata": {},
   "source": [
    "#### &#9989;&nbsp; 2.2 Task (4 Points)\n",
    "\n",
    "**Which problems can be solved using a \"loop by value?\" Which ones can NOT be solved using a \"loop by value?\"**"
   ]
  },
  {
   "cell_type": "markdown",
   "id": "f1f50ee9-d200-4deb-b035-716c4d19e9d6",
   "metadata": {},
   "source": [
    "All of the problems above can be solved by \"loop by value\" besides for 1.3. 1.3 states: \"print out all of the values in the indices list AND the first three values in the letters list.\" We cannot use \"loop by value\" becuase there are different values in each list that do not correspond to each other."
   ]
  },
  {
   "cell_type": "markdown",
   "id": "233863b1-5ce7-42e0-9118-72979f31e5ae",
   "metadata": {},
   "source": [
    "#### &#9989;&nbsp; 2.3 Task (4 Points)\n",
    "\n",
    "**Is there a problem that could be solved using “loop by value” that could NOT be solved using “loop by index”? If so, give an example in the (code) cell below. If not, explain why not in the (text) cell below.**"
   ]
  },
  {
   "cell_type": "code",
   "execution_count": null,
   "id": "87801c31-06e8-410d-9a54-0d6ae8e4157e",
   "metadata": {},
   "outputs": [],
   "source": [
    "#Write an example loop here\n",
    "\n",
    "#N/A There is no example as it is impossible"
   ]
  },
  {
   "cell_type": "markdown",
   "id": "442061c6-8e4a-4c91-b830-c6720f674904",
   "metadata": {},
   "source": [
    "No. This is becuase every list has an index automatically built into it. Every list has an index no matter what. Therefore, if a problem can be solved using \"loop by value\" it can also be solved by \"loop by index.\""
   ]
  },
  {
   "cell_type": "markdown",
   "id": "2e830fb8-684c-4515-9928-8e5b0a9af1fd",
   "metadata": {},
   "source": [
    "---\n",
    "## 3. Working with Lists and Dictionaries (9 Points)\n",
    "\n",
    "### 3.1 Lists (5 Points)\n",
    "\n",
    "You have already seen Python \"lists\" in some of your previous work. \n",
    "\n",
    "### &#9989;&nbsp; 3.1.1 Task\n",
    "**Construct two lists, one with your three favorite kinds of fruit, and the other with an explanation of why each fruit is your favorite. Write a `for` loop that prints out the type of fruit and the explanation for why you like it.**\n",
    "\n",
    "*For example*\n",
    "\n",
    "I like Oranges because They remind me of Holland. \n",
    "\n",
    "I like Grapes because Purple is the best color.\n",
    "\n",
    "I like Clementines because They are the Corgis of oranges."
   ]
  },
  {
   "cell_type": "code",
   "execution_count": 28,
   "id": "15dcaa27-9352-4832-b01c-f966092cbc01",
   "metadata": {},
   "outputs": [
    {
     "name": "stdout",
     "output_type": "stream",
     "text": [
      "I like Strawberries because They taste sweet\n",
      "I like Bananas because They are amazing with PB\n",
      "I like Watermelon because It reminds me of summer\n"
     ]
    }
   ],
   "source": [
    "# Put your code here\n",
    "fruit=['Strawberries', 'Bananas', 'Watermelon']    #create a fruit list\n",
    "reason=['They taste sweet', 'They are amazing with PB', 'It reminds me of summer']   #create a reson list as a string\n",
    "\n",
    "for i in range (len(fruit)):\n",
    "    print(\"I like\", fruit[i], \"because\", reason[i])     #create a for loop that runs through the length of the fruit list and adds the two lists together using print function"
   ]
  },
  {
   "cell_type": "markdown",
   "id": "31143155-73ec-4273-bb96-f506a7f9f5c6",
   "metadata": {},
   "source": [
    "### 3.2 Dictionaries (4 Points)\n",
    "\n",
    "Dictionaries are new. They're like lists, in that they provide a means to store multiple values in a single compound variable. The main differences are:\n",
    "\n",
    "* Dictionaries store values using *keys*, instead of indices (see image below).\n",
    "* You create a new dictionary using curly braces, `{}`, instead of square brackets, `[]`.\n",
    "\n",
    "\n",
    "<img src=\"https://bjc.edc.org/bjc-r/img/python/dictionaries_vs_lists.jpg\"\n",
    "     alt=\"List V. Dict\"\n",
    "     align=\"center\" \n",
    "     height=\"800\" \n",
    "     width=\"800\" />\n",
    "\n",
    "\n",
    "\n",
    "#### NOTE:\n",
    "A more detailed introduction to dictionaries and their functionality can be found at [W3Schools](https://www.w3schools.com/python/python_dictionaries.asp)."
   ]
  },
  {
   "cell_type": "code",
   "execution_count": null,
   "id": "00af5fd8-7b36-4d65-8100-1d820caf1be8",
   "metadata": {},
   "outputs": [],
   "source": [
    "#Dictionary example 1: Making a dictionary\n",
    "\n",
    "state_dictionary = {\"Name\": \"Colorado\",\n",
    "                   \"Population\": 5758736,\n",
    "                   \"Capital\": \"Denver\",\n",
    "                   \"State Bird\": \"Lark bunting\"}\n",
    "\n",
    "print(state_dictionary[\"Capital\"])"
   ]
  },
  {
   "cell_type": "code",
   "execution_count": null,
   "id": "a4481c58-75c2-4217-9fbf-10c7dc01aa67",
   "metadata": {},
   "outputs": [],
   "source": [
    "#Dictionary example 2: Looping through keys and values in a dictionary\n",
    "\n",
    "for key in state_dictionary:\n",
    "    print(\"Key: \",key,\"    Value: \",state_dictionary[key])"
   ]
  },
  {
   "cell_type": "markdown",
   "id": "93f84601-b15c-4211-8328-a5ec6aef7091",
   "metadata": {},
   "source": [
    "**Now**, think about an actual (non-coding) dictionary. It's a book with many *values* (definitions), and you look up these values using a specific *key* (word).\n",
    "\n",
    "### &#9989;&nbsp; 3.2.1 Task\n",
    "\n",
    "**Choose three or four words and look up their definitions. Construct a dictionary whose keys are the words and whose values are the definitions.** "
   ]
  },
  {
   "cell_type": "code",
   "execution_count": 29,
   "id": "9d0f1344-67a9-486d-8c5a-f742a57f2755",
   "metadata": {},
   "outputs": [
    {
     "name": "stdout",
     "output_type": "stream",
     "text": [
      "a fuss; commotion\n",
      "Key: Bumfuzzle        Value: to confuse or fluster\n",
      "Key: Canoodle        Value: to pet fondly\n",
      "Key: Kerfuffle        Value: a fuss; commotion\n",
      "Key: Snark        Value: mysterious or imaginary animal\n"
     ]
    }
   ],
   "source": [
    "# Put your code here\n",
    "word_dictionary = {\"Bumfuzzle\": \"to confuse or fluster\",          #create a dictionary using {} with words and definitions\n",
    "                  \"Canoodle\": \"to pet fondly\",  \n",
    "                   \"Kerfuffle\": \"a fuss; commotion\",\n",
    "                  \"Snark\": \"mysterious or imaginary animal\"}\n",
    "\n",
    "print(word_dictionary[\"Kerfuffle\"])      #test word dictionary\n",
    "\n",
    "for key in word_dictionary:\n",
    "    print(\"Key:\", key, \"       Value:\", word_dictionary[key])       #print key in word dictionary"
   ]
  },
  {
   "cell_type": "markdown",
   "id": "caf07c6f-b80d-4912-aeec-c75202cb059a",
   "metadata": {},
   "source": [
    "---\n",
    "## 4. Debugging Dictionary Construction (12 Points)\n",
    "\n",
    "Below is a piece of code that is meant to create a dictionary of dictionaries. Specifically, it is supposed to create a dictionary for each state (similar to the previous problem), and then add that dictionary to another dictionary (`all_states_dictionary`) using the name of the state as the key. However, the code is not working! There are several bugs in it. \n",
    "\n",
    "### &#9989;&nbsp; 4.1 Task (6 Points)\n",
    "\n",
    "In the empty code cell below, rewrite the buggy code so that it works properly. "
   ]
  },
  {
   "cell_type": "code",
   "execution_count": 30,
   "id": "501299a0-b9bd-4db8-a4b0-9bdd02359b35",
   "metadata": {},
   "outputs": [
    {
     "ename": "IndexError",
     "evalue": "list index out of range",
     "output_type": "error",
     "traceback": [
      "\u001b[0;31m---------------------------------------------------------------------------\u001b[0m",
      "\u001b[0;31mIndexError\u001b[0m                                Traceback (most recent call last)",
      "\u001b[0;32m/var/folders/0v/z2w_93qn6px0c9k8bl2bm49r0000gn/T/ipykernel_64846/541176134.py\u001b[0m in \u001b[0;36m<module>\u001b[0;34m\u001b[0m\n\u001b[1;32m      7\u001b[0m \u001b[0;34m\u001b[0m\u001b[0m\n\u001b[1;32m      8\u001b[0m \u001b[0;32mfor\u001b[0m \u001b[0mj\u001b[0m \u001b[0;32min\u001b[0m \u001b[0mrange\u001b[0m\u001b[0;34m(\u001b[0m\u001b[0mlen\u001b[0m\u001b[0;34m(\u001b[0m\u001b[0mnames\u001b[0m\u001b[0;34m)\u001b[0m\u001b[0;34m)\u001b[0m\u001b[0;34m:\u001b[0m\u001b[0;34m\u001b[0m\u001b[0;34m\u001b[0m\u001b[0m\n\u001b[0;32m----> 9\u001b[0;31m     temporary_state_dict = {\"Population\": populations[5],\n\u001b[0m\u001b[1;32m     10\u001b[0m                            \"Capital\": capitals[j]}\n\u001b[1;32m     11\u001b[0m     \u001b[0mall_states_dictionary\u001b[0m\u001b[0;34m[\u001b[0m\u001b[0mnames\u001b[0m\u001b[0;34m[\u001b[0m\u001b[0;36m2\u001b[0m\u001b[0;34m]\u001b[0m\u001b[0;34m]\u001b[0m \u001b[0;34m=\u001b[0m \u001b[0mtemporary_state_dict\u001b[0m\u001b[0;34m\u001b[0m\u001b[0;34m\u001b[0m\u001b[0m\n",
      "\u001b[0;31mIndexError\u001b[0m: list index out of range"
     ]
    }
   ],
   "source": [
    "names = [\"Arizona\", \"Nevada\", \"New Mexico\", \"Utah\"]\n",
    "populations = [7151502,3104614,2120220,3271616]\n",
    "capitals = [\"Phoenix\", \"Carson City\",\"Santa Fe\",\"Salt Lake City\"]\n",
    "state_birds = [\"Cactus wren\",\"Mountain bluebird\",\"Greater roadrunner\",\"California gull\"]\n",
    "\n",
    "all_states_dictionary = {}\n",
    "\n",
    "for j in range(len(names)):\n",
    "    temporary_state_dict = {\"Population\": populations[5],\n",
    "                           \"Capital\": capitals[j]}\n",
    "    all_states_dictionary[names[2]] = temporary_state_dict\n",
    "\n",
    "print(all_states_dictionary[\"Arizona\"][\"Population\"])\n",
    "print(all_states_dictionary[\"Nevada\"][\"Capital\"])\n",
    "print(all_states_dictionary[\"Utah\"][\"State Bird\"])"
   ]
  },
  {
   "cell_type": "code",
   "execution_count": 48,
   "id": "261a429e",
   "metadata": {},
   "outputs": [
    {
     "name": "stdout",
     "output_type": "stream",
     "text": [
      "7151502\n",
      "Carson City\n",
      "California gull\n"
     ]
    }
   ],
   "source": [
    "names = [\"Arizona\", \"Nevada\", \"New Mexico\", \"Utah\"]\n",
    "populations = [7151502,3104614,2120220,3271616]\n",
    "capitals = [\"Phoenix\", \"Carson City\",\"Santa Fe\",\"Salt Lake City\"]\n",
    "state_birds = [\"Cactus wren\",\"Mountain bluebird\",\"Greater roadrunner\",\"California gull\"]\n",
    "\n",
    "all_states_dictionary = {}\n",
    "\n",
    "for j in range(len(names)):\n",
    "    temporary_state_dict = {\"Name\":names[j],\n",
    "                            \"Population\": populations[j],\n",
    "                            \"Capital\": capitals[j],\n",
    "                            \"State Bird\": state_birds[j]}\n",
    "    all_states_dictionary[names[j]] = temporary_state_dict\n",
    "\n",
    "print(all_states_dictionary[\"Arizona\"] [\"Population\"])\n",
    "print(all_states_dictionary[\"Nevada\"][\"Capital\"])\n",
    "print(all_states_dictionary[\"Utah\"][\"State Bird\"])"
   ]
  },
  {
   "cell_type": "markdown",
   "id": "8cacfd6e-a117-490c-a23d-efa063921b8a",
   "metadata": {},
   "source": [
    "### &#9989;&nbsp; 4.2 Task (6 Points)\n",
    "\n",
    "\n",
    "In the empty markdown cell below, detail all of the bugs that you found in the code. For each bug you found, you should include: \n",
    "1. The line of code that caused the error(s)\n",
    "2. (Where appropriate) The error code\n",
    "3. A plain english description of the error(s) in the code\n",
    "4. How you solved the error(s)\n",
    "\n",
    "(Remember that not all bugs in the code will throw errors!)"
   ]
  },
  {
   "cell_type": "markdown",
   "id": "828c021f-be5d-4002-b2b6-c68b45b0f8d1",
   "metadata": {},
   "source": [
    "1. Line(9): IndexError. The number of populations listed is 4, not 5 and therefore, the index was incorrect and could not be coded. I solved this by changing the 5 to a j in the brackets to reflect the index in the length of the names (4). \n",
    "2. Line(13): KeyError. The word 'Arizona' is listed as an error becuase the key listed in line(11) only uses the second state listed which is 'Nevada.' I solved this error by changing the 2 in line(11) to j to again reflect the index representing the length of the names. \n",
    "\n",
    "3. Line(15): KeyError. The 'State Bird' is not found as it is not listed in the temporary_state_dict that was created inside the loop. To solve this, I added \"State Bird\": state_birds[j] from the all_states_dictionary in line(12).\n",
    "\n"
   ]
  },
  {
   "cell_type": "markdown",
   "id": "aefbfdec-8a25-4e64-9d5c-58ca6d160409",
   "metadata": {},
   "source": [
    "---\n",
    "\n",
    "### Congratulations, you're done!\n",
    "\n",
    "Submit this assignment by uploading it to the course Desire2Learn web page.  Go to the \"Homework Assignments\" section, find the submission folder link for Homework #1, and upload it there."
   ]
  }
 ],
 "metadata": {
  "kernelspec": {
   "display_name": "Python 3 (ipykernel)",
   "language": "python",
   "name": "python3"
  },
  "language_info": {
   "codemirror_mode": {
    "name": "ipython",
    "version": 3
   },
   "file_extension": ".py",
   "mimetype": "text/x-python",
   "name": "python",
   "nbconvert_exporter": "python",
   "pygments_lexer": "ipython3",
   "version": "3.9.7"
  }
 },
 "nbformat": 4,
 "nbformat_minor": 5
}
