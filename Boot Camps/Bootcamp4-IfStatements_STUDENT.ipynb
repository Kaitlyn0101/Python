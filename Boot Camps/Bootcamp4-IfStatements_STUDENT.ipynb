{
 "cells": [
  {
   "cell_type": "markdown",
   "metadata": {
    "id": "SvAjPrvob8Bj"
   },
   "source": [
    "# Bootcamp 4: If Statements\n",
    "This notebook includes practice examples centered on if statements with increasing complexity.\n",
    "\n",
    "If statements allow us to add complexity to code."
   ]
  },
  {
   "cell_type": "markdown",
   "metadata": {
    "id": "u87Ia2K5DP69"
   },
   "source": [
    "## Task\n",
    "\n",
    "Comment the code below to explain what each line is doing."
   ]
  },
  {
   "cell_type": "code",
   "execution_count": 1,
   "metadata": {
    "colab": {
     "base_uri": "https://localhost:8080/"
    },
    "id": "TQD65QvPb13g",
    "outputId": "e877137b-9992-40bf-f8e4-33d97f2307d8"
   },
   "outputs": [
    {
     "name": "stdout",
     "output_type": "stream",
     "text": [
      "1 is odd!\n",
      "3 is odd!\n",
      "5 is odd!\n",
      "7 is odd!\n",
      "9 is odd!\n"
     ]
    }
   ],
   "source": [
    "'''basic structure of an if statement'''\n",
    "\n",
    "for i in range(10): # add a comment here to explain what this code is doing\n",
    "    if i%2 != 0: #add a comment here to exlplain what this code is doing\n",
    "        print(i, 'is odd!') #add a comment here to explain what the code is doing"
   ]
  },
  {
   "cell_type": "markdown",
   "metadata": {
    "id": "GPD_GM4NDYcz"
   },
   "source": [
    "## Task\n",
    "\n",
    "Comment the code below to explain what each line is doing."
   ]
  },
  {
   "cell_type": "code",
   "execution_count": 2,
   "metadata": {
    "colab": {
     "base_uri": "https://localhost:8080/"
    },
    "id": "uIKAwltBx5zi",
    "outputId": "6090be8f-60cb-4b45-8e09-fc8bb75e8050"
   },
   "outputs": [
    {
     "name": "stdout",
     "output_type": "stream",
     "text": [
      "0 is even!\n",
      "1 is odd!\n",
      "2 is even!\n",
      "3 is odd!\n",
      "4 is even!\n",
      "5 is odd!\n",
      "6 is even!\n",
      "7 is odd!\n",
      "8 is even!\n",
      "9 is odd!\n"
     ]
    }
   ],
   "source": [
    "'''basic structure of an if-else statement'''\n",
    "\n",
    "for i in range(10): \n",
    "    if i%2 != 0: \n",
    "        print(i, 'is odd!') \n",
    "    else:             #add a comment here to explain what the code is doing\n",
    "        print(i,'is even!') #add a comment here to explain what the code is doing"
   ]
  },
  {
   "cell_type": "code",
   "execution_count": null,
   "metadata": {
    "id": "W-x3nvf4yemD"
   },
   "outputs": [],
   "source": []
  },
  {
   "cell_type": "markdown",
   "metadata": {
    "id": "tpnyrKBwylcZ"
   },
   "source": [
    "## Task\n",
    "\n",
    "Write an if-else statement that loops through the list of numbers below and prints \"I am greater than 25\" if the number is greater than 25 and \"I am less than 25\" otherwise. Comment your code to explain what each line is doing!"
   ]
  },
  {
   "cell_type": "code",
   "execution_count": 7,
   "metadata": {
    "id": "l48AdnXyzHa8"
   },
   "outputs": [
    {
     "name": "stdout",
     "output_type": "stream",
     "text": [
      "I am less than 25\n",
      "I am greater than 25\n",
      "I am less than 25\n",
      "I am less than 25\n",
      "I am less than 25\n",
      "I am greater than 25\n",
      "I am less than 25\n",
      "I am greater than 25\n",
      "I am greater than 25\n",
      "I am less than 25\n",
      "I am greater than 25\n",
      "I am greater than 25\n",
      "I am greater than 25\n",
      "I am less than 25\n",
      "I am greater than 25\n",
      "I am greater than 25\n",
      "I am greater than 25\n",
      "I am greater than 25\n",
      "I am less than 25\n",
      "I am less than 25\n"
     ]
    }
   ],
   "source": [
    "list_of_ints = [18, 34, 9, 4, 5, 43, 11, 49, 50, 14, 35, 37, 39, 22, 38, 36, 46, 44, 22, 16]\n",
    "\n",
    "# put your pseudocode and code here\n",
    "for i in list_of_ints:\n",
    "    if i > 25:\n",
    "        print(\"I am greater than 25\")\n",
    "    else:\n",
    "        print(\"I am less than 25\")"
   ]
  },
  {
   "cell_type": "markdown",
   "metadata": {
    "id": "uHs3aaoqDcR3"
   },
   "source": [
    "## Task\n",
    "\n",
    "Comment the code below to explain what each line is doing."
   ]
  },
  {
   "cell_type": "code",
   "execution_count": 8,
   "metadata": {
    "colab": {
     "base_uri": "https://localhost:8080/"
    },
    "id": "8b6ctPbz0RlN",
    "outputId": "3b53893b-9712-41f4-d30c-1de2363b3632"
   },
   "outputs": [
    {
     "name": "stdout",
     "output_type": "stream",
     "text": [
      "cheese is a string!\n",
      "5.0 is a float!\n",
      "puppies is a string!\n",
      "1 is an integer!\n",
      "3 is an integer!\n",
      "otters is a string!\n",
      "9.7 is a float!\n",
      "1.5 is a float!\n",
      "football is a string!\n"
     ]
    }
   ],
   "source": [
    "'''if-elif-else statments add further complexity to our code!'''\n",
    "\n",
    "list_of_things = ['cheese',5.0,'puppies',1,3,'otters',9.7,1.5,'football']\n",
    "\n",
    "for item in list_of_things: #add a comment here to explain what the code is doing\n",
    "    if type(item)==str: #add a comment here to explain what the code is doing\n",
    "        print(item, 'is a string!')\n",
    "    elif type(item) == int:            #add a comment here to explain what the code is doing\n",
    "        print(item,'is an integer!')\n",
    "    else:             #add a comment here to explain what the code is doing\n",
    "        print(item,'is a float!') "
   ]
  },
  {
   "cell_type": "markdown",
   "metadata": {
    "id": "JoDTZ8pJ728S"
   },
   "source": [
    "## Task\n",
    "\n",
    "Write a set of if-elif-else statements to categorize the animals in this list as two-legged, four-legged, swimming, or something else. Comment your code to explain what each line is doing!"
   ]
  },
  {
   "cell_type": "code",
   "execution_count": null,
   "metadata": {
    "id": "8rCr-zrW70TS"
   },
   "outputs": [],
   "source": [
    "list_of_animals = ['parrot','mussel','penguin','polar bear','salmon','zebra','shark','clam']\n",
    "\n",
    "#put your code and pseudocode here\n",
    "\n",
    "for animal in list_of_animals:\n",
    "    if animal=='parrot' or animal==\"penguin\":\n",
    "        print(animal, \"is two-legged\")\n",
    "    elif animal==\"polar bear\" or animal==\"zebra\":\n",
    "        print(animal, \"four-legged\")\n",
    "    elif animal=='shark' and animal='salmon':\n",
    "        print(animal, \"swims\")\n",
    "    \n"
   ]
  },
  {
   "cell_type": "code",
   "execution_count": null,
   "metadata": {
    "id": "gPqeSJsNAqB_"
   },
   "outputs": [],
   "source": []
  }
 ],
 "metadata": {
  "anaconda-cloud": {},
  "colab": {
   "name": "Quiz2_if_statements.ipynb",
   "provenance": []
  },
  "kernelspec": {
   "display_name": "Python 3 (ipykernel)",
   "language": "python",
   "name": "python3"
  },
  "language_info": {
   "codemirror_mode": {
    "name": "ipython",
    "version": 3
   },
   "file_extension": ".py",
   "mimetype": "text/x-python",
   "name": "python",
   "nbconvert_exporter": "python",
   "pygments_lexer": "ipython3",
   "version": "3.9.7"
  }
 },
 "nbformat": 4,
 "nbformat_minor": 1
}
