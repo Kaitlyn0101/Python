{
 "cells": [
  {
   "cell_type": "markdown",
   "metadata": {},
   "source": [
    "# Bootcamp 7: Practice with Indexing and Masking 2D Arrays"
   ]
  },
  {
   "cell_type": "markdown",
   "metadata": {},
   "source": [
    "# Introduction\n",
    "\n",
    "In this notebook, we will be reviewing how to create and index 2D numpy arrays (Part 1) and how to analyze and manipulate numpy arrays with masking (Part 2).\n",
    "\n",
    "---\n"
   ]
  },
  {
   "cell_type": "code",
   "execution_count": 7,
   "metadata": {},
   "outputs": [],
   "source": [
    "# Import modules\n",
    "import numpy as np\n",
    "import matplotlib.pyplot as plt\n",
    "%matplotlib inline"
   ]
  },
  {
   "cell_type": "markdown",
   "metadata": {},
   "source": [
    "# Part 1: Indexing Arrays\n",
    "\n",
    "In part 1, we will revisit some concepts related to indexing arrays and working with subsets of 2D arrays. Note that this was partly taken and modified from the Day-12 Pre-Class. Refer back to that notebook for more details. \n",
    "\n",
    "\n",
    "---\n",
    "\n",
    "## Array creation and basic properties \n",
    "\n",
    "### Creating arrays\n",
    "The line below creates an 8x10 array of zeros called ```my_array```.  Note that you can do this with any numpy array method (```ones```, ```zeros_like```, ```ones_like```, etc.).  See [this page](http://docs.scipy.org/doc/numpy/reference/routines.array-creation.html) for a full list of routines for array creation.  You can also specify the array data type (float, int, etc.) by using the `dtype` argument, i.e., `dtype='float'` or `dtype='int'`.  By default, Numpy creates arrays of floating-point numbers."
   ]
  },
  {
   "cell_type": "code",
   "execution_count": 11,
   "metadata": {},
   "outputs": [
    {
     "name": "stdout",
     "output_type": "stream",
     "text": [
      "new array:\n",
      " [[0 0 0 0 0 0 0 0 0 0]\n",
      " [0 0 0 0 0 0 0 0 0 0]\n",
      " [0 0 0 0 0 0 0 0 0 0]\n",
      " [0 0 0 0 0 0 0 0 0 0]\n",
      " [0 0 0 0 0 0 0 0 0 0]\n",
      " [0 0 0 0 0 0 0 0 0 0]\n",
      " [0 0 0 0 0 0 0 0 0 0]\n",
      " [0 0 0 0 0 0 0 0 0 0]]\n",
      "[[1. 1. 1. 1. 1.]\n",
      " [1. 1. 1. 1. 1.]\n",
      " [1. 1. 1. 1. 1.]\n",
      " [1. 1. 1. 1. 1.]]\n"
     ]
    }
   ],
   "source": [
    "# example \n",
    "a = np.zeros([8,10],dtype='int') #first value is rows, second value is column\n",
    "print(\"new array:\\n\", a)\n",
    "\n",
    "t = np.ones([4,5]) #dtype defaults to float\n",
    "print(t)"
   ]
  },
  {
   "cell_type": "markdown",
   "metadata": {},
   "source": [
    "### Shape and size of arrays\n",
    "The array `.shape` property tells you how large the array is in each dimension, `.ndim` tells you the number of dimensions, and `.size` tells you the total number of elements in the array. You can access each of the dimensions dim by `.shape[dim]`. Note that for 2D arrays, the dimensions refer to the number of rows (0th dimension) and the number of columns (1st dimension). "
   ]
  },
  {
   "cell_type": "code",
   "execution_count": 12,
   "metadata": {},
   "outputs": [
    {
     "name": "stdout",
     "output_type": "stream",
     "text": [
      "the shape of this array is: (8, 10)\n",
      "there are: 2 dimensions\n",
      "there are 80 total elements\n",
      "the size of dimension 0 is 8\n",
      "the size of dimension 1 is 10\n"
     ]
    }
   ],
   "source": [
    "print(\"the shape of this array is:\", a.shape) \n",
    "print(\"there are:\", a.ndim, \"dimensions\")  \n",
    "print(\"there are\", a.size, \"total elements\")   \n",
    "\n",
    "for i in range(a.ndim):\n",
    "    print(\"the size of dimension\", i, \"is\", a.shape[i])"
   ]
  },
  {
   "cell_type": "code",
   "execution_count": 15,
   "metadata": {},
   "outputs": [
    {
     "name": "stdout",
     "output_type": "stream",
     "text": [
      "[[1. 1. 1. 1. 1. 1. 1. 1. 1. 1. 1. 1.]\n",
      " [1. 1. 1. 1. 1. 1. 1. 1. 1. 1. 1. 1.]\n",
      " [1. 1. 1. 1. 1. 1. 1. 1. 1. 1. 1. 1.]\n",
      " [1. 1. 1. 1. 1. 1. 1. 1. 1. 1. 1. 1.]\n",
      " [1. 1. 1. 1. 1. 1. 1. 1. 1. 1. 1. 1.]\n",
      " [1. 1. 1. 1. 1. 1. 1. 1. 1. 1. 1. 1.]\n",
      " [1. 1. 1. 1. 1. 1. 1. 1. 1. 1. 1. 1.]\n",
      " [1. 1. 1. 1. 1. 1. 1. 1. 1. 1. 1. 1.]\n",
      " [1. 1. 1. 1. 1. 1. 1. 1. 1. 1. 1. 1.]\n",
      " [1. 1. 1. 1. 1. 1. 1. 1. 1. 1. 1. 1.]\n",
      " [1. 1. 1. 1. 1. 1. 1. 1. 1. 1. 1. 1.]]\n",
      "the shape of this array is: (11, 12)\n",
      "there are: 2 dimensions\n",
      "there are 132 total elements\n",
      "the size of dimension 0 is 11\n",
      "the size of dimension 1 is 12\n"
     ]
    }
   ],
   "source": [
    "\"\"\"EXERCISE: Create an 11 by 12 2D array with all ones as the elements and use the above \\\n",
    "commands to print the size of each dimension and the total number of elements in the array\"\"\"\n",
    "\n",
    "b = np.ones([11,12]) #dtype defaults to float\n",
    "print(b)\n",
    "\n",
    "print(\"the shape of this array is:\", b.shape) \n",
    "print(\"there are:\", b.ndim, \"dimensions\")  \n",
    "print(\"there are\", b.size, \"total elements\")   \n",
    "\n",
    "for i in range(b.ndim):\n",
    "    print(\"the size of dimension\", i, \"is\", b.shape[i])"
   ]
  },
  {
   "cell_type": "code",
   "execution_count": 17,
   "metadata": {},
   "outputs": [
    {
     "name": "stdout",
     "output_type": "stream",
     "text": [
      "the shape of this array is: (10, 10)\n",
      "there are: 2 dimensions\n",
      "there are 100 total elements\n",
      "the size of dimension 0 is 10\n",
      "the size of dimension 1 is 10\n"
     ]
    }
   ],
   "source": [
    "# Given the 2D array below, report the same features of the array as stated above.\n",
    "\n",
    "new_array = np.array([\n",
    "       [ 2.,  0.,  0.,  0.,  0.,  0.,  1.,  1.,  1.,  1.],\n",
    "       [ 1.,  1.,  1.,  1.,  1.,  0.,  1.,  1.,  1.,  1.],\n",
    "       [ 1.,  1.,  1.,  1.,  1.,  0.,  0.,  0.,  0.,  1.],\n",
    "       [ 1.,  1.,  1.,  1.,  1.,  1.,  1.,  1.,  0.,  1.],\n",
    "       [ 1.,  1.,  1.,  1.,  1.,  0.,  0.,  0.,  0.,  1.],\n",
    "       [ 0.,  0.,  0.,  0.,  0.,  0.,  1.,  1.,  1.,  1.],\n",
    "       [ 0.,  1.,  1.,  1.,  1.,  1.,  1.,  1.,  1.,  1.],\n",
    "       [ 0.,  1.,  1.,  1.,  1.,  1.,  1.,  1.,  1.,  1.],\n",
    "       [ 0.,  0.,  0.,  0.,  0.,  0.,  0.,  0.,  3.,  1.],\n",
    "       [ 1.,  1.,  1.,  1.,  6.,  1.,  1.,  1.,  1.,  1.]])\n",
    "\n",
    "# code here\n",
    "print(\"the shape of this array is:\", new_array.shape) \n",
    "print(\"there are:\", new_array.ndim, \"dimensions\")  \n",
    "print(\"there are\", new_array.size, \"total elements\")   \n",
    "\n",
    "for i in range(new_array.ndim):\n",
    "    print(\"the size of dimension\", i, \"is\", new_array.shape[i])"
   ]
  },
  {
   "cell_type": "markdown",
   "metadata": {},
   "source": [
    "---\n",
    "## Slicing arrays \n",
    "\n",
    "Slicing arrays allows you to select some subset of the elements in a list or an array to manipulate or copy.  With slicing, there are three values that can be used along each dimension: `start`, `end`, and `step`, separated by colons.  \n",
    "\n",
    "### Here are some examples in 1D:\n",
    "\n",
    "```\n",
    "myarray[start,end]   # items start through end-1\n",
    "myarray[start:]      # items start through the end of the array\n",
    "myarray[:end]        # items from the beginning of the array through end-1\n",
    "myarray[:]           # a copy of the whole array\n",
    "myarray[start,end,step]  # every \"step\" item from start to end-1\n",
    "myarray[::step]      # every \"step\" item over the whole array, starting with the first element.\n",
    "```\n",
    "\n",
    "Note that negative indices count from the end of the array, so `myarray[-1]` is the last element in the array, `myarray[-2]` is the second-to-last element, etc.  You can also reverse the order of the array by starting at the end and counting to the beginning by negative numbers; in other words, `myarray[-1::-1]` starts at the end of the array and goes to the first element by counting down by one each time."
   ]
  },
  {
   "cell_type": "code",
   "execution_count": 39,
   "metadata": {},
   "outputs": [
    {
     "name": "stdout",
     "output_type": "stream",
     "text": [
      "[0 1 2 3 4 5 6 7 8 9]\n",
      "[3 4 5]\n",
      "[1 2 3 4 5 6 7 8]\n",
      "[0 1 2 3 4]\n",
      "[5 6 7 8 9]\n",
      "[0 2 4 6 8]\n",
      "[0 3 6 9]\n",
      "[9 8 7 6 5 4 3 2 1 0]\n"
     ]
    }
   ],
   "source": [
    "# create a 1D array with values 0...10\n",
    "c = np.arange(0,10)\n",
    "c\n",
    "\n",
    "# Put your code below; if the above explanation is not enough to help you do the following, feel free to Google it \n",
    "\n",
    "#1. print the whole array\n",
    "print(c)\n",
    "#2. print out some elements from the middle of the array\n",
    "print(c[3:6])\n",
    "#3. print the second element through the second-to-last element\n",
    "print(c[1:9])\n",
    "#4. print the first half of the array \n",
    "print(c[:5])\n",
    "#5. print the second half of the array\n",
    "print(c[5:])\n",
    "#6. print every other element from 2-8 (inclusive)\n",
    "print(c[::2]) \n",
    "#7. print every third element in the array\n",
    "print(c[::3])\n",
    "#8. print the array in backwards order\n",
    "print(c[-1::-1])"
   ]
  },
  {
   "cell_type": "markdown",
   "metadata": {},
   "source": [
    "### 2D Cases\n",
    "The same sort of technique can be used with a multidimensional array, with `start`, `stop`, and (optionally) `step` specified along each dimension, with the dimensions separated by a comma. The syntax would be:\n",
    "`my2Darray[start1:stop1:step1, start2:stop2:step2]`\n",
    "with the same rules as above. You can also combine slicing with fixed indices to get some or all elements from a single row or column of your array.\n",
    "For example, array `b` created below is a $3\\times 3$ array with the values 1–9 stored in it. We can do several different things:\n",
    "```\n",
    "b[0,:]     # get the first row\n",
    "b[:,2]     # get the third column\n",
    "b[1,::2]   # get every other element of the first row, starting at element 0\n",
    "b[:2,:2]   # get a square array containing the first two elements along each dimension\n",
    "b[-2:,-2:] # get a square array containing the last two elements along each dimension\n",
    "b[::2,::2] # get a square array of every other element along each dimension\n",
    "b[-1::-1,-1::-1]  # original-size array, but reversed along both dimensions\n",
    "```"
   ]
  },
  {
   "cell_type": "code",
   "execution_count": 62,
   "metadata": {},
   "outputs": [
    {
     "name": "stdout",
     "output_type": "stream",
     "text": [
      "[[1 2 3]\n",
      " [4 5 6]\n",
      " [7 8 9]]\n",
      "[1 2 3]\n",
      "[3 6 9]\n",
      "[[1 3]\n",
      " [4 6]]\n",
      "[[1 2]\n",
      " [4 5]]\n",
      "[[9 8 7]\n",
      " [6 5 4]\n",
      " [3 2 1]]\n"
     ]
    }
   ],
   "source": [
    "# create a 2D array with values 0...10\n",
    "b = np.array([[1,2,3],[4,5,6],[7,8,9]])\n",
    "b\n",
    "print(b)\n",
    "# Put your code below; if the above explanation is not enough to help you do the following, feel free to ask!\n",
    "\n",
    "# print the first row\n",
    "print(b[0,:])\n",
    "# print the third column\n",
    "print(b[:,2])\n",
    "# print every other element of the second row, starting with element 0\n",
    "print(b[:2:,::2])\n",
    "# print square array of first two elements along each dimension\n",
    "print(b[:2,:2])\n",
    "# print reversed array\n",
    "print(b[-1::-1,-1::-1])"
   ]
  },
  {
   "cell_type": "markdown",
   "metadata": {},
   "source": [
    "---\n",
    "# Part 2: Masking\n",
    "\n",
    "Masking is another way to select particular elements of an array.  With a mask, instead of selecting elements **by index**, you are instead selecting them **by value**.  More specifically, you select them by whether or not their value satisfies a certain condition (e.g. `True` or `False`)."
   ]
  },
  {
   "cell_type": "markdown",
   "metadata": {},
   "source": [
    "## Making a mask\n",
    "\n",
    "To make a mask, all we need to do is evaluate a conditional statement on an array.  These conditional statements are the same ones we use for `if` statements and `while` loops.  Examples of these are:\n",
    "\n",
    "- `my_mask = array == 7    # select elements equal to 7`\n",
    "- `my_mask = array < 3.1   # select elements less then 3.1`\n",
    "- `my_mask = array > 0     # select elements greater than 0`\n",
    "- `my_mask = array <= 10   # select elements less than or equal to 10` \n",
    "- `my_mask = array != 2    # select elements not equal to 2`\n",
    "\n",
    "In each of these cases, a mask is created and stored in the variable `my_mask`.  The mask is just another array, with the same shape as `array`, but filled with `True` or `False` values."
   ]
  },
  {
   "cell_type": "code",
   "execution_count": 64,
   "metadata": {},
   "outputs": [
    {
     "name": "stdout",
     "output_type": "stream",
     "text": [
      "[[False False False False False False False False False]\n",
      " [False False False False False False False False False]\n",
      " [False False False False False False False False False]\n",
      " [False False False False False False False False False]\n",
      " [False False False False False False False False False]\n",
      " [False False False False False False False False False]\n",
      " [False False False False False False False False False]\n",
      " [False False False False False False False False False]\n",
      " [False False False False False False False  True False]\n",
      " [False False False False  True False False False False]]\n"
     ]
    }
   ],
   "source": [
    "new_array = np.array([\n",
    "       [ 2.,  0.,  0.,  0.,  0.,  0.,  1.,  1.,  1.],\n",
    "       [ 1.,  1.,  1.,  1.,  1.,  0.,  1.,  1.,  1.],\n",
    "       [ 1.,  1.,  1.,  1.,  1.,  0.,  0.,  0.,  1.],\n",
    "       [ 1.,  1.,  1.,  1.,  1.,  1.,  1.,  0.,  1.],\n",
    "       [ 1.,  1.,  1.,  1.,  1.,  0.,  0.,  0.,  1.],\n",
    "       [ 0.,  0.,  0.,  0.,  0.,  0.,  1.,  1.,  1.],\n",
    "       [ 0.,  1.,  1.,  1.,  1.,  1.,  1.,  1.,  1.],\n",
    "       [ 0.,  1.,  1.,  1.,  1.,  1.,  1.,  1.,  1.],\n",
    "       [ 0.,  0.,  0.,  0.,  0.,  0.,  0.,  3.,  1.],\n",
    "       [ 1.,  1.,  1.,  1.,  6.,  1.,  1.,  1.,  1.]])\n",
    "\n",
    "new_mask = new_array > 2\n",
    "print(new_mask)"
   ]
  },
  {
   "cell_type": "code",
   "execution_count": 65,
   "metadata": {},
   "outputs": [
    {
     "name": "stdout",
     "output_type": "stream",
     "text": [
      "[[False  True  True  True  True  True False False False]\n",
      " [False False False False False  True False False False]\n",
      " [False False False False False  True  True  True False]\n",
      " [False False False False False False False  True False]\n",
      " [False False False False False  True  True  True False]\n",
      " [ True  True  True  True  True  True False False False]\n",
      " [ True False False False False False False False False]\n",
      " [ True False False False False False False False False]\n",
      " [ True  True  True  True  True  True  True False False]\n",
      " [False False False False False False False False False]]\n",
      "[[False False False False False False  True  True  True]\n",
      " [ True  True  True  True  True False  True  True  True]\n",
      " [ True  True  True  True  True False False False  True]\n",
      " [ True  True  True  True  True  True  True False  True]\n",
      " [ True  True  True  True  True False False False  True]\n",
      " [False False False False False False  True  True  True]\n",
      " [False  True  True  True  True  True  True  True  True]\n",
      " [False  True  True  True  True  True  True  True  True]\n",
      " [False False False False False False False False  True]\n",
      " [ True  True  True  True False  True  True  True  True]]\n",
      "[[ True  True  True  True  True  True False False False]\n",
      " [False False False False False  True False False False]\n",
      " [False False False False False  True  True  True False]\n",
      " [False False False False False False False  True False]\n",
      " [False False False False False  True  True  True False]\n",
      " [ True  True  True  True  True  True False False False]\n",
      " [ True False False False False False False False False]\n",
      " [ True False False False False False False False False]\n",
      " [ True  True  True  True  True  True  True  True False]\n",
      " [False False False False  True False False False False]]\n"
     ]
    }
   ],
   "source": [
    "# Put your code below\n",
    "\n",
    "# make a mask that selects all of the zero values\n",
    "mask_zero = new_array == 0\n",
    "print(mask_zero)\n",
    "# make a mask that selects all of the ones\n",
    "mask_ones = new_array == 1\n",
    "print(mask_ones)\n",
    "# make a mask that selects all elements that are not equal to one\n",
    "mask_other = new_array != 1\n",
    "print(mask_other)"
   ]
  },
  {
   "cell_type": "markdown",
   "metadata": {},
   "source": [
    "## Using a mask\n",
    "\n",
    "To use a mask, we need to insert it into the \"selection window\" of the array.  Just like our indexing example above, this is done using square brackets:\n",
    "\n",
    "```\n",
    "my_mask = array == 7          # define a mask\n",
    "new_array = array[my_mask]    # use the mask to select only the elements where the mask is True\n",
    "```\n",
    "\n",
    "Masks can also be applied to different arrays, as long as they have the same shape:"
   ]
  },
  {
   "cell_type": "code",
   "execution_count": 74,
   "metadata": {},
   "outputs": [
    {
     "name": "stdout",
     "output_type": "stream",
     "text": [
      "[False False  True False  True]\n",
      "Colleen is tall\n",
      "Eduardo is tall\n"
     ]
    }
   ],
   "source": [
    "# define a list of people\n",
    "people = np.array(['Ahmad', 'Barbara', 'Colleen', 'Dameon', 'Eduardo'])\n",
    "\n",
    "# define a list of heights\n",
    "heights = np.array([6.0, 5.1, 6.4, 5.5, 6.2])\n",
    "\n",
    "# create a mask using the heights array\n",
    "tall_people_mask = heights > 6\n",
    "print(tall_people_mask)\n",
    "\n",
    "# apply it to the people array\n",
    "tall_people = people[tall_people_mask]\n",
    "for person in tall_people:\n",
    "    print(person,\"is tall\")"
   ]
  },
  {
   "cell_type": "code",
   "execution_count": 75,
   "metadata": {},
   "outputs": [
    {
     "ename": "IndexError",
     "evalue": "boolean index did not match indexed array along dimension 0; dimension is 6 but corresponding boolean dimension is 5",
     "output_type": "error",
     "traceback": [
      "\u001b[0;31m---------------------------------------------------------------------------\u001b[0m",
      "\u001b[0;31mIndexError\u001b[0m                                Traceback (most recent call last)",
      "\u001b[0;32m/var/folders/0v/z2w_93qn6px0c9k8bl2bm49r0000gn/T/ipykernel_46853/3997291628.py\u001b[0m in \u001b[0;36m<module>\u001b[0;34m\u001b[0m\n\u001b[1;32m     12\u001b[0m \u001b[0;34m\u001b[0m\u001b[0m\n\u001b[1;32m     13\u001b[0m \u001b[0;31m# apply it to the people array\u001b[0m\u001b[0;34m\u001b[0m\u001b[0;34m\u001b[0m\u001b[0m\n\u001b[0;32m---> 14\u001b[0;31m \u001b[0mtall_people\u001b[0m \u001b[0;34m=\u001b[0m \u001b[0mpeople\u001b[0m\u001b[0;34m[\u001b[0m\u001b[0mtall_people_mask\u001b[0m\u001b[0;34m]\u001b[0m\u001b[0;34m\u001b[0m\u001b[0;34m\u001b[0m\u001b[0m\n\u001b[0m\u001b[1;32m     15\u001b[0m \u001b[0;32mfor\u001b[0m \u001b[0mperson\u001b[0m \u001b[0;32min\u001b[0m \u001b[0mtall_people\u001b[0m\u001b[0;34m:\u001b[0m\u001b[0;34m\u001b[0m\u001b[0;34m\u001b[0m\u001b[0m\n\u001b[1;32m     16\u001b[0m     \u001b[0mprint\u001b[0m\u001b[0;34m(\u001b[0m\u001b[0mperson\u001b[0m\u001b[0;34m,\u001b[0m\u001b[0;34m\"is tall\"\u001b[0m\u001b[0;34m)\u001b[0m\u001b[0;34m\u001b[0m\u001b[0;34m\u001b[0m\u001b[0m\n",
      "\u001b[0;31mIndexError\u001b[0m: boolean index did not match indexed array along dimension 0; dimension is 6 but corresponding boolean dimension is 5"
     ]
    }
   ],
   "source": [
    "# Try adding an element to the people array (but not the heights array) and run the code again\n",
    "# Do you understand the error?\n",
    "\n",
    "# define a list of people\n",
    "people = np.array(['Ahmad', 'Barbara', 'Colleen', 'Dameon', 'Eduardo', 'Kat'])\n",
    "\n",
    "# define a list of heights\n",
    "heights = np.array([6.0, 5.1, 6.4, 5.5, 6.2])\n",
    "\n",
    "# create a mask using the heights array\n",
    "tall_people_mask = heights > 6\n",
    "\n",
    "# apply it to the people array\n",
    "tall_people = people[tall_people_mask]\n",
    "for person in tall_people:\n",
    "    print(person,\"is tall\")"
   ]
  },
  {
   "cell_type": "markdown",
   "metadata": {},
   "source": [
    "Masks can also be defined and used in the same line.  So instead of\n",
    "\n",
    "```\n",
    "my_mask = array == 7\n",
    "new_array = array[my_mask]\n",
    "```\n",
    "\n",
    "we can instead write:\n",
    "```\n",
    "new_array = array[array == 7]\n",
    "```\n",
    "which defines the mask `array == 7` and uses it in one line.\n",
    "\n",
    "This makes for some compact and efficient code, but it can be confusing at first!  Let's practice:"
   ]
  },
  {
   "cell_type": "code",
   "execution_count": 79,
   "metadata": {},
   "outputs": [
    {
     "name": "stdout",
     "output_type": "stream",
     "text": [
      "[0. 0. 0. 0. 0. 0. 0. 0. 0. 0. 0. 0. 0. 0. 0. 0. 0. 0. 0. 0. 0. 0. 0. 0.\n",
      " 0. 0. 0. 0.]\n",
      "28\n",
      "11.0\n"
     ]
    }
   ],
   "source": [
    "new_array = np.array([\n",
    "       [ 2.,  0.,  0.,  0.,  0.,  0.,  1.,  1.,  1.],\n",
    "       [ 1.,  1.,  1.,  1.,  1.,  0.,  1.,  1.,  1.],\n",
    "       [ 1.,  1.,  1.,  1.,  1.,  0.,  0.,  0.,  1.],\n",
    "       [ 1.,  1.,  1.,  1.,  1.,  1.,  1.,  0.,  1.],\n",
    "       [ 1.,  1.,  1.,  1.,  1.,  0.,  0.,  0.,  1.],\n",
    "       [ 0.,  0.,  0.,  0.,  0.,  0.,  1.,  1.,  1.],\n",
    "       [ 0.,  1.,  1.,  1.,  1.,  1.,  1.,  1.,  1.],\n",
    "       [ 0.,  1.,  1.,  1.,  1.,  1.,  1.,  1.,  1.],\n",
    "       [ 0.,  0.,  0.,  0.,  0.,  0.,  0.,  3.,  1.],\n",
    "       [ 1.,  1.,  1.,  1.,  6.,  1.,  1.,  1.,  1.]])\n",
    "\n",
    "# Put your code below\n",
    "\n",
    "# use a mask to make an array of only zeros, then print it\n",
    "zero_array = new_array[new_array == 0]\n",
    "print(zero_array)\n",
    "# use a mask to select all of the ones in new_array and count them\n",
    "ones_array = new_array[new_array == 1]\n",
    "print(len(zero_array))\n",
    "# use a mask to determine the sum of all of the elements, not counting the ones\n",
    "K_array = new_array[new_array != 1]\n",
    "print(sum(K_array))\n"
   ]
  },
  {
   "cell_type": "code",
   "execution_count": null,
   "metadata": {},
   "outputs": [],
   "source": []
  }
 ],
 "metadata": {
  "kernelspec": {
   "display_name": "Python 3 (ipykernel)",
   "language": "python",
   "name": "python3"
  },
  "language_info": {
   "codemirror_mode": {
    "name": "ipython",
    "version": 3
   },
   "file_extension": ".py",
   "mimetype": "text/x-python",
   "name": "python",
   "nbconvert_exporter": "python",
   "pygments_lexer": "ipython3",
   "version": "3.9.7"
  }
 },
 "nbformat": 4,
 "nbformat_minor": 2
}
