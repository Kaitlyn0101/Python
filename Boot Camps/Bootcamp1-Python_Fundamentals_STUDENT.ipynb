{
 "cells": [
  {
   "cell_type": "markdown",
   "metadata": {},
   "source": [
    "# Bootcamp 1: Python Fundamentals"
   ]
  },
  {
   "cell_type": "markdown",
   "metadata": {},
   "source": [
    "This notebook covers \"Python fundamentals,\" including:\n",
    "\n",
    "1. <b>Data types</b>\n",
    "1. <b>Lists</b>\n",
    "1. <b>Loops</b>\n",
    "\n",
    "For each topic, we briefly recap what we covered in class, then include practice problems for you to solve. These problems are meant to be instructive and help you learn/review the material. A few \"challenge problems\" are included!\n",
    "\n",
    "<b>Important Note:</b> You don't have to complete all problems in order. Focus on sections where you want/need the most practice."
   ]
  },
  {
   "cell_type": "markdown",
   "metadata": {},
   "source": [
    "# 1. Data Types"
   ]
  },
  {
   "cell_type": "markdown",
   "metadata": {},
   "source": [
    "Types are how we store and represent data in programs."
   ]
  },
  {
   "cell_type": "markdown",
   "metadata": {},
   "source": [
    "## 1.1 Primitive Data Types"
   ]
  },
  {
   "cell_type": "markdown",
   "metadata": {},
   "source": [
    "Primitive data types are the most basic way we store data. The following cell defines variables that are instances of three common primitive data types."
   ]
  },
  {
   "cell_type": "code",
   "execution_count": 27,
   "metadata": {},
   "outputs": [],
   "source": [
    "\"\"\"Primitive data types.\"\"\"\n",
    "# integer data type\n",
    "x = 5\n",
    "\n",
    "# float data dype\n",
    "value = 1.23\n",
    "\n",
    "# string data type\n",
    "string = \"CMSE 201 is fun!\""
   ]
  },
  {
   "cell_type": "markdown",
   "metadata": {},
   "source": [
    "In the cell below, print out the `type` of each variable."
   ]
  },
  {
   "cell_type": "code",
   "execution_count": 28,
   "metadata": {},
   "outputs": [
    {
     "name": "stdout",
     "output_type": "stream",
     "text": [
      "<class 'int'>\n",
      "<class 'float'>\n",
      "<class 'str'>\n"
     ]
    }
   ],
   "source": [
    "\"\"\"EXERCISE: Print out the type of each variable defined above.\"\"\"\n",
    "print(type(x))\n",
    "print(type(value))\n",
    "print(type(string))"
   ]
  },
  {
   "cell_type": "code",
   "execution_count": 29,
   "metadata": {},
   "outputs": [
    {
     "name": "stdout",
     "output_type": "stream",
     "text": [
      "<class 'bytes'>\n"
     ]
    }
   ],
   "source": [
    "\"\"\"EXERCISE: Here's a new primitive data type we haven't seen before. Print out it's type.\"\"\"\n",
    "mystery_variable = b\"1011\"\n",
    "\n",
    "print(type(mystery_variable))"
   ]
  },
  {
   "cell_type": "markdown",
   "metadata": {},
   "source": [
    "Important: You DO NOT need to know about the above data type for the midterm.\n",
    "\n",
    "You SHOULD KNOW about primitive data types including `int`, `float`, and `str` and how to work with them. You SHOULD ALSO KNOW how to check the type of a variable."
   ]
  },
  {
   "cell_type": "markdown",
   "metadata": {},
   "source": [
    "## 1.2 One Equal Sign Versus Two Equal Signs"
   ]
  },
  {
   "cell_type": "markdown",
   "metadata": {},
   "source": [
    "The following is crucial to know!\n",
    "\n",
    "1. An expression with <b>one equals sign</b>, for example `x = 5`, is an <b>assignment</b>. It says: \"Hey Python, <i>assign</i> the value of `5` to the variable named `x`.\"\n",
    "1. An expression with <b>two equals signs</b>, for example, `x == 5`, is a <b>comparison</b>. It says: \"Hey Python, does the variable `x` have the value `5`?\" This expression returns `True` or `False`."
   ]
  },
  {
   "cell_type": "code",
   "execution_count": 40,
   "metadata": {},
   "outputs": [
    {
     "data": {
      "text/plain": [
       "True"
      ]
     },
     "execution_count": 40,
     "metadata": {},
     "output_type": "execute_result"
    }
   ],
   "source": [
    "\"\"\"EXERCISE: Use two equal signs to check if the type of x is an integer (int in Python)\"\"\"\n",
    "type(x)==int"
   ]
  },
  {
   "cell_type": "code",
   "execution_count": 16,
   "metadata": {},
   "outputs": [
    {
     "data": {
      "text/plain": [
       "True"
      ]
     },
     "execution_count": 16,
     "metadata": {},
     "output_type": "execute_result"
    }
   ],
   "source": [
    "\"\"\"EXERCISE: Use two equal signs to check if the value of x is 5.\"\"\"\n",
    "x==5"
   ]
  },
  {
   "cell_type": "code",
   "execution_count": 17,
   "metadata": {},
   "outputs": [],
   "source": [
    "\"\"\"EXERCISE: Use one equal sign to change the value of x to be 7.\"\"\"\n",
    "x=7"
   ]
  },
  {
   "cell_type": "code",
   "execution_count": 41,
   "metadata": {},
   "outputs": [
    {
     "data": {
      "text/plain": [
       "True"
      ]
     },
     "execution_count": 41,
     "metadata": {},
     "output_type": "execute_result"
    }
   ],
   "source": [
    "\"\"\"EXERCISE: Use two equal signs to check if the type of x is an integer (int in Python)\"\"\"\n",
    "type(x)==int"
   ]
  },
  {
   "cell_type": "code",
   "execution_count": 42,
   "metadata": {},
   "outputs": [
    {
     "data": {
      "text/plain": [
       "True"
      ]
     },
     "execution_count": 42,
     "metadata": {},
     "output_type": "execute_result"
    }
   ],
   "source": [
    "\"\"\"EXERCISE: Use two equal signs to check if the value of x is 5.\"\"\"\n",
    "x==5"
   ]
  },
  {
   "cell_type": "markdown",
   "metadata": {},
   "source": [
    "We often use two equals signs (comparisons) in `if` statements and `for` loops."
   ]
  },
  {
   "cell_type": "markdown",
   "metadata": {},
   "source": [
    "## 1.2 \"Container\" Data Types"
   ]
  },
  {
   "cell_type": "markdown",
   "metadata": {},
   "source": [
    "Container data types store several primitive data types, just like a container stores several objects.\n",
    "\n",
    "(Containers can also store containers themselves. For example, we can have a list of lists.)\n",
    "\n",
    "Common container data types we have seen:\n",
    "\n",
    "1. `List`: A container of items with particular data types. Items an a `list` CAN be changed.\n",
    "1. `Dictionary`: An container of items that are \"key, value\" pairs. NOTE: In Python, `dict` is short for dictionary.\n",
    "\n",
    "The cell below defines each of these data types."
   ]
  },
  {
   "cell_type": "code",
   "execution_count": 43,
   "metadata": {},
   "outputs": [],
   "source": [
    "\"\"\"Container data types.\"\"\"\n",
    "# lists\n",
    "xlist = [1, 1, 2, 3, 5]\n",
    "\n",
    "# tuples\n",
    "xtuple = (1, 1, 2, 3, 5)\n",
    "\n",
    "# dictionaries\n",
    "strings_and_ints = {\"one\": 1, \"one\": 1, \"two\": 2, \"three\": 3, \"five\": 5}"
   ]
  },
  {
   "cell_type": "markdown",
   "metadata": {},
   "source": [
    "Most container objects have a length."
   ]
  },
  {
   "cell_type": "code",
   "execution_count": 44,
   "metadata": {},
   "outputs": [
    {
     "name": "stdout",
     "output_type": "stream",
     "text": [
      "5\n",
      "5\n",
      "4\n"
     ]
    }
   ],
   "source": [
    "\"\"\"EXERISE: Print out the length of each container data type defined above.\"\"\"\n",
    "# solution\n",
    "print(len(xlist))\n",
    "print(len(xtuple))\n",
    "print(len(strings_and_ints))"
   ]
  },
  {
   "cell_type": "markdown",
   "metadata": {},
   "source": [
    "Note that dictionaries can only have one unique key for each value, to there's only four items in the dictionary."
   ]
  },
  {
   "cell_type": "markdown",
   "metadata": {},
   "source": [
    "### Practice Problems for `List`"
   ]
  },
  {
   "cell_type": "markdown",
   "metadata": {},
   "source": [
    "Here's four practice problems for the `list`. We'll see more when we look at `list`s below."
   ]
  },
  {
   "cell_type": "code",
   "execution_count": 47,
   "metadata": {},
   "outputs": [
    {
     "name": "stdout",
     "output_type": "stream",
     "text": [
      "2\n"
     ]
    }
   ],
   "source": [
    "\"\"\"EXERCISE: Print out the third number in xlist.\"\"\"\n",
    "\n",
    "print(xlist[2])\n"
   ]
  },
  {
   "cell_type": "code",
   "execution_count": 48,
   "metadata": {},
   "outputs": [
    {
     "name": "stdout",
     "output_type": "stream",
     "text": [
      "[1, 1, -5, 3, 5]\n"
     ]
    }
   ],
   "source": [
    "\"\"\"EXERCISE: Change the third number in xlist to have the value -5.\"\"\"\n",
    "\n",
    "xlist[2]=-5\n",
    "\n",
    "print(xlist)"
   ]
  },
  {
   "cell_type": "code",
   "execution_count": 49,
   "metadata": {},
   "outputs": [
    {
     "name": "stdout",
     "output_type": "stream",
     "text": [
      "[1, 1, -5, 3, 5, 8]\n"
     ]
    }
   ],
   "source": [
    "\"\"\"EXERCISE: Append the number 8 to the list xlist, then print out the new list.\"\"\"\n",
    "\n",
    "xlist.append(8)\n",
    "print(xlist)"
   ]
  },
  {
   "cell_type": "code",
   "execution_count": 50,
   "metadata": {},
   "outputs": [],
   "source": [
    "\"\"\"Test cases. Run this cell to check your solutions. If correct, no errors will occur.\"\"\"\n",
    "assert xlist == [1, 1, -5, 3, 5, 8]"
   ]
  },
  {
   "cell_type": "markdown",
   "metadata": {},
   "source": [
    "### Practice Problems for `Dict`"
   ]
  },
  {
   "cell_type": "code",
   "execution_count": 56,
   "metadata": {},
   "outputs": [
    {
     "name": "stdout",
     "output_type": "stream",
     "text": [
      "1\n"
     ]
    }
   ],
   "source": [
    "\"\"\"EXERCISE: Print out the value for the key \"one\" in the dictionary given above.\"\"\"\n",
    "\n",
    "print(strings_and_ints[\"one\"])"
   ]
  },
  {
   "cell_type": "code",
   "execution_count": 57,
   "metadata": {
    "scrolled": true
   },
   "outputs": [
    {
     "name": "stdout",
     "output_type": "stream",
     "text": [
      "Keys =  dict_keys(['one', 'two', 'three', 'five'])\n",
      "Values = dict_values([1, 2, 3, 5])\n"
     ]
    }
   ],
   "source": [
    "\"\"\"EXAMPLE: Python allows you to see all keys and values in a dict, as follows.\"\"\"\n",
    "print(\"Keys = \", strings_and_ints.keys())\n",
    "print(\"Values =\", strings_and_ints.values())"
   ]
  },
  {
   "cell_type": "code",
   "execution_count": 58,
   "metadata": {},
   "outputs": [
    {
     "ename": "KeyError",
     "evalue": "'eight'",
     "output_type": "error",
     "traceback": [
      "\u001b[0;31m---------------------------------------------------------------------------\u001b[0m",
      "\u001b[0;31mKeyError\u001b[0m                                  Traceback (most recent call last)",
      "\u001b[0;32m/var/folders/0v/z2w_93qn6px0c9k8bl2bm49r0000gn/T/ipykernel_1063/2065763402.py\u001b[0m in \u001b[0;36m<module>\u001b[0;34m\u001b[0m\n\u001b[1;32m      1\u001b[0m \u001b[0;34m\"\"\"EXERCISE: Check if the key \"eight\" is in the dictionary's keys.\"\"\"\u001b[0m\u001b[0;34m\u001b[0m\u001b[0;34m\u001b[0m\u001b[0m\n\u001b[0;32m----> 2\u001b[0;31m \u001b[0mprint\u001b[0m\u001b[0;34m(\u001b[0m\u001b[0mstrings_and_ints\u001b[0m\u001b[0;34m[\u001b[0m\u001b[0;34m\"eight\"\u001b[0m\u001b[0;34m]\u001b[0m\u001b[0;34m)\u001b[0m\u001b[0;34m\u001b[0m\u001b[0;34m\u001b[0m\u001b[0m\n\u001b[0m",
      "\u001b[0;31mKeyError\u001b[0m: 'eight'"
     ]
    }
   ],
   "source": [
    "\"\"\"EXERCISE: Check if the key \"eight\" is in the dictionary's keys.\"\"\"\n",
    "\n",
    "print(strings_and_ints[\"eight\"])\n"
   ]
  },
  {
   "cell_type": "code",
   "execution_count": 59,
   "metadata": {},
   "outputs": [],
   "source": [
    "\"\"\"EXERCISE: Add the key, value pair \"eight\", 8 to the dictionary given above.\"\"\"\n",
    "\n",
    "strings_and_ints = {\"one\": 1, \"one\": 1, \"two\": 2, \"three\": 3, \"five\": 5, \"eight\": 8}"
   ]
  },
  {
   "cell_type": "code",
   "execution_count": 180,
   "metadata": {},
   "outputs": [
    {
     "name": "stdout",
     "output_type": "stream",
     "text": [
      "found it\n"
     ]
    }
   ],
   "source": [
    "\"\"\"EXERCISE: Check if the key \"eight\" is in the dictionary's keys and \n",
    "if the value 8 is in the dictionary's values.\n",
    "\"\"\"\n",
    "for key in strings_and_ints:\n",
    "    if strings_and_ints[key]==8:\n",
    "        print(\"found it\")\n",
    "    "
   ]
  },
  {
   "cell_type": "markdown",
   "metadata": {},
   "source": [
    "# Lists and Loops"
   ]
  },
  {
   "cell_type": "markdown",
   "metadata": {},
   "source": [
    "We know lists are containers. Lists are also called sequential data types in Python, meaning they store a sequence of objects.\n",
    "\n",
    "Note: Objects in a list do not have to be of the same type! (For example, [1, \"two\"] is a valid list.)\n",
    "\n",
    "Lists are mutable, meaning they can be changed. (Tuples are immutable, meaning they cannot be changed.)\n",
    "\n",
    "There are several ways to create lists in Python. Some examples are shown below."
   ]
  },
  {
   "cell_type": "code",
   "execution_count": 61,
   "metadata": {},
   "outputs": [],
   "source": [
    "\"\"\"EXAMPLE: Creating lists in Python.\"\"\"\n",
    "# by listing all values\n",
    "list1 = [1, 2, 3, 4, \"I\", \"declare\", \"a\", \"thumb\", \"war\"]\n",
    "\n",
    "# by using list(range(...)) to get range of values in a list\n",
    "list2 = list(range(4)) # = [0, 1, 2, 3]\n",
    "\n",
    "# by using multiplication to get a list of a certain length with a certain value\n",
    "list3 = [1] * 5 # = [1, 1, 1, 1, 1] (a list of five ones)\n",
    "\n",
    "# by converting other containers into lists\n",
    "xtuple = (1, 2, 3)\n",
    "xlist = list(xtuple) # = [1, 2, 3]"
   ]
  },
  {
   "cell_type": "markdown",
   "metadata": {},
   "source": [
    "## Practice Problems with Lists and Loops"
   ]
  },
  {
   "cell_type": "markdown",
   "metadata": {},
   "source": [
    "Complete the following problems to get practice with lists."
   ]
  },
  {
   "cell_type": "code",
   "execution_count": 183,
   "metadata": {},
   "outputs": [],
   "source": [
    "\"\"\"EXERCISE: Create a list with all integers from zero to twenty.\"\"\"\n",
    "\n",
    "values=[0,1,2,3,4,5,6,7,8,9,10,11,12,13,14,15,16,17,18,19,20]"
   ]
  },
  {
   "cell_type": "code",
   "execution_count": 184,
   "metadata": {},
   "outputs": [],
   "source": [
    "\"\"\"Test cases.\"\"\"\n",
    "assert len(values) == 21\n",
    "assert values == [x for x in range(20 + 1)]"
   ]
  },
  {
   "cell_type": "code",
   "execution_count": 185,
   "metadata": {},
   "outputs": [
    {
     "name": "stdout",
     "output_type": "stream",
     "text": [
      "[0, 1, 2, 0, 4, 5, 6, 7, 8, 9, 10, 11, 12, 13, 14, 15, 16, 17, 18, 19, 20]\n"
     ]
    }
   ],
   "source": [
    "\"\"\"EXERCISE: Make the fourth entry in the list equal to zero.\"\"\"\n",
    "\n",
    "values[3]=0\n",
    "print(values)\n"
   ]
  },
  {
   "cell_type": "code",
   "execution_count": 189,
   "metadata": {
    "scrolled": true
   },
   "outputs": [],
   "source": [
    "\"\"\"Test cases.\"\"\"\n",
    "assert values[3] == 0\n",
    "assert sum(values) == int(21 * 20 / 2 - 3)"
   ]
  },
  {
   "cell_type": "code",
   "execution_count": 108,
   "metadata": {},
   "outputs": [],
   "source": [
    "\"\"\"EXERCISE: Append the integer 21 to the list.\"\"\"\n",
    "\n",
    "values.append(21)"
   ]
  },
  {
   "cell_type": "code",
   "execution_count": 109,
   "metadata": {},
   "outputs": [],
   "source": [
    "\"\"\"Test cases.\"\"\"\n",
    "assert len(values) == 22\n",
    "assert values[-1] == 21"
   ]
  },
  {
   "cell_type": "markdown",
   "metadata": {},
   "source": [
    "For the next exercise, you'll need to check if a number is even. This can be done by using the \"modulus operator\" `%` in Python. The value of `a % b`, where `a` and `b` are integers, is the remainder of `a / b`. For example, `5 % 2 = 1`, since 5 divided by 2 has a remainder of 1.\n",
    "\n",
    "To check if a number `num` is even, you can thus use `num % 2 == 0`."
   ]
  },
  {
   "cell_type": "code",
   "execution_count": 126,
   "metadata": {},
   "outputs": [
    {
     "name": "stdout",
     "output_type": "stream",
     "text": [
      "True\n",
      "False\n",
      "True\n",
      "False\n",
      "True\n",
      "True\n",
      "True\n",
      "False\n",
      "True\n",
      "False\n",
      "True\n",
      "False\n",
      "True\n",
      "False\n",
      "True\n",
      "False\n",
      "True\n",
      "False\n",
      "True\n",
      "False\n",
      "True\n",
      "False\n"
     ]
    }
   ],
   "source": [
    "for num in values:\n",
    "    new=num%2==0\n",
    "    print(new)\n",
    "    "
   ]
  },
  {
   "cell_type": "code",
   "execution_count": 127,
   "metadata": {},
   "outputs": [],
   "source": [
    "\"\"\"Test cases.\"\"\"\n",
    "assert [x % 2 == 1 for x in values]"
   ]
  },
  {
   "cell_type": "markdown",
   "metadata": {},
   "source": [
    "# Loops"
   ]
  },
  {
   "cell_type": "markdown",
   "metadata": {},
   "source": [
    "Loops are extremely useful in programming. They prevent us from having to write out every instruction explicity. The caveat is you have to be careful to write the loop correctly <i>for all</i> cases!\n",
    "\n",
    "In class, we covered\n",
    "\n",
    "1. `while` loops: Keep performing the code in the <i>body</i> of the loop while an expression is `True`.\n",
    "1. `for` loops. Perform the code in the <i>body</i> of the loop for a given number of iterations or values."
   ]
  },
  {
   "cell_type": "code",
   "execution_count": 128,
   "metadata": {
    "scrolled": true
   },
   "outputs": [
    {
     "name": "stdout",
     "output_type": "stream",
     "text": [
      "0\n",
      "1\n",
      "2\n",
      "3\n",
      "4\n"
     ]
    }
   ],
   "source": [
    "\"\"\"EXAMPLE: A typical while loop.\"\"\"\n",
    "# variable that we care about\n",
    "x = 0\n",
    "\n",
    "# while loop\n",
    "while x < 5:\n",
    "    # body of the loop\n",
    "    print(x)\n",
    "    x += 1"
   ]
  },
  {
   "cell_type": "code",
   "execution_count": 129,
   "metadata": {
    "scrolled": true
   },
   "outputs": [
    {
     "name": "stdout",
     "output_type": "stream",
     "text": [
      "0\n",
      "1\n",
      "2\n",
      "3\n",
      "4\n"
     ]
    }
   ],
   "source": [
    "\"\"\"EXAMPLE: A typical for loop.\"\"\"\n",
    "# variable that we care about\n",
    "x = [0, 1, 2, 3, 4]\n",
    "\n",
    "for value in x:\n",
    "    print(value)"
   ]
  },
  {
   "cell_type": "markdown",
   "metadata": {},
   "source": [
    "As can be seen, the `for` loop produces the same output as the `while` loop. This is generally true, for any loop:\n",
    "\n",
    "<i>Any loop can be written as a `for` loop.</i>\n",
    "\n",
    "Because of this, we only focus on `for` loops below. Sometimes it is easier or more natural to use a different style of loop, so you should be comfortable with `while` loops as well."
   ]
  },
  {
   "cell_type": "markdown",
   "metadata": {},
   "source": [
    "## For Loops: Two Common Constructions"
   ]
  },
  {
   "cell_type": "markdown",
   "metadata": {},
   "source": [
    "We use two main types, or \"constructions,\" of `for` loops in Python.\n",
    "\n",
    "(1) <b>\"Loop by index.\"</b> We use this to loop over the indices in an iterable object.\n",
    "\n",
    "(Note: *Iterable* means a sequential data type. That is, a data type that \"is able to be iterated over.\" Examples include lists and tuples.)\n",
    "\n",
    "(2) <b>\"Loop by value.\"</b> We use this to loop over the values of an iterable object."
   ]
  },
  {
   "cell_type": "code",
   "execution_count": 130,
   "metadata": {},
   "outputs": [
    {
     "name": "stdout",
     "output_type": "stream",
     "text": [
      "a\n",
      "b\n",
      "c\n",
      "d\n"
     ]
    }
   ],
   "source": [
    "\"\"\"EXAMPLE: Loop by index.\"\"\"\n",
    "\n",
    "#Where is it?\n",
    "\n",
    "values = [\"a\", \"b\", \"c\", \"d\"]\n",
    "\n",
    "for index in range(len(values)):\n",
    "    print(values[index])"
   ]
  },
  {
   "cell_type": "markdown",
   "metadata": {},
   "source": [
    "We commonly use variables like `i`, `j`, or `k` for the above `index` variable. We'll continue to use `index` for pedagogy in this notebook."
   ]
  },
  {
   "cell_type": "code",
   "execution_count": 131,
   "metadata": {},
   "outputs": [
    {
     "name": "stdout",
     "output_type": "stream",
     "text": [
      "a\n",
      "b\n",
      "c\n",
      "d\n"
     ]
    }
   ],
   "source": [
    "\"\"\"EXAMPLE: Loop by value.\"\"\"\n",
    "\n",
    "#What is it?\n",
    "values = [\"a\", \"b\", \"c\", \"d\"]\n",
    "\n",
    "for value in values:\n",
    "    print(value)"
   ]
  },
  {
   "cell_type": "markdown",
   "metadata": {},
   "source": [
    "We commonly use variables like `x`, `y`, or `val` (short for value) for the above `value` variable. (Really, anything that's NOT `i`, `j`, or `k` so we don't confuse ourselves with the \"loop by index\" construction above.) We'll continue to use `value` for pedagogy in this notebook."
   ]
  },
  {
   "cell_type": "markdown",
   "metadata": {},
   "source": [
    "### When to use which?"
   ]
  },
  {
   "cell_type": "markdown",
   "metadata": {},
   "source": [
    "*Each for loop type is useful in different situations.*\n",
    "\n",
    "To just loop over values in an iterable object, \"loop by value\" is sufficient and simpler to program.\n",
    "\n",
    "You can use \"loop by index\" when:\n",
    "\n",
    "* You need to access values from multiple lists at the same index.\n",
    "* You need neighboring values from the list."
   ]
  },
  {
   "cell_type": "markdown",
   "metadata": {},
   "source": [
    "## Practice Problems"
   ]
  },
  {
   "cell_type": "markdown",
   "metadata": {},
   "source": [
    "In the following practice problems, consider which type of for loop construction is easiest to solve the problem. For extra practice, solve each problem using both constructions."
   ]
  },
  {
   "cell_type": "code",
   "execution_count": 167,
   "metadata": {},
   "outputs": [
    {
     "name": "stdout",
     "output_type": "stream",
     "text": [
      "I\n",
      "will\n",
      "ace\n",
      "the\n",
      "CMSE 201\n",
      "midterm!\n"
     ]
    }
   ],
   "source": [
    "\"\"\"EXERCISE. Given two lists of the same length, use ONE loop to print out all elements from each list,\n",
    "in alternating order.\n",
    "\n",
    "Example: Given [1, 2] and [3, 4], your code should produce the output\n",
    "1\n",
    "3\n",
    "2\n",
    "4\n",
    "\"\"\"\n",
    "list1 = [\"I\", \"ace\", \"CMSE 201\"]\n",
    "list2 = [\"will\", \"the\", \"midterm!\"]\n",
    "\n",
    "for i in range (len(list1)):\n",
    "    print(list1[i])\n",
    "    print(list2[i])\n"
   ]
  },
  {
   "cell_type": "code",
   "execution_count": null,
   "metadata": {
    "scrolled": true
   },
   "outputs": [],
   "source": [
    "\"\"\"EXERCISE: Given a list, print out the value in each list squared.\"\"\"\n",
    "xlist = [1, 2, 3, 4, 5]\n",
    "\n",
    "# YOUR CODE HERE\n",
    "\n"
   ]
  },
  {
   "cell_type": "code",
   "execution_count": 193,
   "metadata": {},
   "outputs": [
    {
     "name": "stdout",
     "output_type": "stream",
     "text": [
      "[1]\n",
      "[1, 121]\n",
      "[1, 121, 441]\n",
      "[1, 121, 441, 1466521]\n"
     ]
    }
   ],
   "source": [
    "\"\"\"EXERCISE: Given a list, create a new list of squared values.\n",
    "Example: Given [1, 2, 3], your code should produce the new list [1, 4, 9] stored in some variable.\"\"\"\n",
    "xlist = [1, 11, 21, 1211]\n",
    "\n",
    "# YOUR CODE HERE\n",
    "\n",
    "x2list=[]\n",
    "for x in xlist:\n",
    "    x2=x**2\n",
    "    x2list.append(x2)\n",
    "    print(x2list)"
   ]
  },
  {
   "cell_type": "code",
   "execution_count": 195,
   "metadata": {
    "scrolled": true
   },
   "outputs": [
    {
     "name": "stdout",
     "output_type": "stream",
     "text": [
      "29040\n",
      "29040\n"
     ]
    },
    {
     "data": {
      "text/plain": [
       "29040"
      ]
     },
     "execution_count": 195,
     "metadata": {},
     "output_type": "execute_result"
    }
   ],
   "source": [
    "\"\"\"EXERCISE: Given a list, compute the sum of all elements in the list.\n",
    "Example: Given [1, 2, 3], store the resulting sum 1 + 2 + 3 = 6 in some variable.\"\"\"\n",
    "numbers = [x * (x - 1) * (x - 2) for x in range(5, 20)]\n",
    "\n",
    "# YOUR CODE HERE\n",
    "\n",
    "total=0\n",
    "for num in numbers:\n",
    "    total = total+num\n",
    "print(total)\n",
    "\n",
    "total=0\n",
    "for i in range(len(numbers)):\n",
    "    total=total+numbers[i]\n",
    "print(total)\n",
    "\n",
    "sum(numbers)"
   ]
  },
  {
   "cell_type": "code",
   "execution_count": 201,
   "metadata": {},
   "outputs": [
    {
     "name": "stdout",
     "output_type": "stream",
     "text": [
      "1\n",
      "[1, 2, 3, 4, 5, 6, 7, 8, 9]\n",
      "1\n",
      "2\n",
      "2\n",
      "6\n",
      "3\n",
      "24\n",
      "4\n",
      "120\n",
      "5\n",
      "720\n",
      "6\n",
      "5040\n",
      "7\n",
      "40320\n",
      "8\n",
      "362880\n"
     ]
    }
   ],
   "source": [
    "\"\"\"EXERCISE: Given a list, compute the product of all elements in the list.\n",
    "Example: Given [1, 2, 3], store the resulting product 1 * 2 * 3 = 6 in some variable.\"\"\"\n",
    "numbers = list(range(1, 10))\n",
    "\n",
    "# YOUR CODE HERE\n",
    "\n",
    "product=numbers[0]  #cant set product equal to zero because it is multiplying\n",
    "print(product)\n",
    "print(numbers)\n",
    "\n",
    "for i in range(1,len(numbers)):\n",
    "    print(i)\n",
    "    product=product * numbers[i]\n",
    "    print(product)#i is the values in the range \n",
    "    \n",
    "    \n"
   ]
  },
  {
   "cell_type": "code",
   "execution_count": 208,
   "metadata": {},
   "outputs": [
    {
     "name": "stdout",
     "output_type": "stream",
     "text": [
      "[1, 3, 5]\n"
     ]
    }
   ],
   "source": [
    "\"\"\"EXERCISE: Given a list, compute the \"nearest neighbor sum\" of the list. That is, a list of the same length\n",
    "whose nth value is defined as \n",
    "\n",
    "a[n] = a[0] for n = 0,\n",
    "a[n] = a[n - 1] + a[n] for all n > 0\n",
    "\n",
    "Example: Given [1, 2, 3], you should produce the list [1, 1 + 2, 2 + 3] = [1, 3, 5].\"\"\"\n",
    "xlist = list(range(1,4))\n",
    "\n",
    "# YOUR CODE HERE\n",
    "\n",
    "a=[]\n",
    "\n",
    "a.append(xlist[0])\n",
    "\n",
    "for i in range(1, len(xlist)):\n",
    "    a.append(xlist[i-1]+xlist[i])\n",
    "\n",
    "print(a)"
   ]
  },
  {
   "cell_type": "code",
   "execution_count": 177,
   "metadata": {},
   "outputs": [
    {
     "name": "stdout",
     "output_type": "stream",
     "text": [
      "[1, 2, 3, 4, 5, 6, 7, 8, 9] \n",
      " [1, 3, 6, 10, 15, 21, 28, 36, 45]\n"
     ]
    }
   ],
   "source": [
    "\"\"\"EXERCISE: Given a list, compute the \"cumulative sum\" of the list. That is, a list of the same length\n",
    "whose nth value is defined as \n",
    "\n",
    "a[n] = a[0] for n = 0,\n",
    "a[n] = a[0] + a[1] + ... + a[n - 1] + a[n] for all n > 0\n",
    "\n",
    "Example: Given [1, 2, 3], you should produce the list [1, 1 + 2, 1 + 2 + 3] = [1, 3, 6].\"\"\"\n",
    "xlist = list(range(1, 10))\n",
    "\n",
    "# YOUR CODE HERE\n",
    "\n",
    "xlist=list(range(1,10))\n",
    "c_sum=[]\n",
    "\n",
    "for i in range(len(xlist)):\n",
    "    temp=0\n",
    "    for j in range(i+1):\n",
    "        temp += xlist[j]\n",
    "    c_sum.append(temp)\n",
    "        \n",
    "print(xlist, \"\\n\", c_sum)"
   ]
  },
  {
   "cell_type": "code",
   "execution_count": 205,
   "metadata": {},
   "outputs": [
    {
     "name": "stdout",
     "output_type": "stream",
     "text": [
      "[19, 18, 17, 16, 15, 14, 13, 12, 11, 10, 9, 8, 7, 6, 5, 4, 3, 2, 1, 0]\n"
     ]
    }
   ],
   "source": [
    "\"\"\"CHALLENGE PROBLEM: Given a list, produce a new list whose elements are reversed.\n",
    "\n",
    "Example. Given [1, 2, 3], your code should produce a new list that is equal to [3, 2, 1].\"\"\"\n",
    "numbers = list(range(20))\n",
    "new=[]\n",
    "for val in list(reversed(numbers)):\n",
    "    new.append(val)\n",
    "\n",
    "print(new)\n",
    "    \n"
   ]
  },
  {
   "cell_type": "markdown",
   "metadata": {},
   "source": [
    "# Summary"
   ]
  },
  {
   "cell_type": "markdown",
   "metadata": {},
   "source": [
    "* Primitive data types include `int`, `str`, and `float`.\n",
    "* Collections include `list` and `dict`.\n",
    "* The collection `list` is also called a sequential data type.\n",
    "* Loops allow us to write complex code more simply by not having to type every instruction.\n",
    "* All loops, including `while` loops, can be written as a `for` loop.\n",
    "* There are two common constructions with for loops: \"loop by value\" and \"loop by index.\""
   ]
  },
  {
   "cell_type": "markdown",
   "metadata": {},
   "source": [
    "# More Practice"
   ]
  },
  {
   "cell_type": "markdown",
   "metadata": {},
   "source": [
    "* If these types of programming problems helped you, you may find additional help on websites like [HackerRank](https://www.hackerrank.com/create-account/?h_r=products&h_l=header_top), which contains many Python programming exercises.\n",
    "* Go back through homework assignments after these problems.\n",
    "* Rewatch videos in pre-class assignments and work through pre-class/in-class assignments."
   ]
  },
  {
   "cell_type": "markdown",
   "metadata": {},
   "source": [
    "Good luck on the quiz!"
   ]
  }
 ],
 "metadata": {
  "kernelspec": {
   "display_name": "Python 3 (ipykernel)",
   "language": "python",
   "name": "python3"
  },
  "language_info": {
   "codemirror_mode": {
    "name": "ipython",
    "version": 3
   },
   "file_extension": ".py",
   "mimetype": "text/x-python",
   "name": "python",
   "nbconvert_exporter": "python",
   "pygments_lexer": "ipython3",
   "version": "3.9.7"
  }
 },
 "nbformat": 4,
 "nbformat_minor": 4
}
