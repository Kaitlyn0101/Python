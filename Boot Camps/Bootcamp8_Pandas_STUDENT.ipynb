{
 "cells": [
  {
   "cell_type": "markdown",
   "id": "91567144-7bb3-4474-86dd-be81307805dd",
   "metadata": {},
   "source": [
    "# Bootcamp 8: Practice with Pandas"
   ]
  },
  {
   "cell_type": "markdown",
   "id": "211c12c1-769e-4f64-a97b-a2c0902c2211",
   "metadata": {},
   "source": [
    "This notebook is meant as a review of some of the more salient features of Pandas. To be clear, we will not be focusing on *reading in data*; rather, this notebook will focus more on using Pandas for selecting and analyzing data (using Pandas, of course). \n",
    "\n",
    "We’ll be using the same data set that you used for homework 3 (`americas_gpin_2014_16.csv`). We’re going to be looking for the agricultural commodity that has experienced the greatest growth over the course of the last ~50 years.\n",
    "\n",
    "**NOTE** Before we dive too far into this, a quick note: part of this will involve using `polyfit`. So if you aren’t comfortable with those concepts, we recommend going to take a look at that notebook!"
   ]
  },
  {
   "cell_type": "markdown",
   "id": "a86a8b00-3c29-42aa-8933-5b6cd7e55f16",
   "metadata": {},
   "source": [
    "## Part 0: Importing Packages and Reading in the Data\n",
    "\n",
    "As a first step, let’s import the necessary packages and read in the data. We’ll also add the `log10gpin` column that you used in HW 3, and do some rudimentary cleaning."
   ]
  },
  {
   "cell_type": "code",
   "execution_count": 2,
   "id": "892248e5-f468-4f5e-aaf1-b00602f5e5b8",
   "metadata": {},
   "outputs": [],
   "source": [
    "import pandas as pd\n",
    "import matplotlib.pyplot as plt\n",
    "import numpy as np\n",
    "\n",
    "gpin_data = pd.read_csv('./americas_gpin_2014_16.csv')\n",
    "gpin_data['log10gpin'] = np.log10(gpin_data['gpin'])\n",
    "gpin_data_cleaned = gpin_data.replace([np.inf, -np.inf], np.nan)\n",
    "gpin_data_cleaned = gpin_data_cleaned.dropna(subset=['log10gpin'])"
   ]
  },
  {
   "cell_type": "markdown",
   "id": "92d8e052-edcb-4f3a-a34b-31afbb81da43",
   "metadata": {},
   "source": [
    "## Part 1: Analyzing a Single Agricultural Commodity\n",
    "\n",
    "#### 1.1\n",
    "&#9989;&nbsp; **Pick a single agricultural commodity (from the column name `item`). Create a new dataframe that just contains that commodity**"
   ]
  },
  {
   "cell_type": "code",
   "execution_count": 6,
   "id": "b3617897-1d1a-4601-9754-666b6674eb61",
   "metadata": {},
   "outputs": [
    {
     "data": {
      "text/html": [
       "<div>\n",
       "<style scoped>\n",
       "    .dataframe tbody tr th:only-of-type {\n",
       "        vertical-align: middle;\n",
       "    }\n",
       "\n",
       "    .dataframe tbody tr th {\n",
       "        vertical-align: top;\n",
       "    }\n",
       "\n",
       "    .dataframe thead th {\n",
       "        text-align: right;\n",
       "    }\n",
       "</style>\n",
       "<table border=\"1\" class=\"dataframe\">\n",
       "  <thead>\n",
       "    <tr style=\"text-align: right;\">\n",
       "      <th></th>\n",
       "      <th>geo_area</th>\n",
       "      <th>item</th>\n",
       "      <th>year</th>\n",
       "      <th>gpin</th>\n",
       "      <th>log10gpin</th>\n",
       "    </tr>\n",
       "  </thead>\n",
       "  <tbody>\n",
       "    <tr>\n",
       "      <th>121</th>\n",
       "      <td>Argentina</td>\n",
       "      <td>Bananas</td>\n",
       "      <td>1961</td>\n",
       "      <td>6.62</td>\n",
       "      <td>0.820858</td>\n",
       "    </tr>\n",
       "    <tr>\n",
       "      <th>122</th>\n",
       "      <td>Bahamas</td>\n",
       "      <td>Bananas</td>\n",
       "      <td>1961</td>\n",
       "      <td>34.69</td>\n",
       "      <td>1.540204</td>\n",
       "    </tr>\n",
       "    <tr>\n",
       "      <th>123</th>\n",
       "      <td>Barbados</td>\n",
       "      <td>Bananas</td>\n",
       "      <td>1961</td>\n",
       "      <td>222.37</td>\n",
       "      <td>2.347076</td>\n",
       "    </tr>\n",
       "    <tr>\n",
       "      <th>124</th>\n",
       "      <td>Belize</td>\n",
       "      <td>Bananas</td>\n",
       "      <td>1961</td>\n",
       "      <td>1.65</td>\n",
       "      <td>0.217484</td>\n",
       "    </tr>\n",
       "    <tr>\n",
       "      <th>125</th>\n",
       "      <td>Bolivia (Plurinational State of)</td>\n",
       "      <td>Bananas</td>\n",
       "      <td>1961</td>\n",
       "      <td>36.00</td>\n",
       "      <td>1.556303</td>\n",
       "    </tr>\n",
       "  </tbody>\n",
       "</table>\n",
       "</div>"
      ],
      "text/plain": [
       "                             geo_area     item  year    gpin  log10gpin\n",
       "121                         Argentina  Bananas  1961    6.62   0.820858\n",
       "122                           Bahamas  Bananas  1961   34.69   1.540204\n",
       "123                          Barbados  Bananas  1961  222.37   2.347076\n",
       "124                            Belize  Bananas  1961    1.65   0.217484\n",
       "125  Bolivia (Plurinational State of)  Bananas  1961   36.00   1.556303"
      ]
     },
     "execution_count": 6,
     "metadata": {},
     "output_type": "execute_result"
    }
   ],
   "source": [
    "gpin_data_cleaned['item'].unique()\n",
    "bananas=gpin_data_cleaned[gpin_data_cleaned['item']=='Bananas']\n",
    "\n",
    "\n",
    "bananas.head()\n"
   ]
  },
  {
   "cell_type": "markdown",
   "id": "a17a21d2-4cc8-4cb8-99ce-e499990dd867",
   "metadata": {},
   "source": [
    "#### 1.2\n",
    "\n",
    "Ultimately what we want to do is trace out the growth of the commodity over time. Let's start with the most recent data.\n",
    "\n",
    "&#9989;&nbsp; **For your commodity, select all of the data from the year 2019. Calculate the mean for log10gpin for 2019** \n",
    "\n",
    "**Note** you should check to make sure your commodity has data for 2019. You can do this by creating a list of all of the *unique* years in your commodity dataframe (using Pandas `unique` function). \n"
   ]
  },
  {
   "cell_type": "code",
   "execution_count": 11,
   "id": "aa4787a9-487d-4102-bae8-9cdf38a1da05",
   "metadata": {},
   "outputs": [
    {
     "name": "stdout",
     "output_type": "stream",
     "text": [
      "the mean for log10gpin for bananas in 2019 is 1.9908286536941542\n"
     ]
    }
   ],
   "source": [
    "bananas2019=bananas[bananas['year']==2019]\n",
    "bananas.head()\n",
    "\n",
    "meanloggpin=bananas2019['log10gpin']\n",
    "print(\"the mean for log10gpin for bananas in 2019 is\", np.mean(meanloggpin))"
   ]
  },
  {
   "cell_type": "markdown",
   "id": "048fcaca-c144-4fa4-bba5-73bdd7472c66",
   "metadata": {},
   "source": [
    "#### 1.3\n",
    "\n",
    "&#9989;&nbsp; **Now repeat the process above, but for the year 2018.**"
   ]
  },
  {
   "cell_type": "code",
   "execution_count": 15,
   "id": "53d4045f-c8eb-4c6e-816a-a5fd1d13adbc",
   "metadata": {},
   "outputs": [
    {
     "name": "stdout",
     "output_type": "stream",
     "text": [
      "the mean for log10gpin for bananas in 2019 is 1.9979771072531893\n"
     ]
    }
   ],
   "source": [
    "bananas2018=bananas[bananas['year']==2018]\n",
    "\n",
    "meanloggpin18=bananas2018['log10gpin']\n",
    "print(\"the mean for log10gpin for bananas in 2019 is\", np.mean(meanloggpin18))"
   ]
  },
  {
   "cell_type": "markdown",
   "id": "15f561fd-b333-4467-898c-2770c85dec67",
   "metadata": {},
   "source": [
    "#### 1.4\n",
    "\n",
    "&#9989;&nbsp; **How do the two values compare? Did the production of this agricultural commodity go up or down between the two years?**"
   ]
  },
  {
   "cell_type": "markdown",
   "id": "0a99ea69-9ddf-4879-b917-e04cf5ae5cbd",
   "metadata": {},
   "source": [
    "The mean from 2018 to 2019 went down so therefore we assume the production went down."
   ]
  },
  {
   "cell_type": "markdown",
   "id": "9da97ee1-5ce3-433c-af3b-b7e35c1564d4",
   "metadata": {},
   "source": [
    "#### 1.5\n",
    "\n",
    "Now, we want to expand the above procedure to more than just two years. We want to do it for *all of the years* that we have data for. \n",
    "\n",
    "&#9989;&nbsp; In the cell below, create a `for` loop that goes over all years for which there is data for your commodity (again, consider using the `unique` function to create this list of years). Use your loop to create a list of the mean log10gpins of your commodity. Finally, make a plot showing the mean log10gpin versus time. "
   ]
  },
  {
   "cell_type": "code",
   "execution_count": 24,
   "id": "d6948035-4ab0-4602-bc0a-c8ca2c7c1058",
   "metadata": {},
   "outputs": [
    {
     "name": "stdout",
     "output_type": "stream",
     "text": [
      "[1.6458067235807068, 1.68571336652774, 1.7195001802769918, 1.736756851128253, 1.770470898508986, 1.7520713738305829, 1.789196610189945, 1.808711069416143, 1.8268046943270138, 1.8048309175388444, 1.8081517054051766, 1.8264766637469085, 1.811541382291325, 1.832143476513765, 1.8050382843105304, 1.8580949706717826, 1.8505553372327113, 1.907103020697698, 1.880239906015793, 1.8822697784758013, 1.8935505956845355, 1.9045857594217723, 1.854294674729009, 1.9060997763694791, 1.9152075862640534, 1.94029863553168, 1.9465369080890897, 1.973448134523455, 1.9634069146139808, 1.9552929109340726, 1.9370707309920336, 1.966879881093262, 1.9441079600504503, 1.9265030481670438, 1.9361756312431404, 1.9384475106401953, 1.8859442246389544, 1.8901033110225707, 1.9094051931238287, 1.9201371778685064, 1.9199111658450614, 1.8907849477412586, 1.8781252049874755, 1.9125708083614608, 1.8998885327586972, 1.9087181298117195, 1.9218027137871487, 1.9003091522036122, 1.9182706196740407, 1.9263149927241636, 1.9347792027667572, 1.946991582211318, 1.9481760097309377, 1.9916954596619478, 2.0027242464706174, 2.000123625703756, 1.9959229413175492, 1.9979771072531893, 1.9908286536941542]\n"
     ]
    },
    {
     "data": {
      "text/plain": [
       "59"
      ]
     },
     "execution_count": 24,
     "metadata": {},
     "output_type": "execute_result"
    }
   ],
   "source": [
    "#create list of bananas year using unique function\n",
    "banana_years=bananas['year'].unique()\n",
    "#create an empty list\n",
    "banana_mean=[]\n",
    "\n",
    "# For Loop Through the Years\n",
    "for year in banana_years:\n",
    "          \n",
    "    # create a new df based on year\n",
    "     new_banana = bananas[bananas['year']==year] #set it equal to our value in our for loop \n",
    "   \n",
    "    # index log10gpin from new df\n",
    "     log10gpin=new_banana['log10gpin']\n",
    "  \n",
    "    # calculate the mean\n",
    "     mean=np.mean(log10gpin)\n",
    "    \n",
    "    # append the mean to a new list\n",
    "     banana_mean.append(mean)\n",
    "    \n",
    "    #generate a list of means\n",
    "print(banana_mean)\n",
    "len(banana_years)\n",
    "len(banana_mean)\n"
   ]
  },
  {
   "cell_type": "code",
   "execution_count": 28,
   "id": "67e5e5ac",
   "metadata": {},
   "outputs": [
    {
     "data": {
      "text/plain": [
       "Text(0, 0.5, 'log10gpin mean')"
      ]
     },
     "execution_count": 28,
     "metadata": {},
     "output_type": "execute_result"
    },
    {
     "data": {
      "image/png": "[encoded data removed]",
      "text/plain": [
       "<Figure size 1080x576 with 1 Axes>"
      ]
     },
     "metadata": {
      "needs_background": "light"
     },
     "output_type": "display_data"
    }
   ],
   "source": [
    "\n",
    "plt.figure(figsize=(15,8))\n",
    "\n",
    "plt.scatter(banana_years, banana_mean)\n",
    "plt.title(\"Banana Log10gpin Mean Over Time\")\n",
    "plt.xlabel(\"Year\")\n",
    "plt.ylabel(\"log10gpin mean\")\n",
    "\n",
    "\n",
    "    \n",
    "    \n",
    "    \n",
    "\n",
    "    \n",
    "    \n",
    "    "
   ]
  },
  {
   "cell_type": "markdown",
   "id": "e13c0306-df6f-466e-affa-f42ef83fe98f",
   "metadata": {},
   "source": [
    "#### 1.6\n",
    "\n",
    "&#9989;&nbsp; For our last step, we want to fit a line to our mean log10gpin versus time plot. Do this using `polyfit`. Then use `poly1d` to make a line of best fit and plot the original data with the line of best fit. "
   ]
  },
  {
   "cell_type": "markdown",
   "id": "afe598aa",
   "metadata": {},
   "source": [
    "SHOULD NOT BE ON QUIZ"
   ]
  },
  {
   "cell_type": "markdown",
   "id": "208a0b05-ec0a-4673-a131-e3f0aadf64a4",
   "metadata": {},
   "source": [
    "#### 1.7\n",
    "\n",
    "&#9989;&nbsp; We can look at our line of best fit to get a sense of whether the log10gpin is increasing or decreasing in time. We can *also* get the same information by looking at the best fit parameters that we get from `polyfit`. Specifically, by looking at the slope of the line (the 1st value in your fit parameters). Print out your fit parameters. Does the slope indicate that log10gpin is increasing (positive slope) or decreasing (negative slope) in time?"
   ]
  },
  {
   "cell_type": "markdown",
   "id": "0fd8b088",
   "metadata": {},
   "source": [
    "SHOULD NOT BE ON QUIZ"
   ]
  },
  {
   "cell_type": "markdown",
   "id": "ce28e3d1-a225-4529-9b98-2b9db05558eb",
   "metadata": {},
   "source": [
    "SHOULD NOT BE ON QUIZ"
   ]
  },
  {
   "cell_type": "markdown",
   "id": "8760853e-3139-4774-a26a-c7880b655ea3",
   "metadata": {},
   "source": [
    "## Part 2: Analyzing All Agricultural Commodities\n",
    "\n",
    "In the previous part of this notebook, we laid out the steps for determining the rate of increase (best fit slope) for a *single* agricultural commodity. Now we're going to do the same analysis with *all* agricultural commodities.\n",
    "\n",
    "#### 2.1\n",
    "\n",
    "&#9989;&nbsp; Create a function that encapsulates all of the analysis you just did for a single commodity. That is, the function should take in a dataframe and the name of a commodity, and it should return the best fit slope for that commodity's change in log10gpin over time.\n"
   ]
  },
  {
   "cell_type": "code",
   "execution_count": null,
   "id": "203849ad-3def-4a7b-b8cb-1bc90e07c92b",
   "metadata": {},
   "outputs": [],
   "source": [
    "# Write your code here\n"
   ]
  },
  {
   "cell_type": "markdown",
   "id": "33711615-5b49-4341-862a-a3cb9adceef8",
   "metadata": {},
   "source": [
    "#### 2.2\n",
    "\n",
    "&#9989;&nbsp; Test your function on the commodity that you used in part 1, and make sure that it returns the correct slope."
   ]
  },
  {
   "cell_type": "code",
   "execution_count": null,
   "id": "edfb9093-1a24-4092-b8dd-8ff6696fe90e",
   "metadata": {},
   "outputs": [],
   "source": [
    "# Write your code here"
   ]
  },
  {
   "cell_type": "markdown",
   "id": "48db99e9-f8ab-41d7-838e-c7aa20297287",
   "metadata": {},
   "source": [
    "#### 2.3\n",
    "\n",
    "&#9989;&nbsp; Create a list of all of the *unique* commodities. Using this list, create a `for` loop that calls your function and generates a list of the best fit slopes for all commodities.\n",
    "\n",
    "**NOTE:** This code may take a while to run. If you find it's taking more than 20-30 seconds, you can instead just loop over the first 10-20 commodities instead of all of them."
   ]
  },
  {
   "cell_type": "code",
   "execution_count": null,
   "id": "f0e32220-e7b4-42f7-988a-09a07440899a",
   "metadata": {},
   "outputs": [],
   "source": [
    "# Write your code here"
   ]
  },
  {
   "cell_type": "markdown",
   "id": "184f920f-7ba7-434c-b29e-4e7975a028cc",
   "metadata": {},
   "source": [
    "#### 2.4\n",
    "\n",
    "&#9989;&nbsp; You should now have a list of all of the unique commodoties as well as a list of the best fit slopes for their growth. Combine these two into a new dataframe (if you're unsure of how to do that, you can consult this [resource](https://www.geeksforgeeks.org/different-ways-to-create-pandas-dataframe/)). Once you've created your dataframe, use `describe` to ensure that it looks okay.\n",
    "\n"
   ]
  },
  {
   "cell_type": "code",
   "execution_count": null,
   "id": "b4007c0a-398c-4576-8cbd-b39526b57540",
   "metadata": {},
   "outputs": [],
   "source": [
    "# Write your code here"
   ]
  },
  {
   "cell_type": "markdown",
   "id": "0906f887-7094-40b7-8eed-5954243230a7",
   "metadata": {},
   "source": [
    "#### 2.5\n",
    "\n",
    "&#9989;&nbsp; You should now be able to see what the growth rates are for all commodities. Use the dataframe you created in the previous part to figure out which commodity had the largest growth."
   ]
  },
  {
   "cell_type": "code",
   "execution_count": null,
   "id": "10d009a4-0657-4209-8447-e94a6a6aeef3",
   "metadata": {},
   "outputs": [],
   "source": [
    "# Write your code here"
   ]
  },
  {
   "cell_type": "markdown",
   "id": "98b22619-e202-4079-9d93-56373e79620b",
   "metadata": {},
   "source": [
    "#### 2.6\n",
    "\n",
    "&#9989;&nbsp; Now that you know the name of the fastest growing commodity, let's see what that growth actually looks like. Use the procedure that you used in parts 1.5 and 1.6 to create a plot showing the growth of log10gpin over time, as well as the best fit line."
   ]
  },
  {
   "cell_type": "code",
   "execution_count": null,
   "id": "1800db38-764c-4c51-ba66-b20fbd50550f",
   "metadata": {},
   "outputs": [],
   "source": [
    "# Write your code here"
   ]
  },
  {
   "cell_type": "markdown",
   "id": "ff7ad400-1f5a-460c-a55c-d41ce22a58e3",
   "metadata": {},
   "source": [
    "#### 2.7\n",
    "\n",
    "&#9989;&nbsp; What do you think caused this commodity to be the fastest growing?"
   ]
  },
  {
   "cell_type": "markdown",
   "id": "f4b97fad-0f25-4fae-8388-1124adc6cf78",
   "metadata": {},
   "source": [
    "*Write your response here*"
   ]
  },
  {
   "cell_type": "code",
   "execution_count": null,
   "id": "597aff2a-b5cc-4205-9d70-f272834dfc34",
   "metadata": {},
   "outputs": [],
   "source": []
  }
 ],
 "metadata": {
  "kernelspec": {
   "display_name": "Python 3 (ipykernel)",
   "language": "python",
   "name": "python3"
  },
  "language_info": {
   "codemirror_mode": {
    "name": "ipython",
    "version": 3
   },
   "file_extension": ".py",
   "mimetype": "text/x-python",
   "name": "python",
   "nbconvert_exporter": "python",
   "pygments_lexer": "ipython3",
   "version": "3.9.7"
  }
 },
 "nbformat": 4,
 "nbformat_minor": 5
}
