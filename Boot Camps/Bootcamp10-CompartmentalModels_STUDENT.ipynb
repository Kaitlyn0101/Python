{
 "cells": [
  {
   "cell_type": "markdown",
   "metadata": {},
   "source": [
    "# Bootcamp 10: Compartmental Models"
   ]
  },
  {
   "cell_type": "markdown",
   "metadata": {},
   "source": [
    "## Introduction\n",
    "\n",
    "In this notebook, we will be reviewing compartmental models:  what they are, how to construct them, and what they can be used for.\n",
    "\n",
    "---\n"
   ]
  },
  {
   "cell_type": "markdown",
   "metadata": {},
   "source": [
    "## What they are\n",
    "\n",
    "**Compartmental models are mathematical models that describe the flow of material between a set of compartments.** This could depict a real-world system where a substance (e.g. water, CO2) is literally moving between different spatial compartments, or it could be more abstract, where the different compartments involve different \"states\" (e.g. SIR models). \n",
    "\n",
    "### Compartments \n",
    "\n",
    "All of the three examples from Day 15 and 16 are \"abstract\" compartmental model systems, in that the compartments describe abstract categories:\n",
    "\n",
    "- **SIR modeling of disease spread**: the compartments were \"susceptible\", \"infected\" and \"recovered\"\n",
    "- **Predator-prey**: the predators and prey were each in their own compartment\n",
    "- **Daley-Kendall rumor model**: the compartments were \"ignorant\", \"spreader\" and \"stifler\"\n",
    "\n",
    "### Arrows\n",
    "\n",
    "In addition to a set of compartments, compartmental models use arrows to show the flow of material in and out of each compartment.  Ideally, these arrows should be labeled according to their rates.  The compartments and arrows for the SIR model are as follows:\n",
    "\n",
    "![SIR](https://github.com/msu-cmse-courses/cmse201-F21-data/blob/main/Bootcamp/CM_SIR-01.png?raw=true)\n",
    "\n",
    "where there are two connections, one between S and I, the other between I and R.  The variables $\\beta$ and $\\gamma$ are parameters of the model.  You might be wondering why the transition from S to I depends on **both S and I**.  This is because in order for an infected individual to spread the disease to a susceptible one, both of them need to be in the same place at the same time.  In chemistry this is referred to as a \"second order\" reaction.  In contrast, the transition from I to R only depends on I.  This is because recovery from the illness only involves the infected individual.\n",
    "\n",
    "The compartments and arrows for the predator-prey model are as follows:\n",
    "\n",
    "![LV](https://github.com/msu-cmse-courses/cmse201-F21-data/blob/main/Bootcamp/CM_LV-01.png?raw=true)\n",
    "\n",
    "where $P$ is the number of predators and $p$ is the number of prey.  Here note that the two compartments aren't directly connected (you can't switch from predator to prey).  Instead the incoming arrows show birth rates and the outgoing arrows show death rates.  Again, some of the transitions depend on both $P$ and $p$, indicating that they need to \"meet\" in order for the \"reaction\" to proceed (yikes!).\n",
    "\n",
    "### Equations\n",
    "\n",
    "Compartmental models are mostly used for constructing a set of equations that describe how the populations in each compartment evolve with time.  These equations are called \"ordinary differential equations\" (or ODEs) and they relate the **rate of change of a population** (left hand side) with the **populations and parameters** of the model.  \n",
    "\n",
    "The right hand side is typically a sum of terms that are either positive or negative.  If a right-hand-side term is positive you can think of it as a **\"source\"**: it causes that population to **increase**.  If a right-hand-side term is negative you can think of it as a **\"sink\"**: it causes that population to **decrease**.\n",
    "\n",
    "If the arrows in the compartmental model are accurately labeled, constructing the equations is easy!  The equations for the SIR model are:\n",
    "\n",
    "\\begin{align}\n",
    "\\frac{dS}{dt} &= -\\beta SI \\\\\n",
    "\\frac{dI}{dt} &= \\beta SI - \\gamma I \\\\\n",
    "\\frac{dR}{dt} &= \\gamma I \\\\\n",
    "\\end{align}\n",
    "\n",
    "where again, a term is positive if the arrow is going in (a \"source\") and negative if the arrow is going out (a \"sink\").\n",
    "\n",
    "Together these equations are called a \"system\" of ODEs.  The first step in modeling this system of ODEs is to code the derivatives up in a function:"
   ]
  },
  {
   "cell_type": "code",
   "execution_count": 6,
   "metadata": {},
   "outputs": [],
   "source": [
    "def derivs(t,y,gamma,beta):\n",
    "    S, I, R = y\n",
    "    \n",
    "    dSdt = -beta*S*I\n",
    "    dIdt = beta*S*I - gamma*I\n",
    "    dRdt = gamma*I\n",
    "    \n",
    "    return dSdt, dIdt, dRdt"
   ]
  },
  {
   "cell_type": "code",
   "execution_count": null,
   "metadata": {},
   "outputs": [],
   "source": []
  },
  {
   "cell_type": "markdown",
   "metadata": {},
   "source": [
    "where we've used the conventions from `scipy`'s `solve_ivp` function for the arguments.\n",
    "\n",
    "**Below, use the compartmental model diagram for the predator-prey model to code up a derivs function that could be used with `solve_ivp`:**"
   ]
  },
  {
   "cell_type": "code",
   "execution_count": 7,
   "metadata": {},
   "outputs": [],
   "source": [
    "def derivs_pred(t,y,gamma,beta, delta, alpha):\n",
    "    P,p = y\n",
    "    \n",
    "    dPdt = delta*P*p- gamma*P\n",
    "    dpdt = alpha*p - beta*P*p\n",
    "  \n",
    "    \n",
    "    return dPdt, dpdt"
   ]
  },
  {
   "cell_type": "code",
   "execution_count": null,
   "metadata": {},
   "outputs": [],
   "source": []
  }
 ],
 "metadata": {
  "kernelspec": {
   "display_name": "Python 3 (ipykernel)",
   "language": "python",
   "name": "python3"
  },
  "language_info": {
   "codemirror_mode": {
    "name": "ipython",
    "version": 3
   },
   "file_extension": ".py",
   "mimetype": "text/x-python",
   "name": "python",
   "nbconvert_exporter": "python",
   "pygments_lexer": "ipython3",
   "version": "3.9.7"
  }
 },
 "nbformat": 4,
 "nbformat_minor": 4
}
