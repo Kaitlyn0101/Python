{
 "cells": [
  {
   "cell_type": "markdown",
   "metadata": {},
   "source": [
    "# Day 14 Pre-Class Assignment: Fitting functions to data (curve-fitting) and thinking more about models"
   ]
  },
  {
   "cell_type": "markdown",
   "metadata": {},
   "source": [
    "### <p style=\"text-align: right;\"> &#9989; Kaitlyn Watson</p>"
   ]
  },
  {
   "cell_type": "markdown",
   "metadata": {},
   "source": [
    "<br/>\n",
    "<img src=\"https://www.mathworks.com/help/examples/matlab/win64/CurveFittingViaOptimizationExample_01.png\" alt=\"Curve-fitting\" width=500px/>\n",
    "\n",
    "\n",
    "## Goals for today's pre-class assignment\n",
    "\n",
    "* Be able to articulate what regression is and why we use it\n",
    "* Complete an Ordinary Least Squares function and use it to fit a linear model \n",
    "* Use SciPy to fit a specific function to data\n",
    "* Describe the nature of building and using models to understand the world\n",
    "\n",
    "\n",
    "## Assignment instructions\n",
    "\n",
    "**This assignment is due by 11:59 p.m. the day before class,** and should be uploaded into the appropriate \"Pre-class assignments\" submission folder.  If you run into issues with your code, make sure to use Slack to help each other out and receive some assistance from the instructors. Submission instructions can be found at the end of the notebook."
   ]
  },
  {
   "cell_type": "markdown",
   "metadata": {},
   "source": [
    "---\n",
    "## Part 1: What is Regression?\n",
    "\n",
    "In many applications, data depends on other data.  This is expressed with dependent variables that depend on independent variables.  For example, we know that sunlight ($s$, dependent variable) depends on the time of day ($t$, independent variable) and this can be expressed with saying $s$ is some function, $f$, of $t$ with $s = f(t)$.  If brigtness is linearly related to the time of day, we can fit a line through the relationship of these variables. \n",
    "\n",
    "One of the problems that arises in data science is that the data is invariably imperfect. We often say that the data has \"noise\" or \"fluctuations\". The problem is that we know that some of these fluctuations are not real: they are caused by errors in our measurements or any other factor that is not in our control. We do not want to take those fluctuations literally. In other cases the fluctuations might actually be real, but we don't want to focus our attention on those details because we simply want the trend. Regression solves this problem by providing a methodology to find a smoother function that is consistent with your data but doesn't attempt to match every detail, which may or may not be a real signal. \n",
    "\n",
    "A common form of regression is called **simple linear regression**. Simple linear regression finds the best line that goes through noisy data. But, there are other forms of regression that we will be interested in. Here are some of the methods we will explore in this class:\n",
    "\n",
    "* Simple linear regression: fitting a best-fit line through a data set \n",
    "* Curve fitting: we might want to fit to some other curve, which you need to supply based on some insight into the data, of arbitrary form; for example, the exponential $ae^{-t}+ b$"
   ]
  },
  {
   "cell_type": "markdown",
   "metadata": {},
   "source": [
    "----\n",
    "## Part 2: Doing Regression \"By Hand\""
   ]
  },
  {
   "cell_type": "markdown",
   "metadata": {},
   "source": [
    "Time to practice using regression to fit a function to some data. The following video covers an example of fitting a simple linear regression model \"by hand\" - calculating the slope and intercept values given some data. "
   ]
  },
  {
   "cell_type": "markdown",
   "metadata": {},
   "source": [
    "\n",
    "#### Watch this video\n",
    "If the YouTube video doesn't work, try this [MediaSpace link](https://mediaspace.msu.edu/media/RegressionA+Methods+and+Examples/1_gtg70ib1)."
   ]
  },
  {
   "cell_type": "code",
   "execution_count": 1,
   "metadata": {},
   "outputs": [
    {
     "data": {
      "image/jpeg": "[encoded data removed]",
      "text/html": [
       "\n",
       "        <iframe\n",
       "            width=\"640\"\n",
       "            height=\"360\"\n",
       "            src=\"https://www.youtube.com/embed/1YUHyBTztOc\"\n",
       "            frameborder=\"0\"\n",
       "            allowfullscreen\n",
       "            \n",
       "        ></iframe>\n",
       "        "
      ],
      "text/plain": [
       "<IPython.lib.display.YouTubeVideo at 0x7f9201c54670>"
      ]
     },
     "execution_count": 1,
     "metadata": {},
     "output_type": "execute_result"
    }
   ],
   "source": [
    "from IPython.display import YouTubeVideo  \n",
    "YouTubeVideo(\"1YUHyBTztOc\",width=640,height=360)"
   ]
  },
  {
   "cell_type": "markdown",
   "metadata": {},
   "source": [
    "____\n",
    "Using what was covered in the previous video, follow along with the code below where we will use ordinary least squares (OLS) solutions to fitting a simple linear regression model. \n",
    "\n",
    "First we can make our necessary imports and then generate some data to work with!"
   ]
  },
  {
   "cell_type": "code",
   "execution_count": 20,
   "metadata": {},
   "outputs": [],
   "source": [
    "# Import our necessary packages\n",
    "import numpy as np\n",
    "import matplotlib.pyplot as plt"
   ]
  },
  {
   "cell_type": "code",
   "execution_count": 21,
   "metadata": {},
   "outputs": [
    {
     "data": {
      "image/png": "[encoded data removed]",
      "text/plain": [
       "<Figure size 432x288 with 1 Axes>"
      ]
     },
     "metadata": {
      "needs_background": "light"
     },
     "output_type": "display_data"
    }
   ],
   "source": [
    "# here is some x and y data of cricket chirps vs. temperature\n",
    "chirps = np.array([20,16,19.8,18.4,17.1,15.5,14.7,17.1,15.4,16.2,15,17.2,16,17,14.4])\n",
    "temperature = np.array([88.6,71.6,93.3,84.3,80.6,75.2,69.7,82,69.4,83.3,79.6,82.6,80.6,83.5,76.3])\n",
    "#plot our data\n",
    "plt.scatter(chirps, temperature, label = \"data\")\n",
    "plt.legend()\n",
    "plt.show()"
   ]
  },
  {
   "cell_type": "markdown",
   "metadata": {},
   "source": [
    "Look at the plot above. Notice that the relationship between $y$ and $x$ is roughly linear. This means we can use the ordinary least squares (OLS) approach to fit a line to the data. Below is a function that performs OLS.\n",
    "\n",
    "The equations for linear regression are at in the video, but are repeated here as a reference:\n",
    "\n",
    "$$\\bar{x} = \\frac{1}{N}\\sum_i x_i$$\n",
    "\n",
    "$$\\bar{y} = \\frac{1}{N}\\sum_i y_i$$\n",
    "\n",
    "$$ m = \\frac{\\sum_i x_i y_i - N\\bar{x}\\bar{y}}{\\sum_i x_i^2 - N\\bar{x}^2}$$\n",
    "\n",
    "$$ b = \\bar{y} - m\\bar{x}$$\n",
    "\n",
    "Recall that:\n",
    "* $x_i$ are the $x$ coordinates, and there are $N$ of them\n",
    "* $y_i$ are the $y$ values of the data, and there are also $N$ of them\n",
    "* the sums, $\\sum_i$, means that you sum up all of the values that follow; for example, $\\sum_ix_i = x_0 + x_1 + \\cdots x_{N-1}$\n",
    "\n",
    "#### &#9989;&nbsp; **2.1** In the function below, comment the code where specified and fill in the equation for calculating $b$, the intercept!"
   ]
  },
  {
   "cell_type": "code",
   "execution_count": 22,
   "metadata": {},
   "outputs": [],
   "source": [
    "# This function is used to calculate ordinary least squares regression parameters given some data\n",
    "\n",
    "def my_ols_parameters(x, y):\n",
    "    \n",
    "    # average of x data\n",
    "    mean_x = np.mean(x)\n",
    "    \n",
    "    # average of y data\n",
    "    mean_y = np.mean(y)\n",
    "    \n",
    "    # number of data points we have -- len(y) would work too\n",
    "    N = len(x)\n",
    "    \n",
    "    # the sum of all the x multiplied by all the y\n",
    "    xy_product_sum = np.sum(x*y)\n",
    "    \n",
    "    # the sum of all the x squared\n",
    "    xx_product_sum = np.sum(x**2)\n",
    "    \n",
    "    \n",
    "    # what is this line doing?\n",
    "    # this line is taking out varibales from above and calculating the predicted slope.\n",
    "    m = (xy_product_sum - N * mean_x * mean_y)/(xx_product_sum - N*mean_x**2)\n",
    "\n",
    "    \n",
    "    # calculate the intercept using the equation above\n",
    "    b = mean_y - m*mean_x\n",
    "    \n",
    "    # what does this function return?\n",
    "    # THe function returns the slop and the y intercept\n",
    "    return m, b"
   ]
  },
  {
   "cell_type": "markdown",
   "metadata": {},
   "source": [
    "The function provided below (no changes to this function are needed) takes in our $x$ data and our estimated slope and intercept values to predict expected $y$ values. We will use this function below when we plot our fitted linear regression model!"
   ]
  },
  {
   "cell_type": "code",
   "execution_count": 23,
   "metadata": {},
   "outputs": [],
   "source": [
    "# THIS FUNCTION IS PROVIDED, NO CHANGES NECESSARY\n",
    "# This function uses a regression equation to predict y given x\n",
    "# It takes in b (the intercept), m (the coefficient), and\n",
    "# x (the independent data)\n",
    "\n",
    "def my_ols_regression(x, m, b):\n",
    "    \n",
    "    expected_y = m*x + b\n",
    "    \n",
    "    return expected_y"
   ]
  },
  {
   "cell_type": "markdown",
   "metadata": {},
   "source": [
    "In the cell below, we call our finished `my_ols_parameters` function to calculate our parameters and then feed these into our `my_ols_regression` function to calculate our expected $y$ values.\n",
    "\n",
    "#### &#9989;&nbsp; **2.2** Comment the code below where specified!"
   ]
  },
  {
   "cell_type": "code",
   "execution_count": 24,
   "metadata": {},
   "outputs": [
    {
     "data": {
      "image/png": "[encoded data removed]",
      "text/plain": [
       "<Figure size 432x288 with 1 Axes>"
      ]
     },
     "metadata": {
      "needs_background": "light"
     },
     "output_type": "display_data"
    }
   ],
   "source": [
    "# what is m & b?\n",
    "#m is the expected slope and b in the intercept. \n",
    "m_expected, b_expected = my_ols_parameters(chirps, temperature)\n",
    "\n",
    "# comment here - using the ols regression, a line of best fit is being created using our slope and y-int\n",
    "\n",
    "expected_y = my_ols_regression(chirps, m_expected, b_expected)\n",
    "\n",
    "# plot our data against our fitted linear regression\n",
    "plt.scatter(chirps, temperature, label = \"data\")\n",
    "plt.plot(chirps, expected_y, color = \"orange\", label = \"fit\")\n",
    "\n",
    "plt.legend()\n",
    "plt.xlabel('chirps')\n",
    "plt.ylabel('temperature')\n",
    "plt.show()"
   ]
  },
  {
   "cell_type": "markdown",
   "metadata": {},
   "source": [
    "#### &#9989;&nbsp; **2.3** Print out your calculated slope and intercept below. What do these values mean in terms of $x$ and $y$? That is, what does the slope tell you about how $y$ changes when $x$ changes? What information does the intercept provide?"
   ]
  },
  {
   "cell_type": "code",
   "execution_count": 27,
   "metadata": {},
   "outputs": [
    {
     "name": "stdout",
     "output_type": "stream",
     "text": [
      "the slope is 3.2910940890261515\n",
      "the y intercept is 25.232313104084483\n"
     ]
    }
   ],
   "source": [
    "# Put your code here\n",
    "print(\"the slope is\", m_expected)\n",
    "print(\"the y intercept is\", b_expected)\n",
    "\n"
   ]
  },
  {
   "cell_type": "markdown",
   "metadata": {},
   "source": [
    "<font size=+3>&#9998;</font> The slope tells us the change in y or the change in x. The y intercept tells us where on the y axis the line should begin. "
   ]
  },
  {
   "cell_type": "markdown",
   "metadata": {},
   "source": [
    "----\n",
    "## Part 3. Fitting a function using `curve_fit`"
   ]
  },
  {
   "cell_type": "markdown",
   "metadata": {},
   "source": [
    "Although we used our OLS function in the previous problem to fit a simple straight line, the SciPy library provides us with a tool that can be used to fit all manner of functions: [`curve_fit` (you can click this link to read the documentation)](https://docs.scipy.org/doc/scipy/reference/generated/scipy.optimize.curve_fit.html)."
   ]
  },
  {
   "cell_type": "markdown",
   "metadata": {},
   "source": [
    "As with many Python packages, we need to import `curve_fit` first!"
   ]
  },
  {
   "cell_type": "code",
   "execution_count": 28,
   "metadata": {},
   "outputs": [],
   "source": [
    "# import curve_fit function\n",
    "from scipy.optimize import curve_fit\n",
    "\n",
    "# import numpy and matplotlib as well while we're at it\n",
    "import numpy as np\n",
    "import matplotlib.pyplot as plt\n",
    "%matplotlib inline"
   ]
  },
  {
   "cell_type": "markdown",
   "metadata": {},
   "source": [
    "#### SciPy's `curve_fit` function takes in three arguments: \n",
    "- **A function that we define in Python** \n",
    "- **$x$ data** \n",
    "- **$y$ data**\n",
    "\n",
    "**It then returns an array of parameters that our newly-defined function uses.**\n",
    "\n",
    "Let's take a look at the example in the cell below. Run the cell and see that our data follows a sinusoidal relationship."
   ]
  },
  {
   "cell_type": "code",
   "execution_count": 29,
   "metadata": {},
   "outputs": [
    {
     "data": {
      "image/png": "[encoded data removed]",
      "text/plain": [
       "<Figure size 432x288 with 1 Axes>"
      ]
     },
     "metadata": {
      "needs_background": "light"
     },
     "output_type": "display_data"
    }
   ],
   "source": [
    "# generate some x data: sixty data points from 0 to 4π\n",
    "x_sin = np.linspace(0,4*np.pi,60)\n",
    "\n",
    "# generate some y data: 1.5 * sin(1.2x + 0.5)\n",
    "# we add the np.random.normal(0.25,.25,60) at the end to add some randomness to the data\n",
    "y_sin = 1.5 * np.sin(1.2 * x_sin) + np.random.normal(.25,.25,60)\n",
    "\n",
    "# plot our data\n",
    "plt.scatter(x_sin, y_sin, label = \"data\")\n",
    "\n",
    "plt.legend()\n",
    "plt.xlabel('x')\n",
    "plt.ylabel('y')\n",
    "plt.show()"
   ]
  },
  {
   "cell_type": "markdown",
   "metadata": {},
   "source": [
    "Because this is just simulated data, we know that our \"signal\" is a sinusoid that has the relationship $y = 1.5 * \\sin(1.2x)$.\n",
    "\n",
    "The generic form of a typical sine curve model is:\n",
    "$$y = A * \\sin(Bx + C)$$\n",
    "\n",
    "This means our true parameter values for this specific example are:\n",
    "\n",
    "* $A = 1.5$\n",
    "* $B = 1.2$\n",
    "* $C = 0$\n",
    "\n",
    "However, we usually don't know the values of these parameters in advance - that's why we use regression & curve fitting!\n",
    "\n",
    "The first step in using `curve_fit` is that we define the sine function that we want to try to fit to our data. Look at how we've turned the mathematical model into a Python function in the cell below."
   ]
  },
  {
   "cell_type": "code",
   "execution_count": 30,
   "metadata": {},
   "outputs": [],
   "source": [
    "def my_sin_function(x, A, B, C):\n",
    "    # Confirm that information returned by this function matches the mathematical formula from above!\n",
    "    return A * np.sin(B * x + C)"
   ]
  },
  {
   "cell_type": "markdown",
   "metadata": {},
   "source": [
    "Next we can run `curve_fit` in the cell below now that we have our function defined and the data we want to fit.\n",
    "\n",
    "`curve_fit` returns two values: the first is an array of our parameter values. In this example, the array will be $[A, B, C]$.\n",
    "\n",
    "#### &#9989;&nbsp; **3.1** Print out the expected parameter values that from `curve_fit` (these parameters are stored in the `popt` variable)\n",
    "\n",
    "Are they close to our true values from above?"
   ]
  },
  {
   "cell_type": "code",
   "execution_count": 31,
   "metadata": {},
   "outputs": [
    {
     "name": "stdout",
     "output_type": "stream",
     "text": [
      "[ 1.5868431   1.20286946 -0.01799511] [[ 4.15567827e-03  6.49862737e-05 -4.26531928e-04]\n",
      " [ 6.49862737e-05  1.28186237e-04 -7.74848474e-04]\n",
      " [-4.26531928e-04 -7.74848474e-04  6.37947447e-03]]\n"
     ]
    }
   ],
   "source": [
    "# Use curve_fit by passing in the sin function, x data, and y data\n",
    "popt, pcov = curve_fit(my_sin_function, x_sin, y_sin)\n",
    "\n",
    "# Print the array of fitted parameter values\n",
    "print(popt, pcov)"
   ]
  },
  {
   "cell_type": "markdown",
   "metadata": {},
   "source": [
    "<font size=+3>&#9998;</font> They are very close to the true values above"
   ]
  },
  {
   "cell_type": "markdown",
   "metadata": {},
   "source": [
    "We can now \"unpack\" our parameter values and use them in our sine function to get our expected $y$ values based on our model.\n",
    "\n",
    "#### &#9989;&nbsp; **3.2** Carefully read this code and make sure you understand it. You'll be using the same procedure in the next section!\n",
    "\n",
    "Once we have our fitted curve, we can plot it against the data below!"
   ]
  },
  {
   "cell_type": "code",
   "execution_count": 32,
   "metadata": {},
   "outputs": [
    {
     "data": {
      "image/png": "[encoded data removed]",
      "text/plain": [
       "<Figure size 432x288 with 1 Axes>"
      ]
     },
     "metadata": {
      "needs_background": "light"
     },
     "output_type": "display_data"
    }
   ],
   "source": [
    "# Unpack the parameter results into separate variables so that we can feed them to our sine function\n"
   ]
  },
  {
   "cell_type": "markdown",
   "metadata": {},
   "source": [
    "#### &#9989;&nbsp; **3.3** Is the fitted sine function from `curve_fit` a \"good fit\" for our data?"
   ]
  },
  {
   "cell_type": "markdown",
   "metadata": {},
   "source": [
    "<font size=+3>&#9998;</font> Yes, the fitted sin function is a very good fit for the data above as it relatively follows the data curve"
   ]
  },
  {
   "cell_type": "markdown",
   "metadata": {},
   "source": [
    "---\n",
    "## Part 4. Practice Using `curve_fit`\n",
    "\n",
    "Let’s put our new curve fitting tools to the test. We’ve provided you with a dataset in the cell below which can be modeled with a mathematical function. Let’s walk through the steps involved in fitting the dataset.\n",
    "\n",
    "#### &#9989;&nbsp; **4.1** First, make a plot showing $x$ vs. $y$ so we can get a sense of what the data looks like."
   ]
  },
  {
   "cell_type": "code",
   "execution_count": 33,
   "metadata": {},
   "outputs": [],
   "source": [
    "x = np.array([0.0,0.45,0.9,1.34,1.79,2.24,2.69,3.14,3.59,4.03,4.48,4.93,5.38,5.83,6.28,6.72,7.17,7.62,8.07,8.52,8.97,9.41,9.86,10.31,10.76,11.21,11.66,12.1,12.55,13.0])\n",
    "y = np.array([0.74,0.92,1.16,1.65,2.23,2.56,2.92,2.9,2.97,2.98,2.54,2.48,2.31,2.3,2.34,2.39,2.94,3.36,3.61,4.1,4.33,4.61,4.78,4.62,4.29,4.17,4.22,3.9,3.98,4.29])"
   ]
  },
  {
   "cell_type": "code",
   "execution_count": 34,
   "metadata": {},
   "outputs": [
    {
     "data": {
      "text/plain": [
       "[<matplotlib.lines.Line2D at 0x7f9204f42220>]"
      ]
     },
     "execution_count": 34,
     "metadata": {},
     "output_type": "execute_result"
    },
    {
     "data": {
      "image/png": "[encoded data removed]",
      "text/plain": [
       "<Figure size 432x288 with 1 Axes>"
      ]
     },
     "metadata": {
      "needs_background": "light"
     },
     "output_type": "display_data"
    }
   ],
   "source": [
    "#Make a plot of x vs. y here\n",
    "\n",
    "plt.plot(x,y)"
   ]
  },
  {
   "cell_type": "markdown",
   "metadata": {},
   "source": [
    "We happen to know that this data can be modeled using the following equation: \n",
    "\n",
    "\\begin{equation}\n",
    "y = G*\\cos(x) + d*x +  L_0\n",
    "\\end{equation}\n",
    "\n",
    "\n",
    "#### &#9989;&nbsp; **4.2** Turn the above equation into a function that we can use to fit the data."
   ]
  },
  {
   "cell_type": "code",
   "execution_count": 41,
   "metadata": {},
   "outputs": [],
   "source": [
    "def cos_function(x, G, d, 𝐿):\n",
    "    # Confirm that information returned by this function matches the mathematical formula from above!\n",
    "    return G * np.cos(x) + d*x+L"
   ]
  },
  {
   "cell_type": "markdown",
   "metadata": {},
   "source": [
    "#### &#9989;&nbsp; **4.3** Use the fitting procedure laid out in the previous section to find the best fit parameters (I.e., values for $G$, $d$, and $L_0$)."
   ]
  },
  {
   "cell_type": "code",
   "execution_count": 43,
   "metadata": {},
   "outputs": [
    {
     "name": "stdout",
     "output_type": "stream",
     "text": [
      "[-0.72329028  0.26148874  1.43201211] [[ 6.56171117e-04 -7.96934512e-06  1.06540072e-05]\n",
      " [-7.96934512e-06  2.28177968e-05 -1.47815944e-04]\n",
      " [ 1.06540072e-05 -1.47815944e-04  1.30222531e-03]]\n"
     ]
    }
   ],
   "source": [
    "#Write your code for fitting your data here\n",
    "popt2, pcov2 = curve_fit(cos_function, x, y)\n",
    "print(popt2, pcov2)"
   ]
  },
  {
   "cell_type": "markdown",
   "metadata": {},
   "source": [
    "#### &#9989;&nbsp; **4.4** What values did you get for your best fit parameters?"
   ]
  },
  {
   "cell_type": "markdown",
   "metadata": {},
   "source": [
    "<font size=+3>&#9998;</font>  I got -0.723, 0.2615 and 1.4320 as my parameters."
   ]
  },
  {
   "cell_type": "markdown",
   "metadata": {},
   "source": [
    "#### &#9989;&nbsp; **4.5** Use your best fit parameters, as well as your function from 4.2, to make a best-fit line. If you get stuck you should refer to the code from 3.2."
   ]
  },
  {
   "cell_type": "code",
   "execution_count": 49,
   "metadata": {},
   "outputs": [
    {
     "data": {
      "image/png": "[encoded data removed]",
      "text/plain": [
       "<Figure size 432x288 with 1 Axes>"
      ]
     },
     "metadata": {
      "needs_background": "light"
     },
     "output_type": "display_data"
    }
   ],
   "source": [
    "\n",
    "\n",
    "G_fit = popt[0]  \n",
    "d_fit = popt[1]  \n",
    "L_fit = popt[2]  \n",
    "\n",
    "y_cos_fit = cos_function(x, G_fit, d_fit, L_fit)\n",
    "\n",
    "\n",
    "# plot our actual data\n",
    "plt.scatter(x, y, label = \"data\")\n",
    "\n",
    "# plot our fitted curve\n",
    "plt.plot(x, y_cos_fit, color = \"blue\", label = \"fit\")\n",
    "\n",
    "plt.legend()\n",
    "plt.xlabel('x')\n",
    "plt.ylabel('y')\n",
    "plt.show()\n",
    "\n",
    "#Referenced code above"
   ]
  },
  {
   "cell_type": "markdown",
   "metadata": {},
   "source": [
    "#### &#9989;&nbsp; **4.6** Is your function a good fit for this dataset?"
   ]
  },
  {
   "cell_type": "markdown",
   "metadata": {},
   "source": [
    "Not really. My line increases much higher then what my data produces. Therefore I would consider this not a good fit. However, they both model and increasing trend."
   ]
  },
  {
   "cell_type": "markdown",
   "metadata": {},
   "source": [
    "---\n",
    "## Part 5. Thinking about models and fitting models to data\n",
    "\n",
    "So far in this course we've been learning a lot of Python basics and exploring data use some special Python tools. But, of course, an important aspect of this course is **computational modeling**, as the title of the course suggests!\n",
    "\n",
    "That said, before we start heavily thinking about working with computational models, we should really pause to think about what exactly a model *is* and how we might use it.\n",
    "\n",
    "Watch the following video for an overview of how we can use models to understand the world around us, infer what the models tell us about the underlying data, and predict future events. If the the YouTube video doesn't work, try this [MediaSpace link](https://mediaspace.msu.edu/media/Introduction+to+Computational+Models/1_rcr6iiyk)."
   ]
  },
  {
   "cell_type": "code",
   "execution_count": 45,
   "metadata": {},
   "outputs": [
    {
     "data": {
      "image/jpeg": "[encoded data removed]",
      "text/html": [
       "\n",
       "        <iframe\n",
       "            width=\"640\"\n",
       "            height=\"360\"\n",
       "            src=\"https://www.youtube.com/embed/7qAunwHsuj8\"\n",
       "            frameborder=\"0\"\n",
       "            allowfullscreen\n",
       "            \n",
       "        ></iframe>\n",
       "        "
      ],
      "text/plain": [
       "<IPython.lib.display.YouTubeVideo at 0x7f9204f8ccd0>"
      ]
     },
     "execution_count": 45,
     "metadata": {},
     "output_type": "execute_result"
    }
   ],
   "source": [
    "from IPython.display import YouTubeVideo  \n",
    "YouTubeVideo(\"7qAunwHsuj8\",width=640,height=360)"
   ]
  },
  {
   "cell_type": "markdown",
   "metadata": {},
   "source": [
    "&#9989;&nbsp; After watching the video, answer the following:\n",
    "1. In your own words, explain what a model is and why models can be useful.\n",
    "2. Provide 2-3 examples of different type of models and what type of model that example represents."
   ]
  },
  {
   "cell_type": "markdown",
   "metadata": {},
   "source": [
    "<font size=+3>&#9998;</font> 1. Models are scaled down representations of occurrences happening in the real world. They are useful for understanding the world around us though they are not always accurrate as they omit other variables impacting the real world.\n",
    "\n",
    "2. Visual Models: this can be maps or anything used to see the data in a more artistic way.\n",
    "   Mathematical Models: are equations used to calculate certain objects."
   ]
  },
  {
   "cell_type": "markdown",
   "metadata": {},
   "source": [
    "---\n",
    "## Assignment wrap-up\n",
    "\n",
    "Please fill out the form that appears when you run the code below.  **You must completely fill this out in order to receive credit for the assignment!**"
   ]
  },
  {
   "cell_type": "code",
   "execution_count": 46,
   "metadata": {},
   "outputs": [
    {
     "data": {
      "text/html": [
       "\n",
       "<iframe \n",
       "\tsrc=\"https://cmse.msu.edu/cmse201-pc-survey\" \n",
       "\twidth=\"800px\" \n",
       "\theight=\"600px\" \n",
       "\tframeborder=\"0\" \n",
       "\tmarginheight=\"0\" \n",
       "\tmarginwidth=\"0\">\n",
       "\tLoading...\n",
       "</iframe>\n"
      ],
      "text/plain": [
       "<IPython.core.display.HTML object>"
      ]
     },
     "execution_count": 46,
     "metadata": {},
     "output_type": "execute_result"
    }
   ],
   "source": [
    "from IPython.display import HTML\n",
    "HTML(\n",
    "\"\"\"\n",
    "<iframe \n",
    "\tsrc=\"https://cmse.msu.edu/cmse201-pc-survey\" \n",
    "\twidth=\"800px\" \n",
    "\theight=\"600px\" \n",
    "\tframeborder=\"0\" \n",
    "\tmarginheight=\"0\" \n",
    "\tmarginwidth=\"0\">\n",
    "\tLoading...\n",
    "</iframe>\n",
    "\"\"\"\n",
    ")"
   ]
  },
  {
   "cell_type": "markdown",
   "metadata": {},
   "source": [
    "### Congratulations, you're done!\n",
    "\n",
    "Submit this assignment by uploading it to the course Desire2Learn web page.  Go to the \"Pre-class assignments\" folder, find the appropriate submission link, and upload it there.\n",
    "\n",
    "See you in class!"
   ]
  },
  {
   "cell_type": "markdown",
   "metadata": {},
   "source": [
    "&#169; Copyright 2021,  [Department of Computational Mathematics, Science and Engineering](https://cmse.msu.edu) at Michigan State University."
   ]
  },
  {
   "cell_type": "code",
   "execution_count": null,
   "metadata": {},
   "outputs": [],
   "source": []
  }
 ],
 "metadata": {
  "kernelspec": {
   "display_name": "Python 3 (ipykernel)",
   "language": "python",
   "name": "python3"
  },
  "language_info": {
   "codemirror_mode": {
    "name": "ipython",
    "version": 3
   },
   "file_extension": ".py",
   "mimetype": "text/x-python",
   "name": "python",
   "nbconvert_exporter": "python",
   "pygments_lexer": "ipython3",
   "version": "3.9.7"
  }
 },
 "nbformat": 4,
 "nbformat_minor": 4
}
