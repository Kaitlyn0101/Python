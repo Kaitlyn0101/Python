{
 "cells": [
  {
   "cell_type": "markdown",
   "metadata": {},
   "source": [
    "# Day 15 In-Class Assignment: Evaluating Models\n",
    "\n",
    "## Goals for today's assignment\n",
    "\n",
    "* Describe the utility of fitting trendlines to data, in the context of making predictions about the future\n",
    "* Use best-fit lines to make predictions about future values\n",
    "* Quantitatively and qualitatively describe how to determine the Goodness of fit for a given line"
   ]
  },
  {
   "cell_type": "markdown",
   "metadata": {},
   "source": [
    "## 1. Coming to a Consensus on Goodness of Fit\n",
    "\n",
    "#### &#9989;&nbsp; **1.1** In the pre-class assignment, you were tasked with coming up with an algorithm for determining the goodness of fit (Part 2.2). Discuss with your group the different algorithms that you each came up with. What are the differences between each of your algorithms? What are the benefits of each algorithm? What are the drawbacks?\n",
    "\n",
    "**As a group,** reach a consensus on a good algorithm for determining the goodness of fit. Write your group’s algorithm in the cell below. **Keep in mind what was discussed in the introductory presentation.**"
   ]
  },
  {
   "cell_type": "markdown",
   "metadata": {},
   "source": [
    "<font size=+3>&#9998;</font> My group decided to use the sum of sqaured residuals model \n"
   ]
  },
  {
   "cell_type": "markdown",
   "metadata": {},
   "source": [
    "## **BEFORE MOVING ON CHECK WITH AN INSTRUCTOR**"
   ]
  },
  {
   "cell_type": "markdown",
   "metadata": {},
   "source": [
    "## 2. Modeling the Air Atop Everest\n",
    "\n",
    "The higher you are above sea level, the thinner the air gets. For instance, in Denver (elevation: 1 mile, or 1600 meters), air density is about 12% lower than it is in East Lansing. For every eight breaths you take in Michigan, you’ll need nine breaths in Denver to get the equivalent amount of air.\n",
    "\n",
    "This difference in air density with altitude can be lethal for mountain climbers, where the density of air can be a third or less the value at sea level. Meaning that for every one breath you take in Michigan, you’d need to take *three* breaths on top of Mount Everest to get the equivalent amount of air.\n",
    "\n",
    "You are working for a company that specializes in selling air tanks to climbers. You’ve been tasked with writing a piece of code that can determine the density of air for a given altitude so that your company can calculate how many air tanks a climber will need. \n",
    "\n",
    "You don’t have much of a physics or chemistry background, so you’re not sure how to make a physical model for this situation. But you do have data from a previous expedition, where the climbers took measurements of the density at different heights. \n",
    "\n",
    "####  &#9989;&nbsp; **2.1** Use the data provided to test out different models. Decide on one model that you feel best fits the data. \n",
    "\n",
    "The three models you should test out are:\n",
    "\n",
    "### Linear Model\n",
    "$$y = Ax + B$$\n",
    "\n",
    "### Quadratic Model\n",
    "$$y = Ax^2 + Bx + C$$\n",
    "\n",
    "### Exponential Model\n",
    "$$y = A\\exp(-Bx) + C$$\n"
   ]
  },
  {
   "cell_type": "code",
   "execution_count": 1,
   "metadata": {},
   "outputs": [],
   "source": [
    "#Data to use for your model\n",
    "#Height is in kilometers, density is in kg/m^3\n",
    "import numpy as np\n",
    "height = np.array([0.0,0.17,0.34,0.52,0.69,0.86,1.03,1.21,1.38,1.55,1.72,1.9,2.07,2.24,2.41,2.59,2.76,2.93,3.1,3.28,3.45,3.62,3.79,3.97,4.14,4.31,4.48,4.66,4.83,5.0])\n",
    "density = np.array([1.2,1.23,1.19,1.2,1.17,1.12,1.07,1.05,1.06,1.04,1.03,1.01,0.95,0.97,0.96,0.93,0.93,0.88,0.87,0.9,0.83,0.84,0.84,0.8,0.79,0.8,0.78,0.77,0.73,0.76])"
   ]
  },
  {
   "cell_type": "code",
   "execution_count": 13,
   "metadata": {},
   "outputs": [
    {
     "name": "stdout",
     "output_type": "stream",
     "text": [
      "[-0.09803687  1.20175884]\n"
     ]
    },
    {
     "data": {
      "text/plain": [
       "<matplotlib.legend.Legend at 0x7fd1237e0340>"
      ]
     },
     "execution_count": 13,
     "metadata": {},
     "output_type": "execute_result"
    },
    {
     "data": {
      "image/png": "[encoded data removed]",
      "text/plain": [
       "<Figure size 432x288 with 1 Axes>"
      ]
     },
     "metadata": {
      "needs_background": "light"
     },
     "output_type": "display_data"
    }
   ],
   "source": [
    "from scipy.optimize import curve_fit\n",
    "import matplotlib.pyplot as plt\n",
    "#Linear Model \n",
    "def line_function(height, A, B):\n",
    "    return (A * height) + B\n",
    "\n",
    "#use curve fit to find parameters\n",
    "popt, pcov = curve_fit(line_function, height, density)\n",
    "print(popt)\n",
    "\n",
    "#Find the expected values\n",
    "A_expected = popt[0]  \n",
    "B_expected = popt[1]\n",
    "\n",
    "y_expected_line = line_function(height, A_expected, B_expected)\n",
    "\n",
    "#plot the data\n",
    "plt.scatter(height, density, label = \"data\")\n",
    "plt.plot(height, y_expected_line, color = \"orange\", label = \"fit\")\n",
    "plt.legend()"
   ]
  },
  {
   "cell_type": "code",
   "execution_count": 27,
   "metadata": {},
   "outputs": [
    {
     "name": "stdout",
     "output_type": "stream",
     "text": [
      "[ 0.0083611  -0.13984237  1.2353752 ]\n"
     ]
    },
    {
     "data": {
      "text/plain": [
       "<matplotlib.legend.Legend at 0x7fd123cb88b0>"
      ]
     },
     "execution_count": 27,
     "metadata": {},
     "output_type": "execute_result"
    },
    {
     "data": {
      "image/png": "[encoded data removed]",
      "text/plain": [
       "<Figure size 432x288 with 1 Axes>"
      ]
     },
     "metadata": {
      "needs_background": "light"
     },
     "output_type": "display_data"
    }
   ],
   "source": [
    "#Quadratic Model \n",
    "def quadratic_function(height, A, B, C):\n",
    "    return A * (height)**2 + (B* height)+C\n",
    "\n",
    "#use curve fit to find parameters\n",
    "popt, pcov = curve_fit(quadratic_function, height, density)\n",
    "print(popt)\n",
    "\n",
    "#Find the expected values\n",
    "A_expected = popt[0]  \n",
    "B_expected = popt[1]\n",
    "C_expected = popt[2]\n",
    "\n",
    "y_expected_quad = quadratic_function(height, A_expected, B_expected, C_expected)\n",
    "\n",
    "#plot the data\n",
    "plt.scatter(height, density, label = \"data\")\n",
    "plt.plot(height, y_expected_quad, color = \"red\", label = \"fit\")\n",
    "plt.legend()"
   ]
  },
  {
   "cell_type": "code",
   "execution_count": 28,
   "metadata": {},
   "outputs": [
    {
     "name": "stdout",
     "output_type": "stream",
     "text": [
      "[0.86951264 0.16868524 0.368071  ]\n"
     ]
    },
    {
     "data": {
      "text/plain": [
       "<matplotlib.legend.Legend at 0x7fd123db7190>"
      ]
     },
     "execution_count": 28,
     "metadata": {},
     "output_type": "execute_result"
    },
    {
     "data": {
      "image/png": "[encoded data removed]",
      "text/plain": [
       "<Figure size 432x288 with 1 Axes>"
      ]
     },
     "metadata": {
      "needs_background": "light"
     },
     "output_type": "display_data"
    }
   ],
   "source": [
    "#Exponential Model \n",
    "def exp_function(height, A, B, C):\n",
    "    return A * np.exp(-B*height) +C\n",
    "\n",
    "#use curve fit to find parameters\n",
    "popt, pcov = curve_fit(exp_function, height, density)\n",
    "print(popt)\n",
    "\n",
    "#Find the expected values\n",
    "A_expected = popt[0]  \n",
    "B_expected = popt[1]\n",
    "C_expected = popt[2]\n",
    "\n",
    "y_expected_exp = exp_function(height, A_expected, B_expected, C_expected)\n",
    "\n",
    "#plot the data\n",
    "plt.scatter(height, density, label = \"data\")\n",
    "plt.plot(height, y_expected_exp, color = \"green\", label = \"fit\")\n",
    "plt.legend()"
   ]
  },
  {
   "cell_type": "markdown",
   "metadata": {},
   "source": [
    "####  &#9989;&nbsp; **2.2** Code up the algorithm you defined in part 1 and *quantitatively* compare how well each model fits the data."
   ]
  },
  {
   "cell_type": "code",
   "execution_count": 29,
   "metadata": {},
   "outputs": [
    {
     "name": "stdout",
     "output_type": "stream",
     "text": [
      "0.13725490062059534 0.10260089357125679 0.10302579699439003\n"
     ]
    }
   ],
   "source": [
    "#Linear \n",
    "linear=np.sqrt(sum((density-y_expected_line)**2))\n",
    "quadratic=np.sqrt(sum((density-y_expected_quad)**2))\n",
    "exponential=np.sqrt(sum((density-y_expected_exp)**2))\n",
    "print(linear, quadratic, exponential)"
   ]
  },
  {
   "cell_type": "markdown",
   "metadata": {},
   "source": [
    "####  &#9989;&nbsp; **2.3** Which model best fits the data? Is it substantially better than the other models?"
   ]
  },
  {
   "cell_type": "markdown",
   "metadata": {},
   "source": [
    "The Quadratic Model Looks as if it fits best in this case scenario. This is not substantial by any means as the exponential is very close as well being about 0.0004 larger then the quadratic model."
   ]
  },
  {
   "cell_type": "markdown",
   "metadata": {},
   "source": [
    "####  &#9989;&nbsp; **2.4** Mount Everest is 8.85 kilometers high. What does each model predict for the density of air on top of Mount Everest?"
   ]
  },
  {
   "cell_type": "code",
   "execution_count": 30,
   "metadata": {},
   "outputs": [
    {
     "name": "stdout",
     "output_type": "stream",
     "text": [
      "the air density from the linear model is 7.863872106307487\n",
      "the air density from the quadratic model is 69.96333914431669\n",
      "the air density from the exponential model is 0.563474871477861\n"
     ]
    }
   ],
   "source": [
    "air_density_linear = line_function(8.85, A_expected, B_expected)\n",
    "air_density_quad = quadratic_function(8.85, A_expected, B_expected, C_expected)\n",
    "air_density_exp = exp_function(8.85, A_expected, B_expected, C_expected)\n",
    "\n",
    "print(\"the air density from the linear model is\", air_density_linear) \n",
    "print(\"the air density from the quadratic model is\",air_density_quad)\n",
    "print(\"the air density from the exponential model is\", air_density_exp)\n"
   ]
  },
  {
   "cell_type": "markdown",
   "metadata": {},
   "source": [
    "####  &#9989;&nbsp; **2.5** What do you believe the density of of air is at the top of Mount Everest? Justify your answer using the results from the previous questions."
   ]
  },
  {
   "cell_type": "markdown",
   "metadata": {},
   "source": [
    "<font size=+3>&#9998;</font>\n",
    "Due to the fact that we said our quadratic model is the closest, I would normally say that 69.96 would be the the density. However,this value does not make sense with our downward trend on the graphs. Becuase our exponential function was very close to the quadratic function, I will say that the air density on top of Mount Eversest is around 0.56 kg/m^3. "
   ]
  },
  {
   "cell_type": "markdown",
   "metadata": {},
   "source": [
    "## 3. (Time Permitting) Presenting your Results\n",
    "\n",
    "**Make a one-slide presentation explaining what model your group has chosen and why you've chosen it.** When you have finished your slide, call over an instructor and present your results to them."
   ]
  }
 ],
 "metadata": {
  "kernelspec": {
   "display_name": "Python 3 (ipykernel)",
   "language": "python",
   "name": "python3"
  },
  "language_info": {
   "codemirror_mode": {
    "name": "ipython",
    "version": 3
   },
   "file_extension": ".py",
   "mimetype": "text/x-python",
   "name": "python",
   "nbconvert_exporter": "python",
   "pygments_lexer": "ipython3",
   "version": "3.9.7"
  }
 },
 "nbformat": 4,
 "nbformat_minor": 4
}
