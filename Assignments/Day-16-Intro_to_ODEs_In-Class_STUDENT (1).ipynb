{
 "cells": [
  {
   "cell_type": "markdown",
   "id": "db2fb968",
   "metadata": {},
   "source": [
    "# Day 16: In-class Assignment: Introduction to Modeling with ODEs"
   ]
  },
  {
   "cell_type": "markdown",
   "id": "a1440c0a",
   "metadata": {},
   "source": [
    "### <p style=\"text-align: right;\"> &#9989; Kaitlyn Watson</p>\n",
    "\n",
    "#### <p style=\"text-align: right;\"> &#9989; James, Matt, Carson, Tara.</p>"
   ]
  },
  {
   "cell_type": "markdown",
   "id": "dbb15ef6",
   "metadata": {},
   "source": [
    "### Goals for Today's In-Class Assignment\n",
    "By the end of this assignment, you should be able to:\n",
    "* Use Python to numerically solve an ordinary differential equation (ODE)\n",
    "* Apply numerical integration to model population growth over time\n",
    "* Visualize how the population changes over time by making plots\n",
    "* Explore other ODE models\n",
    "\n",
    "### Assignment instructions\n",
    "\n",
    "Today, **with your group**, you're going to try to apply what you've learned in the pre-class assignment to explore modeling with ordinary differential equations.\n",
    "\n",
    "**This assignment is due at the end of class** and should be uploaded into the appropriate \"In-class Assignments\" submission folder.  Submission instructions can be found at the end of the notebook."
   ]
  },
  {
   "cell_type": "markdown",
   "id": "070a3e4f",
   "metadata": {},
   "source": [
    "## Part 1: Reviewing Observations from the Pre-class\n",
    "-------------------\n",
    "### &#9989;&nbsp; 1.1 Task\n",
    "\n",
    "As a group, discuss your answers to Parts 3 and 4 of the pre-class. Summarize your discussion below. What parameters are changing and which are not? What differences did you have in your responses?"
   ]
  },
  {
   "cell_type": "markdown",
   "id": "a381a7b6",
   "metadata": {},
   "source": [
    "<font size=\"+3\">&#9998;</font> \n",
    "The growth rate, population, and carrying capacity are all parameters, but the population is the only one changing with time. \n"
   ]
  },
  {
   "cell_type": "markdown",
   "id": "84ca8912",
   "metadata": {},
   "source": [
    "### &#9989;&nbsp; 1.2 Task\n",
    "\n",
    "As a group, compare your `derivs` functions and your pseudocode for update equations. Determine how you as a group would combine `derivs` and the update equations loop to solve an ODE. In the cell below, summarize your discussion."
   ]
  },
  {
   "cell_type": "markdown",
   "id": "9d906a5c",
   "metadata": {},
   "source": [
    "<font size=\"+3\">&#9998;</font> \n",
    "1. create an array of the years with a time step 50 and call it years\n",
    "2. code a for loop taking in the array years have each value in the array years be subtracted from the previous and call it time step\n",
    "3. Then use the updated equation with the derivs function to find the total population\n",
    "4. return the total population and append it to a new array."
   ]
  },
  {
   "cell_type": "markdown",
   "id": "4112b65d",
   "metadata": {},
   "source": [
    "## STOP\n",
    "\n",
    "Discuss your pseudocode for with an instructor before moving on!"
   ]
  },
  {
   "cell_type": "markdown",
   "id": "9a51304f",
   "metadata": {},
   "source": [
    "## Part 2: Coding Update Equations\n",
    "-------------------\n",
    "### &#9989;&nbsp; 2.1 Task\n",
    "\n",
    "In the cell below, fill in the `derivs` function with the code you agreed upon as a group."
   ]
  },
  {
   "cell_type": "code",
   "execution_count": 81,
   "id": "fd34cbe1",
   "metadata": {},
   "outputs": [],
   "source": [
    "\n",
    "def derivs(P,k,C):\n",
    "    return k*P*(1-(P/C))\n"
   ]
  },
  {
   "cell_type": "markdown",
   "id": "75458d43",
   "metadata": {},
   "source": [
    "### &#9989;&nbsp; 2.2 Task\n",
    "\n",
    "To actually solve the ODE, you will need to code the update equations. Use your pseudo-code from the previous part to write an update equation that numerically integrates $\\frac{dP}{dt}$. Use the following values for your solution:\n",
    "- `P0 = 1.0e9`\n",
    "- `k=0.01`\n",
    "- `C=1.2e10`\n",
    "\n",
    "Your code should result in a list (or array) of population values for the time interval from 0 to 500 years in steps of 50 years. **Your solution must call your `derivs` function.**"
   ]
  },
  {
   "cell_type": "code",
   "execution_count": 91,
   "id": "929eb42a-0bc1-4034-aa46-ae2f22b73c31",
   "metadata": {},
   "outputs": [
    {
     "data": {
      "text/plain": [
       "array([1.00000000e+09, 1.45833333e+09, 2.09888600e+09, 2.96477389e+09,\n",
       "       4.08091566e+09, 5.42746213e+09, 6.91380382e+09, 8.37901059e+09,\n",
       "       9.64319012e+09, 1.05901554e+10, 1.12122584e+10])"
      ]
     },
     "execution_count": 91,
     "metadata": {},
     "output_type": "execute_result"
    }
   ],
   "source": [
    "#Constants\n",
    "\n",
    "\n",
    "\n",
    "import numpy as np\n",
    "years=np.arange(0,550,50)\n",
    "for year in range(len(years)):\n",
    "    final=derivs(1.0e9,0.01,1.2e10)\n",
    "start_t=0\n",
    "stop_t=500\n",
    "dt=50\n",
    "P0=1.0e9\n",
    "k=0.01\n",
    "C=1.2e10\n",
    "\n",
    "t=np.array(range(start_t, stop_t+dt, dt))\n",
    "pop=np.array([])\n",
    "pop=np.append(pop,P)\n",
    "\n",
    "for i in range(len(t)-1):\n",
    "    dpdt=derivs(P0, k, C)\n",
    "    new_pop=pop[i]+dpdt*dt\n",
    "    P0=new_pop\n",
    "    pop=np.append(pop,new_pop)\n",
    "\n",
    "pop\n",
    "\n"
   ]
  },
  {
   "cell_type": "markdown",
   "id": "809bfd03",
   "metadata": {},
   "source": [
    "### &#9989;&nbsp; 2.3 Question\n",
    "\n",
    "How do you know your code is working? Put any tests you ran in the cell below."
   ]
  },
  {
   "cell_type": "code",
   "execution_count": 92,
   "id": "fa2bc6cc",
   "metadata": {},
   "outputs": [
    {
     "name": "stdout",
     "output_type": "stream",
     "text": [
      "[1.00000000e+09 1.45833333e+09 2.09888600e+09 2.96477389e+09\n",
      " 4.08091566e+09 5.42746213e+09 6.91380382e+09 8.37901059e+09\n",
      " 9.64319012e+09 1.05901554e+10 1.12122584e+10]\n"
     ]
    }
   ],
   "source": [
    "# put your tests here\n",
    "\n",
    "print(pop)"
   ]
  },
  {
   "cell_type": "markdown",
   "id": "fc612a09",
   "metadata": {},
   "source": [
    "--------------\n",
    "## Part 3: Comparing Numerical Solution to Exact Solution\n",
    "\n",
    "### &#9989;&nbsp; 3.1 Task \n",
    "What we have just done is a form of ***Numerical Integration.*** Numerical Integration is a way to *approximate* the integral of a differential equation, instead of the *exact solution,* which you get by taking the integral of $\\frac{dP}{dt}$. \n",
    "\n",
    "The exact solution to the differential equation we've been working with is:\n",
    "$$P(t) = \\frac{C}{1 + Ae^{-k_R t}}$$\n",
    "Where \n",
    "$$A = \\frac{C-P_{0}}{P_{0}}$$\n",
    "(We’ve actually worked with this equation before, when we first started making visualizations.)\n",
    "\n",
    "Let’s compare the results of our numerical integration–which is an approximation–to the exact solution for $P(t)$ given above. We’ve provided you with a function for calculating the exact solution below. Calculate $P(t)$ using the exact solution."
   ]
  },
  {
   "cell_type": "code",
   "execution_count": 93,
   "id": "c6da9496",
   "metadata": {},
   "outputs": [],
   "source": [
    "def pop_func_exact_sol(time,pinitial,bigc,littlek):\n",
    "    a = (bigc - pinitial)/pinitial\n",
    "    pop = bigc/(1 + a*np.exp(-1.0*littlek*time))\n",
    "    return pop "
   ]
  },
  {
   "cell_type": "code",
   "execution_count": 94,
   "id": "2383e33b-bfe5-4e8f-be4b-7b9fa6cefa7e",
   "metadata": {},
   "outputs": [
    {
     "name": "stdout",
     "output_type": "stream",
     "text": [
      "[1.00000000e+09 1.56416248e+09 2.37780375e+09 3.47379854e+09\n",
      " 4.82181754e+09 6.30604834e+09 7.75365224e+09 9.00785112e+09\n",
      " 9.98774813e+09 1.06932909e+10 1.11719630e+10]\n"
     ]
    }
   ],
   "source": [
    "#Write your code for calculating P using the exact solution above\n",
    "\n",
    "exact_solution=pop_func_exact_sol(years,1.0e9, 1.2e10,0.01)\n",
    "print(exact_solution)"
   ]
  },
  {
   "cell_type": "markdown",
   "id": "aad66e64",
   "metadata": {},
   "source": [
    "### &#9989;&nbsp; 3.2 Task \n",
    "\n",
    "Make a single plot that shows your numerical solution from 2.2 along with the exact solution from the previous question. Make sure your plot include axes labels and a legend."
   ]
  },
  {
   "cell_type": "code",
   "execution_count": 107,
   "id": "6a12e9a8-2d30-4755-832b-1f200fa53e46",
   "metadata": {},
   "outputs": [
    {
     "data": {
      "text/plain": [
       "<matplotlib.legend.Legend at 0x7f8825ad0f70>"
      ]
     },
     "execution_count": 107,
     "metadata": {},
     "output_type": "execute_result"
    },
    {
     "data": {
      "image/png": "[encoded data removed]",
      "text/plain": [
       "<Figure size 432x288 with 1 Axes>"
      ]
     },
     "metadata": {
      "needs_background": "light"
     },
     "output_type": "display_data"
    }
   ],
   "source": [
    "#Write your code for making a single plot showing your numerical solution vs the exact solution\n",
    "import matplotlib.pyplot as plt\n",
    "\n",
    "plt.plot(pop)\n",
    "plt.plot(exact_solution)\n",
    "plt.xlabel(\"years\")\n",
    "plt.ylabel(\"population\")\n",
    "plt.legend([\"pop\", \"exact_solution\"])"
   ]
  },
  {
   "cell_type": "markdown",
   "id": "73f551a1-7d3e-4307-a90e-e2443aae7d01",
   "metadata": {},
   "source": [
    "### &#9989;&nbsp; 3.3 Question \n",
    "\n",
    "How does the numerical integration solution compare to the exact solution? If your job involved modeling, would you feel confident using the results from the numerical solution? "
   ]
  },
  {
   "cell_type": "markdown",
   "id": "952ab049-c896-41fd-a89a-99da29f0dca9",
   "metadata": {},
   "source": [
    "<font size=\"+3\">&#9998;</font> The approximation is very close to the exact solution. The beginning and end of the data match up exactly. There is a slight dip in the middle. I would feel very confident using the results from the numerical solution."
   ]
  },
  {
   "cell_type": "markdown",
   "id": "ecc26fa0",
   "metadata": {},
   "source": [
    "--------------\n",
    "## Part 4: Changing the Time Step\n",
    "\n",
    "### &#9989;&nbsp; 4.1 Task \n",
    "\n",
    "We mentioned previously that, with numerical integration, our results are *approximate* solutions. There are certain things that we can do to improve our approximation.\n",
    "\n",
    "Repeat steps 2.2, 3.1, and 3.2 using a time step of 20 years. That is, use numerical integration to find approximate values for P and use the function from 3.1 to find exact values for P using the new time step, and then plot the values against each other."
   ]
  },
  {
   "cell_type": "code",
   "execution_count": 108,
   "id": "7da1b310",
   "metadata": {},
   "outputs": [
    {
     "data": {
      "text/plain": [
       "array([1.00000000e+09, 1.18333333e+09, 1.39666204e+09, 1.64348336e+09,\n",
       "       1.92716274e+09, 2.25069602e+09, 2.61640802e+09, 3.02559644e+09,\n",
       "       3.47814516e+09, 3.97214930e+09, 4.50361299e+09, 5.06629342e+09,\n",
       "       5.65176329e+09, 6.24974214e+09, 6.84870262e+09, 7.43669769e+09,\n",
       "       8.00229602e+09, 8.53547619e+09, 9.02833220e+09, 9.47548560e+09,\n",
       "       9.87416893e+09, 1.02240159e+10, 1.05266440e+10, 1.07851356e+10,\n",
       "       1.10035102e+10, 1.11862583e+10])"
      ]
     },
     "execution_count": 108,
     "metadata": {},
     "output_type": "execute_result"
    }
   ],
   "source": [
    "\n",
    "import numpy as np\n",
    "years=np.arange(0,550,20)\n",
    "for year in range(len(years)):\n",
    "    final=derivs(1.0e9,0.01,1.2e10)\n",
    "start_t=0\n",
    "stop_t=500\n",
    "dt=20\n",
    "P0=1.0e9\n",
    "k=0.01\n",
    "C=1.2e10\n",
    "\n",
    "t=np.array(range(start_t, stop_t+dt, dt))\n",
    "pop=np.array([])\n",
    "pop=np.append(pop,P)\n",
    "\n",
    "for i in range(len(t)-1):\n",
    "    dpdt=derivs(P0, k, C)\n",
    "    new_pop=pop[i]+dpdt*dt\n",
    "    P0=new_pop\n",
    "    pop=np.append(pop,new_pop)\n",
    "\n",
    "pop"
   ]
  },
  {
   "cell_type": "markdown",
   "id": "6cda8ad7-1c0c-460a-8a65-04fd8a4e9a95",
   "metadata": {},
   "source": [
    "### &#9989;&nbsp; 4.2 Question\n",
    "\n",
    "What effect does changing the time step have on your numerical solution?"
   ]
  },
  {
   "cell_type": "markdown",
   "id": "3a212655-83bf-47b2-8f3b-bedccab49f3f",
   "metadata": {},
   "source": [
    "<font size=\"+3\">&#9998;</font> You get more values as there are more intervals using a smaller time step"
   ]
  },
  {
   "cell_type": "markdown",
   "id": "3db42b39-74d2-47f9-9149-525ac6023253",
   "metadata": {},
   "source": [
    "### &#9989;&nbsp; 4.3 Question\n",
    "\n",
    "What we’ve been doing for our numerical integration is the same as taking the [Riemann Sum](https://en.wikipedia.org/wiki/Riemann_sum), which involves calculating an integral by drawing little boxes (or other shapes) underneath a curve, calculating the area of each box, and summing them together. \n",
    "\n",
    "Consider the following figure, which shows Riemann sums for different step sizes. Use this figure to explain *why* changing the time step affects your numerical solution. (Remember: Integration is basically finding the area under a curve!)\n",
    "\n",
    "<div align=\"center\"><img src=\"https://raw.githubusercontent.com/msu-cmse-courses/cmse201-S22-data/main/Day-16/Riemann_sum_convergence.png\" width=500px></div>\n",
    "\n",
    "\n"
   ]
  },
  {
   "cell_type": "markdown",
   "id": "7d962a9b-e59f-4ebe-a237-b560bd31fab6",
   "metadata": {},
   "source": [
    "<font size=\"+3\">&#9998;</font> Changing the time step allows for more shapes to be drawn under a curve and therefore a more accurate representation area underneath the curve "
   ]
  },
  {
   "cell_type": "markdown",
   "id": "f2c7edac",
   "metadata": {},
   "source": [
    "## Part 5 (Time Permitting): Exploring Another Model\n",
    "\n",
    "There are several other simple ordinary differential equations that have solutions we can obtain similarly to the population growth model. [This website](http://sites.science.oregonstate.edu/math/home/programs/undergrad/CalculusQuestStudyGuides/ode/first/examples/examples.html#population) mentions a few of them.\n",
    "\n",
    "### &#9989;&nbsp; 5.1 Question\n",
    "\n",
    "Research one of the models on the website, and answer the following questions:\n",
    "1. Describe the model and the system it is modeling.\n",
    "2. What are the parameters that are changing?\n",
    "3. What are the parameters that are constant?\n",
    "4. What derivatives would you calculate in your `derivs` function?"
   ]
  },
  {
   "cell_type": "markdown",
   "id": "03defa9d",
   "metadata": {},
   "source": [
    "<font size=\"+3\">&#9998;</font> **Put your answer here**"
   ]
  },
  {
   "cell_type": "markdown",
   "id": "9c4a1a71",
   "metadata": {},
   "source": [
    "### &#9989;&nbsp; 5.2 Task\n",
    "\n",
    "Write a new `derivs` function for your new model. Test it in the same way you tested the population growth model in the pre-class."
   ]
  },
  {
   "cell_type": "code",
   "execution_count": 34,
   "id": "7dcdcb4c",
   "metadata": {},
   "outputs": [],
   "source": [
    "# put your code here"
   ]
  },
  {
   "cell_type": "markdown",
   "id": "5040d375",
   "metadata": {},
   "source": [
    "---\n",
    "## Assignment wrapup\n",
    "\n",
    "Please fill out the form that appears when you run the code below. **You must completely fill this out in order to receive credit for the assignment!** "
   ]
  },
  {
   "cell_type": "code",
   "execution_count": 1,
   "id": "cc5b47de",
   "metadata": {},
   "outputs": [
    {
     "data": {
      "text/html": [
       "\n",
       "<iframe \n",
       "\tsrc=\"https://cmse.msu.edu/cmse201-ic-survey\" \n",
       "\twidth=\"800px\" \n",
       "\theight=\"600px\" \n",
       "\tframeborder=\"0\" \n",
       "\tmarginheight=\"0\" \n",
       "\tmarginwidth=\"0\">\n",
       "\tLoading...\n",
       "</iframe>\n",
       "\n"
      ],
      "text/plain": [
       "<IPython.core.display.HTML object>"
      ]
     },
     "execution_count": 1,
     "metadata": {},
     "output_type": "execute_result"
    }
   ],
   "source": [
    "from IPython.display import HTML\n",
    "HTML(\n",
    "\"\"\"\n",
    "<iframe \n",
    "\tsrc=\"https://cmse.msu.edu/cmse201-ic-survey\" \n",
    "\twidth=\"800px\" \n",
    "\theight=\"600px\" \n",
    "\tframeborder=\"0\" \n",
    "\tmarginheight=\"0\" \n",
    "\tmarginwidth=\"0\">\n",
    "\tLoading...\n",
    "</iframe>\n",
    "\n",
    "\"\"\"\n",
    ")"
   ]
  },
  {
   "cell_type": "markdown",
   "id": "f978a3de",
   "metadata": {},
   "source": [
    "### Congratulations, you're done!\n",
    "\n",
    "Submit this assignment by uploading it to the course Desire2Learn web page.  Go to the \"In-Class Assignments\" folder, find the appropriate submission link, and upload it there."
   ]
  },
  {
   "cell_type": "markdown",
   "id": "9c7ba00b",
   "metadata": {},
   "source": [
    "&#169; Copyright 2022,  Michigan State University Board of Trustees"
   ]
  },
  {
   "cell_type": "code",
   "execution_count": null,
   "id": "91477cae",
   "metadata": {},
   "outputs": [],
   "source": []
  }
 ],
 "metadata": {
  "kernelspec": {
   "display_name": "Python 3 (ipykernel)",
   "language": "python",
   "name": "python3"
  },
  "language_info": {
   "codemirror_mode": {
    "name": "ipython",
    "version": 3
   },
   "file_extension": ".py",
   "mimetype": "text/x-python",
   "name": "python",
   "nbconvert_exporter": "python",
   "pygments_lexer": "ipython3",
   "version": "3.9.7"
  }
 },
 "nbformat": 4,
 "nbformat_minor": 5
}
