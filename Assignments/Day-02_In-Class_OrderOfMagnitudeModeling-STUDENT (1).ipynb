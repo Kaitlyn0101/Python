{
 "cells": [
  {
   "cell_type": "markdown",
   "metadata": {},
   "source": [
    "# Day 2 In-class Assignment: Order of Magnitude Modeling"
   ]
  },
  {
   "cell_type": "markdown",
   "metadata": {},
   "source": [
    "### <p style=\"text-align: right;\"> &#9989; Kaitlyn Watson</p>\n",
    "#### <p style=\"text-align: right;\"> &#9989; Pengli Shao, Jacqueline Ryan, Audrey Bech, Jada Lane, Trey Dunbeeck  </p>"
   ]
  },
  {
   "cell_type": "markdown",
   "metadata": {},
   "source": [
    "## How many mice would it take to fill up this classroom?\n",
    "\n",
    "### (a.k.a., making order-of-magnitude estimates for fun and profit!)\n",
    "![Mouse](https://www.jax.org/-/media/jaxweb/images/jax-mice-and-services/mice/web_0009_find-and-order-jax-mice.jpg?h=316&w=467&la=en&hash=D42556D3A616EC2E099378DB9CA5403D0C38C1E4)"
   ]
  },
  {
   "cell_type": "markdown",
   "metadata": {},
   "source": [
    "## Learning Goals \n",
    "\n",
    "Why are we asking you to do this?\n",
    "\n",
    "One type of modeling is called \"order-of-magnitude estimation\" or \"order-of-magnitude modeling.\"  A physicist would call this a \"Fermi Problem\" after Enrico Fermi, a physicist who participated in the Manhattan Project and who was famously good at making estimates of this sort.  More specifically, this sort of modeling makes us think about:\n",
    "\n",
    "* The quantities that should go into our models, and the reasonable values of those quantities.\n",
    "* How the different parts of our model might interact with one another.\n",
    "* What a \"good enough\" answer would be to a particular problem"
   ]
  },
  {
   "cell_type": "markdown",
   "metadata": {},
   "source": [
    "## The Problem\n",
    "\n",
    "In this project, your group is going to calculate an answer one of the following questions:\n",
    "\n",
    "1. How many grams of caffeine get consumed on MSU's campus each week?  \n",
    "2. How much does the air above Lake Superior weigh?\n",
    "3. If somebody left one of the bathroom faucets running at the Breslin Center, how long would it take to fill it up with water?  \n",
    "4. If all of the toilet paper used per week in the United States were rolled out across the surface of Michigan could you cover the entire state? If so, could you cover it more than once?\n",
    "5. Which has more mass, the air in this classroom or the brains in this classroom?  \n",
    "6. On average, how many people are airborne in the world at a given moment?  \n",
    "7. How many total miles do all Americans drive in their cars in one year, and how does this compare to the circumference of the Earth ($2.5 \\times 10^4$ miles), the distance from the Earth to the Sun ($9 \\times 10^7$ miles), and size of the Solar System ($10^9$ miles)?\n",
    "8. After a particularly exciting Spartan football game, the fans rush the field. How many people can fit onto the football field at Spartan Stadium?\n",
    "\n",
    "---\n",
    "# Part 1\n",
    "\n",
    "**As a group**, you will be assigned one of these problems to answer. You will need to come up with:\n",
    "1. The questions that you need to ask and answer to come up with an estimate for your problem.\n",
    "2. The equation(s) you will need to solve your problem.\n",
    "3. The reasonable values that would go into the equation(s).\n",
    "\n",
    "Once you have finished these steps, you and your group will implement a simple computer program to calculate a range of answers to your problem.\n",
    "\n",
    "#### Use a virtual whiteboard app like [Google Jamboard](https://jamboard.google.com/) or the [Aww app](https://awwapp.com/)** write out your ideas to ensure that everyone is on the same page and allow your instructors to see your progress."
   ]
  },
  {
   "cell_type": "markdown",
   "metadata": {},
   "source": [
    "## 1.1 Describing Your Model\n",
    "**In the cell below, write down your assigned question and the parameters in your model.** Also write down the range of possible values for each of the parameters!\n",
    "\n"
   ]
  },
  {
   "cell_type": "markdown",
   "metadata": {},
   "source": [
    "<font size=6 color=\"#009600\">&#9998;</font> *Put your answer here! (reminder: double-click on this cell to go into \"edit mode\" and then hit shift+enter when you're done)*\n",
    "\n",
    "After a particularly exciting Spartan football game, the fans rush the field. How many people can fit onto the football field at Spartan Stadium?\n",
    "\n",
    "Questions:\n",
    "\n",
    "What is the length of the football field? 4320 in\n",
    "What is the width of the stadium?  1920 in\n",
    "What is the shoulder width of person? Possible ROV: 14-18 inches"
   ]
  },
  {
   "cell_type": "markdown",
   "metadata": {},
   "source": [
    "## 1.2 Coding Your Model\n",
    "In the cell below, write a program to calculate and print out an estimate for your model."
   ]
  },
  {
   "cell_type": "markdown",
   "metadata": {},
   "source": [
    "> **Important**: When writing your code, **define variables for each value of interest.**  Then use those variables in your equations.  In other words, do not  hard-code the values in your equations (do not put *numbers* in your equations, put *variables* in your equations).  \n",
    ">\n",
    "> As an example, if I want to compute and then print the area of a right triangle, which I know to be $A = \\frac{1}{2} b h$, I might write my code like so:\n",
    ">\n",
    ">> ```\n",
    ">> base = 10\n",
    ">> height = 5\n",
    ">>\n",
    ">> area = (base * height) / 2\n",
    ">>\n",
    ">> print(\"The area is:\", area)\n",
    ">> ```  \n",
    ">       \n",
    "> By doing this, if I decide I need to change the `base` value or the `height` value, I can just change the value where they are defined. This can be especially useful if I have to use the values multiple times or if I want to experiment with changing the values."
   ]
  },
  {
   "cell_type": "code",
   "execution_count": 27,
   "metadata": {},
   "outputs": [
    {
     "name": "stdout",
     "output_type": "stream",
     "text": [
      "615.7521601035994\n",
      "254.46900494077323\n"
     ]
    }
   ],
   "source": [
    "# write a program in this cell to calculate and print out an estimate\n",
    "# of the answer to the question you've chosen to solve!\n",
    "\n",
    "\n",
    "#Establish Variables  \n",
    "length=4320\n",
    "\n",
    "width=1920\n",
    "\n",
    "r1=14\n",
    "r2=18\n",
    "\n",
    "#Find the Area of a person with a should width of 14 and a shoulder width of 18\n",
    "import math\n",
    "area1=math.pi * (r1/2)**2\n",
    "print(area)\n",
    "\n",
    "area2=math.pi*(r2/2)**2\n",
    "print(area2)\n",
    "\n",
    "\n"
   ]
  },
  {
   "cell_type": "code",
   "execution_count": 37,
   "metadata": {},
   "outputs": [
    {
     "name": "stdout",
     "output_type": "stream",
     "text": [
      "The number of people that could flood the Spartan Stadium is 53881.418774751706\n",
      "The number of people that could flood the Spartan Stadium is 32594.932345220168\n"
     ]
    }
   ],
   "source": [
    "#Calculate the number of people for each possible range\n",
    "\n",
    "Total1=(4320*1920)/area1\n",
    "print(\"The number of people that could flood the Spartan Stadium is\", Total1)\n",
    "\n",
    "Total2=(4320*1920)/area2\n",
    "print(\"The number of people that could flood the Spartan Stadium is\", Total2)"
   ]
  },
  {
   "cell_type": "markdown",
   "metadata": {},
   "source": [
    "## 1.3 Exploring Model Results\n",
    "**Now, run your model several times**, and each time change the values of the parameters to a different value in the range you think is valid.  In the cell below, write down all of your answers.  What is the total range, and approximately what is the average value?"
   ]
  },
  {
   "cell_type": "markdown",
   "metadata": {},
   "source": [
    "<font size=6 color=\"#009600\">&#9998;</font> *There can be 53881 to 32595 people in the stadium. The average number of people able to fill the spartan stadium is 43238. "
   ]
  },
  {
   "cell_type": "markdown",
   "metadata": {},
   "source": [
    "---\n",
    "## &#128721; STOP AND ASK YOUR INSTRUCTOR TO COME OVER\n",
    "\n",
    "# Part 2\n",
    "\n",
    "## 2.1 Pick a Second Model\n",
    "**Now, picking one of the other questions and going through the process of making another order-of-magnitude estimate.** Each group must choose a *different* question. Once you have decided on which question you are going to try to tackle, try working through the answer on your own, but check in with the members of your group if you run into issues or want to bounce ideas off each other."
   ]
  },
  {
   "cell_type": "markdown",
   "metadata": {},
   "source": [
    "## 2.2 Describe the Model\n",
    "**In the cell below, write down your chosen question and the parameters in your model.** Also write down the range of possible values for each of the parameters!"
   ]
  },
  {
   "cell_type": "markdown",
   "metadata": {},
   "source": [
    "<font size=6 color=\"#009600\">&#9998;</font> \n",
    "If all of the toilet paper used per week in the United States were rolled out across the surface of Michigan could you cover the entire state? If so, could you cover it more than once?\n",
    "\n",
    "How many rolls does a person use in a week? 2 rolls\n",
    "What is the surface area of a roll of toilet paper: 85 square inches\n",
    "How many people live in the United States? 300 to 350 million \n",
    "What is the area of Michigan? 100,000 sq miles or (4.01*10^14)\n"
   ]
  },
  {
   "cell_type": "markdown",
   "metadata": {},
   "source": [
    "## 2.3 Coding the Model\n",
    "\n",
    "In the cell below, write a program to calculate and print out an estimate for your model."
   ]
  },
  {
   "cell_type": "code",
   "execution_count": 36,
   "metadata": {},
   "outputs": [
    {
     "name": "stdout",
     "output_type": "stream",
     "text": [
      "Total area in sqaure inches of toilet paper used by everyone in the United States in a week to cover Michigan would be 0.0001275\n",
      "Total area in sqaure inches of toilet paper used by everyone in the United States in a week to cover Michigan would be 0.00014875\n"
     ]
    }
   ],
   "source": [
    "# write a program in this cell to calculate and print out an estimate\n",
    "# of the answer to the question you've chosen to solve!\n",
    "\n",
    "#Establish Variables and Estimations\n",
    "roll=2\n",
    "rollSA=85\n",
    "Pop1=300000000\n",
    "Pop2=350000000\n",
    "Area=400000000000000\n",
    "\n",
    "#Order of Magnitude: Finding the Sqaure Inches of Toilet Paper used to cover Michigan\n",
    "Total=(roll*rollSA*Pop1)/Area\n",
    "print(\"Total area in sqaure inches of toilet paper used by everyone in the United States in a week to cover Michigan would be\", Total)\n",
    "Total2=(roll*rollSA*Pop2)/Area\n",
    "print(\"Total area in sqaure inches of toilet paper used by everyone in the United States in a week to cover Michigan would be\", Total2)"
   ]
  },
  {
   "cell_type": "markdown",
   "metadata": {},
   "source": [
    "---\n",
    "## Assignment wrapup\n",
    "\n",
    "Please fill out the form that appears when you run the code below. ***For today's assignment, ignore the part about pre-class assignment.*  You must completely fill this out in order to receive credit for the assignment!** "
   ]
  },
  {
   "cell_type": "code",
   "execution_count": 1,
   "metadata": {},
   "outputs": [
    {
     "data": {
      "text/html": [
       "\n",
       "<iframe \n",
       "\tsrc=\"https://cmse.msu.edu/cmse201-ic-survey\" \n",
       "\twidth=\"800px\" \n",
       "\theight=\"600px\" \n",
       "\tframeborder=\"0\" \n",
       "\tmarginheight=\"0\" \n",
       "\tmarginwidth=\"0\">\n",
       "\tLoading...\n",
       "</iframe>\n"
      ],
      "text/plain": [
       "<IPython.core.display.HTML object>"
      ]
     },
     "execution_count": 1,
     "metadata": {},
     "output_type": "execute_result"
    }
   ],
   "source": [
    "from IPython.display import HTML\n",
    "HTML(\n",
    "\"\"\"\n",
    "<iframe \n",
    "\tsrc=\"https://cmse.msu.edu/cmse201-ic-survey\" \n",
    "\twidth=\"800px\" \n",
    "\theight=\"600px\" \n",
    "\tframeborder=\"0\" \n",
    "\tmarginheight=\"0\" \n",
    "\tmarginwidth=\"0\">\n",
    "\tLoading...\n",
    "</iframe>\n",
    "\"\"\"\n",
    ")"
   ]
  },
  {
   "cell_type": "markdown",
   "metadata": {},
   "source": [
    "### Submit this assignment by uploading it to the course Desire2Learn web page.  \n",
    "Go to the \"In-class assignments\" folder, find the assignment submission link for today's assignment, and upload it there.\n",
    "\n",
    "#### Congratulations, you're done!\n",
    "\n",
    "Make sure to complete the **Pre-class assignment before next class.** See you next class!\n",
    "\n",
    "See you next class!"
   ]
  },
  {
   "cell_type": "markdown",
   "metadata": {},
   "source": [
    "&#169; Copyright 2021,  Michigan State University Board of Trustees"
   ]
  }
 ],
 "metadata": {
  "kernelspec": {
   "display_name": "Python 3 (ipykernel)",
   "language": "python",
   "name": "python3"
  },
  "language_info": {
   "codemirror_mode": {
    "name": "ipython",
    "version": 3
   },
   "file_extension": ".py",
   "mimetype": "text/x-python",
   "name": "python",
   "nbconvert_exporter": "python",
   "pygments_lexer": "ipython3",
   "version": "3.9.7"
  }
 },
 "nbformat": 4,
 "nbformat_minor": 4
}
