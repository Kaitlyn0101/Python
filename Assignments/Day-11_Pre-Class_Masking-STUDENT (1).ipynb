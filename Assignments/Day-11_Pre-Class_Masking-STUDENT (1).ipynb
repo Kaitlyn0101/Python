{
 "cells": [
  {
   "cell_type": "markdown",
   "id": "627dd662-b55d-4ce8-b5ca-072d17c471bc",
   "metadata": {},
   "source": [
    "# Day 11 Pre-class Assignment: Normal Distributions, Masking, and Log Plots\n",
    "\n",
    "\n",
    "<p float=\"left\">\n",
    "  <img src=\"https://cdn.scribbr.com/wp-content/uploads/2020/10/standard-normal-distribution.png\" width=\"450px\" />     \n",
    "  <img src=\"https://cf.ltkcdn.net/costumes/images/std-xs/96214-283x424-Phantommask2.webp\" width=\"250px\" />\n",
    "</p>\n"
   ]
  },
  {
   "cell_type": "markdown",
   "id": "987f80db-741e-4da3-9674-2909f8c868d6",
   "metadata": {},
   "source": [
    "### <p style=\"text-align: right;\"> &#9989; Kaitlyn Watson</p>"
   ]
  },
  {
   "cell_type": "markdown",
   "id": "3925a802-d4f2-4720-9c81-8b009eec85ad",
   "metadata": {},
   "source": [
    "## Goals for today's pre-class assignment\n",
    "\n",
    "* Working with the descriptive statistics and visualizations of Normal Distributions\n",
    "* Practice using masks with NumPy arrays\n",
    "* Interpreting Log Plots\n",
    "\n",
    "\n",
    "## Assignment instructions\n",
    "\n",
    "**This assignment is due by 11:59 p.m. the day before class,** and should be uploaded into the appropriate \"Pre-class assignments\" submission folder.  If you run into issues with your code, make sure to use Slack to help each other out and receive some assistance from the instructors. Submission instructions can be found at the end of the notebook."
   ]
  },
  {
   "cell_type": "markdown",
   "id": "5451775e-436f-4945-b52f-33d723859d19",
   "metadata": {},
   "source": [
    "## 1. Normal Distributions \n",
    "In today’s assignment we will be talking about the **Normal** (or Gaussian) **distribution.** A normal distribution of values looks something like this:"
   ]
  },
  {
   "cell_type": "code",
   "execution_count": 1,
   "id": "657f4759-e25d-4b48-ab37-a7e6b4990dab",
   "metadata": {},
   "outputs": [
    {
     "data": {
      "text/plain": [
       "(array([4.0000e+00, 1.7000e+01, 7.3000e+01, 2.6300e+02, 8.0200e+02,\n",
       "        2.1560e+03, 4.7870e+03, 8.7370e+03, 1.3272e+04, 1.6503e+04,\n",
       "        1.6944e+04, 1.4752e+04, 1.0438e+04, 6.2710e+03, 3.1550e+03,\n",
       "        1.2820e+03, 3.8400e+02, 1.1600e+02, 3.5000e+01, 9.0000e+00]),\n",
       " array([ 5.55762346,  5.99310664,  6.42858982,  6.864073  ,  7.29955618,\n",
       "         7.73503936,  8.17052254,  8.60600572,  9.0414889 ,  9.47697208,\n",
       "         9.91245526, 10.34793844, 10.78342163, 11.21890481, 11.65438799,\n",
       "        12.08987117, 12.52535435, 12.96083753, 13.39632071, 13.83180389,\n",
       "        14.26728707]),\n",
       " <BarContainer object of 20 artists>)"
      ]
     },
     "execution_count": 1,
     "metadata": {},
     "output_type": "execute_result"
    },
    {
     "data": {
      "image/png": "[encoded data removed]",
      "text/plain": [
       "<Figure size 432x288 with 1 Axes>"
      ]
     },
     "metadata": {
      "needs_background": "light"
     },
     "output_type": "display_data"
    }
   ],
   "source": [
    "import matplotlib.pyplot as plt\n",
    "import numpy as np\n",
    "\n",
    "N_points = 100000\n",
    "mean=10.0\n",
    "stand_dev = 1.0\n",
    "\n",
    "n_bins = 20\n",
    "\n",
    "x = np.random.normal(mean,stand_dev,N_points)\n",
    "plt.hist(x, bins=n_bins)"
   ]
  },
  {
   "cell_type": "markdown",
   "id": "60fd0352-8c63-40c7-be97-4e5d7d01ac5a",
   "metadata": {},
   "source": [
    "Which you may have seen before (it’s also called a *bell curve*). Normal distributions are very important in statistics, primarily because **most distributions eventually become Normal distributions if you collect enough samples** (this is called the Central Limit Theorem)."
   ]
  },
  {
   "cell_type": "markdown",
   "id": "78f84514-7559-42fa-9d5d-3b8f846de382",
   "metadata": {},
   "source": [
    "### 1.1 \n",
    "Change the number of data points (`N_points`) and plot the resulting distribution. Make four subplots, showing distributions for `N_points`= 10, 100, 1000, and 10000. (Use `mean`=10.0  and `stand_dev` = 1.0)"
   ]
  },
  {
   "cell_type": "code",
   "execution_count": 12,
   "id": "3a3f7a5b-f65b-4a9a-bbd8-c18f0c0b400e",
   "metadata": {},
   "outputs": [
    {
     "data": {
      "text/plain": [
       "(array([1.4000e+01, 5.1000e+01, 2.3000e+02, 9.0600e+02, 2.6460e+03,\n",
       "        5.9940e+03, 1.1111e+04, 1.6444e+04, 1.8948e+04, 1.7698e+04,\n",
       "        1.2934e+04, 7.4870e+03, 3.6180e+03, 1.3800e+03, 4.1000e+02,\n",
       "        1.1000e+02, 1.4000e+01, 3.0000e+00, 1.0000e+00, 1.0000e+00]),\n",
       " array([ 5.83954746,  6.31983715,  6.80012684,  7.28041653,  7.76070623,\n",
       "         8.24099592,  8.72128561,  9.2015753 ,  9.681865  , 10.16215469,\n",
       "        10.64244438, 11.12273407, 11.60302377, 12.08331346, 12.56360315,\n",
       "        13.04389284, 13.52418254, 14.00447223, 14.48476192, 14.96505161,\n",
       "        15.4453413 ]),\n",
       " <BarContainer object of 20 artists>)"
      ]
     },
     "execution_count": 12,
     "metadata": {},
     "output_type": "execute_result"
    },
    {
     "data": {
      "image/png": "[encoded data removed]",
      "text/plain": [
       "<Figure size 720x1080 with 4 Axes>"
      ]
     },
     "metadata": {
      "needs_background": "light"
     },
     "output_type": "display_data"
    }
   ],
   "source": [
    "import matplotlib.pyplot as plt\n",
    "import numpy as np\n",
    "\n",
    "plt.subplots(2,2,figsize=(10,15)) \n",
    "\n",
    "N_points = 10\n",
    "mean=10.0\n",
    "stand_dev = 1.0\n",
    "\n",
    "n_bins = 20\n",
    "\n",
    "x = np.random.normal(mean,stand_dev,N_points)\n",
    "plt.subplot(4,1,1) \n",
    "plt.hist(x, bins=n_bins)\n",
    "\n",
    "\n",
    "\n",
    "N_points = 100\n",
    "mean=10.0\n",
    "stand_dev = 1.0\n",
    "\n",
    "n_bins = 20\n",
    "plt.subplot(4,1,2)\n",
    "x = np.random.normal(mean,stand_dev,N_points)\n",
    "plt.hist(x, bins=n_bins)\n",
    "\n",
    "\n",
    "\n",
    "N_points = 1000\n",
    "mean=10.0\n",
    "stand_dev = 1.0\n",
    "\n",
    "n_bins = 20\n",
    "x = np.random.normal(mean,stand_dev,N_points)\n",
    "plt.subplot(4,1,3)\n",
    "plt.hist(x, bins=n_bins)\n",
    "\n",
    "\n",
    "\n",
    "N_points = 100000\n",
    "mean=10.0\n",
    "stand_dev = 1.0\n",
    "\n",
    "n_bins = 20\n",
    "\n",
    "x = np.random.normal(mean,stand_dev,N_points)\n",
    "plt.subplot(4,1,4)\n",
    "plt.hist(x, bins=n_bins)\n"
   ]
  },
  {
   "cell_type": "markdown",
   "id": "f57d9ccb-30be-4bc9-afe7-2550c47d9cc0",
   "metadata": {},
   "source": [
    "### 1.2 \n",
    "What do you notice about how the shape of the distribution changes as you use more data points?"
   ]
  },
  {
   "cell_type": "markdown",
   "id": "72487677-aa20-41ec-8326-5bd25125002e",
   "metadata": {},
   "source": [
    "As the number of data points increase, the shape of the distribution becomes more normal."
   ]
  },
  {
   "cell_type": "markdown",
   "id": "00153b8e-3b9b-4903-bd80-c30cab2acea9",
   "metadata": {},
   "source": [
    "### 1.3 \n",
    "Run your code above again, so you get a new set of data points for your plots. What do you notice about how the different plots change when you pick new data points?"
   ]
  },
  {
   "cell_type": "markdown",
   "id": "81e47994-1b42-4d45-b176-f252e1e589b9",
   "metadata": {},
   "source": [
    "All the plots shift based on the different data points. However, no matter how many times the code is ran, the plot that has the highest amount of points looks the most normally (evenly) distributed. "
   ]
  },
  {
   "cell_type": "markdown",
   "id": "eb0d181e-d637-45f4-a450-03a3e4a280f5",
   "metadata": {},
   "source": [
    "Let’s talk about the important properties of a Normal distribution.\n",
    "\n",
    "### 1.4 Mean & Median\n",
    "Make four distributions (using `N_points` = 100000 and `stand_dev`=1.0) with means of 0.0, 1.0, 5.0, 10.0. For each distribution, calculate the mean and median values."
   ]
  },
  {
   "cell_type": "code",
   "execution_count": 24,
   "id": "28bcfeaa-74a0-422b-932c-50d3f7809b53",
   "metadata": {},
   "outputs": [
    {
     "name": "stdout",
     "output_type": "stream",
     "text": [
      "-0.0003050975380060228 -0.0024526112016903883\n",
      "0.9987396287356921 0.9972678501034713\n",
      "4.99979347601935 4.996422869645563\n",
      "10.00155548552904 10.00009124926466\n"
     ]
    }
   ],
   "source": [
    "import matplotlib.pyplot as plt\n",
    "import numpy as np\n",
    "\n",
    "N_points = 100000\n",
    "mean=0.0\n",
    "stand_dev = 1.0\n",
    "\n",
    "n_bins = 20\n",
    "\n",
    "x = np.random.normal(mean,stand_dev,N_points)\n",
    "print(np.mean(x), np.median(x))\n",
    "\n",
    "\n",
    "N_points = 100000\n",
    "mean=1.0\n",
    "stand_dev = 1.0\n",
    "\n",
    "n_bins = 20\n",
    "\n",
    "x = np.random.normal(mean,stand_dev,N_points)\n",
    "print(np.mean(x), np.median(x))\n",
    "\n",
    "\n",
    "N_points = 100000\n",
    "mean=5.0\n",
    "stand_dev = 1.0\n",
    "\n",
    "n_bins = 20\n",
    "\n",
    "x = np.random.normal(mean,stand_dev,N_points)\n",
    "print(np.mean(x), np.median(x))\n",
    "\n",
    "N_points = 100000\n",
    "mean=10.0\n",
    "stand_dev = 1.0\n",
    "\n",
    "n_bins = 20\n",
    "\n",
    "x = np.random.normal(mean,stand_dev,N_points)\n",
    "print(np.mean(x), np.median(x))"
   ]
  },
  {
   "cell_type": "markdown",
   "id": "86b07a21-d195-4059-aee3-bc9c088a9dce",
   "metadata": {},
   "source": [
    "### 1.5 \n",
    "What do you notice about the mean and median values for the five distributions? How do they compare to one another?\n",
    "\n"
   ]
  },
  {
   "cell_type": "markdown",
   "id": "c5a2c48b-74ea-467c-a228-ea1888c59872",
   "metadata": {},
   "source": [
    "They are all either slightly less or slightly more then the means we plugged into the distribution. As the mean we put into the distribution increases, so does the calculated mean and medians above. "
   ]
  },
  {
   "cell_type": "markdown",
   "id": "24d77af4-9cfa-4142-8207-750777f1406d",
   "metadata": {},
   "source": [
    "### 1.6 Standard Deviation\n",
    "Make four distributions (using `N_points` = 100000 and `mean`=10.0) with standard deviations of 0.5, 1.0, 5.0, and 10.0. Make four subplots showing each of the distributions. "
   ]
  },
  {
   "cell_type": "code",
   "execution_count": 30,
   "id": "b220d0a2-fd0f-43f3-8987-ac3e4550e50d",
   "metadata": {},
   "outputs": [
    {
     "data": {
      "text/plain": [
       "(-40.0, 40.0)"
      ]
     },
     "execution_count": 30,
     "metadata": {},
     "output_type": "execute_result"
    },
    {
     "data": {
      "image/png": "[encoded data removed]",
      "text/plain": [
       "<Figure size 720x1080 with 4 Axes>"
      ]
     },
     "metadata": {
      "needs_background": "light"
     },
     "output_type": "display_data"
    }
   ],
   "source": [
    "import matplotlib.pyplot as plt\n",
    "import numpy as np\n",
    "\n",
    "plt.subplots(2,2,figsize=(10,15)) \n",
    "\n",
    "N_points = 100000\n",
    "mean=10.0\n",
    "stand_dev = 0.5\n",
    "\n",
    "n_bins = 20\n",
    "\n",
    "x = np.random.normal(mean,stand_dev,N_points)\n",
    "plt.subplot(4,1,1) \n",
    "plt.hist(x, bins=n_bins)\n",
    "plt.xlim([-40,40])\n",
    "\n",
    "\n",
    "N_points = 100000\n",
    "mean=10.0\n",
    "stand_dev = 1.0\n",
    "\n",
    "n_bins = 20\n",
    "plt.subplot(4,1,2)\n",
    "x = np.random.normal(mean,stand_dev,N_points)\n",
    "plt.hist(x, bins=n_bins)\n",
    "plt.xlim([-40,40])\n",
    "\n",
    "\n",
    "N_points = 100000\n",
    "mean=10.0\n",
    "stand_dev = 5.0\n",
    "\n",
    "n_bins = 20\n",
    "x = np.random.normal(mean,stand_dev,N_points)\n",
    "plt.subplot(4,1,3)\n",
    "plt.hist(x, bins=n_bins)\n",
    "plt.xlim([-40,40])\n",
    "\n",
    "\n",
    "N_points = 100000\n",
    "mean=10.0\n",
    "stand_dev = 10.0\n",
    "\n",
    "n_bins = 20\n",
    "\n",
    "x = np.random.normal(mean,stand_dev,N_points)\n",
    "plt.subplot(4,1,4)\n",
    "plt.hist(x, bins=n_bins)\n",
    "plt.xlim([-40,40])"
   ]
  },
  {
   "cell_type": "markdown",
   "id": "b4078e0e-5697-43c3-aa15-e1011af7d913",
   "metadata": {},
   "source": [
    "### 1.7\n",
    "What do you notice about the shape of the five distributions? How do they compare to one another? What effect does changing the standard deviation have on the distributions? **NOTE: If you don't notice a difference right away, try setting `xlim` to $[-40,40]$ for each subplot** \n"
   ]
  },
  {
   "cell_type": "markdown",
   "id": "394120eb-c5d7-4ca0-bae2-22cfa83c4183",
   "metadata": {},
   "source": [
    "I did not see a change at first, but after setting the x limit to -40, 40, I was able to see that as the standard deviation increases, the distribution spreads much wider."
   ]
  },
  {
   "cell_type": "markdown",
   "id": "e846964e-fa2b-42be-94ce-536685bc3126",
   "metadata": {},
   "source": [
    "## 2. Masking\n",
    "\n",
    "Masking is an extremely important and absurdly useful tool that we will be adding to our coding tool box. Fundamentally, **Masking is a process that allows us to select specific parts of our data that meet some condition.** Let’s work through some examples, to better understand what this means.\n",
    "\n",
    "Let’s start by looking at the random set of numbers."
   ]
  },
  {
   "cell_type": "code",
   "execution_count": 31,
   "id": "c40c30e7-921a-4384-aba5-ed2d205912a7",
   "metadata": {},
   "outputs": [],
   "source": [
    "vals = np.array([3, 11, 6, 9, 7, 12, 8, 11, 5, 3, 15, 13])"
   ]
  },
  {
   "cell_type": "markdown",
   "id": "2d9767a2-9ae7-4e9f-b9bb-c30ebd93ead4",
   "metadata": {},
   "source": [
    "### 2.1\n",
    "Write a piece of code that uses a `for` loop and an `if` statement to select all values of `vals` that are above 8. Append the values to a new list and print them out."
   ]
  },
  {
   "cell_type": "code",
   "execution_count": 36,
   "id": "a0c5e312-5bcb-4dd8-8a6a-d94d9966863c",
   "metadata": {},
   "outputs": [
    {
     "name": "stdout",
     "output_type": "stream",
     "text": [
      "[11, 9, 12, 11, 15, 13]\n"
     ]
    }
   ],
   "source": [
    "new_list=[]\n",
    "for i in vals:\n",
    "    if i > 8:\n",
    "        new_list.append(i)\n",
    "\n",
    "print(new_list)\n",
    "        "
   ]
  },
  {
   "cell_type": "markdown",
   "id": "4fc185df-e9ba-4e22-a598-cca5be337c5f",
   "metadata": {},
   "source": [
    "What we just did was select a subset of our data; specifically, all `x` values greater than 8. Now, let’s do the same thing using Masking. The code below creates a mask and then uses that mask to select all of the data points that meet our condition."
   ]
  },
  {
   "cell_type": "code",
   "execution_count": 38,
   "id": "aacd0ae5-ee85-4f3d-a923-38c3e5a0347d",
   "metadata": {},
   "outputs": [],
   "source": [
    "mask = vals > 8\n",
    "vals_masked = vals[mask]"
   ]
  },
  {
   "cell_type": "markdown",
   "id": "686af36b-c445-4cb6-ab71-415bd70b20e4",
   "metadata": {},
   "source": [
    "### 2.2 \n",
    "Let’s break this code down, piece by piece. First, write a piece of code that prints `mask`. "
   ]
  },
  {
   "cell_type": "code",
   "execution_count": 39,
   "id": "c138b330-4fd0-4fd8-af9c-3b1f0e8ddfeb",
   "metadata": {},
   "outputs": [
    {
     "name": "stdout",
     "output_type": "stream",
     "text": [
      "[False  True False  True False  True False  True False False  True  True]\n"
     ]
    }
   ],
   "source": [
    "print(mask)"
   ]
  },
  {
   "cell_type": "markdown",
   "id": "1e182d68-06af-41f9-984c-e7a7c65e20d9",
   "metadata": {},
   "source": [
    "### 2.3 \n",
    "You should see a list of Boolean values (`True` or `False`). Compare your `mask` values to the values of `vals`. What do you notice?"
   ]
  },
  {
   "cell_type": "markdown",
   "id": "d8e8b458-9001-4dd9-897e-b7ffb3c4024a",
   "metadata": {},
   "source": [
    "For all the values above 8, the mask prints True and for all values less than or equal to 8, the mask prints False. "
   ]
  },
  {
   "cell_type": "markdown",
   "id": "bfdef9ad-caa2-4738-bb3b-69239946603a",
   "metadata": {},
   "source": [
    "### 2.4 \n",
    "Now print out the values of `vals_masked`. "
   ]
  },
  {
   "cell_type": "code",
   "execution_count": 40,
   "id": "c46fdd02-8d0f-4c66-925d-4298af837c1d",
   "metadata": {},
   "outputs": [
    {
     "name": "stdout",
     "output_type": "stream",
     "text": [
      "[11  9 12 11 15 13]\n"
     ]
    }
   ],
   "source": [
    "print(vals_masked)"
   ]
  },
  {
   "cell_type": "markdown",
   "id": "b890851b-4d30-4227-955d-d1acc2646757",
   "metadata": {},
   "source": [
    "### 2.5 \n",
    "\n",
    "What values does `vals_masked` contain? How are these values connected to `vals`, `mask`, and the list that you created in 2.1?"
   ]
  },
  {
   "cell_type": "markdown",
   "id": "8977acb3-b480-402e-be3d-fcd07b570df2",
   "metadata": {},
   "source": [
    "These are all the values above 8 in the orginal array of vals. They are also all of the True values printed in mask."
   ]
  },
  {
   "cell_type": "markdown",
   "id": "7cfbcc05-af1b-4c97-bc42-835b9795c0d9",
   "metadata": {},
   "source": [
    "### 2.6 \n",
    "Try tinkering with the mask generation code (line 1 from the cell in 2.1) by changing the condition (e.g., values below 8, values above 11, etc.). Print out the `mask` and `vals_masked` values for each one. "
   ]
  },
  {
   "cell_type": "code",
   "execution_count": 42,
   "id": "7c7f583f-1832-44ff-8a68-0d5ec0f16ca9",
   "metadata": {},
   "outputs": [
    {
     "name": "stdout",
     "output_type": "stream",
     "text": [
      "[False False False False False  True False False False False  True  True]\n",
      "[12 15 13]\n",
      "[ True  True  True  True  True  True  True  True  True  True  True  True]\n",
      "[ 3 11  6  9  7 12  8 11  5  3 15 13]\n"
     ]
    }
   ],
   "source": [
    "mask1 = vals > 11\n",
    "vals_masked1 = vals[mask1]\n",
    "print(mask1)\n",
    "print(vals_masked1)\n",
    "\n",
    "mask2 = vals > 2\n",
    "vals_masked2 = vals[mask2]\n",
    "print(mask2)\n",
    "print(vals_masked2)"
   ]
  },
  {
   "cell_type": "markdown",
   "id": "34ba4155-3952-4edc-8f93-a0992fc8b39a",
   "metadata": {},
   "source": [
    "### 2.7 \n",
    "Take a moment and reflect. What is a mask? What does masking do? "
   ]
  },
  {
   "cell_type": "markdown",
   "id": "b60213ea-beae-4d65-b749-6d00a2ea216c",
   "metadata": {},
   "source": [
    "A mask is simply a way determine if values in an array satisfy the requirement we place in the argument. It responds with a simple True or False without listing the actual values. vals[] allows these values to be shown."
   ]
  },
  {
   "cell_type": "markdown",
   "id": "5da944ea-46b4-4107-a537-8fcf85cf3d73",
   "metadata": {},
   "source": [
    "### 2.8 \n",
    "Before moving on, explain the concept of Masking as if you were talking to someone who has never coded before."
   ]
  },
  {
   "cell_type": "markdown",
   "id": "2f16e539-3f15-4fe0-a983-c962d365ca22",
   "metadata": {},
   "source": [
    "Let's say we have a list of numbers assigned to a varibale. We want to see whether or not they satisfied a requirement. We do not care about the actual values themselves. Masking uses the list that we have a sets a requirement (typically an inequality). Any values in that list that satify the requirement print out True and the rest print out false. masking simply put, allows us to see whether or not a condition was met from a set of values, without showing the actual values."
   ]
  },
  {
   "cell_type": "markdown",
   "id": "ef0af240-58ee-44b7-98a6-daca701dbc00",
   "metadata": {},
   "source": [
    "## 3. Interpretating Log Plots\n",
    "\n",
    "For this next exercise, we will explore the utility and interpretation of **log plots**. We’re used to **linear plots**; these are plots where the space between 1 and 2 is the same as it is between 3 and 4 (or 8 and 9 or 800 and 801). The step size is linear, hence the name.\n",
    "\n",
    "In a log plot, though, the space between 1 and 2 is the same as the space between 2 and ***4*** (or 4 and 8 or 800 and 1600). In a log plot, the step size is *multiplicative* (e.g., all of the previous examples increased by a factor of 2).  \n",
    "\n",
    "Log plots are useful when you have a **large dynamic range.** That is, when the difference between the smallest thing you care about and the largest thing you care about is **BIG.**\n",
    "\n",
    "Let’s take another look at the economic data from your day nine exercise. The filename is `GDP_Cleaned.csv`, and you can find it on the course website. (as the name suggests, we’ve cleaned up the dataset for you).\n",
    "\n"
   ]
  },
  {
   "cell_type": "markdown",
   "id": "eb23233a-12e5-4cd1-ba0d-2d62426bc4ab",
   "metadata": {},
   "source": [
    "### 3.1 \n",
    "Use Pandas to read in `GDP_Cleaned.csv`."
   ]
  },
  {
   "cell_type": "code",
   "execution_count": 60,
   "id": "37974efa-a1eb-471f-bfd8-ca39213e8021",
   "metadata": {},
   "outputs": [
    {
     "data": {
      "text/html": [
       "<div>\n",
       "<style scoped>\n",
       "    .dataframe tbody tr th:only-of-type {\n",
       "        vertical-align: middle;\n",
       "    }\n",
       "\n",
       "    .dataframe tbody tr th {\n",
       "        vertical-align: top;\n",
       "    }\n",
       "\n",
       "    .dataframe thead th {\n",
       "        text-align: right;\n",
       "    }\n",
       "</style>\n",
       "<table border=\"1\" class=\"dataframe\">\n",
       "  <thead>\n",
       "    <tr style=\"text-align: right;\">\n",
       "      <th></th>\n",
       "      <th>Year</th>\n",
       "      <th>Africa Eastern and Southern</th>\n",
       "      <th>Africa Western and Central</th>\n",
       "      <th>Australia</th>\n",
       "      <th>Austria</th>\n",
       "      <th>Burundi</th>\n",
       "      <th>Belgium</th>\n",
       "      <th>Benin</th>\n",
       "      <th>Burkina Faso</th>\n",
       "      <th>Bangladesh</th>\n",
       "      <th>...</th>\n",
       "      <th>Turkey</th>\n",
       "      <th>Uganda</th>\n",
       "      <th>Upper middle income</th>\n",
       "      <th>Uruguay</th>\n",
       "      <th>United States</th>\n",
       "      <th>St. Vincent and the Grenadines</th>\n",
       "      <th>World</th>\n",
       "      <th>South Africa</th>\n",
       "      <th>Zambia</th>\n",
       "      <th>Zimbabwe</th>\n",
       "    </tr>\n",
       "  </thead>\n",
       "  <tbody>\n",
       "    <tr>\n",
       "      <th>0</th>\n",
       "      <td>1960</td>\n",
       "      <td>1.929193e+10</td>\n",
       "      <td>1.040732e+10</td>\n",
       "      <td>1.857767e+10</td>\n",
       "      <td>6.592694e+09</td>\n",
       "      <td>195999990.0</td>\n",
       "      <td>1.165872e+10</td>\n",
       "      <td>2.261956e+08</td>\n",
       "      <td>3.304428e+08</td>\n",
       "      <td>4.274894e+09</td>\n",
       "      <td>...</td>\n",
       "      <td>1.399507e+10</td>\n",
       "      <td>4.230084e+08</td>\n",
       "      <td>2.379344e+11</td>\n",
       "      <td>1.242289e+09</td>\n",
       "      <td>5.433000e+11</td>\n",
       "      <td>1.306656e+07</td>\n",
       "      <td>1.384628e+12</td>\n",
       "      <td>7.575397e+09</td>\n",
       "      <td>7.130000e+08</td>\n",
       "      <td>1.052990e+09</td>\n",
       "    </tr>\n",
       "    <tr>\n",
       "      <th>1</th>\n",
       "      <td>1961</td>\n",
       "      <td>1.970186e+10</td>\n",
       "      <td>1.113130e+10</td>\n",
       "      <td>1.965282e+10</td>\n",
       "      <td>7.311750e+09</td>\n",
       "      <td>202999992.0</td>\n",
       "      <td>1.240015e+10</td>\n",
       "      <td>2.356682e+08</td>\n",
       "      <td>3.502472e+08</td>\n",
       "      <td>4.817580e+09</td>\n",
       "      <td>...</td>\n",
       "      <td>7.988889e+09</td>\n",
       "      <td>4.415241e+08</td>\n",
       "      <td>2.133097e+11</td>\n",
       "      <td>1.547389e+09</td>\n",
       "      <td>5.633000e+11</td>\n",
       "      <td>1.399988e+07</td>\n",
       "      <td>1.440342e+12</td>\n",
       "      <td>7.972997e+09</td>\n",
       "      <td>6.962857e+08</td>\n",
       "      <td>1.096647e+09</td>\n",
       "    </tr>\n",
       "    <tr>\n",
       "      <th>2</th>\n",
       "      <td>1962</td>\n",
       "      <td>2.147035e+10</td>\n",
       "      <td>1.194684e+10</td>\n",
       "      <td>1.989249e+10</td>\n",
       "      <td>7.756110e+09</td>\n",
       "      <td>213500006.0</td>\n",
       "      <td>1.326402e+10</td>\n",
       "      <td>2.364349e+08</td>\n",
       "      <td>3.795670e+08</td>\n",
       "      <td>5.081413e+09</td>\n",
       "      <td>...</td>\n",
       "      <td>8.922222e+09</td>\n",
       "      <td>4.490126e+08</td>\n",
       "      <td>2.238717e+11</td>\n",
       "      <td>1.710004e+09</td>\n",
       "      <td>6.051000e+11</td>\n",
       "      <td>1.452488e+07</td>\n",
       "      <td>1.545697e+12</td>\n",
       "      <td>8.497997e+09</td>\n",
       "      <td>6.931429e+08</td>\n",
       "      <td>1.117602e+09</td>\n",
       "    </tr>\n",
       "    <tr>\n",
       "      <th>3</th>\n",
       "      <td>1963</td>\n",
       "      <td>2.570500e+10</td>\n",
       "      <td>1.268022e+10</td>\n",
       "      <td>2.150745e+10</td>\n",
       "      <td>8.374175e+09</td>\n",
       "      <td>232749998.0</td>\n",
       "      <td>1.426002e+10</td>\n",
       "      <td>2.539276e+08</td>\n",
       "      <td>3.940406e+08</td>\n",
       "      <td>5.319458e+09</td>\n",
       "      <td>...</td>\n",
       "      <td>1.035556e+10</td>\n",
       "      <td>5.161478e+08</td>\n",
       "      <td>2.333284e+11</td>\n",
       "      <td>1.539681e+09</td>\n",
       "      <td>6.386000e+11</td>\n",
       "      <td>1.370822e+07</td>\n",
       "      <td>1.665141e+12</td>\n",
       "      <td>9.423396e+09</td>\n",
       "      <td>7.187143e+08</td>\n",
       "      <td>1.159512e+09</td>\n",
       "    </tr>\n",
       "    <tr>\n",
       "      <th>4</th>\n",
       "      <td>1964</td>\n",
       "      <td>2.350165e+10</td>\n",
       "      <td>1.384262e+10</td>\n",
       "      <td>2.376414e+10</td>\n",
       "      <td>9.169984e+09</td>\n",
       "      <td>260750008.0</td>\n",
       "      <td>1.596011e+10</td>\n",
       "      <td>2.698190e+08</td>\n",
       "      <td>4.103216e+08</td>\n",
       "      <td>5.386055e+09</td>\n",
       "      <td>...</td>\n",
       "      <td>1.117778e+10</td>\n",
       "      <td>5.890566e+08</td>\n",
       "      <td>2.686296e+11</td>\n",
       "      <td>1.975702e+09</td>\n",
       "      <td>6.858000e+11</td>\n",
       "      <td>1.475821e+07</td>\n",
       "      <td>1.824117e+12</td>\n",
       "      <td>1.037400e+10</td>\n",
       "      <td>8.394286e+08</td>\n",
       "      <td>1.217138e+09</td>\n",
       "    </tr>\n",
       "  </tbody>\n",
       "</table>\n",
       "<p>5 rows × 122 columns</p>\n",
       "</div>"
      ],
      "text/plain": [
       "   Year  Africa Eastern and Southern  Africa Western and Central  \\\n",
       "0  1960                 1.929193e+10                1.040732e+10   \n",
       "1  1961                 1.970186e+10                1.113130e+10   \n",
       "2  1962                 2.147035e+10                1.194684e+10   \n",
       "3  1963                 2.570500e+10                1.268022e+10   \n",
       "4  1964                 2.350165e+10                1.384262e+10   \n",
       "\n",
       "      Australia       Austria      Burundi       Belgium         Benin  \\\n",
       "0  1.857767e+10  6.592694e+09  195999990.0  1.165872e+10  2.261956e+08   \n",
       "1  1.965282e+10  7.311750e+09  202999992.0  1.240015e+10  2.356682e+08   \n",
       "2  1.989249e+10  7.756110e+09  213500006.0  1.326402e+10  2.364349e+08   \n",
       "3  2.150745e+10  8.374175e+09  232749998.0  1.426002e+10  2.539276e+08   \n",
       "4  2.376414e+10  9.169984e+09  260750008.0  1.596011e+10  2.698190e+08   \n",
       "\n",
       "   Burkina Faso    Bangladesh  ...        Turkey        Uganda  \\\n",
       "0  3.304428e+08  4.274894e+09  ...  1.399507e+10  4.230084e+08   \n",
       "1  3.502472e+08  4.817580e+09  ...  7.988889e+09  4.415241e+08   \n",
       "2  3.795670e+08  5.081413e+09  ...  8.922222e+09  4.490126e+08   \n",
       "3  3.940406e+08  5.319458e+09  ...  1.035556e+10  5.161478e+08   \n",
       "4  4.103216e+08  5.386055e+09  ...  1.117778e+10  5.890566e+08   \n",
       "\n",
       "   Upper middle income       Uruguay  United States  \\\n",
       "0         2.379344e+11  1.242289e+09   5.433000e+11   \n",
       "1         2.133097e+11  1.547389e+09   5.633000e+11   \n",
       "2         2.238717e+11  1.710004e+09   6.051000e+11   \n",
       "3         2.333284e+11  1.539681e+09   6.386000e+11   \n",
       "4         2.686296e+11  1.975702e+09   6.858000e+11   \n",
       "\n",
       "   St. Vincent and the Grenadines         World  South Africa        Zambia  \\\n",
       "0                    1.306656e+07  1.384628e+12  7.575397e+09  7.130000e+08   \n",
       "1                    1.399988e+07  1.440342e+12  7.972997e+09  6.962857e+08   \n",
       "2                    1.452488e+07  1.545697e+12  8.497997e+09  6.931429e+08   \n",
       "3                    1.370822e+07  1.665141e+12  9.423396e+09  7.187143e+08   \n",
       "4                    1.475821e+07  1.824117e+12  1.037400e+10  8.394286e+08   \n",
       "\n",
       "       Zimbabwe  \n",
       "0  1.052990e+09  \n",
       "1  1.096647e+09  \n",
       "2  1.117602e+09  \n",
       "3  1.159512e+09  \n",
       "4  1.217138e+09  \n",
       "\n",
       "[5 rows x 122 columns]"
      ]
     },
     "execution_count": 60,
     "metadata": {},
     "output_type": "execute_result"
    }
   ],
   "source": [
    "#Write your code here\n",
    "import pandas as pd\n",
    "# import numpy\n",
    "\n",
    "\n",
    "gdp = pd.read_csv(\"GDP_Cleaned.csv\",skiprows= None, delimiter=\",\")\n",
    "gdp.head()\n"
   ]
  },
  {
   "cell_type": "markdown",
   "id": "17bea5e4-1c72-453c-88ee-86ab6ddaf35c",
   "metadata": {},
   "source": [
    "### 3.2\n",
    "Make a plot of the GDP versus time (Year) for both the United States and Bangladesh."
   ]
  },
  {
   "cell_type": "code",
   "execution_count": 69,
   "id": "de9e97e6-66bd-427a-931f-2c26c4b05f5c",
   "metadata": {},
   "outputs": [
    {
     "data": {
      "text/plain": [
       "<AxesSubplot:title={'center':'GDP vs time'}, xlabel='Year', ylabel='Bangladesh'>"
      ]
     },
     "execution_count": 69,
     "metadata": {},
     "output_type": "execute_result"
    },
    {
     "data": {
      "image/png": "[encoded data removed]",
      "text/plain": [
       "<Figure size 432x288 with 1 Axes>"
      ]
     },
     "metadata": {
      "needs_background": "light"
     },
     "output_type": "display_data"
    },
    {
     "data": {
      "image/png": "[encoded data removed]",
      "text/plain": [
       "<Figure size 432x288 with 1 Axes>"
      ]
     },
     "metadata": {
      "needs_background": "light"
     },
     "output_type": "display_data"
    }
   ],
   "source": [
    "import numpy as np\n",
    "# import matplotlib and make sure plots show up in the notebook\n",
    "import matplotlib.pyplot as plt\n",
    "%matplotlib inline\n",
    "\n",
    "gdp.plot.scatter(x=\"Year\", y=\"United States\", color='b', title=\"GDP vs time\")\n",
    "gdp.plot.scatter(x=\"Year\", y=\"Bangladesh\", c='r', title=\"GDP vs time\")\n"
   ]
  },
  {
   "cell_type": "markdown",
   "id": "6d6bd604-5383-4eaf-8732-e7bda2b3a1e1",
   "metadata": {},
   "source": [
    "### 3.3 \n",
    "Based on this plot, what can you say about the growth of the economy in Bangladesh?"
   ]
  },
  {
   "cell_type": "markdown",
   "id": "fa7a5280-810a-4648-b456-eddda1bee3ff",
   "metadata": {},
   "source": [
    "It had a very slow increase until 2000. It then rapidly increases since then."
   ]
  },
  {
   "cell_type": "markdown",
   "id": "4add1e83-1b6d-410f-88e5-620d1e1adece",
   "metadata": {},
   "source": [
    "### 3.4 \n",
    "Now remake the same plot, but this time with the `yscale` set to log (you may need to look how to do this)."
   ]
  },
  {
   "cell_type": "code",
   "execution_count": 77,
   "id": "e6b181be-c2b1-477a-b0dd-2b2ea8c4c8e8",
   "metadata": {},
   "outputs": [
    {
     "data": {
      "image/png": "[encoded data removed]",
      "text/plain": [
       "<Figure size 432x288 with 1 Axes>"
      ]
     },
     "metadata": {
      "needs_background": "light"
     },
     "output_type": "display_data"
    },
    {
     "data": {
      "image/png": "[encoded data removed]",
      "text/plain": [
       "<Figure size 432x288 with 1 Axes>"
      ]
     },
     "metadata": {
      "needs_background": "light"
     },
     "output_type": "display_data"
    }
   ],
   "source": [
    "import numpy as np\n",
    "# import matplotlib and make sure plots show up in the notebook\n",
    "import matplotlib.pyplot as plt\n",
    "%matplotlib inline\n",
    "\n",
    "gdp.plot.scatter(x=\"Year\", y=\"United States\", c='b', title=\"GDP vs time\")\n",
    "plt.yscale('log') \n",
    "gdp.plot.scatter(x=\"Year\", y=\"Bangladesh\", c='r', title=\"GDP vs time\")\n",
    "plt.yscale('log') \n",
    "\n",
    "#code referenced: https://www.geeksforgeeks.org/how-to-put-the-y-axis-in-logarithmic-scale-with-matplotlib/ Accessd on 2/15/2022"
   ]
  },
  {
   "cell_type": "markdown",
   "id": "fd8cfd01-a04b-4341-895d-b7a16b88726d",
   "metadata": {},
   "source": [
    "### 3.5 \n",
    "Using the log-plot, what can you say about the growth of the economy in Bangladesh? Use the plot to read off the starting and ending values (i.e., the economy of Bangladesh in 1960 and 2021)."
   ]
  },
  {
   "cell_type": "markdown",
   "id": "9f048738-baf3-4352-967b-aa0b81cfb86e",
   "metadata": {},
   "source": [
    "The growth seemed to continually increase from 1960 to 2020 in Bangladesh using the log plot."
   ]
  },
  {
   "cell_type": "markdown",
   "id": "1aab8eeb-0eea-4c4f-9820-0d0386b7dd3c",
   "metadata": {},
   "source": [
    "### 3.6\n",
    "Now try setting `xscale` to be log as well. "
   ]
  },
  {
   "cell_type": "code",
   "execution_count": 78,
   "id": "305e11ec-695a-422e-82af-37d660aa72e4",
   "metadata": {},
   "outputs": [
    {
     "data": {
      "image/png": "[encoded data removed]",
      "text/plain": [
       "<Figure size 432x288 with 1 Axes>"
      ]
     },
     "metadata": {
      "needs_background": "light"
     },
     "output_type": "display_data"
    },
    {
     "data": {
      "image/png": "[encoded data removed]",
      "text/plain": [
       "<Figure size 432x288 with 1 Axes>"
      ]
     },
     "metadata": {
      "needs_background": "light"
     },
     "output_type": "display_data"
    }
   ],
   "source": [
    "\n",
    "gdp.plot.scatter(x=\"Year\", y=\"United States\", c='b', title=\"GDP vs time\")\n",
    "plt.yscale('log') \n",
    "plt.xscale('log')\n",
    "gdp.plot.scatter(x=\"Year\", y=\"Bangladesh\", c='r', title=\"GDP vs time\")\n",
    "plt.yscale('log')\n",
    "plt.xscale('log')\n",
    "\n",
    "\n",
    "#code referenced: https://www.geeksforgeeks.org/how-to-put-the-y-axis-in-logarithmic-scale-with-matplotlib/ Accessd on 2/15/2022"
   ]
  },
  {
   "cell_type": "markdown",
   "id": "149497cb-6cca-4448-83b6-52e757e541e5",
   "metadata": {},
   "source": [
    "### 3.7\n",
    "What do you notice? How large is the dynamic range of the x-axis values (i.e., by what multiplicative value does the x-values increase?)"
   ]
  },
  {
   "cell_type": "markdown",
   "id": "060158a8-25f2-40c1-b9ca-f4e996cbbb99",
   "metadata": {},
   "source": [
    "The x axis only using 10^3. This is because the x axis represents years and therefore it can only be 10^3.  "
   ]
  },
  {
   "cell_type": "markdown",
   "id": "5c91c576-8f45-4242-9a93-b6fb224a928d",
   "metadata": {},
   "source": [
    "---\n",
    "## Assignment wrap-up\n",
    "\n",
    "Please fill out the form that appears when you run the code below.  **You must completely fill this out in order to receive credit for the assignment!**"
   ]
  },
  {
   "cell_type": "code",
   "execution_count": 79,
   "id": "5befceec-9ee5-432b-a755-ee0fc39a9450",
   "metadata": {},
   "outputs": [
    {
     "data": {
      "text/html": [
       "\n",
       "<iframe \n",
       "\tsrc=\"https://cmse.msu.edu/cmse201-pc-survey\" \n",
       "\twidth=\"800px\" \n",
       "\theight=\"600px\" \n",
       "\tframeborder=\"0\" \n",
       "\tmarginheight=\"0\" \n",
       "\tmarginwidth=\"0\">\n",
       "\tLoading...\n",
       "</iframe>\n"
      ],
      "text/plain": [
       "<IPython.core.display.HTML object>"
      ]
     },
     "execution_count": 79,
     "metadata": {},
     "output_type": "execute_result"
    }
   ],
   "source": [
    "from IPython.display import HTML\n",
    "HTML(\n",
    "\"\"\"\n",
    "<iframe \n",
    "\tsrc=\"https://cmse.msu.edu/cmse201-pc-survey\" \n",
    "\twidth=\"800px\" \n",
    "\theight=\"600px\" \n",
    "\tframeborder=\"0\" \n",
    "\tmarginheight=\"0\" \n",
    "\tmarginwidth=\"0\">\n",
    "\tLoading...\n",
    "</iframe>\n",
    "\"\"\"\n",
    ")"
   ]
  },
  {
   "cell_type": "markdown",
   "id": "69d9f732-20c2-4f3e-86c7-924242d4a4ae",
   "metadata": {},
   "source": [
    "### Congratulations, you're done!\n",
    "\n",
    "Submit this assignment by uploading it to the course Desire2Learn web page.  Go to the \"Pre-class assignments\" folder, find the appropriate submission link, and upload it there.\n",
    "\n",
    "See you in class!"
   ]
  },
  {
   "cell_type": "markdown",
   "id": "ad62082c-16bd-4cd1-924e-d8ca12e1ca4c",
   "metadata": {},
   "source": [
    "&#169; Copyright 2021,  Michigan State University Board of Trustees"
   ]
  },
  {
   "cell_type": "code",
   "execution_count": null,
   "id": "52b65b57",
   "metadata": {},
   "outputs": [],
   "source": []
  }
 ],
 "metadata": {
  "kernelspec": {
   "display_name": "Python 3 (ipykernel)",
   "language": "python",
   "name": "python3"
  },
  "language_info": {
   "codemirror_mode": {
    "name": "ipython",
    "version": 3
   },
   "file_extension": ".py",
   "mimetype": "text/x-python",
   "name": "python",
   "nbconvert_exporter": "python",
   "pygments_lexer": "ipython3",
   "version": "3.9.7"
  }
 },
 "nbformat": 4,
 "nbformat_minor": 5
}
