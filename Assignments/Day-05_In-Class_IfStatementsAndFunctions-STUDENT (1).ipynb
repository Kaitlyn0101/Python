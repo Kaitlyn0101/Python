{
 "cells": [
  {
   "cell_type": "markdown",
   "metadata": {},
   "source": [
    "# Day 5 In-class Assignment: Savings for Everyone\n",
    "![Snowballs](https://www.palmettocitizens.org/images/personal-savings3.jpg)"
   ]
  },
  {
   "cell_type": "markdown",
   "metadata": {},
   "source": [
    "### <p style=\"text-align: right;\"> &#9989; Kaitlyn Watson\n",
    "<p style=\"text-align: right;\"> &#9989; Owen Babington, Lorenzo Durancharris, Povilas Kvederas, David Callaway"
   ]
  },
  {
   "cell_type": "markdown",
   "metadata": {},
   "source": [
    "## Learning Goals:\n",
    "\n",
    "By the end of this assignment you should be able to:\n",
    "\n",
    "* Review code that uses `if`, `elif`, and `else` statments and understand the logical flow of the program\n",
    "* Write `if`/`elif`/`else` statements in Python.\n",
    "* Create and use basic functions in Python.\n"
   ]
  },
  {
   "cell_type": "markdown",
   "metadata": {},
   "source": [
    "---\n",
    "## Part 1: Understanding `if` statements in Python\n",
    "\n",
    "As you saw in the pre-class assignment, `if` statements provide an mechanism for \"**branching**\" to occur in your code. Depending on whether or not something is determined to be true, your code can pursue one branch, or another, or do nothing at all. The `else` statement allows your code to execute *something* even if none of the `if` or `elif` statements you write are found to be true. By combining these sorts of commands in a variety of ways we can create a very complex system of branches in our code.\n",
    "\n",
    "&#9989;&nbsp; **As a group, review and run** the following bit of example code.\n",
    "\n",
    "&#9989;&nbsp; **As a group, add comments** to explain what various parts of the code are doing. "
   ]
  },
  {
   "cell_type": "code",
   "execution_count": 1,
   "metadata": {},
   "outputs": [
    {
     "name": "stdout",
     "output_type": "stream",
     "text": [
      "Square root of 2.0 is 1.4142135623730951\n",
      "Square root is not real.\n",
      "Square root of 16.0 is 4.0\n",
      "Square root of 17.0 is 4.123105625617661\n",
      "Square root is not real.\n",
      "Square root of 23.0 is 4.795831523312719\n",
      "Square root of 0.0 is 0.0\n",
      "2 is positive.\n",
      "-5 is negative.\n",
      "16 is positive.\n",
      "17 is positive.\n",
      "-6 is negative.\n",
      "23 is positive.\n",
      "The number is zero.\n"
     ]
    }
   ],
   "source": [
    "some_numbers = [2, -5, 16, 17, -6, 23, 0]  #Created a list of some numers\n",
    "\n",
    "for i in range(len(some_numbers)):  #Create a for loop to loop through all the numbers in the list above. \n",
    "    number = float(some_numbers[i]) #Establish a variable that uses the float funtion to convert the list above into floating numbers.\n",
    "    if number < 0:                         #Create an if else loop to establish whether or not the numbers in the list are real\n",
    "        print('Square root is not real.')\n",
    "    else:\n",
    "        print('Square root of',number,'is',number**(1/2))\n",
    "        \n",
    "for number in some_numbers:     #Create a second for loop\n",
    "    if number > 0:              #Create an if, elif, else statement to determine whether the number is positive, negative, or zero.\n",
    "        print(number,'is positive.')\n",
    "    elif number < 0:\n",
    "        print(number,'is negative.')\n",
    "    else:\n",
    "        print('The number is zero.')"
   ]
  },
  {
   "cell_type": "markdown",
   "metadata": {},
   "source": [
    "&#9989;&nbsp; **Question**: What does `float(some_numbers[i])` do?"
   ]
  },
  {
   "cell_type": "markdown",
   "metadata": {},
   "source": [
    "<font size=\"+3\">&#9998;</font> This part of the code converts the list of some_numbers into floating point numbers."
   ]
  },
  {
   "cell_type": "markdown",
   "metadata": {},
   "source": [
    "&#9989;&nbsp; **Question**: What does the `len()` function do?"
   ]
  },
  {
   "cell_type": "markdown",
   "metadata": {},
   "source": [
    "<font size=\"+3\">&#9998;</font> The len() function directs the code to run through the number values in the list above. "
   ]
  },
  {
   "cell_type": "markdown",
   "metadata": {},
   "source": [
    "&#9989;&nbsp; **Question**: What does the `range()` function do?"
   ]
  },
  {
   "cell_type": "markdown",
   "metadata": {},
   "source": [
    "<font size=\"+3\">&#9998;</font> The range() function tells the for loop to run the code through a specific interval of values. In this case, the length of the list some_numbers."
   ]
  },
  {
   "cell_type": "markdown",
   "metadata": {},
   "source": [
    "---\n",
    "## Part 2: Writing your own `if` statements\n",
    "\n",
    "Sometimes in computational modeling and data science, you need to be able parse a set of numbers or data and execute particular tasks based on the how those numbers compare to each other. Conditional statements that use things like `<`, `>`, `>=`, or `==` combined with logical operators like `and` and `or` provide an excellent mechanism for comparing values! Try the following:\n",
    "\n",
    "&#9989;&nbsp; **Write a program** that compares three variables v1, v2, and v3 (initial values are provide below) and does the following using `if` statements:\n",
    "\n",
    "1. If v1 is equal to v2, print \"woohoo!\"\n",
    "2. If v1 is the smallest value of the three (i.e., v1 is less than both v2 and v3), print out \"v1 is tiny!\"\n",
    "3. If v1 is the smallest value of the three, add a nested if statement to print out a statement saying whether v2 or v3 is the largest value.\n",
    "\n",
    "Try several values of v1, v2 and v3 and ensure that you see the correct behavior. \n",
    "\n",
    "Make sure you work together with your group to solve this. **Plan it out on the whiteboard!**\n",
    "\n",
    "**Note**: Although you learned briefly about functions in your pre-class assignment, don't worry about using functions just yet!"
   ]
  },
  {
   "cell_type": "code",
   "execution_count": 14,
   "metadata": {},
   "outputs": [
    {
     "name": "stdout",
     "output_type": "stream",
     "text": [
      "v1 is tiny!\n",
      "The largest number is v2\n"
     ]
    }
   ],
   "source": [
    "# Put your code here. Initial values for v1, v2, and v3 are provided.\n",
    "# Make sure to test out new values to ensure your code works as intended!\n",
    "\n",
    "v1 = 1\n",
    "v2 = 2\n",
    "v3 = 3\n",
    "\n",
    "if v1==v2:\n",
    "    print(\"woohoo!\")\n",
    "\n",
    "if v1 < v2 and v1 < v3:\n",
    "    print('v1 is tiny!')\n",
    "\n",
    "if v1 < v2 and v1 < v3:\n",
    "    if v2 < v3:\n",
    "        print(\"The largest number is v2\")\n",
    "    else:\n",
    "        print(\"The largest number is v3\")\n",
    "\n"
   ]
  },
  {
   "cell_type": "markdown",
   "metadata": {},
   "source": [
    "&#9989;&nbsp; **Question**: What happens in your code if either v2 or v3 is less than v1? "
   ]
  },
  {
   "cell_type": "markdown",
   "metadata": {},
   "source": [
    "<font size=\"+3\">&#9998;</font> If v2 or v3 is than v1 there is no output in the loop. Nothing prints. "
   ]
  },
  {
   "cell_type": "markdown",
   "metadata": {},
   "source": [
    "---\n",
    "## Part 3: Continued Investment\n",
    "\n",
    "You're back at your bank job, calculating the total amount of money people save in their retirement accounts. Previously, your boss asked you to calculate the different amount of money people would save if there was one interest rate for people that started saving early (under 30) and another interest rate (twice the original interest rate) if they started saving later (30 or older). \n",
    "\n",
    "Your boss used your calculations to justify to *their* boss that offering a \"better interest rate for older investors\" was a good marketing strategy. Your boss's boss accepted the plan with one modification. Rather than give people over 30 double the interest rates, the interest rates would be structured in the following way:\n",
    "- People that start to save when they are between **18-24 years old** will receive an interest rate of **6.5%**\n",
    "- People that start to save when they are between **25-31 years old** will receive an interest rate of **8.5%**\n",
    "- People that start to save when they are between **32-39 years old** will receive an interest rate of **11.0%**\n",
    "- People that start to save when they are **40 years or older** will receive an interest rate of **17.0%**\n",
    "\n",
    "(Also, it is assumed that **everyone will retire at 65**)\n",
    "\n",
    "The bank rolled out the plan, and it worked *really well.* Now, there are dozens of new applications for savings accounts, and your boss says you need to calculate the expected savings for all of these new applications. \n",
    "\n",
    "You will need to **write a piece of code that will go through each of these new applications and calculate each individual's expected retirement savings.  Your code should make a list of all of the expected retirement savings.**\n",
    "\n",
    "**Note:** In finding a solution to this problem, we **strongly recommend** that you use your code from the previous assignment involving compound interest."
   ]
  },
  {
   "cell_type": "markdown",
   "metadata": {},
   "source": [
    "### &#9989;&nbsp; 3.1 Plan out your code\n",
    "\n",
    "You and your groups members are **expected to use your whiteboard**. \n",
    "\n",
    "*Things to think about:*\n",
    "- How will you go through each application?\n",
    "- What variables will change for each application?\n",
    "- What calculations do you need to make for each application?\n",
    "- How can you use the code you wrote in the previous compound interest assignment?"
   ]
  },
  {
   "cell_type": "markdown",
   "metadata": {},
   "source": [
    "1. Create a loop in order to go through each client and their application.\n",
    "2. The savings per year, age of the client, and the output for final retirement savings.\n",
    "3. Multiply the savings by year with the interest rate and calculate the final retirement savings balance.\n",
    "4. We can use the code in the previous assignment within the loop that we create for each client. "
   ]
  },
  {
   "cell_type": "markdown",
   "metadata": {},
   "source": [
    "### &#9989;&nbsp; 3.2 Write out your code\n",
    "\n",
    "Below are lists of all of the new applications, including the clients name, the amount they will save each year, and the age at which they're starting to save. \n",
    "\n",
    "**Write your code below. Store the final retirement savings in the list `final_retirement_savings`**"
   ]
  },
  {
   "cell_type": "code",
   "execution_count": 16,
   "metadata": {},
   "outputs": [],
   "source": [
    "# New applications\n",
    "client_name = [\"Michael Mitchell\",\"Ashley Moore\",\"Fred Walker\",\"Walter Wood\",\"Jesse Gonzalez\",\"Phillip Sanders\",\"Marie Jenkins\",\"Annie Brown\",\"Christopher King\",\"Carl Phillips\",\"Betty Perez\",\"Ashley Hernandez\",\"Carlos Davis\",\"Richard Jackson\",\"Jean Cox\",\"Sara Allen\",\"Peter Butler\",\"Justin Collins\",\"Kevin Miller\",\"Andrew Russell\"]\n",
    "savings_per_year = [4680,4680,4320,5880,5280,5640,4680,5520,5040,4200,4920,5400,5280,4560,5040,4440,5640,5040,4800,4680]\n",
    "start_savings_age = [20,31,35,39,40,37,26,21,36,25,25,36,33,27,35,31,28,19,31,34]\n",
    "\n",
    "final_retirement_savings = []"
   ]
  },
  {
   "cell_type": "code",
   "execution_count": 55,
   "metadata": {},
   "outputs": [
    {
     "name": "stdout",
     "output_type": "stream",
     "text": [
      "Michael Mitchell will have 1232411.0046493162\n",
      "Ashley Moore will have 901843.8408388686\n",
      "Fred Walker will have 586539.2599626718\n",
      "Walter Wood will have 556804.7885654417\n",
      "Jesse Gonzalez will have 1809786.9576993773\n",
      "Phillip Sanders will have 640489.4471283826\n",
      "Marie Jenkins will have 1383794.2695972258\n",
      "Annie Brown will have 1359711.7181622384\n",
      "Christopher King will have 626042.2150136253\n",
      "Carl Phillips will have 1351625.3176398627\n",
      "Betty Perez will have 1583332.514949554\n",
      "Ashley Hernandez will have 670759.5160860276\n",
      "Carlos Davis will have 854939.4092672352\n",
      "Richard Jackson will have 1238481.4426254185\n",
      "Jean Cox will have 684295.8032897835\n",
      "Sara Allen will have 855595.438744568\n",
      "Peter Butler will have 1406604.6035264293\n",
      "Justin Collins will have 1418520.621486254\n",
      "Kevin Miller will have 924968.0418860192\n",
      "Andrew Russell will have 694108.021814457\n"
     ]
    }
   ],
   "source": [
    "# Put your code here\n",
    "\n",
    "for i in range(len(client_name)):\n",
    "    age= start_savings_age[i]\n",
    "    if age>= 18 and age<= 24:\n",
    "        Int= 1.065\n",
    "    elif age>= 25 and age<= 31:\n",
    "        Int= 1.085\n",
    "    elif age>= 32 and age<= 39:\n",
    "        Int= 1.11\n",
    "    else:\n",
    "        Int= 1.17\n",
    "        \n",
    "    balance = 0\n",
    "    while age<= 65:\n",
    "        balance += balance*Int\n",
    "        balance += savings_per_year[i]\n",
    "        age += 1\n",
    "    final_retirement_savings.append(balance)\n",
    "    print(client_name[i], 'will have', final_retirement_savings[i])\n",
    "    \n",
    "    \n",
    "        \n",
    "    "
   ]
  },
  {
   "cell_type": "code",
   "execution_count": 54,
   "metadata": {},
   "outputs": [
    {
     "name": "stdout",
     "output_type": "stream",
     "text": [
      "Andrew Russell 694108.021814457\n"
     ]
    }
   ],
   "source": [
    "#proof that the above code is correct for all clients \n",
    "\n",
    "for i in range (len(client_name)):\n",
    "    number = float(savings_per_year[i])\n",
    "    age = start_savings_age[i]\n",
    "    if age>=18 and age<=24:\n",
    "        new_fund=number+number*1.065\n",
    "        number=new_fund\n",
    "        final_retirement_savings.append(new_fund)\n",
    "        \n",
    "print(client_name[i],final_retirement_savings[i])\n",
    "\n",
    "\n",
    "#Based on Day 3 in class code "
   ]
  },
  {
   "cell_type": "code",
   "execution_count": 27,
   "metadata": {},
   "outputs": [
    {
     "name": "stdout",
     "output_type": "stream",
     "text": [
      "Michael Mitchell will save $1.23 million by the time they retire\n",
      "Ashley Moore will save $0.90 million by the time they retire\n",
      "Fred Walker will save $0.59 million by the time they retire\n",
      "Walter Wood will save $0.56 million by the time they retire\n",
      "Jesse Gonzalez will save $1.81 million by the time they retire\n",
      "Phillip Sanders will save $0.64 million by the time they retire\n",
      "Marie Jenkins will save $1.38 million by the time they retire\n",
      "Annie Brown will save $1.36 million by the time they retire\n",
      "Christopher King will save $0.63 million by the time they retire\n",
      "Carl Phillips will save $1.35 million by the time they retire\n",
      "Betty Perez will save $1.58 million by the time they retire\n",
      "Ashley Hernandez will save $0.67 million by the time they retire\n",
      "Carlos Davis will save $0.85 million by the time they retire\n",
      "Richard Jackson will save $1.24 million by the time they retire\n",
      "Jean Cox will save $0.68 million by the time they retire\n",
      "Sara Allen will save $0.86 million by the time they retire\n",
      "Peter Butler will save $1.41 million by the time they retire\n",
      "Justin Collins will save $1.42 million by the time they retire\n",
      "Kevin Miller will save $0.92 million by the time they retire\n",
      "Andrew Russell will save $0.69 million by the time they retire\n"
     ]
    },
    {
     "ename": "IndexError",
     "evalue": "list index out of range",
     "output_type": "error",
     "traceback": [
      "\u001b[0;31m---------------------------------------------------------------------------\u001b[0m",
      "\u001b[0;31mIndexError\u001b[0m                                Traceback (most recent call last)",
      "\u001b[0;32m/var/folders/0v/z2w_93qn6px0c9k8bl2bm49r0000gn/T/ipykernel_60459/1736415993.py\u001b[0m in \u001b[0;36m<module>\u001b[0;34m\u001b[0m\n\u001b[1;32m      2\u001b[0m \u001b[0;34m\u001b[0m\u001b[0m\n\u001b[1;32m      3\u001b[0m \u001b[0;32mfor\u001b[0m \u001b[0mkk\u001b[0m \u001b[0;32min\u001b[0m \u001b[0mrange\u001b[0m\u001b[0;34m(\u001b[0m\u001b[0mlen\u001b[0m\u001b[0;34m(\u001b[0m\u001b[0mfinal_retirement_savings\u001b[0m\u001b[0;34m)\u001b[0m\u001b[0;34m)\u001b[0m\u001b[0;34m:\u001b[0m\u001b[0;34m\u001b[0m\u001b[0;34m\u001b[0m\u001b[0m\n\u001b[0;32m----> 4\u001b[0;31m     \u001b[0mprint\u001b[0m\u001b[0;34m(\u001b[0m\u001b[0;34m\"{} will save ${:.2f} million by the time they retire\"\u001b[0m\u001b[0;34m.\u001b[0m\u001b[0mformat\u001b[0m\u001b[0;34m(\u001b[0m\u001b[0mclient_name\u001b[0m\u001b[0;34m[\u001b[0m\u001b[0mkk\u001b[0m\u001b[0;34m]\u001b[0m\u001b[0;34m,\u001b[0m\u001b[0mfinal_retirement_savings\u001b[0m\u001b[0;34m[\u001b[0m\u001b[0mkk\u001b[0m\u001b[0;34m]\u001b[0m\u001b[0;34m/\u001b[0m\u001b[0;36m1.0e6\u001b[0m\u001b[0;34m)\u001b[0m\u001b[0;34m)\u001b[0m\u001b[0;34m\u001b[0m\u001b[0;34m\u001b[0m\u001b[0m\n\u001b[0m",
      "\u001b[0;31mIndexError\u001b[0m: list index out of range"
     ]
    }
   ],
   "source": [
    "# Print out the final savings for all of the new applications\n",
    "\n",
    "for kk in range(len(final_retirement_savings)):\n",
    "    print(\"{} will save ${:.2f} million by the time they retire\".format(client_name[kk],final_retirement_savings[kk]/1.0e6))"
   ]
  },
  {
   "cell_type": "markdown",
   "metadata": {},
   "source": [
    "&#9989;&nbsp; **Question**: Which client will retire with the *largest* amount of money in their savings account? When did they start saving? How much money did they add every year?"
   ]
  },
  {
   "cell_type": "markdown",
   "metadata": {},
   "source": [
    "<font size=\"+3\">&#9998;</font> Jesse Gonzalez will have |1.81 million saved by the time they retire. They began saving when they 40 and thet added $5280 each year. "
   ]
  },
  {
   "cell_type": "markdown",
   "metadata": {},
   "source": [
    "&#9989;&nbsp; **Question**: Which client will retire with the *smallest* amount of money in their savings account? When did they start saving? How much money did they add every year?"
   ]
  },
  {
   "cell_type": "markdown",
   "metadata": {},
   "source": [
    "<font size=\"+3\">&#9998;</font> Christopher King has the lowest amount of money at 0.63 million. He began saving at 36 and saved $5040 each year. "
   ]
  },
  {
   "cell_type": "markdown",
   "metadata": {},
   "source": [
    "&#9989;&nbsp; **Question**: Compare the people that retired with the most and least amount of money. What was the leading cause of the differences between the two? Is there anything that the person with the least amount of money saved could have done differently?"
   ]
  },
  {
   "cell_type": "markdown",
   "metadata": {},
   "source": [
    "<font size=\"+3\">&#9998;</font> The leading difference between the largest and the smallest is the age. Jesse had a larger interest rate or 17 percent becuase he started saving at a later age, while Christopher started saving at 36 and only had an interest rate of 11 percent. "
   ]
  },
  {
   "cell_type": "markdown",
   "metadata": {},
   "source": [
    "---\n",
    "### &#128721; STOP\n",
    "Check in with all of your group members to make sure you all understand everything to this point!"
   ]
  },
  {
   "cell_type": "markdown",
   "metadata": {},
   "source": [
    "---\n",
    "## Part 4: Writing functions\n",
    "\n",
    "Functions fulfill a similar role as loops: they allow us to avoid repeating the same code over and over again. The rule of thumb we will use for this class is: \n",
    "\n",
    "### If you need to repeat some piece of code three or more times turn it into a function\n",
    "\n",
    "In today's assignment and a previous assignment, you used a block of code that calculated the total amount of money saved for retirement. Let's use this bit of code to get some practice writing functions.\n",
    "\n",
    "### &#9989;&nbsp; 4.1: Writing a function\n",
    "**Write a function that calculates the total amount of money saved in a retirement account.** You should be able to insert this function directly into the code you wrote in the previous exercise."
   ]
  },
  {
   "cell_type": "code",
   "execution_count": 60,
   "metadata": {},
   "outputs": [],
   "source": [
    "# Put your code for your new function here\n",
    "def retirement_account (age, money):\n",
    "    if age>= 18 and age<= 24:\n",
    "        Int= 1.065\n",
    "    elif age>= 25 and age<= 31:\n",
    "        Int= 1.085\n",
    "    elif age>= 32 and age<= 39:\n",
    "        Int= 1.11\n",
    "    else:\n",
    "        Int= 1.17\n",
    "    \n",
    "    balance = 0\n",
    "    while age<= 65:\n",
    "        balance += balance*Int\n",
    "        balance += money\n",
    "        age += 1\n",
    "    return(balance)"
   ]
  },
  {
   "cell_type": "markdown",
   "metadata": {},
   "source": [
    "### &#9989;&nbsp; 4.2: Using your Function\n",
    "\n",
    "**In the cell below, put your code from Part 3.2. Use the function you wrote to calculate the total amount of money saved in the retirement account.**"
   ]
  },
  {
   "cell_type": "code",
   "execution_count": 61,
   "metadata": {},
   "outputs": [
    {
     "ename": "TypeError",
     "evalue": "retirement_account() missing 1 required positional argument: 'Int'",
     "output_type": "error",
     "traceback": [
      "\u001b[0;31m---------------------------------------------------------------------------\u001b[0m",
      "\u001b[0;31mTypeError\u001b[0m                                 Traceback (most recent call last)",
      "\u001b[0;32m/var/folders/0v/z2w_93qn6px0c9k8bl2bm49r0000gn/T/ipykernel_60459/2732192064.py\u001b[0m in \u001b[0;36m<module>\u001b[0;34m\u001b[0m\n\u001b[1;32m     17\u001b[0m         \u001b[0mbalance\u001b[0m \u001b[0;34m+=\u001b[0m \u001b[0msavings_per_year\u001b[0m\u001b[0;34m[\u001b[0m\u001b[0mi\u001b[0m\u001b[0;34m]\u001b[0m\u001b[0;34m\u001b[0m\u001b[0;34m\u001b[0m\u001b[0m\n\u001b[1;32m     18\u001b[0m         \u001b[0mage\u001b[0m \u001b[0;34m+=\u001b[0m \u001b[0;36m1\u001b[0m\u001b[0;34m\u001b[0m\u001b[0;34m\u001b[0m\u001b[0m\n\u001b[0;32m---> 19\u001b[0;31m \u001b[0mretirement_account\u001b[0m\u001b[0;34m(\u001b[0m\u001b[0mstart_savings_age\u001b[0m\u001b[0;34m[\u001b[0m\u001b[0mi\u001b[0m\u001b[0;34m]\u001b[0m\u001b[0;34m,\u001b[0m \u001b[0msavings_per_year\u001b[0m\u001b[0;34m)\u001b[0m\u001b[0;34m\u001b[0m\u001b[0;34m\u001b[0m\u001b[0m\n\u001b[0m\u001b[1;32m     20\u001b[0m \u001b[0mprint\u001b[0m\u001b[0;34m(\u001b[0m\u001b[0mbal\u001b[0m\u001b[0;34m)\u001b[0m\u001b[0;34m\u001b[0m\u001b[0;34m\u001b[0m\u001b[0m\n\u001b[1;32m     21\u001b[0m \u001b[0;34m\u001b[0m\u001b[0m\n",
      "\u001b[0;31mTypeError\u001b[0m: retirement_account() missing 1 required positional argument: 'Int'"
     ]
    }
   ],
   "source": [
    "# Put your code here\n",
    "\n",
    "\n",
    "    "
   ]
  },
  {
   "cell_type": "code",
   "execution_count": 62,
   "metadata": {},
   "outputs": [
    {
     "name": "stdout",
     "output_type": "stream",
     "text": [
      "Michael Mitchell will save $1.23 million by the time they retire\n",
      "Ashley Moore will save $0.90 million by the time they retire\n",
      "Fred Walker will save $0.59 million by the time they retire\n",
      "Walter Wood will save $0.56 million by the time they retire\n",
      "Jesse Gonzalez will save $1.81 million by the time they retire\n",
      "Phillip Sanders will save $0.64 million by the time they retire\n",
      "Marie Jenkins will save $1.38 million by the time they retire\n",
      "Annie Brown will save $1.36 million by the time they retire\n",
      "Christopher King will save $0.63 million by the time they retire\n",
      "Carl Phillips will save $1.35 million by the time they retire\n",
      "Betty Perez will save $1.58 million by the time they retire\n",
      "Ashley Hernandez will save $0.67 million by the time they retire\n",
      "Carlos Davis will save $0.85 million by the time they retire\n",
      "Richard Jackson will save $1.24 million by the time they retire\n",
      "Jean Cox will save $0.68 million by the time they retire\n",
      "Sara Allen will save $0.86 million by the time they retire\n",
      "Peter Butler will save $1.41 million by the time they retire\n",
      "Justin Collins will save $1.42 million by the time they retire\n",
      "Kevin Miller will save $0.92 million by the time they retire\n",
      "Andrew Russell will save $0.69 million by the time they retire\n"
     ]
    },
    {
     "ename": "IndexError",
     "evalue": "list index out of range",
     "output_type": "error",
     "traceback": [
      "\u001b[0;31m---------------------------------------------------------------------------\u001b[0m",
      "\u001b[0;31mIndexError\u001b[0m                                Traceback (most recent call last)",
      "\u001b[0;32m/var/folders/0v/z2w_93qn6px0c9k8bl2bm49r0000gn/T/ipykernel_60459/1736415993.py\u001b[0m in \u001b[0;36m<module>\u001b[0;34m\u001b[0m\n\u001b[1;32m      2\u001b[0m \u001b[0;34m\u001b[0m\u001b[0m\n\u001b[1;32m      3\u001b[0m \u001b[0;32mfor\u001b[0m \u001b[0mkk\u001b[0m \u001b[0;32min\u001b[0m \u001b[0mrange\u001b[0m\u001b[0;34m(\u001b[0m\u001b[0mlen\u001b[0m\u001b[0;34m(\u001b[0m\u001b[0mfinal_retirement_savings\u001b[0m\u001b[0;34m)\u001b[0m\u001b[0;34m)\u001b[0m\u001b[0;34m:\u001b[0m\u001b[0;34m\u001b[0m\u001b[0;34m\u001b[0m\u001b[0m\n\u001b[0;32m----> 4\u001b[0;31m     \u001b[0mprint\u001b[0m\u001b[0;34m(\u001b[0m\u001b[0;34m\"{} will save ${:.2f} million by the time they retire\"\u001b[0m\u001b[0;34m.\u001b[0m\u001b[0mformat\u001b[0m\u001b[0;34m(\u001b[0m\u001b[0mclient_name\u001b[0m\u001b[0;34m[\u001b[0m\u001b[0mkk\u001b[0m\u001b[0;34m]\u001b[0m\u001b[0;34m,\u001b[0m\u001b[0mfinal_retirement_savings\u001b[0m\u001b[0;34m[\u001b[0m\u001b[0mkk\u001b[0m\u001b[0;34m]\u001b[0m\u001b[0;34m/\u001b[0m\u001b[0;36m1.0e6\u001b[0m\u001b[0;34m)\u001b[0m\u001b[0;34m)\u001b[0m\u001b[0;34m\u001b[0m\u001b[0;34m\u001b[0m\u001b[0m\n\u001b[0m",
      "\u001b[0;31mIndexError\u001b[0m: list index out of range"
     ]
    }
   ],
   "source": [
    "# Print out the final savings for all of the new applications\n",
    "\n",
    "for kk in range(len(final_retirement_savings)):\n",
    "    print(\"{} will save ${:.2f} million by the time they retire\".format(client_name[kk],final_retirement_savings[kk]/1.0e6))"
   ]
  },
  {
   "cell_type": "markdown",
   "metadata": {},
   "source": [
    "---"
   ]
  },
  {
   "cell_type": "markdown",
   "metadata": {},
   "source": [
    "## Congratulations, you're done!\n",
    "\n",
    "Submit this assignment by uploading it to the course Desire2Learn web page.  Go to the \"In-class assignments\" folder, find the appropriate submission link, and upload it there.\n",
    "\n",
    "See you next class!"
   ]
  },
  {
   "cell_type": "markdown",
   "metadata": {},
   "source": [
    "&#169; Copyright 2021,  Michigan State University Board of Trustees"
   ]
  }
 ],
 "metadata": {
  "kernelspec": {
   "display_name": "Python 3 (ipykernel)",
   "language": "python",
   "name": "python3"
  },
  "language_info": {
   "codemirror_mode": {
    "name": "ipython",
    "version": 3
   },
   "file_extension": ".py",
   "mimetype": "text/x-python",
   "name": "python",
   "nbconvert_exporter": "python",
   "pygments_lexer": "ipython3",
   "version": "3.9.7"
  }
 },
 "nbformat": 4,
 "nbformat_minor": 4
}
