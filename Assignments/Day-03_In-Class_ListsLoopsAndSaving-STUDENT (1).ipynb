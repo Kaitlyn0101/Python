{
 "cells": [
  {
   "cell_type": "markdown",
   "metadata": {},
   "source": [
    "# Day 3 In-class Assignment: The power of compound interest\n",
    "\n",
    "![Snowballs](https://www.financialsuccess.iastate.edu/blog/wp-content/uploads/2020/09/bank-getty.jpg)\n",
    "\n"
   ]
  },
  {
   "cell_type": "markdown",
   "metadata": {},
   "source": [
    "### <p style=\"text-align: right;\"> &#9989; Kaitlyn Watson \n",
    "<p style=\"text-align: right;\"> &#9989; Michael Temple, Eric Vitale, Tray Dunbeck, and Tara Wagh"
   ]
  },
  {
   "cell_type": "markdown",
   "metadata": {},
   "source": [
    "## Learning Goals:\n",
    "\n",
    "By the end of this assignment you should be able to:\n",
    "\n",
    "* Use Python lists to store values\n",
    "* Use loops to iterate over a specified range or until a condition is met.\n",
    "* Compute the best retirement savings plan.\n"
   ]
  },
  {
   "cell_type": "markdown",
   "metadata": {},
   "source": [
    "---\n",
    "## The Problem\n",
    "\n",
    "You are working for a bank, writing code to calculate the revenue and expenses for the company. A person can deposit money in a retirement account at your bank, and the bank pays interest every year on the money in the retirement account. The mathematical expression for calculating the amount of money in the retirement account every year is:\n",
    "\n",
    "$\\mathrm{New~Retirement~Total} = (\\mathrm{Old~Retirement~Total})*(\\mathrm{Interest~Rate}) + (\\mathrm{Money~Added~to~Retirement})$\n",
    "\n",
    "\n",
    "**Your job is to write a piece of code that calculates and stores (in a list) the total amount of money in the retirement account *every year* for some number of years** (your boss is going to make a plot of it, so make sure you have the value for each year!). \n",
    "\n",
    "Your boss tells you to model the total retirement savings for a ***range*** of different parameters (*e.g.* interest rates and annual contributions).\n",
    "\n",
    "**You can assume that the person saving for retirement starts when they're 18 and continues until they're 65. Also assume that the interest rate and annual contributions are fixed.**"
   ]
  },
  {
   "cell_type": "markdown",
   "metadata": {},
   "source": [
    "---\n",
    "## 1. Planning your solution and pseudo-coding\n",
    "\n",
    "Before you start writing any code you should come up with a plan for how you've going to solve the problem. During this phase you should identify and define the variables that are revelant to the problem, the equations you're going to need to model, the overall structure of the program that you will write, and how you will make sure the code is running correctly.\n",
    "\n",
    "#### You and your group members are expected to use a virtual whiteboard app like [Google Jamboard](https://jamboard.google.com/) or the [Aww app](https://awwapp.com/)** write out your ideas to ensure that everyone is on the same page and allow your instructors to see your progress.\n",
    "\n",
    "Part of this planning process should involve writing \"**pseudo-code**\", a plain language description of the steps in your code (sort of like writing out in your code in form of a cooking recipe).\n",
    "\n",
    "Things you should decide on during your planning and psuedo-coding:\n",
    "\n",
    "1. What quantities in your model are \"variables\" that will change as a function of time? What are the initial values of these variables?\n",
    "2. What quantities in your model are \"parameters\" that are constant over time? What are reasonable ranges for each parameter? \n",
    "4. How will you go about solving this problem for a given set of inputs?\n",
    "5. How will you check to make sure your code is running correctly. \n",
    "\n",
    "\n",
    "You should be able to justify your choices.\n",
    "\n",
    "### &#9989;&nbsp; 1.1 Record the details of you plan in the Markdown cell below."
   ]
  },
  {
   "cell_type": "markdown",
   "metadata": {},
   "source": [
    "<font size=6 color=\"#009600\">&#9998;</font> \n",
    "1. What quantities in your model are \"variables\" that will change as a function of time? What are the initial values of these variables?\n",
    "\n",
    "The new and old retirement totals will change as a function of time. The initial value for both of these variable is zero. \n",
    "\n",
    "2. What quantities in your model are \"parameters\" that are constant over time? What are reasonable ranges for each parameter?\n",
    "\n",
    "The interest rate and annual contribution (money added to the retirement) are constant over time. A possible range for interest rate would be 3-7 percent and the possible annual contribution would $5,000-$8,000. \n",
    "\n",
    "3. How will you go about solving this problem for a given set of inputs?\n",
    "Because we know that the age range is from 18-65, we can calculate the total number of inputs and create a for loop in order to solve this problem. \n",
    "\n",
    "4. How will you check to make sure your code is running correctly. \n",
    "\n",
    "We will double check all variables and run the cell ensuring that no errors will occur when we run the code. "
   ]
  },
  {
   "cell_type": "markdown",
   "metadata": {},
   "source": [
    "## &#128721; STOP AND ASK YOUR INSTRUCTOR TO COME OVER AND CHECK YOUR PSEUDO CODE\n",
    "\n",
    "---\n",
    "## 2. Coding up your solution\n",
    "\n",
    "Now that you and your group have come up with a plan for your code, it's time to put your plan into action.\n",
    "\n",
    "### &#9989;&nbsp; 2.1 Writing Code\n",
    "**Write your code for calculating the total retirement savings in the cell below. Start by writing code for a single set of parameter values (I.e., not a range).** It is simpler, and you can also add to it later.\n",
    "\n",
    "**Hint: Remember to update the value of $\\mathrm{Old~Retirement~Total}$ in your loop!**"
   ]
  },
  {
   "cell_type": "code",
   "execution_count": 21,
   "metadata": {},
   "outputs": [
    {
     "name": "stdout",
     "output_type": "stream",
     "text": [
      "[5000.0, 10150.0, 15454.5, 20918.135000000002, 26545.679050000002, 32342.049421500004, 38312.310904145, 44461.68023126935, 50795.53063820743, 57319.39655735365, 64038.978454074255, 70960.14780769648, 78088.95224192739, 85431.6208091852, 92994.56943346075, 100784.40651646457, 108807.93871195852, 117072.17687331726, 125584.34217951678, 134351.87244490228, 143382.42861824937, 152683.90147679683, 162264.41852110074, 172132.35107673376, 182296.32160903577, 192765.21125730686, 203548.16759502605, 214654.61262287683, 226094.25100156313, 237877.07853161002, 250013.39088755831, 262513.7926141851, 275389.2063926106, 288650.88258438895, 302310.4090619206, 316379.72133377823, 330871.11297379155, 345797.2463630053, 361171.1637538955, 377006.29866651236, 393316.4876265077, 410115.98225530295, 427419.46172296203, 445242.04557465087, 463599.3069418904, 482507.2861501471]\n"
     ]
    }
   ],
   "source": [
    "# Put your code for calculating the total amount of retirement savings here\n",
    "\n",
    "#assign the variables \n",
    "interest=.03\n",
    "ann_contrib=5000\n",
    "\n",
    "# set the intitial values to 0\n",
    "new_fund=0\n",
    "old_fund=0\n",
    "total=[]\n",
    "\n",
    "#create a for loop with the range being 46 due to the number of years between 18-65. \n",
    "for i in range(46):\n",
    "    new_fund=old_fund+old_fund*0.03+5000\n",
    "    old_fund=new_fund\n",
    "    total.append(new_fund)\n",
    "\n",
    "print(total)\n",
    "    \n",
    "    "
   ]
  },
  {
   "cell_type": "markdown",
   "metadata": {},
   "source": [
    "---\n",
    "### &#128721; STOP\n",
    "\n",
    "**Check to make sure your code is working correctly.**"
   ]
  },
  {
   "cell_type": "code",
   "execution_count": 22,
   "metadata": {},
   "outputs": [],
   "source": [
    "# If your method for checking your results involves writing code, put it here"
   ]
  },
  {
   "cell_type": "markdown",
   "metadata": {},
   "source": [
    "*Explain how you know your code is working correctly.*"
   ]
  },
  {
   "cell_type": "markdown",
   "metadata": {},
   "source": [
    "<font size=6 color=\"#009600\">&#9998;</font> Our code is working correctly because as we add our annual contribution to the balance of the old fund (times the interest rate), the computer is working behind the scenes to have the last elemenet of the code be included in the equation and result in our new fund total. We also can see that our new fund is exponentially growing in our results. We stored this as a list. "
   ]
  },
  {
   "cell_type": "markdown",
   "metadata": {},
   "source": [
    "## 3. Coding up your solution (Range of Values)\n",
    "\n",
    "### &#9989;&nbsp; 3.1 Putting in a Range of Values\n",
    "**Take the code you wrote in Part 2 and expand on it so that you can calculate total retirement savings for a range of different input parameters.**"
   ]
  },
  {
   "cell_type": "code",
   "execution_count": 28,
   "metadata": {},
   "outputs": [
    {
     "name": "stdout",
     "output_type": "stream",
     "text": [
      "[5000.0, 10150.0, 15454.5, 20918.135000000002, 26545.679050000002, 32342.049421500004, 38312.310904145, 44461.68023126935, 50795.53063820743, 57319.39655735365, 64038.978454074255, 70960.14780769648, 78088.95224192739, 85431.6208091852, 92994.56943346075, 100784.40651646457, 108807.93871195852, 117072.17687331726, 125584.34217951678, 134351.87244490228, 143382.42861824937, 152683.90147679683, 162264.41852110074, 172132.35107673376, 182296.32160903577, 192765.21125730686, 203548.16759502605, 214654.61262287683, 226094.25100156313, 237877.07853161002, 250013.39088755831, 262513.7926141851, 275389.2063926106, 288650.88258438895, 302310.4090619206, 316379.72133377823, 330871.11297379155, 345797.2463630053, 361171.1637538955, 377006.29866651236, 393316.4876265077, 410115.98225530295, 427419.46172296203, 445242.04557465087, 463599.3069418904, 482507.2861501471]\n",
      "[8000.0, 16640.0, 25971.2, 36048.896, 46932.80768, 58687.4322944, 71382.426877952, 85093.02102818817, 99900.46271044323, 115892.49972727869, 133163.899705461, 151817.0116818979, 171962.37261644972, 193719.3624257657, 217216.91141982694, 242594.2643334131, 270001.8054800861, 299601.94991849305, 331570.10591197247, 366095.71438493027, 403383.37153572467, 443654.04125858267, 487146.3645592693, 534118.0737240108, 584847.5196219317, 639635.3211916862, 698806.1468870211, 762710.6386379828, 831727.4897290214, 906265.6889073432, 986766.9440199307, 1073708.299541525, 1167604.9635048471, 1269013.3605852348, 1378534.4294320536, 1496817.1837866178, 1624562.5584895473, 1762527.563168711, 1911529.768222208, 2072452.1496799844, 2246248.321654383, 2433948.187386734, 2636664.0423776726, 2855597.1657678867, 3092044.939029318, 3347408.534151663]\n"
     ]
    }
   ],
   "source": [
    "# Put your code for calculating the total amount of retirement savings for a range of values here\n",
    "\n",
    "#assign the variables \n",
    "min_interest=.003\n",
    "max_interest=0.08\n",
    "min_ann_contrib=5000\n",
    "max_annual_contribution\n",
    "\n",
    "\n",
    "# set the intitial values to 0\n",
    "fund=0\n",
    "fund2=0\n",
    "minimum=[]\n",
    "maximum=[]\n",
    "\n",
    "\n",
    "#create a for loop with the range being 46 due to the number of years between 18-65 for minimum interest rate and annual contribution.\n",
    "for i in range(46):\n",
    "    fund=fund+fund*0.03+5000\n",
    "    minimum.append(fund)\n",
    "\n",
    "print(minimum)\n",
    "\n",
    "#create a for loop with the range being 46 due to the number of years between 18-65 for maximum interest rate and annual contribution.\n",
    "for i in range(46):\n",
    "    fund2=fund2+fund2*0.08+8000\n",
    "    maximum.append(fund2)\n",
    "\n",
    "print(maximum)"
   ]
  },
  {
   "cell_type": "markdown",
   "metadata": {},
   "source": [
    "## 4. Bringing in new customers\n",
    "\n",
    "Your boss says the bank is trying to attract customers that don't start saving for retirement until later in life, and they're trying to find a good way to do this. You suggest offering **double the usual interest rate** for people that don't start saving until they're 30. \n",
    "\n",
    "Your boss likes the idea and wants you to run the numbers. \n",
    "\n",
    "### &#9989;&nbsp; 4.1 Answering your Boss' Question, Code\n",
    "**Who would end up with more money saved: someone that starts saving at 18 with a normal interest rate, or someone that starts saving at 30 with double the interest rate?**"
   ]
  },
  {
   "cell_type": "code",
   "execution_count": 29,
   "metadata": {},
   "outputs": [
    {
     "name": "stdout",
     "output_type": "stream",
     "text": [
      "[5000.0, 10300.0, 15918.0, 21873.08, 28185.4648, 34876.592688000004, 41969.18824928001, 49487.339544236806, 57456.579916891016, 65903.97471190448, 74858.21319461874, 84349.70598629587, 94410.68834547362, 105075.32964620204, 116379.84942497416, 128362.64039047262, 141064.39881390097, 154528.26274273504, 168799.95850729913, 183927.95601773707, 199963.63337880129, 216961.45138152936, 234979.13846442112, 254077.88677228638, 274322.5599786236, 295781.913577341, 318528.8283919815, 342640.5580955004, 368198.9915812304, 395290.9310761042, 424008.3869406705, 454448.8901571107, 486715.82356653735, 520918.7729805296, 557173.8993593614]\n"
     ]
    }
   ],
   "source": [
    "# Put your code here\n",
    "#assign the variables \n",
    "interest=.06\n",
    "ann_contrib=5000\n",
    "\n",
    "# set the intitial values to 0\n",
    "new_fund=0\n",
    "old_fund=0\n",
    "total=[]\n",
    "\n",
    "#create a for loop with the range being 46 due to the number of years between 18-65. \n",
    "for i in range(35):\n",
    "    new_fund=old_fund+old_fund*0.06+5000\n",
    "    old_fund=new_fund\n",
    "    total.append(new_fund)\n",
    "\n",
    "print(total)"
   ]
  },
  {
   "cell_type": "markdown",
   "metadata": {},
   "source": [
    "### &#9989;&nbsp; 4.2 Answering your Boss' Question, Answer\n",
    "\n",
    "**Who would end up saving more money for retirement?**"
   ]
  },
  {
   "cell_type": "markdown",
   "metadata": {},
   "source": [
    "If you were to double the interest rate (0.06) and start saving at 30, you would end up saving more money for retirement than if you saved starting at 18 with the half the interest rate (0.03)."
   ]
  },
  {
   "cell_type": "markdown",
   "metadata": {},
   "source": [
    "---\n",
    "## Assignment wrapup\n",
    "\n",
    "Please fill out the form that appears when you run the code below. ***For today's assignment, ignore the part about pre-class assignment.*  You must completely fill this out in order to receive credit for the assignment!** "
   ]
  },
  {
   "cell_type": "code",
   "execution_count": 1,
   "metadata": {},
   "outputs": [
    {
     "data": {
      "text/html": [
       "\n",
       "<iframe \n",
       "\tsrc=\"https://cmse.msu.edu/cmse201-ic-survey\" \n",
       "\twidth=\"800px\" \n",
       "\theight=\"600px\" \n",
       "\tframeborder=\"0\" \n",
       "\tmarginheight=\"0\" \n",
       "\tmarginwidth=\"0\">\n",
       "\tLoading...\n",
       "</iframe>\n"
      ],
      "text/plain": [
       "<IPython.core.display.HTML object>"
      ]
     },
     "execution_count": 1,
     "metadata": {},
     "output_type": "execute_result"
    }
   ],
   "source": [
    "from IPython.display import HTML\n",
    "HTML(\n",
    "\"\"\"\n",
    "<iframe \n",
    "\tsrc=\"https://cmse.msu.edu/cmse201-ic-survey\" \n",
    "\twidth=\"800px\" \n",
    "\theight=\"600px\" \n",
    "\tframeborder=\"0\" \n",
    "\tmarginheight=\"0\" \n",
    "\tmarginwidth=\"0\">\n",
    "\tLoading...\n",
    "</iframe>\n",
    "\"\"\"\n",
    ")"
   ]
  },
  {
   "cell_type": "markdown",
   "metadata": {},
   "source": [
    "## Congratulations, you're done!\n",
    "\n",
    "Submit this assignment by uploading it to the course Desire2Learn web page.  Go to the \"In-class assignments\" folder, find the appropriate submission link, and upload it there.\n",
    "\n",
    "See you next class!"
   ]
  },
  {
   "cell_type": "markdown",
   "metadata": {},
   "source": [
    "&#169; Copyright 2021,  Michigan State University Board of Trustees"
   ]
  },
  {
   "cell_type": "code",
   "execution_count": null,
   "metadata": {},
   "outputs": [],
   "source": []
  }
 ],
 "metadata": {
  "kernelspec": {
   "display_name": "Python 3 (ipykernel)",
   "language": "python",
   "name": "python3"
  },
  "language_info": {
   "codemirror_mode": {
    "name": "ipython",
    "version": 3
   },
   "file_extension": ".py",
   "mimetype": "text/x-python",
   "name": "python",
   "nbconvert_exporter": "python",
   "pygments_lexer": "ipython3",
   "version": "3.9.7"
  }
 },
 "nbformat": 4,
 "nbformat_minor": 4
}
