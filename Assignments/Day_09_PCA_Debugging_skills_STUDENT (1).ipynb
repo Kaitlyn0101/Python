{
 "cells": [
  {
   "cell_type": "markdown",
   "id": "6ce058c1-6d38-48cf-a341-58881456cbfc",
   "metadata": {},
   "source": [
    "# Day 9 Pre-class Assignment: Tools for Debugging Code\n",
    "\n"
   ]
  },
  {
   "cell_type": "markdown",
   "id": "96f7c7b9-179d-4d92-b8d4-a2beefee3c1d",
   "metadata": {},
   "source": [
    "### <p style=\"text-align: right;\"> &#9989; Kaitlyn Watson</p>"
   ]
  },
  {
   "cell_type": "markdown",
   "id": "693bc459-1baf-488e-92cf-855928a6a498",
   "metadata": {},
   "source": [
    "## Goals for today's pre-class assignment\n",
    "\n",
    "* Understand the important pieces of information found in a thrown error\n",
    "* Use Google to understand the error code being thrown\n",
    "* Come up with tests to ensure your code is working correctly. \n",
    "\n",
    "\n",
    "## Assignment instructions\n",
    "\n",
    "**This assignment is due by 11:59 p.m. the day before class,** and should be uploaded into the appropriate \"Pre-class assignments\" submission folder.  If you run into issues with your code, make sure to use Slack to help each other out and receive some assistance from the instructors. Submission instructions can be found at the end of the notebook.\n",
    "\n",
    "**It is important that you do your best to complete the pre-class assignment!** Going through this assignment and trying to complete it to the best of your ability will help to make sure you're prepared for the content that is covered in class. "
   ]
  },
  {
   "cell_type": "markdown",
   "id": "780a82bd-37f5-47ae-aa2e-2449b69d8b3e",
   "metadata": {},
   "source": [
    "---\n",
    "Knowing how to code means being able to interpret bugs and errors in your code. Learning how to solve problems as they come up will allow you to do just about anything with code.\n",
    "\n",
    "In this pre-class assignment, we’ll be talking about two broad topics related to debugging code, which I am calling: Troubleshooting and Testing. Troubleshooting is what you will use when the code itself throws an error at you, while Testing is what you will do when it doesn’t throw an error at you (I.e., ensuring that your code is doing what it’s supposed to!).\n",
    "\n",
    "\n",
    "\n",
    "\n",
    "\n",
    "# Part 1: Troubleshooting\n",
    "\n",
    "## 1.1: Understanding Thrown Errors\n",
    "\n",
    "For the first part of the assignment, we will dive into the different pieces of an error that Python throws. The following video walks you through those pieces. \n",
    "\n",
    "[MediaSpace link to video](https://mediaspace.msu.edu/media/Debugging_Code_Video/1_ap7gr6o5)."
   ]
  },
  {
   "cell_type": "markdown",
   "id": "6d7d2533-6e90-44b4-b2e9-4fdd458355e9",
   "metadata": {},
   "source": [
    "&#9989;&nbsp; **Question 1:**  What are the two most important pieces of information in a thrown error?"
   ]
  },
  {
   "cell_type": "markdown",
   "id": "4b2f8e8b-fe90-41cd-8fd8-6e337476db2b",
   "metadata": {},
   "source": [
    "<font size=\"+3\">&#9998;</font> The first most important piece of information is the line of code in which the error was being thrown at. The second most important is the TypeError which tells us the type of error Python is running into."
   ]
  },
  {
   "cell_type": "markdown",
   "id": "550986a9-ce84-498e-8b4c-8ec0379fa85f",
   "metadata": {},
   "source": [
    "&#9989;&nbsp; **Question 2:**  In the video, why did we google `range()`? How did it help us solve the problem?"
   ]
  },
  {
   "cell_type": "markdown",
   "id": "5e6c210e-4cfd-45f5-bb99-cb97d140fbb3",
   "metadata": {},
   "source": [
    "<font size=\"+3\">&#9998;</font> Googling 'range()' allows us to find examples where the function was run successfully. We can use these examples to adapt our own code."
   ]
  },
  {
   "cell_type": "markdown",
   "id": "79219385-6c4e-4a38-b6b8-7d1aab7c9db1",
   "metadata": {},
   "source": [
    "&#9989;&nbsp; **Question 3:**  The following bit of code throws an error when it's run. Do a write-up for the error that gets thrown (I.e., identify the line number, identify the error code, give a plain English description of the error, and say how you fixed the issue)."
   ]
  },
  {
   "cell_type": "code",
   "execution_count": 1,
   "id": "8fd7dc0f-e59d-4b1d-a823-db2286363a93",
   "metadata": {},
   "outputs": [
    {
     "ename": "TypeError",
     "evalue": "list indices must be integers or slices, not str",
     "output_type": "error",
     "traceback": [
      "\u001b[0;31m---------------------------------------------------------------------------\u001b[0m",
      "\u001b[0;31mTypeError\u001b[0m                                 Traceback (most recent call last)",
      "\u001b[0;32m/var/folders/0v/z2w_93qn6px0c9k8bl2bm49r0000gn/T/ipykernel_14892/2558175882.py\u001b[0m in \u001b[0;36m<module>\u001b[0;34m\u001b[0m\n\u001b[1;32m      2\u001b[0m \u001b[0;34m\u001b[0m\u001b[0m\n\u001b[1;32m      3\u001b[0m \u001b[0;32mfor\u001b[0m \u001b[0mi\u001b[0m \u001b[0;32min\u001b[0m \u001b[0mstraw_hats\u001b[0m\u001b[0;34m:\u001b[0m\u001b[0;34m\u001b[0m\u001b[0;34m\u001b[0m\u001b[0m\n\u001b[0;32m----> 4\u001b[0;31m     \u001b[0mprint\u001b[0m\u001b[0;34m(\u001b[0m\u001b[0mstraw_hats\u001b[0m\u001b[0;34m[\u001b[0m\u001b[0mi\u001b[0m\u001b[0;34m]\u001b[0m\u001b[0;34m)\u001b[0m\u001b[0;34m\u001b[0m\u001b[0;34m\u001b[0m\u001b[0m\n\u001b[0m",
      "\u001b[0;31mTypeError\u001b[0m: list indices must be integers or slices, not str"
     ]
    }
   ],
   "source": [
    "straw_hats = [\"Luffy\", \"Zoro\", \"Sanji\", \"Jimbei\", \"Franky\", \"Nami\"]\n",
    "\n",
    "for i in straw_hats:\n",
    "    print(straw_hats[i])"
   ]
  },
  {
   "cell_type": "code",
   "execution_count": 8,
   "id": "0e1116d8-f48f-4308-922b-4e7cb55c2173",
   "metadata": {},
   "outputs": [
    {
     "name": "stdout",
     "output_type": "stream",
     "text": [
      "Luffy\n",
      "Zoro\n",
      "Sanji\n",
      "Jimbei\n",
      "Franky\n",
      "Nami\n"
     ]
    }
   ],
   "source": [
    "#Put the fixed code here\n",
    "\n",
    "straw_hats = [\"Luffy\", \"Zoro\", \"Sanji\", \"Jimbei\", \"Franky\", \"Nami\"]\n",
    "\n",
    "for i in range(len(straw_hats)):\n",
    "    print(straw_hats[i])"
   ]
  },
  {
   "cell_type": "markdown",
   "id": "d7dc1eb0-fa8b-4816-b541-c9cf1c31bbad",
   "metadata": {},
   "source": [
    "<font size=\"+3\">&#9998;</font> Line 4 is throwing an error code. The type of error is that the list of indices must be integers and not strings. In order to fix this code, I changed line 5 to include the range function. Inside the range function I added the function len (length) and then placed our list inside of that. The code printed correctly. "
   ]
  },
  {
   "cell_type": "markdown",
   "id": "87867720-f55c-44a4-ad57-a615807f9b01",
   "metadata": {},
   "source": [
    "## 1.2 Using Google to Understand Error Messages\n",
    "\n",
    "The most powerful tool we have at our disposal for debugging is Google. In this section, we'll discuss how to use Google to make sense of error messages that we may not understand. The following video shows an example of this.\n",
    "\n",
    "\n",
    "[MediaSpace link to video](https://mediaspace.msu.edu/media/Debugging_Code_With_Google/1_hnfr14ta)."
   ]
  },
  {
   "cell_type": "markdown",
   "id": "a7b616e5-6102-4143-a0e8-0d08d7b75a67",
   "metadata": {},
   "source": [
    "The following bit of code is supposed to plot the quantity of materials against the price of the materials. However, it throws an error. "
   ]
  },
  {
   "cell_type": "code",
   "execution_count": 9,
   "id": "1cc58b0e-5e8e-4700-8c2b-ba590ee920cc",
   "metadata": {},
   "outputs": [
    {
     "ename": "ValueError",
     "evalue": "x and y must have same first dimension, but have shapes (6,) and (7,)",
     "output_type": "error",
     "traceback": [
      "\u001b[0;31m---------------------------------------------------------------------------\u001b[0m",
      "\u001b[0;31mValueError\u001b[0m                                Traceback (most recent call last)",
      "\u001b[0;32m/var/folders/0v/z2w_93qn6px0c9k8bl2bm49r0000gn/T/ipykernel_14892/3117275800.py\u001b[0m in \u001b[0;36m<module>\u001b[0;34m\u001b[0m\n\u001b[1;32m      5\u001b[0m \u001b[0mmaterials_prices\u001b[0m \u001b[0;34m=\u001b[0m \u001b[0;34m[\u001b[0m\u001b[0;36m2.5\u001b[0m\u001b[0;34m,\u001b[0m \u001b[0;36m25.0\u001b[0m\u001b[0;34m,\u001b[0m \u001b[0;36m0.1\u001b[0m\u001b[0;34m,\u001b[0m \u001b[0;36m0.20\u001b[0m\u001b[0;34m,\u001b[0m \u001b[0;36m12\u001b[0m\u001b[0;34m,\u001b[0m \u001b[0;36m30\u001b[0m\u001b[0;34m,\u001b[0m \u001b[0;36m4\u001b[0m\u001b[0;34m]\u001b[0m\u001b[0;34m\u001b[0m\u001b[0;34m\u001b[0m\u001b[0m\n\u001b[1;32m      6\u001b[0m \u001b[0;34m\u001b[0m\u001b[0m\n\u001b[0;32m----> 7\u001b[0;31m \u001b[0mplt\u001b[0m\u001b[0;34m.\u001b[0m\u001b[0mplot\u001b[0m\u001b[0;34m(\u001b[0m\u001b[0mmaterials_quantity\u001b[0m\u001b[0;34m,\u001b[0m\u001b[0mmaterials_prices\u001b[0m\u001b[0;34m)\u001b[0m\u001b[0;34m\u001b[0m\u001b[0;34m\u001b[0m\u001b[0m\n\u001b[0m",
      "\u001b[0;32m~/opt/anaconda3/lib/python3.9/site-packages/matplotlib/pyplot.py\u001b[0m in \u001b[0;36mplot\u001b[0;34m(scalex, scaley, data, *args, **kwargs)\u001b[0m\n\u001b[1;32m   3017\u001b[0m \u001b[0;34m@\u001b[0m\u001b[0m_copy_docstring_and_deprecators\u001b[0m\u001b[0;34m(\u001b[0m\u001b[0mAxes\u001b[0m\u001b[0;34m.\u001b[0m\u001b[0mplot\u001b[0m\u001b[0;34m)\u001b[0m\u001b[0;34m\u001b[0m\u001b[0;34m\u001b[0m\u001b[0m\n\u001b[1;32m   3018\u001b[0m \u001b[0;32mdef\u001b[0m \u001b[0mplot\u001b[0m\u001b[0;34m(\u001b[0m\u001b[0;34m*\u001b[0m\u001b[0margs\u001b[0m\u001b[0;34m,\u001b[0m \u001b[0mscalex\u001b[0m\u001b[0;34m=\u001b[0m\u001b[0;32mTrue\u001b[0m\u001b[0;34m,\u001b[0m \u001b[0mscaley\u001b[0m\u001b[0;34m=\u001b[0m\u001b[0;32mTrue\u001b[0m\u001b[0;34m,\u001b[0m \u001b[0mdata\u001b[0m\u001b[0;34m=\u001b[0m\u001b[0;32mNone\u001b[0m\u001b[0;34m,\u001b[0m \u001b[0;34m**\u001b[0m\u001b[0mkwargs\u001b[0m\u001b[0;34m)\u001b[0m\u001b[0;34m:\u001b[0m\u001b[0;34m\u001b[0m\u001b[0;34m\u001b[0m\u001b[0m\n\u001b[0;32m-> 3019\u001b[0;31m     return gca().plot(\n\u001b[0m\u001b[1;32m   3020\u001b[0m         \u001b[0;34m*\u001b[0m\u001b[0margs\u001b[0m\u001b[0;34m,\u001b[0m \u001b[0mscalex\u001b[0m\u001b[0;34m=\u001b[0m\u001b[0mscalex\u001b[0m\u001b[0;34m,\u001b[0m \u001b[0mscaley\u001b[0m\u001b[0;34m=\u001b[0m\u001b[0mscaley\u001b[0m\u001b[0;34m,\u001b[0m\u001b[0;34m\u001b[0m\u001b[0;34m\u001b[0m\u001b[0m\n\u001b[1;32m   3021\u001b[0m         **({\"data\": data} if data is not None else {}), **kwargs)\n",
      "\u001b[0;32m~/opt/anaconda3/lib/python3.9/site-packages/matplotlib/axes/_axes.py\u001b[0m in \u001b[0;36mplot\u001b[0;34m(self, scalex, scaley, data, *args, **kwargs)\u001b[0m\n\u001b[1;32m   1603\u001b[0m         \"\"\"\n\u001b[1;32m   1604\u001b[0m         \u001b[0mkwargs\u001b[0m \u001b[0;34m=\u001b[0m \u001b[0mcbook\u001b[0m\u001b[0;34m.\u001b[0m\u001b[0mnormalize_kwargs\u001b[0m\u001b[0;34m(\u001b[0m\u001b[0mkwargs\u001b[0m\u001b[0;34m,\u001b[0m \u001b[0mmlines\u001b[0m\u001b[0;34m.\u001b[0m\u001b[0mLine2D\u001b[0m\u001b[0;34m)\u001b[0m\u001b[0;34m\u001b[0m\u001b[0;34m\u001b[0m\u001b[0m\n\u001b[0;32m-> 1605\u001b[0;31m         \u001b[0mlines\u001b[0m \u001b[0;34m=\u001b[0m \u001b[0;34m[\u001b[0m\u001b[0;34m*\u001b[0m\u001b[0mself\u001b[0m\u001b[0;34m.\u001b[0m\u001b[0m_get_lines\u001b[0m\u001b[0;34m(\u001b[0m\u001b[0;34m*\u001b[0m\u001b[0margs\u001b[0m\u001b[0;34m,\u001b[0m \u001b[0mdata\u001b[0m\u001b[0;34m=\u001b[0m\u001b[0mdata\u001b[0m\u001b[0;34m,\u001b[0m \u001b[0;34m**\u001b[0m\u001b[0mkwargs\u001b[0m\u001b[0;34m)\u001b[0m\u001b[0;34m]\u001b[0m\u001b[0;34m\u001b[0m\u001b[0;34m\u001b[0m\u001b[0m\n\u001b[0m\u001b[1;32m   1606\u001b[0m         \u001b[0;32mfor\u001b[0m \u001b[0mline\u001b[0m \u001b[0;32min\u001b[0m \u001b[0mlines\u001b[0m\u001b[0;34m:\u001b[0m\u001b[0;34m\u001b[0m\u001b[0;34m\u001b[0m\u001b[0m\n\u001b[1;32m   1607\u001b[0m             \u001b[0mself\u001b[0m\u001b[0;34m.\u001b[0m\u001b[0madd_line\u001b[0m\u001b[0;34m(\u001b[0m\u001b[0mline\u001b[0m\u001b[0;34m)\u001b[0m\u001b[0;34m\u001b[0m\u001b[0;34m\u001b[0m\u001b[0m\n",
      "\u001b[0;32m~/opt/anaconda3/lib/python3.9/site-packages/matplotlib/axes/_base.py\u001b[0m in \u001b[0;36m__call__\u001b[0;34m(self, data, *args, **kwargs)\u001b[0m\n\u001b[1;32m    313\u001b[0m                 \u001b[0mthis\u001b[0m \u001b[0;34m+=\u001b[0m \u001b[0margs\u001b[0m\u001b[0;34m[\u001b[0m\u001b[0;36m0\u001b[0m\u001b[0;34m]\u001b[0m\u001b[0;34m,\u001b[0m\u001b[0;34m\u001b[0m\u001b[0;34m\u001b[0m\u001b[0m\n\u001b[1;32m    314\u001b[0m                 \u001b[0margs\u001b[0m \u001b[0;34m=\u001b[0m \u001b[0margs\u001b[0m\u001b[0;34m[\u001b[0m\u001b[0;36m1\u001b[0m\u001b[0;34m:\u001b[0m\u001b[0;34m]\u001b[0m\u001b[0;34m\u001b[0m\u001b[0;34m\u001b[0m\u001b[0m\n\u001b[0;32m--> 315\u001b[0;31m             \u001b[0;32myield\u001b[0m \u001b[0;32mfrom\u001b[0m \u001b[0mself\u001b[0m\u001b[0;34m.\u001b[0m\u001b[0m_plot_args\u001b[0m\u001b[0;34m(\u001b[0m\u001b[0mthis\u001b[0m\u001b[0;34m,\u001b[0m \u001b[0mkwargs\u001b[0m\u001b[0;34m)\u001b[0m\u001b[0;34m\u001b[0m\u001b[0;34m\u001b[0m\u001b[0m\n\u001b[0m\u001b[1;32m    316\u001b[0m \u001b[0;34m\u001b[0m\u001b[0m\n\u001b[1;32m    317\u001b[0m     \u001b[0;32mdef\u001b[0m \u001b[0mget_next_color\u001b[0m\u001b[0;34m(\u001b[0m\u001b[0mself\u001b[0m\u001b[0;34m)\u001b[0m\u001b[0;34m:\u001b[0m\u001b[0;34m\u001b[0m\u001b[0;34m\u001b[0m\u001b[0m\n",
      "\u001b[0;32m~/opt/anaconda3/lib/python3.9/site-packages/matplotlib/axes/_base.py\u001b[0m in \u001b[0;36m_plot_args\u001b[0;34m(self, tup, kwargs, return_kwargs)\u001b[0m\n\u001b[1;32m    499\u001b[0m \u001b[0;34m\u001b[0m\u001b[0m\n\u001b[1;32m    500\u001b[0m         \u001b[0;32mif\u001b[0m \u001b[0mx\u001b[0m\u001b[0;34m.\u001b[0m\u001b[0mshape\u001b[0m\u001b[0;34m[\u001b[0m\u001b[0;36m0\u001b[0m\u001b[0;34m]\u001b[0m \u001b[0;34m!=\u001b[0m \u001b[0my\u001b[0m\u001b[0;34m.\u001b[0m\u001b[0mshape\u001b[0m\u001b[0;34m[\u001b[0m\u001b[0;36m0\u001b[0m\u001b[0;34m]\u001b[0m\u001b[0;34m:\u001b[0m\u001b[0;34m\u001b[0m\u001b[0;34m\u001b[0m\u001b[0m\n\u001b[0;32m--> 501\u001b[0;31m             raise ValueError(f\"x and y must have same first dimension, but \"\n\u001b[0m\u001b[1;32m    502\u001b[0m                              f\"have shapes {x.shape} and {y.shape}\")\n\u001b[1;32m    503\u001b[0m         \u001b[0;32mif\u001b[0m \u001b[0mx\u001b[0m\u001b[0;34m.\u001b[0m\u001b[0mndim\u001b[0m \u001b[0;34m>\u001b[0m \u001b[0;36m2\u001b[0m \u001b[0;32mor\u001b[0m \u001b[0my\u001b[0m\u001b[0;34m.\u001b[0m\u001b[0mndim\u001b[0m \u001b[0;34m>\u001b[0m \u001b[0;36m2\u001b[0m\u001b[0;34m:\u001b[0m\u001b[0;34m\u001b[0m\u001b[0;34m\u001b[0m\u001b[0m\n",
      "\u001b[0;31mValueError\u001b[0m: x and y must have same first dimension, but have shapes (6,) and (7,)"
     ]
    },
    {
     "data": {
      "image/png": "[encoded data removed]",
      "text/plain": [
       "<Figure size 432x288 with 1 Axes>"
      ]
     },
     "metadata": {
      "needs_background": "light"
     },
     "output_type": "display_data"
    }
   ],
   "source": [
    "import matplotlib.pyplot as plt\n",
    "\n",
    "materials_names = [\"Eggplant\", \"Roast Beef\", \"Eggs\", \"Strawberries\", \"Pasta\", \"Parmesan Cheese\"]\n",
    "materials_quantity = [100, 50, 500, 2500, 100, 10]\n",
    "materials_prices = [2.5, 25.0, 0.1, 0.20, 12, 30, 4]\n",
    "\n",
    "plt.plot(materials_quantity,materials_prices)"
   ]
  },
  {
   "cell_type": "markdown",
   "id": "bc8ab7ae-490a-4769-a92e-0ec0c295e97e",
   "metadata": {},
   "source": [
    "&#9989;&nbsp; **Question 4:**  Google the error message that you get and find a site online that gives an explanation for the source of the error. Do a write-up for the error that gets thrown--I.e., identify the line number, identify the error code, give a plain English description of the error, describe how you might fix the issue, **and provide a link to the website you used**."
   ]
  },
  {
   "cell_type": "markdown",
   "id": "c1718ac1-8efd-4b8b-a6d4-643a16c78c38",
   "metadata": {},
   "source": [
    "<font size=\"+3\">&#9998;</font> Line 7 is throwing an error code for this plot. There is a ValueError where x and y must have the same first dimension. I googled this code and found th way to fix this is to change the lists into arrays. Refernce http://ostack.cn/qa/?qa=576840/"
   ]
  },
  {
   "cell_type": "markdown",
   "id": "ad4ce9c9-650d-483e-91a4-360b373b86af",
   "metadata": {},
   "source": [
    "# 2. Testing your code"
   ]
  },
  {
   "cell_type": "markdown",
   "id": "e747ad72-4fe8-4042-8143-877f48fa847b",
   "metadata": {},
   "source": [
    "The last tool we’ll talk about in this pre-class assignment is code testing. Code testing is where we run little experiments to try to ensure that our code is working correctly. The following video walks through an example of code testing.\n",
    "\n",
    "[MediaSpace link to video](https://mediaspace.msu.edu/media/Debugging_Code_Testing/1_gv51qkb3)."
   ]
  },
  {
   "cell_type": "markdown",
   "id": "4ce5c955-5240-4e37-b6d9-1bd58232334e",
   "metadata": {},
   "source": [
    "&#9989;&nbsp; **Question 5:**  What is the most common tool we can use for code testing?"
   ]
  },
  {
   "cell_type": "markdown",
   "id": "9db25dba-f2fe-4d85-9f65-3a1b977b91b9",
   "metadata": {},
   "source": [
    "<font size=\"+3\">&#9998;</font> Using a print statement is the most common way to test code."
   ]
  },
  {
   "cell_type": "markdown",
   "id": "11e2e7b8-087f-4648-b29b-cbd1d86c2833",
   "metadata": {},
   "source": [
    "&#9989;&nbsp; **Question 6:**  The code below has a list of calories from different foods and is supposed to multiply each value by two and sum them together. So, for instance, if we had a list that was `[120, 65, 220]`, then the code should return `(120*2) + (65*2) + (220*2) = 810`. Use testing to ensure this code is working correctly."
   ]
  },
  {
   "cell_type": "code",
   "execution_count": 50,
   "id": "cd3b46cc-ab84-4e13-97da-00411480c81f",
   "metadata": {},
   "outputs": [
    {
     "name": "stdout",
     "output_type": "stream",
     "text": [
      "380.0\n"
     ]
    }
   ],
   "source": [
    "calories = [270,75,375,475,235,345,340,190]\n",
    "\n",
    "for ii in range(len(calories)):\n",
    "    sum_of_cals = 2.0*calories[ii]\n",
    "\n",
    "#print results to test code \n",
    "print(sum_of_cals) #this code is not working correctly as the outcome is not was we suspected\n"
   ]
  },
  {
   "cell_type": "code",
   "execution_count": 53,
   "id": "ab0086df-5628-4cea-905d-fa180ce9fb2a",
   "metadata": {},
   "outputs": [
    {
     "name": "stdout",
     "output_type": "stream",
     "text": [
      "4610\n"
     ]
    }
   ],
   "source": [
    "#fix code setting out argument equal to zero, looping by value, and using only i in the argument\n",
    "sum_of_cals=0\n",
    "for i in calories:\n",
    "    sum_of_cals += 2*i\n",
    "\n",
    "#print results to ensure code is working properly   \n",
    "print(sum_of_cals)\n",
    "\n",
    "#code is working properly"
   ]
  },
  {
   "cell_type": "markdown",
   "id": "a8117612-a41d-42db-a01d-24c189d4d641",
   "metadata": {},
   "source": [
    "# 3. Debugging your Code\n",
    "\n",
    "For this last problem, you will use an error that you have encountered in your work--in your pre-class assignments, in-class assignments, homework assignments, or literally anything else. This isn't meant to be something that you're necessarily stuck on; just an example of how you debug code. \n",
    "\n",
    "&#9989;&nbsp; **Question 7:**  Copy over your buggy piece of code."
   ]
  },
  {
   "cell_type": "code",
   "execution_count": 52,
   "id": "cd28596b-cc35-40ec-a735-1b3029fbeff9",
   "metadata": {},
   "outputs": [
    {
     "ename": "SyntaxError",
     "evalue": "invalid syntax (3132447122.py, line 7)",
     "output_type": "error",
     "traceback": [
      "\u001b[0;36m  File \u001b[0;32m\"/var/folders/0v/z2w_93qn6px0c9k8bl2bm49r0000gn/T/ipykernel_14892/3132447122.py\"\u001b[0;36m, line \u001b[0;32m7\u001b[0m\n\u001b[0;31m    if i%2 = 0:\u001b[0m\n\u001b[0m           ^\u001b[0m\n\u001b[0;31mSyntaxError\u001b[0m\u001b[0;31m:\u001b[0m invalid syntax\n"
     ]
    }
   ],
   "source": [
    "# Put your buggy code here\n",
    "# Pre-Class Day 5 Part 1\n",
    "x=[1,2,3,4,5,6,7,8,9,10]\n",
    "\n",
    "for i in x:\n",
    "    if i%2 = 0:            \n",
    "\n",
    "    print(\"This number is even:\", i)"
   ]
  },
  {
   "cell_type": "code",
   "execution_count": 57,
   "id": "f670aeb7",
   "metadata": {},
   "outputs": [
    {
     "name": "stdout",
     "output_type": "stream",
     "text": [
      "This number is even: 2\n",
      "This number is even: 4\n",
      "This number is even: 6\n",
      "This number is even: 8\n",
      "This number is even: 10\n"
     ]
    }
   ],
   "source": [
    "#Fixing buggy code\n",
    "x=[1,2,3,4,5,6,7,8,9,10]\n",
    "\n",
    "for i in x:\n",
    "    if i%2 ==0:  #I added two equal signs to assing the variable            \n",
    "\n",
    "        print(\"This number is even:\", i)  #I indented the print to be included in the if statement."
   ]
  },
  {
   "cell_type": "markdown",
   "id": "36bccec8-4106-4607-9acc-6035e21dc38e",
   "metadata": {},
   "source": [
    "---\n",
    "## Assignment wrap-up\n",
    "\n",
    "Please fill out the form that appears when you run the code below.  **You must completely fill this out in order to receive credit for the assignment!**"
   ]
  },
  {
   "cell_type": "code",
   "execution_count": 58,
   "id": "97e45d56-c8dd-46ef-bedc-2aea359cce64",
   "metadata": {},
   "outputs": [
    {
     "data": {
      "text/html": [
       "\n",
       "<iframe \n",
       "\tsrc=\"https://cmse.msu.edu/cmse201-pc-survey\" \n",
       "\twidth=\"800px\" \n",
       "\theight=\"600px\" \n",
       "\tframeborder=\"0\" \n",
       "\tmarginheight=\"0\" \n",
       "\tmarginwidth=\"0\">\n",
       "\tLoading...\n",
       "</iframe>\n"
      ],
      "text/plain": [
       "<IPython.core.display.HTML object>"
      ]
     },
     "execution_count": 58,
     "metadata": {},
     "output_type": "execute_result"
    }
   ],
   "source": [
    "from IPython.display import HTML\n",
    "HTML(\n",
    "\"\"\"\n",
    "<iframe \n",
    "\tsrc=\"https://cmse.msu.edu/cmse201-pc-survey\" \n",
    "\twidth=\"800px\" \n",
    "\theight=\"600px\" \n",
    "\tframeborder=\"0\" \n",
    "\tmarginheight=\"0\" \n",
    "\tmarginwidth=\"0\">\n",
    "\tLoading...\n",
    "</iframe>\n",
    "\"\"\"\n",
    ")"
   ]
  },
  {
   "cell_type": "markdown",
   "id": "24cf1fb4-80dc-4aa9-b120-a23807d1d00a",
   "metadata": {},
   "source": [
    "### Congratulations, you're done!\n",
    "\n",
    "Submit this assignment by uploading it to the course Desire2Learn web page.  Go to the \"Pre-class assignments\" folder, find the appropriate submission link, and upload it there.\n",
    "\n",
    "See you in class!"
   ]
  },
  {
   "cell_type": "markdown",
   "id": "6062663b-c53b-4500-8c40-89dd57f3e81d",
   "metadata": {},
   "source": [
    "&#169; Copyright 2019,  Michigan State University Board of Trustees"
   ]
  }
 ],
 "metadata": {
  "kernelspec": {
   "display_name": "Python 3 (ipykernel)",
   "language": "python",
   "name": "python3"
  },
  "language_info": {
   "codemirror_mode": {
    "name": "ipython",
    "version": 3
   },
   "file_extension": ".py",
   "mimetype": "text/x-python",
   "name": "python",
   "nbconvert_exporter": "python",
   "pygments_lexer": "ipython3",
   "version": "3.9.7"
  }
 },
 "nbformat": 4,
 "nbformat_minor": 5
}
